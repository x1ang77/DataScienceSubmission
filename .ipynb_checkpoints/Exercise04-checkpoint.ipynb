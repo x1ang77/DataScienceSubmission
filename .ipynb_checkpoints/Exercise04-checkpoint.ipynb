{
 "cells": [
  {
   "cell_type": "markdown",
   "metadata": {},
   "source": [
    "<img src=\"https://i.imgur.com/FoKB5Z5.png\" align=\"left\" width=\"300\" height=\"250\" title=\"source: imgur.com\" /></a>"
   ]
  },
  {
   "cell_type": "markdown",
   "metadata": {},
   "source": [
    "## Program Code: J620-002-4:2020 \n",
    "\n",
    "## Program Name: FRONT-END SOFTWARE DEVELOPMENT\n",
    "\n",
    "## Title : List, Tuple and Dictionary\n",
    "\n",
    "#### Name: \n",
    "\n",
    "#### IC Number:\n",
    "\n",
    "#### Date :\n",
    "\n",
    "#### Introduction : \n",
    "\n",
    "\n",
    "\n",
    "#### Conclusion :\n",
    "\n",
    "\n",
    "\n",
    "\n"
   ]
  },
  {
   "cell_type": "markdown",
   "metadata": {},
   "source": [
    "EXERCISE 4\n",
    "==\n",
    "## List, Tuple and Dictionary"
   ]
  },
  {
   "cell_type": "code",
   "execution_count": null,
   "metadata": {},
   "outputs": [],
   "source": [
    "Note : Please start your jupyter notebook using the anaconda prompt with this command to avoid an IOPub\n",
    "Data Rate Exceeded Problem\n",
    "At the anaconda prompt, type : jupyter notebook --NotebookApp.iopub_data_rate_limit=1.0e10"
   ]
  },
  {
   "cell_type": "markdown",
   "metadata": {},
   "source": [
    "## Question 1\n",
    "Expected answer:\n",
    "```python\n",
    "match_ends\n",
    "3\n",
    "2\n",
    "1\n",
    "```"
   ]
  },
  {
   "cell_type": "code",
   "execution_count": null,
   "metadata": {},
   "outputs": [],
   "source": [
    "# A. match_ends\n",
    "# Given a list of strings, return the count of the number of\n",
    "# strings where the string length is 2 or more and the first\n",
    "# and last chars of the string are the same.\n",
    "# Note: python does not have a ++ operator, but += works.\n",
    "\n",
    "text1 = (['aba', 'xyz', 'aa', 'x', 'bbb']) #3\n",
    "text2 = (['', 'x', 'xy', 'xyx', 'xx']) #2\n",
    "text3 = (['aaa', 'be', 'abc', 'hello']) #1\n",
    "\n",
    "def match_ends(words):\n",
    "    # your code here\n",
    "    \n",
    "    \n",
    "    \n",
    "print('match_ends')\n",
    "print(match_ends(text1))\n",
    "print(match_ends(text2))\n",
    "print(match_ends(text3))"
   ]
  },
  {
   "cell_type": "markdown",
   "metadata": {},
   "source": [
    "## Question 2\n",
    "\n",
    "Expected answer:\n",
    "```python\n",
    "front_x\n",
    "['xaa', 'xzz', 'axx', 'bbb', 'ccc']\n",
    "['xaa', 'xcc', 'aaa', 'bbb', 'ccc']\n",
    "['xanadu', 'xyz', 'aardvark', 'apple', 'mix']\n",
    "```"
   ]
  },
  {
   "cell_type": "code",
   "execution_count": null,
   "metadata": {},
   "outputs": [],
   "source": [
    "# B. front_x\n",
    "# Given a list of strings, return a list with the strings\n",
    "# in sorted order, except group all the strings that begin with 'x' first.\n",
    "# e.g. ['mix', 'xyz', 'apple', 'xanadu', 'aardvark'] yields\n",
    "# ['xanadu', 'xyz', 'aardvark', 'apple', 'mix']\n",
    "# Hint: this can be done by making 2 lists and sorting each of them\n",
    "# before combining them.\n",
    "\n",
    "# ['xaa', 'xzz', 'axx', 'bbb', 'ccc']\n",
    "text1 = (['bbb', 'ccc', 'axx', 'xzz', 'xaa'])\n",
    "\n",
    "# ['xaa', 'xcc', 'aaa', 'bbb', 'ccc']\n",
    "text2 = (['ccc', 'bbb', 'aaa', 'xcc', 'xaa'])\n",
    "\n",
    "# ['xanadu', 'xyz', 'aardvark', 'apple', 'mix']\n",
    "text3 = (['mix', 'xyz', 'apple', 'xanadu', 'aardvark'])\n",
    "\n",
    "def front_x(words):\n",
    "    # your code here\n",
    "    \n",
    "\n",
    "print()    \n",
    "print('front_x')\n",
    "\n",
    "print(front_x(text1))\n",
    "print(front_x(text2))\n",
    "print(front_x(text3))"
   ]
  },
  {
   "cell_type": "markdown",
   "metadata": {},
   "source": [
    "## Question 3\n",
    "Expected answer:\n",
    "```python\n",
    "[(2, 1), (3, 2), (1, 3)]\n",
    "[(3, 1), (1, 2), (2, 3)]\n",
    "[(2, 2), (1, 3), (3, 4, 5), (1, 7)]\n",
    "```"
   ]
  },
  {
   "cell_type": "code",
   "execution_count": null,
   "metadata": {},
   "outputs": [],
   "source": [
    "# C. sort_last\n",
    "# Given a list of non-empty tuples, return a list sorted in increasing\n",
    "# order by the last element in each tuple.\n",
    "# e.g. [(1, 7), (1, 3), (3, 4, 5), (2, 2)] yields\n",
    "# [(2, 2), (1, 3), (3, 4, 5), (1, 7)]\n",
    "# Hint: use a custom key= function to extract the last element form each tuple.\n",
    "\n",
    "#output: [(2, 1), (3, 2), (1, 3)]\n",
    "list1 = [(1, 3), (3, 2), (2, 1)]\n",
    "\n",
    "#output: [(3, 1), (1, 2), (2, 3)]\n",
    "list2 = [(2, 3), (1, 2), (3, 1)]\n",
    "\n",
    "#output: [(2, 2), (1, 3), (3, 4, 5), (1, 7)]\n",
    "list3 = [(1, 7), (1, 3), (3, 4, 5), (2, 2)]\n",
    "\n",
    "def sort_last(tuples):\n",
    "    # your code here\n",
    "    \n",
    "    \n",
    "\n",
    "print(sort_last(list1))\n",
    "print(sort_last(list2))\n",
    "print(sort_last(list3))"
   ]
  },
  {
   "cell_type": "markdown",
   "metadata": {},
   "source": [
    "## Question 4"
   ]
  },
  {
   "cell_type": "code",
   "execution_count": null,
   "metadata": {},
   "outputs": [],
   "source": [
    "# read the stocks.json file and store into 'records'\n",
    "import json\n",
    "\n",
    "%pwd\n",
    "\n",
    "path ='stocks.json'\n",
    "\n",
    "stock_data = []\n",
    "with open(path) as f:\n",
    "    for line in f:\n",
    "        stock_data.append(json.loads(line))\n",
    "    \n",
    "print(stock_data)"
   ]
  },
  {
   "cell_type": "markdown",
   "metadata": {},
   "source": [
    "## Question 5\n",
    "Expected answer:\n",
    "```python\n",
    "['Agilent Technologies Inc.',\n",
    " 'Alcoa, Inc.',\n",
    " 'WCM/BNY Mellon Focused Growth ADR ETF',\n",
    " 'iShares MSCI AC Asia Information Tech',\n",
    " 'Altisource Asset Management Corporation',\n",
    " 'Atlantic American Corp.',\n",
    " \"Aaron's, Inc.\",\n",
    " 'Applied Optoelectronics, Inc.',\n",
    " 'AAON Inc.',\n",
    " 'Advance Auto Parts Inc.']\n",
    " ```"
   ]
  },
  {
   "cell_type": "code",
   "execution_count": null,
   "metadata": {},
   "outputs": [],
   "source": [
    "# from records, extract the first 10 company names and store in 'companies'\n",
    "\n",
    "# your code here\n",
    "\n"
   ]
  },
  {
   "cell_type": "markdown",
   "metadata": {},
   "source": [
    "## Question 6\n",
    "\n",
    "Expected answer:\n",
    "```python\n",
    "['Agilent Technologies Inc.',\n",
    " 'Alcoa, Inc.',\n",
    " \"Aaron's, Inc.\",\n",
    " 'Applied Optoelectronics, Inc.',\n",
    " 'AAON Inc.',\n",
    " 'Advance Auto Parts Inc.']\n",
    "```"
   ]
  },
  {
   "cell_type": "code",
   "execution_count": null,
   "metadata": {},
   "outputs": [],
   "source": [
    "# from the top 10 companies, show all the companies with the word 'Inc.'\n",
    "\n",
    "# your code here\n"
   ]
  },
  {
   "cell_type": "markdown",
   "metadata": {},
   "source": [
    "## Question 7\n",
    "Expected answer:\n",
    "```python\n",
    "41.71060205580027\n",
    "```"
   ]
  },
  {
   "cell_type": "code",
   "execution_count": null,
   "metadata": {},
   "outputs": [],
   "source": [
    "# get the average 'P/E' for all data\n",
    "\n",
    "# your code here\n"
   ]
  }
 ],
 "metadata": {
  "kernelspec": {
   "display_name": "Python 3 (ipykernel)",
   "language": "python",
   "name": "python3"
  },
  "language_info": {
   "codemirror_mode": {
    "name": "ipython",
    "version": 3
   },
   "file_extension": ".py",
   "mimetype": "text/x-python",
   "name": "python",
   "nbconvert_exporter": "python",
   "pygments_lexer": "ipython3",
   "version": "3.10.9"
  }
 },
 "nbformat": 4,
 "nbformat_minor": 2
}
