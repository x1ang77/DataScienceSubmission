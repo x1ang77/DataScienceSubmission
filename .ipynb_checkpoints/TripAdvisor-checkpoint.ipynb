{
 "cells": [
  {
   "cell_type": "markdown",
   "metadata": {},
   "source": [
    "<img src=\"https://i.imgur.com/FoKB5Z5.png\" align=\"left\" width=\"300\" height=\"250\" title=\"source: imgur.com\" /></a>"
   ]
  },
  {
   "cell_type": "markdown",
   "metadata": {},
   "source": [
    "## Program Code: J620-002-4:2020 \n",
    "\n",
    "## Program Name: FRONT-END SOFTWARE DEVELOPMENT\n",
    "\n",
    "## Title :  Case Study - Webscrapping on Trip Advisor\n",
    "\n",
    "#### Name: Chuay Xiang Ze\n",
    "\n",
    "#### IC Number: 021224070255\n",
    "\n",
    "#### Date : 6/7/2023\n",
    "\n",
    "#### Introduction : Learning how to use Selenium and BeautifulSoup together\n",
    "\n",
    "\n",
    "\n",
    "#### Conclusion : Managed to complete tasks relating to the topic.\n",
    "\n",
    "\n",
    "\n",
    "\n"
   ]
  },
  {
   "cell_type": "markdown",
   "metadata": {},
   "source": [
    "Instruction: Use Selenium and Beautiful Soup to extract the first 5 comments and their titles from the trip advisor link.\n",
    "\n",
    "Url: https://www.tripadvisor.com/Airline_Review-d8729220-Reviews-AirAsia-AirAsia-Berhad-Malaysia"
   ]
  },
  {
   "cell_type": "code",
   "execution_count": 21,
   "metadata": {},
   "outputs": [
    {
     "data": {
      "text/plain": [
       "[('No refund from Aiaasia for flight cancellation more than 8 months',\n",
       "  'I booked Airaisa with booking no. T1ZDJV  but cancelled without any reason or explanation,  so I request to refund on 22/10/22, but 8 months passed till now still no refund, it kept saying being processed,  just wondering is it just automatically replied or really being processed???…'),\n",
       " ('Not good',\n",
       "  'There is No food to speak of only the basics which you have to purchase as an extra. There is No alcoholic drinks. The seats are very narrow and I only have a 32 inch waste. Our connecting Flight  from Phuket to Kuala Lumpa was changed from 7.20pm evening to 8.10 in the morning of the same day and we were only given 8 hours notice. They do not have a call centre in any country and the only way you can try to contact them is through there website and they do not answer you still waiting for answers to our emails. Instead of having an hour stop over we had 12 hours plus it took a  hole day off our holiday. The young lady at the airport who was at the Air asia desk could not contact them for us and we still have no Idea why the flight were changed. We were in premium economy which is about the same size and leg room as standard domestic on any other airline. Hope this helps who you choose your  airline. No explanation has been given…'),\n",
       " ('Don’t use this airline',\n",
       "  'All their flights are delayed we have been waiting over 2 hours I haven’t even gotten in the flight and really not happy. They won’t compensate you for delayed flights. '),\n",
       " ('The staffs are very very rude',\n",
       "  \"Regretted  send my son n nephew tru Airasia flight AK0047.. their crew n staff are not friendly or polite..they very very arrogant n rude.. u can see the vd clip n screen shot frm vd clipi shared..how the staff behavior n treat the passenger. Je just chuck the hand carry largage.. When wanted to check in the largage... if not mistaken the staff sabah lady n we don't how to use the manual system to scan our largage n when we ask her she was very rude n refused to assist us.. anyway we managed to scan .. thus is my first n last taking airasia.. Hope Tony Fernandes CEO of AirAsia look in too the rudely n bad behaviour of his staff..…\"),\n",
       " ('No in-flight entertainment',\n",
       "  'I am very bored because there is no in-flight entertainment and im going there for 7 hours! All i do is talk with my cousins and brother, it was so boring')]"
      ]
     },
     "execution_count": 21,
     "metadata": {},
     "output_type": "execute_result"
    }
   ],
   "source": [
    "import time\n",
    "from selenium import webdriver\n",
    "from bs4 import BeautifulSoup\n",
    "\n",
    "driver = webdriver.Chrome('C:\\\\Users\\Xiang Ze\\Downloads\\chromedriver_win32\\chromedriver.exe')\n",
    "url = 'https://www.tripadvisor.com/Airline_Review-d8729220-Reviews-AirAsia-AirAsia-Berhad-Malaysia'\n",
    "\n",
    "# Get the data\n",
    "driver.get(url)\n",
    "\n",
    "time.sleep(5)  # Wait for the data to load (adjust the time as needed)\n",
    "\n",
    "soup = BeautifulSoup(driver.page_source, 'html.parser')\n",
    "\n",
    "data = []\n",
    "\n",
    "for tr in soup.find_all('a', attrs={'class': 'Qwuub'}):\n",
    "    title = tr.text\n",
    "    comment = tr.find_next('div', attrs={'class': 'fIrGe _T'}).text\n",
    "    data.append((title, comment))\n",
    "\n",
    "data\n"
   ]
  },
  {
   "cell_type": "code",
   "execution_count": 39,
   "metadata": {},
   "outputs": [
    {
     "name": "stdout",
     "output_type": "stream",
     "text": [
      "Title: No refund from Aiaasia for flight cancellation more than 8 months\n",
      "Comment: I booked Airaisa with booking no. T1ZDJV  but cancelled without any reason or explanation,  so I request to refund on 22/10/22, but 8 months passed till now still no refund, it kept saying being processed,  just wondering is it just automatically replied or really being processed???…\n",
      "\n",
      "Title: Not good\n",
      "Comment: There is No food to speak of only the basics which you have to purchase as an extra. There is No alcoholic drinks. The seats are very narrow and I only have a 32 inch waste. Our connecting Flight  from Phuket to Kuala Lumpa was changed from 7.20pm evening to 8.10 in the morning of the same day and we were only given 8 hours notice. They do not have a call centre in any country and the only way you can try to contact them is through there website and they do not answer you still waiting for answers to our emails. Instead of having an hour stop over we had 12 hours plus it took a  hole day off our holiday. The young lady at the airport who was at the Air asia desk could not contact them for us and we still have no Idea why the flight were changed. We were in premium economy which is about the same size and leg room as standard domestic on any other airline. Hope this helps who you choose your  airline. No explanation has been given…\n",
      "\n",
      "Title: Don’t use this airline\n",
      "Comment: All their flights are delayed we have been waiting over 2 hours I haven’t even gotten in the flight and really not happy. They won’t compensate you for delayed flights. \n",
      "\n",
      "Title: The staffs are very very rude\n",
      "Comment: Regretted  send my son n nephew tru Airasia flight AK0047.. their crew n staff are not friendly or polite..they very very arrogant n rude.. u can see the vd clip n screen shot frm vd clipi shared..how the staff behavior n treat the passenger. Je just chuck the hand carry largage.. When wanted to check in the largage... if not mistaken the staff sabah lady n we don't how to use the manual system to scan our largage n when we ask her she was very rude n refused to assist us.. anyway we managed to scan .. thus is my first n last taking airasia.. Hope Tony Fernandes CEO of AirAsia look in too the rudely n bad behaviour of his staff..…\n",
      "\n",
      "Title: No in-flight entertainment\n",
      "Comment: I am very bored because there is no in-flight entertainment and im going there for 7 hours! All i do is talk with my cousins and brother, it was so boring\n",
      "\n",
      "Title: Nicole and dime airline company \n",
      "Comment: Bottom of the barrel airline that really runs like the lowest available option. The automatic booking system finds you seats as far as possible from each other, then the airport staff does not accomodate a move together. This is a nickle and dime practice that other budget…\n",
      "\n",
      "Title: mr\n",
      "Comment: i had credit account with airasia about $700.00 they clean it up every time i wanted to check my account money all but gone the close the entry the doing maittenice they going from bad to worset\n",
      "\n",
      "Title: Great experience, plane needs some refurbishing though. \n",
      "Comment: The amount of bad reviews here is crazy, and I myself was skeptical before booking due to the reviews. I booked an impromptu flight from Singapore to Penang in June, and the price was okay without baggage or food, but was pricier due to the holidays.  I sat upfront at row 3 in…\n",
      "\n",
      "Title: One of the worst customer service\n",
      "Comment: AirAisa rescheduled our flight scheduled to depart from Kota Bharu to KL and from KL to Kuching, this 21st June 2023 resulting in overlapping flight. Despite their assurance on their email that we could change/refund our flight, the process was very difficult. We have to use…\n",
      "\n",
      "Title: Terrible Booking Process and Waste of Time\n",
      "Comment: In this era of online services, AirAsia is bumbling backwards further into the stone ages.  Never mind that searching and choosing options online involve such lags, and any edits result in loss of info, the payment system is horrible and kept declining different cards and…\n",
      "\n",
      "Title: AirAsia is a FRAUD\n",
      "Comment: I bought an umbrella for RM35 during my flight (AK642) from KUL to DAD with my credit card. Later I found out that AsiaAsia made duplicate charges to my credit card -- a total of 6 times!  I tried to call AsiaAsia but could not get through to them -- all the numbers are no…\n",
      "\n",
      "Title: Air Asia (& Hutchgo Wholeseller)  is Organised Crime, Taking Advantage of Medical Emergency\n",
      "Comment: My daughter fell and was rushed by ambulance to St. Luke Manila ER the day prior to our trip to Boracay from Manila. Despite their written policy for a Medical No Fit to Fly and IDs confirming family relationship, both Hutchgo (wholeseller) and Air Asia (service provider)…\n",
      "\n",
      "Title: Horrendous app navigation that leads to 0 checked in baggage\n",
      "Comment: Before confirmation, 20kg checked in baggage was available as complimentary. However after booking, NO checked in baggage was available and only 7kg cabin baggage was given. Chat with Elyssa and she informed \"it was a mistake on their side\"!   Asked for a refund and was informed…\n",
      "\n",
      "Title: They dont refund and their app or website keep breakdown, cant even book flight under airasia.\n",
      "Comment: Horrible customer service and interface, totally not user friendly and scammer, refused to refund in cash, credit is not usable.\n",
      "\n",
      "Title: Booking nightmare\n",
      "Comment: I made a booking then realised the date was wrong when I received the itinerary. I know I entered the correct date. The web site is awful and very user unfriendly. Settings like dates and one-way/return are sometimes lost when you go back to change some details like number of…\n",
      "\n",
      "Title: Damaged luggage, dirty broken chair, broken armrest, unhelpful ground and air staff\n",
      "Comment: Air Asia caused a major damage on my luggage. We filled a complaint form in the airport and the ground staff accepted the fact that my luggage had a major damage since it cannot be closed anymore. The ground staff was singing while he checked the suitcase, did not offer any…\n",
      "\n",
      "Title: They wont refund\n",
      "Comment: The worst airline management i ever ecountered. I dnt onow what happened to ky rerund.. they are scammers.. no emaol response.. customer chat is useless.. in short.. terrible airline management\n",
      "\n",
      "Title: Worse customer service ever and do not refund after canceling a flight.\n",
      "Comment: I bought an airasia ticket to fly from cebu to boracay in march 2023. In January they sent me a mail to unform me that my flight is canceled and offer few obtions one of them is a refund. I go to there website and ask for a refund. more than 4 months later and still didn't get…\n",
      "\n",
      "Title: Worst airline ever\n",
      "Comment: I booked my flights for a certain date but on looking at my ticket they didn't put in the date requested ,  so then they said it would cost me $700 to change the details of the flight , and for everyday I tried to dispute it would cost me more ,  I felt they deliberately messed…\n",
      "\n",
      "Title: Only fly with AirAsia if you have no alternative\n",
      "Comment: We were a party of two travelling from Johor Bahru to Langkawi on May 11th, 2023. The flight tickets were booked and paid for on AirAsia’s web shop AirAsia.com Travel. At the time of booking there were no direct flight from Johor Bahru to Langkawi, so we choose the proposal from…\n",
      "\n",
      "Title: I got my money back. SG residents, contact CASE, it refunded my money without a Single-Word.\n",
      "Comment: Those who are struggling with AirAsia and living in Singapore, contact CASE. Once CASE sent an official letter, it refunded money straight away ! The staff at the airport and office are really UNPLEASANT AND REPEATING CAN'T REFUND.   I finally contacted CASE and once a letter…\n",
      "\n",
      "Title: Scammers who reschedule and refuse refunds\n",
      "Comment: 1. Customer (me) books an AirAsia SIN-CNX flight 2. Days later, AirAsia rescheduled the flight to several hours later. 3. AirAsia sends an email notifying the flight was rescheduled. 4. Submitted a Flight Rescheduled Refund, because the flight was rescheduled 5. Nothing happens…\n",
      "\n",
      "Title: Bad experience in Air asia\n",
      "Comment: Very bad experience we the airasia my first trip was from Kuala to langkawi they did not start AC till flight fly and the weather was extremely hot we understand it’s commercial flight but they have to care about their services my second flight was from langkawi to Penang we…\n",
      "\n",
      "Title: Must be the worst airline\n",
      "Comment: I’m flying from Kuala Lumpur to Singapore and at the entrance to the immigration, Air Asia staffs weighed my carry on and demanded me to lower my carry on weight to under 7kg. I thought they were the airport staffs and threw what I can throw and wore what I can wear and made it…\n",
      "\n",
      "Title: Scam artists!\n",
      "Comment: I think AirAsia is selling fake tickets just to collect a huge amount of money that they then get to use free of cost. I bought a couple of return tickets which got cancelled in March. I am still waiting for the refund. The funny think is these guys left no contact details…\n",
      "\n"
     ]
    }
   ],
   "source": [
    "import time\n",
    "from selenium import webdriver\n",
    "from bs4 import BeautifulSoup\n",
    "\n",
    "driver = webdriver.Chrome('C:\\\\Users\\Xiang Ze\\Downloads\\chromedriver_win32\\chromedriver.exe')\n",
    "url = 'https://www.tripadvisor.com/Airline_Review-d8729220-Reviews-AirAsia-AirAsia-Berhad-Malaysia'\n",
    "\n",
    "driver.get(url)\n",
    "\n",
    "time.sleep(5)\n",
    "\n",
    "data = []\n",
    "\n",
    "for page in range(1, 6):\n",
    "    soup = BeautifulSoup(driver.page_source, 'html.parser')\n",
    "\n",
    "    for tr in soup.find_all('a', attrs={'class': 'Qwuub'}):\n",
    "        title = f'Title: {tr.text}'\n",
    "        comment = f'Comment: {tr.find_next(\"div\", attrs={\"class\": \"fIrGe _T\"}).text}'\n",
    "        data.append((title, comment))\n",
    "\n",
    "    if page == 1:\n",
    "        driver.find_element_by_xpath('//*[@id=\"component_1\"]/div/div[5]/div/div/div/div[2]/div[1]/div[2]/div/div[8]/div/a').click()\n",
    "        time.sleep(5)\n",
    "        \n",
    "    elif page == 5:\n",
    "        break\n",
    "        \n",
    "    else:\n",
    "        driver.find_element_by_xpath('//*[@id=\"component_1\"]/div/div[5]/div/div/div/div[2]/div[1]/div[2]/div/div[8]/div/a[2]').click()\n",
    "        time.sleep(5)\n",
    "\n",
    "driver.quit()\n",
    "\n",
    "for i in data:\n",
    "    print(i[0])\n",
    "    print(i[1])\n",
    "    print()\n"
   ]
  },
  {
   "cell_type": "markdown",
   "metadata": {},
   "source": [
    "Reference: https://medium.com/ymedialabs-innovation/web-scraping-using-beautiful-soup-and-selenium-for-dynamic-page-2f8ad15efe25\n"
   ]
  },
  {
   "cell_type": "code",
   "execution_count": null,
   "metadata": {},
   "outputs": [],
   "source": []
  }
 ],
 "metadata": {
  "kernelspec": {
   "display_name": "Python 3 (ipykernel)",
   "language": "python",
   "name": "python3"
  },
  "language_info": {
   "codemirror_mode": {
    "name": "ipython",
    "version": 3
   },
   "file_extension": ".py",
   "mimetype": "text/x-python",
   "name": "python",
   "nbconvert_exporter": "python",
   "pygments_lexer": "ipython3",
   "version": "3.9.16"
  }
 },
 "nbformat": 4,
 "nbformat_minor": 4
}
