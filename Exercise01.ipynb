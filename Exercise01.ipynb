{
 "cells": [
  {
   "attachments": {},
   "cell_type": "markdown",
   "metadata": {},
   "source": [
    "<img src=\"https://i.imgur.com/FoKB5Z5.png\" align=\"left\" width=\"300\" height=\"250\" title=\"source: imgur.com\" /></a>"
   ]
  },
  {
   "attachments": {},
   "cell_type": "markdown",
   "metadata": {},
   "source": [
    "## Program Code: J620-002-4:2020 \n",
    "\n",
    "## Program Name: FRONT-END SOFTWARE DEVELOPMENT\n",
    "\n",
    "\n",
    "## Title : Exercise 1\n",
    "\n",
    "#### Name: Chuay Xiang Ze\n",
    "\n",
    "#### IC Number: 021224070255\n",
    "\n",
    "#### Date : 22/06/2023\n",
    "\n",
    "#### Introduction : Learning how to implement slicing when doing for loops\n",
    "\n",
    "\n",
    "\n",
    "#### Conclusion : Managed to solve problems with the codes I've learnt.\n",
    "\n",
    "\n"
   ]
  },
  {
   "attachments": {},
   "cell_type": "markdown",
   "metadata": {},
   "source": [
    "EXERCISE 1\n",
    "==\n",
    "RUN ME\n",
    "==\n",
    "\n",
    "Please run the code snippet below. It is required for running tests for your solution."
   ]
  },
  {
   "cell_type": "code",
   "execution_count": 9,
   "metadata": {},
   "outputs": [],
   "source": [
    "def test(got, expected):\n",
    "    if got == expected:\n",
    "        prefix = ' OK '\n",
    "    else:\n",
    "        prefix = '  FAIL '\n",
    "    print(('%s got: %s expected: %s' % (prefix, repr(got), repr(expected))))"
   ]
  },
  {
   "attachments": {},
   "cell_type": "markdown",
   "metadata": {},
   "source": [
    "Question 1\n",
    "=="
   ]
  },
  {
   "cell_type": "code",
   "execution_count": 10,
   "metadata": {},
   "outputs": [
    {
     "name": "stdout",
     "output_type": "stream",
     "text": [
      "donuts\n",
      " OK  got: 'Number of donuts: 4' expected: 'Number of donuts: 4'\n",
      " OK  got: 'Number of donuts: 9' expected: 'Number of donuts: 9'\n",
      " OK  got: 'Number of donuts: many' expected: 'Number of donuts: many'\n",
      " OK  got: 'Number of donuts: many' expected: 'Number of donuts: many'\n"
     ]
    }
   ],
   "source": [
    "# A. donuts\n",
    "# Given an int count of a number of donuts, return a string\n",
    "# of the form 'Number of donuts: <count>', where <count> is the number\n",
    "# passed in. However, if the count is 10 or more, then use the word 'many'\n",
    "# instead of the actual count.\n",
    "# So donuts(5) returns 'Number of donuts: 5'\n",
    "# and donuts(23) returns 'Number of donuts: many'\n",
    "def donuts(count):\n",
    "    #++ your code here ++\n",
    "    \n",
    "    if count >= 10:\n",
    "        num = \"many\"\n",
    "    else:\n",
    "        num = str(count)\n",
    "        \n",
    "    return \"Number of donuts: \" + num\n",
    "\n",
    "\n",
    "print('donuts')\n",
    "# Each line calls donuts, compares its result to the expected for that call.\n",
    "test(donuts(4), 'Number of donuts: 4')\n",
    "test(donuts(9), 'Number of donuts: 9')\n",
    "test(donuts(10), 'Number of donuts: many')\n",
    "test(donuts(99), 'Number of donuts: many')"
   ]
  },
  {
   "attachments": {},
   "cell_type": "markdown",
   "metadata": {},
   "source": [
    "Question 2\n",
    "=="
   ]
  },
  {
   "cell_type": "code",
   "execution_count": 16,
   "metadata": {},
   "outputs": [
    {
     "name": "stdout",
     "output_type": "stream",
     "text": [
      "both_ends\n",
      " OK  got: 'spng' expected: 'spng'\n",
      " OK  got: 'Helo' expected: 'Helo'\n",
      " OK  got: '' expected: ''\n",
      " OK  got: 'xyyz' expected: 'xyyz'\n"
     ]
    }
   ],
   "source": [
    "# B. both_ends\n",
    "# Given a string s, return a string made of the first 2\n",
    "# and the last 2 chars of the original string,\n",
    "# so 'spring' yields 'spng'. However, if the string length\n",
    "# is less than 2, return instead the empty string.\n",
    "def both_ends(s):\n",
    "    if len(s) < 2:\n",
    "        return ''\n",
    "    \n",
    "    first_two = s[:2]\n",
    "    last_two = s[-2:]\n",
    "    return first_two + last_two\n",
    "\n",
    "print('both_ends')        \n",
    "test(both_ends('spring'), 'spng')\n",
    "test(both_ends('Hello'), 'Helo')\n",
    "test(both_ends('a'), '')\n",
    "test(both_ends('xyz'), 'xyyz')"
   ]
  },
  {
   "attachments": {},
   "cell_type": "markdown",
   "metadata": {},
   "source": [
    "## Question 3\n"
   ]
  },
  {
   "cell_type": "code",
   "execution_count": 15,
   "metadata": {},
   "outputs": [
    {
     "name": "stdout",
     "output_type": "stream",
     "text": [
      "fix_start\n",
      " OK  got: 'ba**le' expected: 'ba**le'\n",
      " OK  got: 'a*rdv*rk' expected: 'a*rdv*rk'\n",
      " OK  got: 'goo*le' expected: 'goo*le'\n",
      " OK  got: 'donut' expected: 'donut'\n"
     ]
    }
   ],
   "source": [
    "# C. fix_start\n",
    "# Given a string s, return a string\n",
    "# where all  occurences of its first char have\n",
    "# been changed to '*', except do not change\n",
    "# the first char itself.\n",
    "# e.g. 'babble' yields 'ba**le'\n",
    "# Assume that the string is length 1 or more.\n",
    "# Hint: s.replace(stra, strb) returns a version of string s\n",
    "# where all instances of stra have been replaced by strb.\n",
    "def fix_start(s):\n",
    "    first_char = s[0] \n",
    "    modified_string = s.replace(first_char, '*')  \n",
    "    modified_string = first_char + modified_string[1:] \n",
    "    return modified_string\n",
    "\n",
    "print('fix_start')\n",
    "test(fix_start('babble'), 'ba**le')\n",
    "test(fix_start('aardvark'), 'a*rdv*rk')\n",
    "test(fix_start('google'), 'goo*le')\n",
    "test(fix_start('donut'), 'donut')"
   ]
  },
  {
   "attachments": {},
   "cell_type": "markdown",
   "metadata": {},
   "source": [
    "Question 4\n",
    "=="
   ]
  },
  {
   "cell_type": "code",
   "execution_count": 19,
   "metadata": {},
   "outputs": [
    {
     "name": "stdout",
     "output_type": "stream",
     "text": [
      "mix_up\n",
      " OK  got: 'pox mid' expected: 'pox mid'\n",
      " OK  got: 'dig donner' expected: 'dig donner'\n",
      " OK  got: 'spash gnort' expected: 'spash gnort'\n",
      " OK  got: 'fizzy perm' expected: 'fizzy perm'\n"
     ]
    }
   ],
   "source": [
    "def mix_up(a, b):\n",
    "    mixed_a = b[:2] + a[2:]  \n",
    "    mixed_b = a[:2] + b[2:] \n",
    "    return mixed_a + ' ' + mixed_b\n",
    "\n",
    "print('mix_up')\n",
    "test(mix_up('mix', 'pod'), 'pox mid')\n",
    "test(mix_up('dog', 'dinner'), 'dig donner')\n",
    "test(mix_up('gnash', 'sport'), 'spash gnort')\n",
    "test(mix_up('pezzy', 'firm'), 'fizzy perm')"
   ]
  },
  {
   "cell_type": "code",
   "execution_count": null,
   "metadata": {},
   "outputs": [],
   "source": []
  }
 ],
 "metadata": {
  "kernelspec": {
   "display_name": "Python 3 (ipykernel)",
   "language": "python",
   "name": "python3"
  },
  "language_info": {
   "codemirror_mode": {
    "name": "ipython",
    "version": 3
   },
   "file_extension": ".py",
   "mimetype": "text/x-python",
   "name": "python",
   "nbconvert_exporter": "python",
   "pygments_lexer": "ipython3",
   "version": "3.10.9"
  }
 },
 "nbformat": 4,
 "nbformat_minor": 1
}
