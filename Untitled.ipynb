{
 "cells": [
  {
   "cell_type": "code",
   "execution_count": null,
   "id": "c1c07c03",
   "metadata": {},
   "outputs": [],
   "source": [
    "import plotly.express as px\n",
    "import plotly.graph_objects as go"
   ]
  },
  {
   "cell_type": "code",
   "execution_count": null,
   "id": "da18ec5c",
   "metadata": {},
   "outputs": [],
   "source": [
    "import pandas as pd\n",
    "\n",
    "# Sample dataset\n",
    "data = pd.read(\"./Sleep_Efficieny.csv\")\n",
    "df = pd.DataFrame(data)\n",
    "df"
   ]
  },
  {
   "cell_type": "code",
   "execution_count": 13,
   "id": "57652308",
   "metadata": {},
   "outputs": [
    {
     "data": {
      "text/plain": [
       "ID                         0\n",
       "Age                        0\n",
       "Gender                     0\n",
       "Bedtime                    0\n",
       "Wakeup time                0\n",
       "Sleep duration             0\n",
       "Sleep efficiency           0\n",
       "REM sleep percentage       0\n",
       "Deep sleep percentage      0\n",
       "Light sleep percentage     0\n",
       "Awakenings                20\n",
       "Caffeine consumption      25\n",
       "Alcohol consumption       14\n",
       "Smoking status             0\n",
       "Exercise frequency         6\n",
       "dtype: int64"
      ]
     },
     "execution_count": 13,
     "metadata": {},
     "output_type": "execute_result"
    }
   ],
   "source": [
    "df.isnull().sum()"
   ]
  },
  {
   "cell_type": "code",
   "execution_count": null,
   "id": "848abc22",
   "metadata": {},
   "outputs": [],
   "source": []
  },
  {
   "cell_type": "code",
   "execution_count": 11,
   "id": "adfa6dad",
   "metadata": {},
   "outputs": [
    {
     "name": "stderr",
     "output_type": "stream",
     "text": [
      "C:\\Users\\Xiang Ze\\AppData\\Local\\Temp\\ipykernel_5380\\2163419317.py:4: FutureWarning:\n",
      "\n",
      "The default value of numeric_only in DataFrame.corr is deprecated. In a future version, it will default to False. Select only valid columns or specify the value of numeric_only to silence this warning.\n",
      "\n"
     ]
    },
    {
     "data": {
      "application/vnd.plotly.v1+json": {
       "config": {
        "plotlyServerURL": "https://plot.ly"
       },
       "data": [
        {
         "colorscale": [
          [
           0,
           "rgb(0,0,0)"
          ],
          [
           0.3333333333333333,
           "rgb(230,0,0)"
          ],
          [
           0.6666666666666666,
           "rgb(255,210,0)"
          ],
          [
           1,
           "rgb(255,255,255)"
          ]
         ],
         "type": "heatmap",
         "x": [
          "ID",
          "Age",
          "Sleep duration",
          "Sleep efficiency",
          "REM sleep percentage",
          "Deep sleep percentage",
          "Light sleep percentage",
          "Awakenings",
          "Caffeine consumption",
          "Alcohol consumption",
          "Exercise frequency"
         ],
         "y": [
          "ID",
          "Age",
          "Sleep duration",
          "Sleep efficiency",
          "REM sleep percentage",
          "Deep sleep percentage",
          "Light sleep percentage",
          "Awakenings",
          "Caffeine consumption",
          "Alcohol consumption",
          "Exercise frequency"
         ],
         "z": [
          [
           1,
           0.02130980110226402,
           0.01433267730786368,
           -0.025623517369240675,
           0.051636388872229544,
           -0.04729982413209724,
           0.03646250475089404,
           -0.056447424819180185,
           -0.059593704814973794,
           0.11535234028226882,
           0.024640206151367614
          ],
          [
           0.02130980110226402,
           1,
           -0.062462073444900235,
           0.09835669021700892,
           0.04209074306763431,
           0.021730104861790035,
           -0.03190474265163389,
           -0.017788580495976366,
           -0.17146028954181794,
           0.04718846086529837,
           0.07230805473453933
          ],
          [
           0.01433267730786368,
           -0.062462073444900235,
           1,
           -0.027466558164158703,
           -0.015939756058921038,
           -0.037304273845033695,
           0.04180402537927362,
           0.004938728277959675,
           -0.01480239954978938,
           -0.04624258220022308,
           -0.06827191901905034
          ],
          [
           -0.025623517369240675,
           0.09835669021700892,
           -0.027466558164158703,
           1,
           0.06236245443354674,
           0.787335100551304,
           -0.8192040344055325,
           -0.5649785625835638,
           0.06508197882368981,
           -0.3896237499241164,
           0.2595631728149844
          ],
          [
           0.051636388872229544,
           0.04209074306763431,
           -0.015939756058921038,
           0.06236245443354674,
           1,
           -0.2081585535213899,
           -0.01746150044406831,
           -0.025332461765334775,
           0.06003663756955147,
           -0.053258377759970166,
           0.0317682154205213
          ],
          [
           -0.04729982413209724,
           0.021730104861790035,
           -0.037304273845033695,
           0.787335100551304,
           -0.2081585535213899,
           1,
           -0.9743112112906173,
           -0.30826692273724343,
           0.0017418352203171534,
           -0.36173131856892893,
           0.17910237429332626
          ],
          [
           0.03646250475089404,
           -0.03190474265163389,
           0.04180402537927362,
           -0.8192040344055325,
           -0.01746150044406831,
           -0.9743112112906173,
           1,
           0.32121823314108117,
           -0.015593206240017815,
           0.38057051962990485,
           -0.19019087104588378
          ],
          [
           -0.056447424819180185,
           -0.017788580495976366,
           0.004938728277959675,
           -0.5649785625835638,
           -0.025332461765334775,
           -0.30826692273724343,
           0.32121823314108117,
           1,
           -0.10861487528439091,
           0.2060896893862738,
           -0.21957778226778418
          ],
          [
           -0.059593704814973794,
           -0.17146028954181794,
           -0.01480239954978938,
           0.06508197882368981,
           0.06003663756955147,
           0.0017418352203171534,
           -0.015593206240017815,
           -0.10861487528439091,
           1,
           -0.12330806457760857,
           -0.0682238509186306
          ],
          [
           0.11535234028226882,
           0.04718846086529837,
           -0.04624258220022308,
           -0.3896237499241164,
           -0.053258377759970166,
           -0.36173131856892893,
           0.38057051962990485,
           0.2060896893862738,
           -0.12330806457760857,
           1,
           0.006934050517165427
          ],
          [
           0.024640206151367614,
           0.07230805473453933,
           -0.06827191901905034,
           0.2595631728149844,
           0.0317682154205213,
           0.17910237429332626,
           -0.19019087104588378,
           -0.21957778226778418,
           -0.0682238509186306,
           0.006934050517165427,
           1
          ]
         ]
        }
       ],
       "layout": {
        "font": {
         "color": "white"
        },
        "paper_bgcolor": "rgba(0,0,0,0.7)",
        "plot_bgcolor": "rgba(0,0,0,0)",
        "template": {
         "data": {
          "bar": [
           {
            "error_x": {
             "color": "#2a3f5f"
            },
            "error_y": {
             "color": "#2a3f5f"
            },
            "marker": {
             "line": {
              "color": "#E5ECF6",
              "width": 0.5
             },
             "pattern": {
              "fillmode": "overlay",
              "size": 10,
              "solidity": 0.2
             }
            },
            "type": "bar"
           }
          ],
          "barpolar": [
           {
            "marker": {
             "line": {
              "color": "#E5ECF6",
              "width": 0.5
             },
             "pattern": {
              "fillmode": "overlay",
              "size": 10,
              "solidity": 0.2
             }
            },
            "type": "barpolar"
           }
          ],
          "carpet": [
           {
            "aaxis": {
             "endlinecolor": "#2a3f5f",
             "gridcolor": "white",
             "linecolor": "white",
             "minorgridcolor": "white",
             "startlinecolor": "#2a3f5f"
            },
            "baxis": {
             "endlinecolor": "#2a3f5f",
             "gridcolor": "white",
             "linecolor": "white",
             "minorgridcolor": "white",
             "startlinecolor": "#2a3f5f"
            },
            "type": "carpet"
           }
          ],
          "choropleth": [
           {
            "colorbar": {
             "outlinewidth": 0,
             "ticks": ""
            },
            "type": "choropleth"
           }
          ],
          "contour": [
           {
            "colorbar": {
             "outlinewidth": 0,
             "ticks": ""
            },
            "colorscale": [
             [
              0,
              "#0d0887"
             ],
             [
              0.1111111111111111,
              "#46039f"
             ],
             [
              0.2222222222222222,
              "#7201a8"
             ],
             [
              0.3333333333333333,
              "#9c179e"
             ],
             [
              0.4444444444444444,
              "#bd3786"
             ],
             [
              0.5555555555555556,
              "#d8576b"
             ],
             [
              0.6666666666666666,
              "#ed7953"
             ],
             [
              0.7777777777777778,
              "#fb9f3a"
             ],
             [
              0.8888888888888888,
              "#fdca26"
             ],
             [
              1,
              "#f0f921"
             ]
            ],
            "type": "contour"
           }
          ],
          "contourcarpet": [
           {
            "colorbar": {
             "outlinewidth": 0,
             "ticks": ""
            },
            "type": "contourcarpet"
           }
          ],
          "heatmap": [
           {
            "colorbar": {
             "outlinewidth": 0,
             "ticks": ""
            },
            "colorscale": [
             [
              0,
              "#0d0887"
             ],
             [
              0.1111111111111111,
              "#46039f"
             ],
             [
              0.2222222222222222,
              "#7201a8"
             ],
             [
              0.3333333333333333,
              "#9c179e"
             ],
             [
              0.4444444444444444,
              "#bd3786"
             ],
             [
              0.5555555555555556,
              "#d8576b"
             ],
             [
              0.6666666666666666,
              "#ed7953"
             ],
             [
              0.7777777777777778,
              "#fb9f3a"
             ],
             [
              0.8888888888888888,
              "#fdca26"
             ],
             [
              1,
              "#f0f921"
             ]
            ],
            "type": "heatmap"
           }
          ],
          "heatmapgl": [
           {
            "colorbar": {
             "outlinewidth": 0,
             "ticks": ""
            },
            "colorscale": [
             [
              0,
              "#0d0887"
             ],
             [
              0.1111111111111111,
              "#46039f"
             ],
             [
              0.2222222222222222,
              "#7201a8"
             ],
             [
              0.3333333333333333,
              "#9c179e"
             ],
             [
              0.4444444444444444,
              "#bd3786"
             ],
             [
              0.5555555555555556,
              "#d8576b"
             ],
             [
              0.6666666666666666,
              "#ed7953"
             ],
             [
              0.7777777777777778,
              "#fb9f3a"
             ],
             [
              0.8888888888888888,
              "#fdca26"
             ],
             [
              1,
              "#f0f921"
             ]
            ],
            "type": "heatmapgl"
           }
          ],
          "histogram": [
           {
            "marker": {
             "pattern": {
              "fillmode": "overlay",
              "size": 10,
              "solidity": 0.2
             }
            },
            "type": "histogram"
           }
          ],
          "histogram2d": [
           {
            "colorbar": {
             "outlinewidth": 0,
             "ticks": ""
            },
            "colorscale": [
             [
              0,
              "#0d0887"
             ],
             [
              0.1111111111111111,
              "#46039f"
             ],
             [
              0.2222222222222222,
              "#7201a8"
             ],
             [
              0.3333333333333333,
              "#9c179e"
             ],
             [
              0.4444444444444444,
              "#bd3786"
             ],
             [
              0.5555555555555556,
              "#d8576b"
             ],
             [
              0.6666666666666666,
              "#ed7953"
             ],
             [
              0.7777777777777778,
              "#fb9f3a"
             ],
             [
              0.8888888888888888,
              "#fdca26"
             ],
             [
              1,
              "#f0f921"
             ]
            ],
            "type": "histogram2d"
           }
          ],
          "histogram2dcontour": [
           {
            "colorbar": {
             "outlinewidth": 0,
             "ticks": ""
            },
            "colorscale": [
             [
              0,
              "#0d0887"
             ],
             [
              0.1111111111111111,
              "#46039f"
             ],
             [
              0.2222222222222222,
              "#7201a8"
             ],
             [
              0.3333333333333333,
              "#9c179e"
             ],
             [
              0.4444444444444444,
              "#bd3786"
             ],
             [
              0.5555555555555556,
              "#d8576b"
             ],
             [
              0.6666666666666666,
              "#ed7953"
             ],
             [
              0.7777777777777778,
              "#fb9f3a"
             ],
             [
              0.8888888888888888,
              "#fdca26"
             ],
             [
              1,
              "#f0f921"
             ]
            ],
            "type": "histogram2dcontour"
           }
          ],
          "mesh3d": [
           {
            "colorbar": {
             "outlinewidth": 0,
             "ticks": ""
            },
            "type": "mesh3d"
           }
          ],
          "parcoords": [
           {
            "line": {
             "colorbar": {
              "outlinewidth": 0,
              "ticks": ""
             }
            },
            "type": "parcoords"
           }
          ],
          "pie": [
           {
            "automargin": true,
            "type": "pie"
           }
          ],
          "scatter": [
           {
            "fillpattern": {
             "fillmode": "overlay",
             "size": 10,
             "solidity": 0.2
            },
            "type": "scatter"
           }
          ],
          "scatter3d": [
           {
            "line": {
             "colorbar": {
              "outlinewidth": 0,
              "ticks": ""
             }
            },
            "marker": {
             "colorbar": {
              "outlinewidth": 0,
              "ticks": ""
             }
            },
            "type": "scatter3d"
           }
          ],
          "scattercarpet": [
           {
            "marker": {
             "colorbar": {
              "outlinewidth": 0,
              "ticks": ""
             }
            },
            "type": "scattercarpet"
           }
          ],
          "scattergeo": [
           {
            "marker": {
             "colorbar": {
              "outlinewidth": 0,
              "ticks": ""
             }
            },
            "type": "scattergeo"
           }
          ],
          "scattergl": [
           {
            "marker": {
             "colorbar": {
              "outlinewidth": 0,
              "ticks": ""
             }
            },
            "type": "scattergl"
           }
          ],
          "scattermapbox": [
           {
            "marker": {
             "colorbar": {
              "outlinewidth": 0,
              "ticks": ""
             }
            },
            "type": "scattermapbox"
           }
          ],
          "scatterpolar": [
           {
            "marker": {
             "colorbar": {
              "outlinewidth": 0,
              "ticks": ""
             }
            },
            "type": "scatterpolar"
           }
          ],
          "scatterpolargl": [
           {
            "marker": {
             "colorbar": {
              "outlinewidth": 0,
              "ticks": ""
             }
            },
            "type": "scatterpolargl"
           }
          ],
          "scatterternary": [
           {
            "marker": {
             "colorbar": {
              "outlinewidth": 0,
              "ticks": ""
             }
            },
            "type": "scatterternary"
           }
          ],
          "surface": [
           {
            "colorbar": {
             "outlinewidth": 0,
             "ticks": ""
            },
            "colorscale": [
             [
              0,
              "#0d0887"
             ],
             [
              0.1111111111111111,
              "#46039f"
             ],
             [
              0.2222222222222222,
              "#7201a8"
             ],
             [
              0.3333333333333333,
              "#9c179e"
             ],
             [
              0.4444444444444444,
              "#bd3786"
             ],
             [
              0.5555555555555556,
              "#d8576b"
             ],
             [
              0.6666666666666666,
              "#ed7953"
             ],
             [
              0.7777777777777778,
              "#fb9f3a"
             ],
             [
              0.8888888888888888,
              "#fdca26"
             ],
             [
              1,
              "#f0f921"
             ]
            ],
            "type": "surface"
           }
          ],
          "table": [
           {
            "cells": {
             "fill": {
              "color": "#EBF0F8"
             },
             "line": {
              "color": "white"
             }
            },
            "header": {
             "fill": {
              "color": "#C8D4E3"
             },
             "line": {
              "color": "white"
             }
            },
            "type": "table"
           }
          ]
         },
         "layout": {
          "annotationdefaults": {
           "arrowcolor": "#2a3f5f",
           "arrowhead": 0,
           "arrowwidth": 1
          },
          "autotypenumbers": "strict",
          "coloraxis": {
           "colorbar": {
            "outlinewidth": 0,
            "ticks": ""
           }
          },
          "colorscale": {
           "diverging": [
            [
             0,
             "#8e0152"
            ],
            [
             0.1,
             "#c51b7d"
            ],
            [
             0.2,
             "#de77ae"
            ],
            [
             0.3,
             "#f1b6da"
            ],
            [
             0.4,
             "#fde0ef"
            ],
            [
             0.5,
             "#f7f7f7"
            ],
            [
             0.6,
             "#e6f5d0"
            ],
            [
             0.7,
             "#b8e186"
            ],
            [
             0.8,
             "#7fbc41"
            ],
            [
             0.9,
             "#4d9221"
            ],
            [
             1,
             "#276419"
            ]
           ],
           "sequential": [
            [
             0,
             "#0d0887"
            ],
            [
             0.1111111111111111,
             "#46039f"
            ],
            [
             0.2222222222222222,
             "#7201a8"
            ],
            [
             0.3333333333333333,
             "#9c179e"
            ],
            [
             0.4444444444444444,
             "#bd3786"
            ],
            [
             0.5555555555555556,
             "#d8576b"
            ],
            [
             0.6666666666666666,
             "#ed7953"
            ],
            [
             0.7777777777777778,
             "#fb9f3a"
            ],
            [
             0.8888888888888888,
             "#fdca26"
            ],
            [
             1,
             "#f0f921"
            ]
           ],
           "sequentialminus": [
            [
             0,
             "#0d0887"
            ],
            [
             0.1111111111111111,
             "#46039f"
            ],
            [
             0.2222222222222222,
             "#7201a8"
            ],
            [
             0.3333333333333333,
             "#9c179e"
            ],
            [
             0.4444444444444444,
             "#bd3786"
            ],
            [
             0.5555555555555556,
             "#d8576b"
            ],
            [
             0.6666666666666666,
             "#ed7953"
            ],
            [
             0.7777777777777778,
             "#fb9f3a"
            ],
            [
             0.8888888888888888,
             "#fdca26"
            ],
            [
             1,
             "#f0f921"
            ]
           ]
          },
          "colorway": [
           "#636efa",
           "#EF553B",
           "#00cc96",
           "#ab63fa",
           "#FFA15A",
           "#19d3f3",
           "#FF6692",
           "#B6E880",
           "#FF97FF",
           "#FECB52"
          ],
          "font": {
           "color": "#2a3f5f"
          },
          "geo": {
           "bgcolor": "white",
           "lakecolor": "white",
           "landcolor": "#E5ECF6",
           "showlakes": true,
           "showland": true,
           "subunitcolor": "white"
          },
          "hoverlabel": {
           "align": "left"
          },
          "hovermode": "closest",
          "mapbox": {
           "style": "light"
          },
          "paper_bgcolor": "white",
          "plot_bgcolor": "#E5ECF6",
          "polar": {
           "angularaxis": {
            "gridcolor": "white",
            "linecolor": "white",
            "ticks": ""
           },
           "bgcolor": "#E5ECF6",
           "radialaxis": {
            "gridcolor": "white",
            "linecolor": "white",
            "ticks": ""
           }
          },
          "scene": {
           "xaxis": {
            "backgroundcolor": "#E5ECF6",
            "gridcolor": "white",
            "gridwidth": 2,
            "linecolor": "white",
            "showbackground": true,
            "ticks": "",
            "zerolinecolor": "white"
           },
           "yaxis": {
            "backgroundcolor": "#E5ECF6",
            "gridcolor": "white",
            "gridwidth": 2,
            "linecolor": "white",
            "showbackground": true,
            "ticks": "",
            "zerolinecolor": "white"
           },
           "zaxis": {
            "backgroundcolor": "#E5ECF6",
            "gridcolor": "white",
            "gridwidth": 2,
            "linecolor": "white",
            "showbackground": true,
            "ticks": "",
            "zerolinecolor": "white"
           }
          },
          "shapedefaults": {
           "line": {
            "color": "#2a3f5f"
           }
          },
          "ternary": {
           "aaxis": {
            "gridcolor": "white",
            "linecolor": "white",
            "ticks": ""
           },
           "baxis": {
            "gridcolor": "white",
            "linecolor": "white",
            "ticks": ""
           },
           "bgcolor": "#E5ECF6",
           "caxis": {
            "gridcolor": "white",
            "linecolor": "white",
            "ticks": ""
           }
          },
          "title": {
           "x": 0.05
          },
          "xaxis": {
           "automargin": true,
           "gridcolor": "white",
           "linecolor": "white",
           "ticks": "",
           "title": {
            "standoff": 15
           },
           "zerolinecolor": "white",
           "zerolinewidth": 2
          },
          "yaxis": {
           "automargin": true,
           "gridcolor": "white",
           "linecolor": "white",
           "ticks": "",
           "title": {
            "standoff": 15
           },
           "zerolinecolor": "white",
           "zerolinewidth": 2
          }
         }
        },
        "title": {
         "text": "Correlation Heatmap"
        },
        "xaxis": {
         "title": {
          "text": "Variables"
         }
        },
        "yaxis": {
         "title": {
          "text": "Variables"
         }
        }
       }
      },
      "text/html": [
       "<div>                            <div id=\"d2aa7668-b108-495d-b67b-f58fd00dba58\" class=\"plotly-graph-div\" style=\"height:525px; width:100%;\"></div>            <script type=\"text/javascript\">                require([\"plotly\"], function(Plotly) {                    window.PLOTLYENV=window.PLOTLYENV || {};                                    if (document.getElementById(\"d2aa7668-b108-495d-b67b-f58fd00dba58\")) {                    Plotly.newPlot(                        \"d2aa7668-b108-495d-b67b-f58fd00dba58\",                        [{\"colorscale\":[[0.0,\"rgb(0,0,0)\"],[0.3333333333333333,\"rgb(230,0,0)\"],[0.6666666666666666,\"rgb(255,210,0)\"],[1.0,\"rgb(255,255,255)\"]],\"x\":[\"ID\",\"Age\",\"Sleep duration\",\"Sleep efficiency\",\"REM sleep percentage\",\"Deep sleep percentage\",\"Light sleep percentage\",\"Awakenings\",\"Caffeine consumption\",\"Alcohol consumption\",\"Exercise frequency\"],\"y\":[\"ID\",\"Age\",\"Sleep duration\",\"Sleep efficiency\",\"REM sleep percentage\",\"Deep sleep percentage\",\"Light sleep percentage\",\"Awakenings\",\"Caffeine consumption\",\"Alcohol consumption\",\"Exercise frequency\"],\"z\":[[1.0,0.02130980110226402,0.01433267730786368,-0.025623517369240675,0.051636388872229544,-0.04729982413209724,0.03646250475089404,-0.056447424819180185,-0.059593704814973794,0.11535234028226882,0.024640206151367614],[0.02130980110226402,1.0,-0.062462073444900235,0.09835669021700892,0.04209074306763431,0.021730104861790035,-0.03190474265163389,-0.017788580495976366,-0.17146028954181794,0.04718846086529837,0.07230805473453933],[0.01433267730786368,-0.062462073444900235,1.0,-0.027466558164158703,-0.015939756058921038,-0.037304273845033695,0.04180402537927362,0.004938728277959675,-0.01480239954978938,-0.04624258220022308,-0.06827191901905034],[-0.025623517369240675,0.09835669021700892,-0.027466558164158703,1.0,0.06236245443354674,0.787335100551304,-0.8192040344055325,-0.5649785625835638,0.06508197882368981,-0.3896237499241164,0.2595631728149844],[0.051636388872229544,0.04209074306763431,-0.015939756058921038,0.06236245443354674,1.0,-0.2081585535213899,-0.01746150044406831,-0.025332461765334775,0.06003663756955147,-0.053258377759970166,0.0317682154205213],[-0.04729982413209724,0.021730104861790035,-0.037304273845033695,0.787335100551304,-0.2081585535213899,1.0,-0.9743112112906173,-0.30826692273724343,0.0017418352203171534,-0.36173131856892893,0.17910237429332626],[0.03646250475089404,-0.03190474265163389,0.04180402537927362,-0.8192040344055325,-0.01746150044406831,-0.9743112112906173,1.0,0.32121823314108117,-0.015593206240017815,0.38057051962990485,-0.19019087104588378],[-0.056447424819180185,-0.017788580495976366,0.004938728277959675,-0.5649785625835638,-0.025332461765334775,-0.30826692273724343,0.32121823314108117,1.0,-0.10861487528439091,0.2060896893862738,-0.21957778226778418],[-0.059593704814973794,-0.17146028954181794,-0.01480239954978938,0.06508197882368981,0.06003663756955147,0.0017418352203171534,-0.015593206240017815,-0.10861487528439091,1.0,-0.12330806457760857,-0.0682238509186306],[0.11535234028226882,0.04718846086529837,-0.04624258220022308,-0.3896237499241164,-0.053258377759970166,-0.36173131856892893,0.38057051962990485,0.2060896893862738,-0.12330806457760857,1.0,0.006934050517165427],[0.024640206151367614,0.07230805473453933,-0.06827191901905034,0.2595631728149844,0.0317682154205213,0.17910237429332626,-0.19019087104588378,-0.21957778226778418,-0.0682238509186306,0.006934050517165427,1.0]],\"type\":\"heatmap\"}],                        {\"template\":{\"data\":{\"histogram2dcontour\":[{\"type\":\"histogram2dcontour\",\"colorbar\":{\"outlinewidth\":0,\"ticks\":\"\"},\"colorscale\":[[0.0,\"#0d0887\"],[0.1111111111111111,\"#46039f\"],[0.2222222222222222,\"#7201a8\"],[0.3333333333333333,\"#9c179e\"],[0.4444444444444444,\"#bd3786\"],[0.5555555555555556,\"#d8576b\"],[0.6666666666666666,\"#ed7953\"],[0.7777777777777778,\"#fb9f3a\"],[0.8888888888888888,\"#fdca26\"],[1.0,\"#f0f921\"]]}],\"choropleth\":[{\"type\":\"choropleth\",\"colorbar\":{\"outlinewidth\":0,\"ticks\":\"\"}}],\"histogram2d\":[{\"type\":\"histogram2d\",\"colorbar\":{\"outlinewidth\":0,\"ticks\":\"\"},\"colorscale\":[[0.0,\"#0d0887\"],[0.1111111111111111,\"#46039f\"],[0.2222222222222222,\"#7201a8\"],[0.3333333333333333,\"#9c179e\"],[0.4444444444444444,\"#bd3786\"],[0.5555555555555556,\"#d8576b\"],[0.6666666666666666,\"#ed7953\"],[0.7777777777777778,\"#fb9f3a\"],[0.8888888888888888,\"#fdca26\"],[1.0,\"#f0f921\"]]}],\"heatmap\":[{\"type\":\"heatmap\",\"colorbar\":{\"outlinewidth\":0,\"ticks\":\"\"},\"colorscale\":[[0.0,\"#0d0887\"],[0.1111111111111111,\"#46039f\"],[0.2222222222222222,\"#7201a8\"],[0.3333333333333333,\"#9c179e\"],[0.4444444444444444,\"#bd3786\"],[0.5555555555555556,\"#d8576b\"],[0.6666666666666666,\"#ed7953\"],[0.7777777777777778,\"#fb9f3a\"],[0.8888888888888888,\"#fdca26\"],[1.0,\"#f0f921\"]]}],\"heatmapgl\":[{\"type\":\"heatmapgl\",\"colorbar\":{\"outlinewidth\":0,\"ticks\":\"\"},\"colorscale\":[[0.0,\"#0d0887\"],[0.1111111111111111,\"#46039f\"],[0.2222222222222222,\"#7201a8\"],[0.3333333333333333,\"#9c179e\"],[0.4444444444444444,\"#bd3786\"],[0.5555555555555556,\"#d8576b\"],[0.6666666666666666,\"#ed7953\"],[0.7777777777777778,\"#fb9f3a\"],[0.8888888888888888,\"#fdca26\"],[1.0,\"#f0f921\"]]}],\"contourcarpet\":[{\"type\":\"contourcarpet\",\"colorbar\":{\"outlinewidth\":0,\"ticks\":\"\"}}],\"contour\":[{\"type\":\"contour\",\"colorbar\":{\"outlinewidth\":0,\"ticks\":\"\"},\"colorscale\":[[0.0,\"#0d0887\"],[0.1111111111111111,\"#46039f\"],[0.2222222222222222,\"#7201a8\"],[0.3333333333333333,\"#9c179e\"],[0.4444444444444444,\"#bd3786\"],[0.5555555555555556,\"#d8576b\"],[0.6666666666666666,\"#ed7953\"],[0.7777777777777778,\"#fb9f3a\"],[0.8888888888888888,\"#fdca26\"],[1.0,\"#f0f921\"]]}],\"surface\":[{\"type\":\"surface\",\"colorbar\":{\"outlinewidth\":0,\"ticks\":\"\"},\"colorscale\":[[0.0,\"#0d0887\"],[0.1111111111111111,\"#46039f\"],[0.2222222222222222,\"#7201a8\"],[0.3333333333333333,\"#9c179e\"],[0.4444444444444444,\"#bd3786\"],[0.5555555555555556,\"#d8576b\"],[0.6666666666666666,\"#ed7953\"],[0.7777777777777778,\"#fb9f3a\"],[0.8888888888888888,\"#fdca26\"],[1.0,\"#f0f921\"]]}],\"mesh3d\":[{\"type\":\"mesh3d\",\"colorbar\":{\"outlinewidth\":0,\"ticks\":\"\"}}],\"scatter\":[{\"fillpattern\":{\"fillmode\":\"overlay\",\"size\":10,\"solidity\":0.2},\"type\":\"scatter\"}],\"parcoords\":[{\"type\":\"parcoords\",\"line\":{\"colorbar\":{\"outlinewidth\":0,\"ticks\":\"\"}}}],\"scatterpolargl\":[{\"type\":\"scatterpolargl\",\"marker\":{\"colorbar\":{\"outlinewidth\":0,\"ticks\":\"\"}}}],\"bar\":[{\"error_x\":{\"color\":\"#2a3f5f\"},\"error_y\":{\"color\":\"#2a3f5f\"},\"marker\":{\"line\":{\"color\":\"#E5ECF6\",\"width\":0.5},\"pattern\":{\"fillmode\":\"overlay\",\"size\":10,\"solidity\":0.2}},\"type\":\"bar\"}],\"scattergeo\":[{\"type\":\"scattergeo\",\"marker\":{\"colorbar\":{\"outlinewidth\":0,\"ticks\":\"\"}}}],\"scatterpolar\":[{\"type\":\"scatterpolar\",\"marker\":{\"colorbar\":{\"outlinewidth\":0,\"ticks\":\"\"}}}],\"histogram\":[{\"marker\":{\"pattern\":{\"fillmode\":\"overlay\",\"size\":10,\"solidity\":0.2}},\"type\":\"histogram\"}],\"scattergl\":[{\"type\":\"scattergl\",\"marker\":{\"colorbar\":{\"outlinewidth\":0,\"ticks\":\"\"}}}],\"scatter3d\":[{\"type\":\"scatter3d\",\"line\":{\"colorbar\":{\"outlinewidth\":0,\"ticks\":\"\"}},\"marker\":{\"colorbar\":{\"outlinewidth\":0,\"ticks\":\"\"}}}],\"scattermapbox\":[{\"type\":\"scattermapbox\",\"marker\":{\"colorbar\":{\"outlinewidth\":0,\"ticks\":\"\"}}}],\"scatterternary\":[{\"type\":\"scatterternary\",\"marker\":{\"colorbar\":{\"outlinewidth\":0,\"ticks\":\"\"}}}],\"scattercarpet\":[{\"type\":\"scattercarpet\",\"marker\":{\"colorbar\":{\"outlinewidth\":0,\"ticks\":\"\"}}}],\"carpet\":[{\"aaxis\":{\"endlinecolor\":\"#2a3f5f\",\"gridcolor\":\"white\",\"linecolor\":\"white\",\"minorgridcolor\":\"white\",\"startlinecolor\":\"#2a3f5f\"},\"baxis\":{\"endlinecolor\":\"#2a3f5f\",\"gridcolor\":\"white\",\"linecolor\":\"white\",\"minorgridcolor\":\"white\",\"startlinecolor\":\"#2a3f5f\"},\"type\":\"carpet\"}],\"table\":[{\"cells\":{\"fill\":{\"color\":\"#EBF0F8\"},\"line\":{\"color\":\"white\"}},\"header\":{\"fill\":{\"color\":\"#C8D4E3\"},\"line\":{\"color\":\"white\"}},\"type\":\"table\"}],\"barpolar\":[{\"marker\":{\"line\":{\"color\":\"#E5ECF6\",\"width\":0.5},\"pattern\":{\"fillmode\":\"overlay\",\"size\":10,\"solidity\":0.2}},\"type\":\"barpolar\"}],\"pie\":[{\"automargin\":true,\"type\":\"pie\"}]},\"layout\":{\"autotypenumbers\":\"strict\",\"colorway\":[\"#636efa\",\"#EF553B\",\"#00cc96\",\"#ab63fa\",\"#FFA15A\",\"#19d3f3\",\"#FF6692\",\"#B6E880\",\"#FF97FF\",\"#FECB52\"],\"font\":{\"color\":\"#2a3f5f\"},\"hovermode\":\"closest\",\"hoverlabel\":{\"align\":\"left\"},\"paper_bgcolor\":\"white\",\"plot_bgcolor\":\"#E5ECF6\",\"polar\":{\"bgcolor\":\"#E5ECF6\",\"angularaxis\":{\"gridcolor\":\"white\",\"linecolor\":\"white\",\"ticks\":\"\"},\"radialaxis\":{\"gridcolor\":\"white\",\"linecolor\":\"white\",\"ticks\":\"\"}},\"ternary\":{\"bgcolor\":\"#E5ECF6\",\"aaxis\":{\"gridcolor\":\"white\",\"linecolor\":\"white\",\"ticks\":\"\"},\"baxis\":{\"gridcolor\":\"white\",\"linecolor\":\"white\",\"ticks\":\"\"},\"caxis\":{\"gridcolor\":\"white\",\"linecolor\":\"white\",\"ticks\":\"\"}},\"coloraxis\":{\"colorbar\":{\"outlinewidth\":0,\"ticks\":\"\"}},\"colorscale\":{\"sequential\":[[0.0,\"#0d0887\"],[0.1111111111111111,\"#46039f\"],[0.2222222222222222,\"#7201a8\"],[0.3333333333333333,\"#9c179e\"],[0.4444444444444444,\"#bd3786\"],[0.5555555555555556,\"#d8576b\"],[0.6666666666666666,\"#ed7953\"],[0.7777777777777778,\"#fb9f3a\"],[0.8888888888888888,\"#fdca26\"],[1.0,\"#f0f921\"]],\"sequentialminus\":[[0.0,\"#0d0887\"],[0.1111111111111111,\"#46039f\"],[0.2222222222222222,\"#7201a8\"],[0.3333333333333333,\"#9c179e\"],[0.4444444444444444,\"#bd3786\"],[0.5555555555555556,\"#d8576b\"],[0.6666666666666666,\"#ed7953\"],[0.7777777777777778,\"#fb9f3a\"],[0.8888888888888888,\"#fdca26\"],[1.0,\"#f0f921\"]],\"diverging\":[[0,\"#8e0152\"],[0.1,\"#c51b7d\"],[0.2,\"#de77ae\"],[0.3,\"#f1b6da\"],[0.4,\"#fde0ef\"],[0.5,\"#f7f7f7\"],[0.6,\"#e6f5d0\"],[0.7,\"#b8e186\"],[0.8,\"#7fbc41\"],[0.9,\"#4d9221\"],[1,\"#276419\"]]},\"xaxis\":{\"gridcolor\":\"white\",\"linecolor\":\"white\",\"ticks\":\"\",\"title\":{\"standoff\":15},\"zerolinecolor\":\"white\",\"automargin\":true,\"zerolinewidth\":2},\"yaxis\":{\"gridcolor\":\"white\",\"linecolor\":\"white\",\"ticks\":\"\",\"title\":{\"standoff\":15},\"zerolinecolor\":\"white\",\"automargin\":true,\"zerolinewidth\":2},\"scene\":{\"xaxis\":{\"backgroundcolor\":\"#E5ECF6\",\"gridcolor\":\"white\",\"linecolor\":\"white\",\"showbackground\":true,\"ticks\":\"\",\"zerolinecolor\":\"white\",\"gridwidth\":2},\"yaxis\":{\"backgroundcolor\":\"#E5ECF6\",\"gridcolor\":\"white\",\"linecolor\":\"white\",\"showbackground\":true,\"ticks\":\"\",\"zerolinecolor\":\"white\",\"gridwidth\":2},\"zaxis\":{\"backgroundcolor\":\"#E5ECF6\",\"gridcolor\":\"white\",\"linecolor\":\"white\",\"showbackground\":true,\"ticks\":\"\",\"zerolinecolor\":\"white\",\"gridwidth\":2}},\"shapedefaults\":{\"line\":{\"color\":\"#2a3f5f\"}},\"annotationdefaults\":{\"arrowcolor\":\"#2a3f5f\",\"arrowhead\":0,\"arrowwidth\":1},\"geo\":{\"bgcolor\":\"white\",\"landcolor\":\"#E5ECF6\",\"subunitcolor\":\"white\",\"showland\":true,\"showlakes\":true,\"lakecolor\":\"white\"},\"title\":{\"x\":0.05},\"mapbox\":{\"style\":\"light\"}}},\"font\":{\"color\":\"white\"},\"title\":{\"text\":\"Correlation Heatmap\"},\"xaxis\":{\"title\":{\"text\":\"Variables\"}},\"yaxis\":{\"title\":{\"text\":\"Variables\"}},\"plot_bgcolor\":\"rgba(0,0,0,0)\",\"paper_bgcolor\":\"rgba(0,0,0,0.7)\"},                        {\"responsive\": true}                    ).then(function(){\n",
       "                            \n",
       "var gd = document.getElementById('d2aa7668-b108-495d-b67b-f58fd00dba58');\n",
       "var x = new MutationObserver(function (mutations, observer) {{\n",
       "        var display = window.getComputedStyle(gd).display;\n",
       "        if (!display || display === 'none') {{\n",
       "            console.log([gd, 'removed!']);\n",
       "            Plotly.purge(gd);\n",
       "            observer.disconnect();\n",
       "        }}\n",
       "}});\n",
       "\n",
       "// Listen for the removal of the full notebook cells\n",
       "var notebookContainer = gd.closest('#notebook-container');\n",
       "if (notebookContainer) {{\n",
       "    x.observe(notebookContainer, {childList: true});\n",
       "}}\n",
       "\n",
       "// Listen for the clearing of the current output cell\n",
       "var outputEl = gd.closest('.output');\n",
       "if (outputEl) {{\n",
       "    x.observe(outputEl, {childList: true});\n",
       "}}\n",
       "\n",
       "                        })                };                });            </script>        </div>"
      ]
     },
     "metadata": {},
     "output_type": "display_data"
    }
   ],
   "source": [
    "import plotly.graph_objects as go\n",
    "\n",
    "# Calculate the correlation matrix\n",
    "corr_matrix = df.corr()\n",
    "\n",
    "# Create the heatmap\n",
    "fig = go.Figure(data=go.Heatmap(\n",
    "    z=corr_matrix.values,\n",
    "    x=corr_matrix.columns,\n",
    "    y=corr_matrix.columns,\n",
    "    colorscale='Hot'))\n",
    "\n",
    "# Set the layout properties\n",
    "fig.update_layout(\n",
    "    title='Correlation Heatmap',\n",
    "    xaxis=dict(title='Variables'),\n",
    "    yaxis=dict(title='Variables'),\n",
    "    plot_bgcolor='rgba(0,0,0,0)',\n",
    "    paper_bgcolor='rgba(0,0,0,0.7)',\n",
    "    font=dict(color='white'))\n",
    "\n",
    "# Show the heatmap\n",
    "fig.show()\n"
   ]
  },
  {
   "cell_type": "code",
   "execution_count": 16,
   "id": "11e0b12e",
   "metadata": {},
   "outputs": [
    {
     "data": {
      "application/vnd.plotly.v1+json": {
       "config": {
        "plotlyServerURL": "https://plot.ly"
       },
       "data": [
        {
         "labels": [
          "REM sleep",
          "Light sleep",
          "Deep sleep"
         ],
         "marker": {
          "colors": [
           "#FF7F0E",
           "#1F77B4",
           "#2CA02C"
          ]
         },
         "type": "pie",
         "values": [
          10222,
          11102,
          23876
         ]
        }
       ],
       "layout": {
        "font": {
         "color": "white",
         "size": 14
        },
        "paper_bgcolor": "#333333",
        "plot_bgcolor": "#222222",
        "template": {
         "data": {
          "bar": [
           {
            "error_x": {
             "color": "#2a3f5f"
            },
            "error_y": {
             "color": "#2a3f5f"
            },
            "marker": {
             "line": {
              "color": "#E5ECF6",
              "width": 0.5
             },
             "pattern": {
              "fillmode": "overlay",
              "size": 10,
              "solidity": 0.2
             }
            },
            "type": "bar"
           }
          ],
          "barpolar": [
           {
            "marker": {
             "line": {
              "color": "#E5ECF6",
              "width": 0.5
             },
             "pattern": {
              "fillmode": "overlay",
              "size": 10,
              "solidity": 0.2
             }
            },
            "type": "barpolar"
           }
          ],
          "carpet": [
           {
            "aaxis": {
             "endlinecolor": "#2a3f5f",
             "gridcolor": "white",
             "linecolor": "white",
             "minorgridcolor": "white",
             "startlinecolor": "#2a3f5f"
            },
            "baxis": {
             "endlinecolor": "#2a3f5f",
             "gridcolor": "white",
             "linecolor": "white",
             "minorgridcolor": "white",
             "startlinecolor": "#2a3f5f"
            },
            "type": "carpet"
           }
          ],
          "choropleth": [
           {
            "colorbar": {
             "outlinewidth": 0,
             "ticks": ""
            },
            "type": "choropleth"
           }
          ],
          "contour": [
           {
            "colorbar": {
             "outlinewidth": 0,
             "ticks": ""
            },
            "colorscale": [
             [
              0,
              "#0d0887"
             ],
             [
              0.1111111111111111,
              "#46039f"
             ],
             [
              0.2222222222222222,
              "#7201a8"
             ],
             [
              0.3333333333333333,
              "#9c179e"
             ],
             [
              0.4444444444444444,
              "#bd3786"
             ],
             [
              0.5555555555555556,
              "#d8576b"
             ],
             [
              0.6666666666666666,
              "#ed7953"
             ],
             [
              0.7777777777777778,
              "#fb9f3a"
             ],
             [
              0.8888888888888888,
              "#fdca26"
             ],
             [
              1,
              "#f0f921"
             ]
            ],
            "type": "contour"
           }
          ],
          "contourcarpet": [
           {
            "colorbar": {
             "outlinewidth": 0,
             "ticks": ""
            },
            "type": "contourcarpet"
           }
          ],
          "heatmap": [
           {
            "colorbar": {
             "outlinewidth": 0,
             "ticks": ""
            },
            "colorscale": [
             [
              0,
              "#0d0887"
             ],
             [
              0.1111111111111111,
              "#46039f"
             ],
             [
              0.2222222222222222,
              "#7201a8"
             ],
             [
              0.3333333333333333,
              "#9c179e"
             ],
             [
              0.4444444444444444,
              "#bd3786"
             ],
             [
              0.5555555555555556,
              "#d8576b"
             ],
             [
              0.6666666666666666,
              "#ed7953"
             ],
             [
              0.7777777777777778,
              "#fb9f3a"
             ],
             [
              0.8888888888888888,
              "#fdca26"
             ],
             [
              1,
              "#f0f921"
             ]
            ],
            "type": "heatmap"
           }
          ],
          "heatmapgl": [
           {
            "colorbar": {
             "outlinewidth": 0,
             "ticks": ""
            },
            "colorscale": [
             [
              0,
              "#0d0887"
             ],
             [
              0.1111111111111111,
              "#46039f"
             ],
             [
              0.2222222222222222,
              "#7201a8"
             ],
             [
              0.3333333333333333,
              "#9c179e"
             ],
             [
              0.4444444444444444,
              "#bd3786"
             ],
             [
              0.5555555555555556,
              "#d8576b"
             ],
             [
              0.6666666666666666,
              "#ed7953"
             ],
             [
              0.7777777777777778,
              "#fb9f3a"
             ],
             [
              0.8888888888888888,
              "#fdca26"
             ],
             [
              1,
              "#f0f921"
             ]
            ],
            "type": "heatmapgl"
           }
          ],
          "histogram": [
           {
            "marker": {
             "pattern": {
              "fillmode": "overlay",
              "size": 10,
              "solidity": 0.2
             }
            },
            "type": "histogram"
           }
          ],
          "histogram2d": [
           {
            "colorbar": {
             "outlinewidth": 0,
             "ticks": ""
            },
            "colorscale": [
             [
              0,
              "#0d0887"
             ],
             [
              0.1111111111111111,
              "#46039f"
             ],
             [
              0.2222222222222222,
              "#7201a8"
             ],
             [
              0.3333333333333333,
              "#9c179e"
             ],
             [
              0.4444444444444444,
              "#bd3786"
             ],
             [
              0.5555555555555556,
              "#d8576b"
             ],
             [
              0.6666666666666666,
              "#ed7953"
             ],
             [
              0.7777777777777778,
              "#fb9f3a"
             ],
             [
              0.8888888888888888,
              "#fdca26"
             ],
             [
              1,
              "#f0f921"
             ]
            ],
            "type": "histogram2d"
           }
          ],
          "histogram2dcontour": [
           {
            "colorbar": {
             "outlinewidth": 0,
             "ticks": ""
            },
            "colorscale": [
             [
              0,
              "#0d0887"
             ],
             [
              0.1111111111111111,
              "#46039f"
             ],
             [
              0.2222222222222222,
              "#7201a8"
             ],
             [
              0.3333333333333333,
              "#9c179e"
             ],
             [
              0.4444444444444444,
              "#bd3786"
             ],
             [
              0.5555555555555556,
              "#d8576b"
             ],
             [
              0.6666666666666666,
              "#ed7953"
             ],
             [
              0.7777777777777778,
              "#fb9f3a"
             ],
             [
              0.8888888888888888,
              "#fdca26"
             ],
             [
              1,
              "#f0f921"
             ]
            ],
            "type": "histogram2dcontour"
           }
          ],
          "mesh3d": [
           {
            "colorbar": {
             "outlinewidth": 0,
             "ticks": ""
            },
            "type": "mesh3d"
           }
          ],
          "parcoords": [
           {
            "line": {
             "colorbar": {
              "outlinewidth": 0,
              "ticks": ""
             }
            },
            "type": "parcoords"
           }
          ],
          "pie": [
           {
            "automargin": true,
            "type": "pie"
           }
          ],
          "scatter": [
           {
            "fillpattern": {
             "fillmode": "overlay",
             "size": 10,
             "solidity": 0.2
            },
            "type": "scatter"
           }
          ],
          "scatter3d": [
           {
            "line": {
             "colorbar": {
              "outlinewidth": 0,
              "ticks": ""
             }
            },
            "marker": {
             "colorbar": {
              "outlinewidth": 0,
              "ticks": ""
             }
            },
            "type": "scatter3d"
           }
          ],
          "scattercarpet": [
           {
            "marker": {
             "colorbar": {
              "outlinewidth": 0,
              "ticks": ""
             }
            },
            "type": "scattercarpet"
           }
          ],
          "scattergeo": [
           {
            "marker": {
             "colorbar": {
              "outlinewidth": 0,
              "ticks": ""
             }
            },
            "type": "scattergeo"
           }
          ],
          "scattergl": [
           {
            "marker": {
             "colorbar": {
              "outlinewidth": 0,
              "ticks": ""
             }
            },
            "type": "scattergl"
           }
          ],
          "scattermapbox": [
           {
            "marker": {
             "colorbar": {
              "outlinewidth": 0,
              "ticks": ""
             }
            },
            "type": "scattermapbox"
           }
          ],
          "scatterpolar": [
           {
            "marker": {
             "colorbar": {
              "outlinewidth": 0,
              "ticks": ""
             }
            },
            "type": "scatterpolar"
           }
          ],
          "scatterpolargl": [
           {
            "marker": {
             "colorbar": {
              "outlinewidth": 0,
              "ticks": ""
             }
            },
            "type": "scatterpolargl"
           }
          ],
          "scatterternary": [
           {
            "marker": {
             "colorbar": {
              "outlinewidth": 0,
              "ticks": ""
             }
            },
            "type": "scatterternary"
           }
          ],
          "surface": [
           {
            "colorbar": {
             "outlinewidth": 0,
             "ticks": ""
            },
            "colorscale": [
             [
              0,
              "#0d0887"
             ],
             [
              0.1111111111111111,
              "#46039f"
             ],
             [
              0.2222222222222222,
              "#7201a8"
             ],
             [
              0.3333333333333333,
              "#9c179e"
             ],
             [
              0.4444444444444444,
              "#bd3786"
             ],
             [
              0.5555555555555556,
              "#d8576b"
             ],
             [
              0.6666666666666666,
              "#ed7953"
             ],
             [
              0.7777777777777778,
              "#fb9f3a"
             ],
             [
              0.8888888888888888,
              "#fdca26"
             ],
             [
              1,
              "#f0f921"
             ]
            ],
            "type": "surface"
           }
          ],
          "table": [
           {
            "cells": {
             "fill": {
              "color": "#EBF0F8"
             },
             "line": {
              "color": "white"
             }
            },
            "header": {
             "fill": {
              "color": "#C8D4E3"
             },
             "line": {
              "color": "white"
             }
            },
            "type": "table"
           }
          ]
         },
         "layout": {
          "annotationdefaults": {
           "arrowcolor": "#2a3f5f",
           "arrowhead": 0,
           "arrowwidth": 1
          },
          "autotypenumbers": "strict",
          "coloraxis": {
           "colorbar": {
            "outlinewidth": 0,
            "ticks": ""
           }
          },
          "colorscale": {
           "diverging": [
            [
             0,
             "#8e0152"
            ],
            [
             0.1,
             "#c51b7d"
            ],
            [
             0.2,
             "#de77ae"
            ],
            [
             0.3,
             "#f1b6da"
            ],
            [
             0.4,
             "#fde0ef"
            ],
            [
             0.5,
             "#f7f7f7"
            ],
            [
             0.6,
             "#e6f5d0"
            ],
            [
             0.7,
             "#b8e186"
            ],
            [
             0.8,
             "#7fbc41"
            ],
            [
             0.9,
             "#4d9221"
            ],
            [
             1,
             "#276419"
            ]
           ],
           "sequential": [
            [
             0,
             "#0d0887"
            ],
            [
             0.1111111111111111,
             "#46039f"
            ],
            [
             0.2222222222222222,
             "#7201a8"
            ],
            [
             0.3333333333333333,
             "#9c179e"
            ],
            [
             0.4444444444444444,
             "#bd3786"
            ],
            [
             0.5555555555555556,
             "#d8576b"
            ],
            [
             0.6666666666666666,
             "#ed7953"
            ],
            [
             0.7777777777777778,
             "#fb9f3a"
            ],
            [
             0.8888888888888888,
             "#fdca26"
            ],
            [
             1,
             "#f0f921"
            ]
           ],
           "sequentialminus": [
            [
             0,
             "#0d0887"
            ],
            [
             0.1111111111111111,
             "#46039f"
            ],
            [
             0.2222222222222222,
             "#7201a8"
            ],
            [
             0.3333333333333333,
             "#9c179e"
            ],
            [
             0.4444444444444444,
             "#bd3786"
            ],
            [
             0.5555555555555556,
             "#d8576b"
            ],
            [
             0.6666666666666666,
             "#ed7953"
            ],
            [
             0.7777777777777778,
             "#fb9f3a"
            ],
            [
             0.8888888888888888,
             "#fdca26"
            ],
            [
             1,
             "#f0f921"
            ]
           ]
          },
          "colorway": [
           "#636efa",
           "#EF553B",
           "#00cc96",
           "#ab63fa",
           "#FFA15A",
           "#19d3f3",
           "#FF6692",
           "#B6E880",
           "#FF97FF",
           "#FECB52"
          ],
          "font": {
           "color": "#2a3f5f"
          },
          "geo": {
           "bgcolor": "white",
           "lakecolor": "white",
           "landcolor": "#E5ECF6",
           "showlakes": true,
           "showland": true,
           "subunitcolor": "white"
          },
          "hoverlabel": {
           "align": "left"
          },
          "hovermode": "closest",
          "mapbox": {
           "style": "light"
          },
          "paper_bgcolor": "white",
          "plot_bgcolor": "#E5ECF6",
          "polar": {
           "angularaxis": {
            "gridcolor": "white",
            "linecolor": "white",
            "ticks": ""
           },
           "bgcolor": "#E5ECF6",
           "radialaxis": {
            "gridcolor": "white",
            "linecolor": "white",
            "ticks": ""
           }
          },
          "scene": {
           "xaxis": {
            "backgroundcolor": "#E5ECF6",
            "gridcolor": "white",
            "gridwidth": 2,
            "linecolor": "white",
            "showbackground": true,
            "ticks": "",
            "zerolinecolor": "white"
           },
           "yaxis": {
            "backgroundcolor": "#E5ECF6",
            "gridcolor": "white",
            "gridwidth": 2,
            "linecolor": "white",
            "showbackground": true,
            "ticks": "",
            "zerolinecolor": "white"
           },
           "zaxis": {
            "backgroundcolor": "#E5ECF6",
            "gridcolor": "white",
            "gridwidth": 2,
            "linecolor": "white",
            "showbackground": true,
            "ticks": "",
            "zerolinecolor": "white"
           }
          },
          "shapedefaults": {
           "line": {
            "color": "#2a3f5f"
           }
          },
          "ternary": {
           "aaxis": {
            "gridcolor": "white",
            "linecolor": "white",
            "ticks": ""
           },
           "baxis": {
            "gridcolor": "white",
            "linecolor": "white",
            "ticks": ""
           },
           "bgcolor": "#E5ECF6",
           "caxis": {
            "gridcolor": "white",
            "linecolor": "white",
            "ticks": ""
           }
          },
          "title": {
           "x": 0.05
          },
          "xaxis": {
           "automargin": true,
           "gridcolor": "white",
           "linecolor": "white",
           "ticks": "",
           "title": {
            "standoff": 15
           },
           "zerolinecolor": "white",
           "zerolinewidth": 2
          },
          "yaxis": {
           "automargin": true,
           "gridcolor": "white",
           "linecolor": "white",
           "ticks": "",
           "title": {
            "standoff": 15
           },
           "zerolinecolor": "white",
           "zerolinewidth": 2
          }
         }
        },
        "title": {
         "text": "Sleep Stage Comparison"
        }
       }
      },
      "text/html": [
       "<div>                            <div id=\"35bf3b54-6a0e-4b21-9d05-2bb3b34bbbb0\" class=\"plotly-graph-div\" style=\"height:525px; width:100%;\"></div>            <script type=\"text/javascript\">                require([\"plotly\"], function(Plotly) {                    window.PLOTLYENV=window.PLOTLYENV || {};                                    if (document.getElementById(\"35bf3b54-6a0e-4b21-9d05-2bb3b34bbbb0\")) {                    Plotly.newPlot(                        \"35bf3b54-6a0e-4b21-9d05-2bb3b34bbbb0\",                        [{\"labels\":[\"REM sleep\",\"Light sleep\",\"Deep sleep\"],\"marker\":{\"colors\":[\"#FF7F0E\",\"#1F77B4\",\"#2CA02C\"]},\"values\":[10222,11102,23876],\"type\":\"pie\"}],                        {\"template\":{\"data\":{\"histogram2dcontour\":[{\"type\":\"histogram2dcontour\",\"colorbar\":{\"outlinewidth\":0,\"ticks\":\"\"},\"colorscale\":[[0.0,\"#0d0887\"],[0.1111111111111111,\"#46039f\"],[0.2222222222222222,\"#7201a8\"],[0.3333333333333333,\"#9c179e\"],[0.4444444444444444,\"#bd3786\"],[0.5555555555555556,\"#d8576b\"],[0.6666666666666666,\"#ed7953\"],[0.7777777777777778,\"#fb9f3a\"],[0.8888888888888888,\"#fdca26\"],[1.0,\"#f0f921\"]]}],\"choropleth\":[{\"type\":\"choropleth\",\"colorbar\":{\"outlinewidth\":0,\"ticks\":\"\"}}],\"histogram2d\":[{\"type\":\"histogram2d\",\"colorbar\":{\"outlinewidth\":0,\"ticks\":\"\"},\"colorscale\":[[0.0,\"#0d0887\"],[0.1111111111111111,\"#46039f\"],[0.2222222222222222,\"#7201a8\"],[0.3333333333333333,\"#9c179e\"],[0.4444444444444444,\"#bd3786\"],[0.5555555555555556,\"#d8576b\"],[0.6666666666666666,\"#ed7953\"],[0.7777777777777778,\"#fb9f3a\"],[0.8888888888888888,\"#fdca26\"],[1.0,\"#f0f921\"]]}],\"heatmap\":[{\"type\":\"heatmap\",\"colorbar\":{\"outlinewidth\":0,\"ticks\":\"\"},\"colorscale\":[[0.0,\"#0d0887\"],[0.1111111111111111,\"#46039f\"],[0.2222222222222222,\"#7201a8\"],[0.3333333333333333,\"#9c179e\"],[0.4444444444444444,\"#bd3786\"],[0.5555555555555556,\"#d8576b\"],[0.6666666666666666,\"#ed7953\"],[0.7777777777777778,\"#fb9f3a\"],[0.8888888888888888,\"#fdca26\"],[1.0,\"#f0f921\"]]}],\"heatmapgl\":[{\"type\":\"heatmapgl\",\"colorbar\":{\"outlinewidth\":0,\"ticks\":\"\"},\"colorscale\":[[0.0,\"#0d0887\"],[0.1111111111111111,\"#46039f\"],[0.2222222222222222,\"#7201a8\"],[0.3333333333333333,\"#9c179e\"],[0.4444444444444444,\"#bd3786\"],[0.5555555555555556,\"#d8576b\"],[0.6666666666666666,\"#ed7953\"],[0.7777777777777778,\"#fb9f3a\"],[0.8888888888888888,\"#fdca26\"],[1.0,\"#f0f921\"]]}],\"contourcarpet\":[{\"type\":\"contourcarpet\",\"colorbar\":{\"outlinewidth\":0,\"ticks\":\"\"}}],\"contour\":[{\"type\":\"contour\",\"colorbar\":{\"outlinewidth\":0,\"ticks\":\"\"},\"colorscale\":[[0.0,\"#0d0887\"],[0.1111111111111111,\"#46039f\"],[0.2222222222222222,\"#7201a8\"],[0.3333333333333333,\"#9c179e\"],[0.4444444444444444,\"#bd3786\"],[0.5555555555555556,\"#d8576b\"],[0.6666666666666666,\"#ed7953\"],[0.7777777777777778,\"#fb9f3a\"],[0.8888888888888888,\"#fdca26\"],[1.0,\"#f0f921\"]]}],\"surface\":[{\"type\":\"surface\",\"colorbar\":{\"outlinewidth\":0,\"ticks\":\"\"},\"colorscale\":[[0.0,\"#0d0887\"],[0.1111111111111111,\"#46039f\"],[0.2222222222222222,\"#7201a8\"],[0.3333333333333333,\"#9c179e\"],[0.4444444444444444,\"#bd3786\"],[0.5555555555555556,\"#d8576b\"],[0.6666666666666666,\"#ed7953\"],[0.7777777777777778,\"#fb9f3a\"],[0.8888888888888888,\"#fdca26\"],[1.0,\"#f0f921\"]]}],\"mesh3d\":[{\"type\":\"mesh3d\",\"colorbar\":{\"outlinewidth\":0,\"ticks\":\"\"}}],\"scatter\":[{\"fillpattern\":{\"fillmode\":\"overlay\",\"size\":10,\"solidity\":0.2},\"type\":\"scatter\"}],\"parcoords\":[{\"type\":\"parcoords\",\"line\":{\"colorbar\":{\"outlinewidth\":0,\"ticks\":\"\"}}}],\"scatterpolargl\":[{\"type\":\"scatterpolargl\",\"marker\":{\"colorbar\":{\"outlinewidth\":0,\"ticks\":\"\"}}}],\"bar\":[{\"error_x\":{\"color\":\"#2a3f5f\"},\"error_y\":{\"color\":\"#2a3f5f\"},\"marker\":{\"line\":{\"color\":\"#E5ECF6\",\"width\":0.5},\"pattern\":{\"fillmode\":\"overlay\",\"size\":10,\"solidity\":0.2}},\"type\":\"bar\"}],\"scattergeo\":[{\"type\":\"scattergeo\",\"marker\":{\"colorbar\":{\"outlinewidth\":0,\"ticks\":\"\"}}}],\"scatterpolar\":[{\"type\":\"scatterpolar\",\"marker\":{\"colorbar\":{\"outlinewidth\":0,\"ticks\":\"\"}}}],\"histogram\":[{\"marker\":{\"pattern\":{\"fillmode\":\"overlay\",\"size\":10,\"solidity\":0.2}},\"type\":\"histogram\"}],\"scattergl\":[{\"type\":\"scattergl\",\"marker\":{\"colorbar\":{\"outlinewidth\":0,\"ticks\":\"\"}}}],\"scatter3d\":[{\"type\":\"scatter3d\",\"line\":{\"colorbar\":{\"outlinewidth\":0,\"ticks\":\"\"}},\"marker\":{\"colorbar\":{\"outlinewidth\":0,\"ticks\":\"\"}}}],\"scattermapbox\":[{\"type\":\"scattermapbox\",\"marker\":{\"colorbar\":{\"outlinewidth\":0,\"ticks\":\"\"}}}],\"scatterternary\":[{\"type\":\"scatterternary\",\"marker\":{\"colorbar\":{\"outlinewidth\":0,\"ticks\":\"\"}}}],\"scattercarpet\":[{\"type\":\"scattercarpet\",\"marker\":{\"colorbar\":{\"outlinewidth\":0,\"ticks\":\"\"}}}],\"carpet\":[{\"aaxis\":{\"endlinecolor\":\"#2a3f5f\",\"gridcolor\":\"white\",\"linecolor\":\"white\",\"minorgridcolor\":\"white\",\"startlinecolor\":\"#2a3f5f\"},\"baxis\":{\"endlinecolor\":\"#2a3f5f\",\"gridcolor\":\"white\",\"linecolor\":\"white\",\"minorgridcolor\":\"white\",\"startlinecolor\":\"#2a3f5f\"},\"type\":\"carpet\"}],\"table\":[{\"cells\":{\"fill\":{\"color\":\"#EBF0F8\"},\"line\":{\"color\":\"white\"}},\"header\":{\"fill\":{\"color\":\"#C8D4E3\"},\"line\":{\"color\":\"white\"}},\"type\":\"table\"}],\"barpolar\":[{\"marker\":{\"line\":{\"color\":\"#E5ECF6\",\"width\":0.5},\"pattern\":{\"fillmode\":\"overlay\",\"size\":10,\"solidity\":0.2}},\"type\":\"barpolar\"}],\"pie\":[{\"automargin\":true,\"type\":\"pie\"}]},\"layout\":{\"autotypenumbers\":\"strict\",\"colorway\":[\"#636efa\",\"#EF553B\",\"#00cc96\",\"#ab63fa\",\"#FFA15A\",\"#19d3f3\",\"#FF6692\",\"#B6E880\",\"#FF97FF\",\"#FECB52\"],\"font\":{\"color\":\"#2a3f5f\"},\"hovermode\":\"closest\",\"hoverlabel\":{\"align\":\"left\"},\"paper_bgcolor\":\"white\",\"plot_bgcolor\":\"#E5ECF6\",\"polar\":{\"bgcolor\":\"#E5ECF6\",\"angularaxis\":{\"gridcolor\":\"white\",\"linecolor\":\"white\",\"ticks\":\"\"},\"radialaxis\":{\"gridcolor\":\"white\",\"linecolor\":\"white\",\"ticks\":\"\"}},\"ternary\":{\"bgcolor\":\"#E5ECF6\",\"aaxis\":{\"gridcolor\":\"white\",\"linecolor\":\"white\",\"ticks\":\"\"},\"baxis\":{\"gridcolor\":\"white\",\"linecolor\":\"white\",\"ticks\":\"\"},\"caxis\":{\"gridcolor\":\"white\",\"linecolor\":\"white\",\"ticks\":\"\"}},\"coloraxis\":{\"colorbar\":{\"outlinewidth\":0,\"ticks\":\"\"}},\"colorscale\":{\"sequential\":[[0.0,\"#0d0887\"],[0.1111111111111111,\"#46039f\"],[0.2222222222222222,\"#7201a8\"],[0.3333333333333333,\"#9c179e\"],[0.4444444444444444,\"#bd3786\"],[0.5555555555555556,\"#d8576b\"],[0.6666666666666666,\"#ed7953\"],[0.7777777777777778,\"#fb9f3a\"],[0.8888888888888888,\"#fdca26\"],[1.0,\"#f0f921\"]],\"sequentialminus\":[[0.0,\"#0d0887\"],[0.1111111111111111,\"#46039f\"],[0.2222222222222222,\"#7201a8\"],[0.3333333333333333,\"#9c179e\"],[0.4444444444444444,\"#bd3786\"],[0.5555555555555556,\"#d8576b\"],[0.6666666666666666,\"#ed7953\"],[0.7777777777777778,\"#fb9f3a\"],[0.8888888888888888,\"#fdca26\"],[1.0,\"#f0f921\"]],\"diverging\":[[0,\"#8e0152\"],[0.1,\"#c51b7d\"],[0.2,\"#de77ae\"],[0.3,\"#f1b6da\"],[0.4,\"#fde0ef\"],[0.5,\"#f7f7f7\"],[0.6,\"#e6f5d0\"],[0.7,\"#b8e186\"],[0.8,\"#7fbc41\"],[0.9,\"#4d9221\"],[1,\"#276419\"]]},\"xaxis\":{\"gridcolor\":\"white\",\"linecolor\":\"white\",\"ticks\":\"\",\"title\":{\"standoff\":15},\"zerolinecolor\":\"white\",\"automargin\":true,\"zerolinewidth\":2},\"yaxis\":{\"gridcolor\":\"white\",\"linecolor\":\"white\",\"ticks\":\"\",\"title\":{\"standoff\":15},\"zerolinecolor\":\"white\",\"automargin\":true,\"zerolinewidth\":2},\"scene\":{\"xaxis\":{\"backgroundcolor\":\"#E5ECF6\",\"gridcolor\":\"white\",\"linecolor\":\"white\",\"showbackground\":true,\"ticks\":\"\",\"zerolinecolor\":\"white\",\"gridwidth\":2},\"yaxis\":{\"backgroundcolor\":\"#E5ECF6\",\"gridcolor\":\"white\",\"linecolor\":\"white\",\"showbackground\":true,\"ticks\":\"\",\"zerolinecolor\":\"white\",\"gridwidth\":2},\"zaxis\":{\"backgroundcolor\":\"#E5ECF6\",\"gridcolor\":\"white\",\"linecolor\":\"white\",\"showbackground\":true,\"ticks\":\"\",\"zerolinecolor\":\"white\",\"gridwidth\":2}},\"shapedefaults\":{\"line\":{\"color\":\"#2a3f5f\"}},\"annotationdefaults\":{\"arrowcolor\":\"#2a3f5f\",\"arrowhead\":0,\"arrowwidth\":1},\"geo\":{\"bgcolor\":\"white\",\"landcolor\":\"#E5ECF6\",\"subunitcolor\":\"white\",\"showland\":true,\"showlakes\":true,\"lakecolor\":\"white\"},\"title\":{\"x\":0.05},\"mapbox\":{\"style\":\"light\"}}},\"font\":{\"color\":\"white\",\"size\":14},\"title\":{\"text\":\"Sleep Stage Comparison\"},\"plot_bgcolor\":\"#222222\",\"paper_bgcolor\":\"#333333\"},                        {\"responsive\": true}                    ).then(function(){\n",
       "                            \n",
       "var gd = document.getElementById('35bf3b54-6a0e-4b21-9d05-2bb3b34bbbb0');\n",
       "var x = new MutationObserver(function (mutations, observer) {{\n",
       "        var display = window.getComputedStyle(gd).display;\n",
       "        if (!display || display === 'none') {{\n",
       "            console.log([gd, 'removed!']);\n",
       "            Plotly.purge(gd);\n",
       "            observer.disconnect();\n",
       "        }}\n",
       "}});\n",
       "\n",
       "// Listen for the removal of the full notebook cells\n",
       "var notebookContainer = gd.closest('#notebook-container');\n",
       "if (notebookContainer) {{\n",
       "    x.observe(notebookContainer, {childList: true});\n",
       "}}\n",
       "\n",
       "// Listen for the clearing of the current output cell\n",
       "var outputEl = gd.closest('.output');\n",
       "if (outputEl) {{\n",
       "    x.observe(outputEl, {childList: true});\n",
       "}}\n",
       "\n",
       "                        })                };                });            </script>        </div>"
      ]
     },
     "metadata": {},
     "output_type": "display_data"
    }
   ],
   "source": [
    "import plotly.graph_objects as go\n",
    "\n",
    "\n",
    "# Calculate the sum of sleep percentages\n",
    "rem_percentage = df['REM sleep percentage'].sum()\n",
    "light_percentage = df['Light sleep percentage'].sum()\n",
    "deep_percentage = df['Deep sleep percentage'].sum()\n",
    "\n",
    "# Create the labels and values for the pie chart\n",
    "labels = ['REM sleep', 'Light sleep', 'Deep sleep']\n",
    "values = [rem_percentage, light_percentage, deep_percentage]\n",
    "\n",
    "# Set the color palette\n",
    "colors = ['#FF7F0E', '#1F77B4', '#2CA02C']\n",
    "\n",
    "# Create the pie chart\n",
    "fig = go.Figure(data=go.Pie(\n",
    "    labels=labels,\n",
    "    values=values,\n",
    "    marker=dict(colors=colors)\n",
    "))\n",
    "\n",
    "# Set the layout properties\n",
    "fig.update_layout(\n",
    "    title='Sleep Stage Comparison',\n",
    "    plot_bgcolor='#222222',\n",
    "    paper_bgcolor='#333333',\n",
    "    font=dict(color='white', size=14)\n",
    ")\n",
    "\n",
    "# Show the pie chart\n",
    "fig.show()\n"
   ]
  },
  {
   "cell_type": "code",
   "execution_count": 20,
   "id": "74664286",
   "metadata": {},
   "outputs": [
    {
     "data": {
      "application/vnd.plotly.v1+json": {
       "config": {
        "plotlyServerURL": "https://plot.ly"
       },
       "data": [
        {
         "alignmentgroup": "True",
         "hovertemplate": "variable=Deep sleep percentage<br>Wake up hour=%{x}<br>value=%{y}<extra></extra>",
         "legendgroup": "Deep sleep percentage",
         "marker": {
          "color": "#636efa",
          "pattern": {
           "shape": ""
          }
         },
         "name": "Deep sleep percentage",
         "offsetgroup": "Deep sleep percentage",
         "orientation": "v",
         "showlegend": true,
         "textposition": "auto",
         "type": "bar",
         "x": [
          3,
          4,
          5,
          6,
          7,
          8,
          9,
          10,
          11,
          12
         ],
         "xaxis": "x",
         "y": [
          49.6,
          53.46511627906977,
          55.5625,
          55.4375,
          52.67948717948718,
          52.083333333333336,
          49.71621621621622,
          48.714285714285715,
          58.833333333333336,
          58.5
         ],
         "yaxis": "y"
        },
        {
         "alignmentgroup": "True",
         "hovertemplate": "variable=Awakenings<br>Wake up hour=%{x}<br>value=%{y}<extra></extra>",
         "legendgroup": "Awakenings",
         "marker": {
          "color": "#EF553B",
          "pattern": {
           "shape": ""
          }
         },
         "name": "Awakenings",
         "offsetgroup": "Awakenings",
         "orientation": "v",
         "showlegend": true,
         "textposition": "auto",
         "type": "bar",
         "x": [
          3,
          4,
          5,
          6,
          7,
          8,
          9,
          10,
          11,
          12
         ],
         "xaxis": "x",
         "y": [
          1.2,
          1.759097760551249,
          1.3945601851851852,
          1.3157190393518519,
          1.7554309116809117,
          1.9213734567901235,
          1.8600162662662663,
          1.701851851851852,
          1,
          1.5
         ],
         "yaxis": "y"
        }
       ],
       "layout": {
        "barmode": "group",
        "font": {
         "color": "white"
        },
        "legend": {
         "title": {
          "text": "variable"
         },
         "tracegroupgap": 0
        },
        "paper_bgcolor": "rgba(0, 0, 0, 0.7)",
        "plot_bgcolor": "rgba(0, 0, 0, 0)",
        "template": {
         "data": {
          "bar": [
           {
            "error_x": {
             "color": "#2a3f5f"
            },
            "error_y": {
             "color": "#2a3f5f"
            },
            "marker": {
             "line": {
              "color": "#E5ECF6",
              "width": 0.5
             },
             "pattern": {
              "fillmode": "overlay",
              "size": 10,
              "solidity": 0.2
             }
            },
            "type": "bar"
           }
          ],
          "barpolar": [
           {
            "marker": {
             "line": {
              "color": "#E5ECF6",
              "width": 0.5
             },
             "pattern": {
              "fillmode": "overlay",
              "size": 10,
              "solidity": 0.2
             }
            },
            "type": "barpolar"
           }
          ],
          "carpet": [
           {
            "aaxis": {
             "endlinecolor": "#2a3f5f",
             "gridcolor": "white",
             "linecolor": "white",
             "minorgridcolor": "white",
             "startlinecolor": "#2a3f5f"
            },
            "baxis": {
             "endlinecolor": "#2a3f5f",
             "gridcolor": "white",
             "linecolor": "white",
             "minorgridcolor": "white",
             "startlinecolor": "#2a3f5f"
            },
            "type": "carpet"
           }
          ],
          "choropleth": [
           {
            "colorbar": {
             "outlinewidth": 0,
             "ticks": ""
            },
            "type": "choropleth"
           }
          ],
          "contour": [
           {
            "colorbar": {
             "outlinewidth": 0,
             "ticks": ""
            },
            "colorscale": [
             [
              0,
              "#0d0887"
             ],
             [
              0.1111111111111111,
              "#46039f"
             ],
             [
              0.2222222222222222,
              "#7201a8"
             ],
             [
              0.3333333333333333,
              "#9c179e"
             ],
             [
              0.4444444444444444,
              "#bd3786"
             ],
             [
              0.5555555555555556,
              "#d8576b"
             ],
             [
              0.6666666666666666,
              "#ed7953"
             ],
             [
              0.7777777777777778,
              "#fb9f3a"
             ],
             [
              0.8888888888888888,
              "#fdca26"
             ],
             [
              1,
              "#f0f921"
             ]
            ],
            "type": "contour"
           }
          ],
          "contourcarpet": [
           {
            "colorbar": {
             "outlinewidth": 0,
             "ticks": ""
            },
            "type": "contourcarpet"
           }
          ],
          "heatmap": [
           {
            "colorbar": {
             "outlinewidth": 0,
             "ticks": ""
            },
            "colorscale": [
             [
              0,
              "#0d0887"
             ],
             [
              0.1111111111111111,
              "#46039f"
             ],
             [
              0.2222222222222222,
              "#7201a8"
             ],
             [
              0.3333333333333333,
              "#9c179e"
             ],
             [
              0.4444444444444444,
              "#bd3786"
             ],
             [
              0.5555555555555556,
              "#d8576b"
             ],
             [
              0.6666666666666666,
              "#ed7953"
             ],
             [
              0.7777777777777778,
              "#fb9f3a"
             ],
             [
              0.8888888888888888,
              "#fdca26"
             ],
             [
              1,
              "#f0f921"
             ]
            ],
            "type": "heatmap"
           }
          ],
          "heatmapgl": [
           {
            "colorbar": {
             "outlinewidth": 0,
             "ticks": ""
            },
            "colorscale": [
             [
              0,
              "#0d0887"
             ],
             [
              0.1111111111111111,
              "#46039f"
             ],
             [
              0.2222222222222222,
              "#7201a8"
             ],
             [
              0.3333333333333333,
              "#9c179e"
             ],
             [
              0.4444444444444444,
              "#bd3786"
             ],
             [
              0.5555555555555556,
              "#d8576b"
             ],
             [
              0.6666666666666666,
              "#ed7953"
             ],
             [
              0.7777777777777778,
              "#fb9f3a"
             ],
             [
              0.8888888888888888,
              "#fdca26"
             ],
             [
              1,
              "#f0f921"
             ]
            ],
            "type": "heatmapgl"
           }
          ],
          "histogram": [
           {
            "marker": {
             "pattern": {
              "fillmode": "overlay",
              "size": 10,
              "solidity": 0.2
             }
            },
            "type": "histogram"
           }
          ],
          "histogram2d": [
           {
            "colorbar": {
             "outlinewidth": 0,
             "ticks": ""
            },
            "colorscale": [
             [
              0,
              "#0d0887"
             ],
             [
              0.1111111111111111,
              "#46039f"
             ],
             [
              0.2222222222222222,
              "#7201a8"
             ],
             [
              0.3333333333333333,
              "#9c179e"
             ],
             [
              0.4444444444444444,
              "#bd3786"
             ],
             [
              0.5555555555555556,
              "#d8576b"
             ],
             [
              0.6666666666666666,
              "#ed7953"
             ],
             [
              0.7777777777777778,
              "#fb9f3a"
             ],
             [
              0.8888888888888888,
              "#fdca26"
             ],
             [
              1,
              "#f0f921"
             ]
            ],
            "type": "histogram2d"
           }
          ],
          "histogram2dcontour": [
           {
            "colorbar": {
             "outlinewidth": 0,
             "ticks": ""
            },
            "colorscale": [
             [
              0,
              "#0d0887"
             ],
             [
              0.1111111111111111,
              "#46039f"
             ],
             [
              0.2222222222222222,
              "#7201a8"
             ],
             [
              0.3333333333333333,
              "#9c179e"
             ],
             [
              0.4444444444444444,
              "#bd3786"
             ],
             [
              0.5555555555555556,
              "#d8576b"
             ],
             [
              0.6666666666666666,
              "#ed7953"
             ],
             [
              0.7777777777777778,
              "#fb9f3a"
             ],
             [
              0.8888888888888888,
              "#fdca26"
             ],
             [
              1,
              "#f0f921"
             ]
            ],
            "type": "histogram2dcontour"
           }
          ],
          "mesh3d": [
           {
            "colorbar": {
             "outlinewidth": 0,
             "ticks": ""
            },
            "type": "mesh3d"
           }
          ],
          "parcoords": [
           {
            "line": {
             "colorbar": {
              "outlinewidth": 0,
              "ticks": ""
             }
            },
            "type": "parcoords"
           }
          ],
          "pie": [
           {
            "automargin": true,
            "type": "pie"
           }
          ],
          "scatter": [
           {
            "fillpattern": {
             "fillmode": "overlay",
             "size": 10,
             "solidity": 0.2
            },
            "type": "scatter"
           }
          ],
          "scatter3d": [
           {
            "line": {
             "colorbar": {
              "outlinewidth": 0,
              "ticks": ""
             }
            },
            "marker": {
             "colorbar": {
              "outlinewidth": 0,
              "ticks": ""
             }
            },
            "type": "scatter3d"
           }
          ],
          "scattercarpet": [
           {
            "marker": {
             "colorbar": {
              "outlinewidth": 0,
              "ticks": ""
             }
            },
            "type": "scattercarpet"
           }
          ],
          "scattergeo": [
           {
            "marker": {
             "colorbar": {
              "outlinewidth": 0,
              "ticks": ""
             }
            },
            "type": "scattergeo"
           }
          ],
          "scattergl": [
           {
            "marker": {
             "colorbar": {
              "outlinewidth": 0,
              "ticks": ""
             }
            },
            "type": "scattergl"
           }
          ],
          "scattermapbox": [
           {
            "marker": {
             "colorbar": {
              "outlinewidth": 0,
              "ticks": ""
             }
            },
            "type": "scattermapbox"
           }
          ],
          "scatterpolar": [
           {
            "marker": {
             "colorbar": {
              "outlinewidth": 0,
              "ticks": ""
             }
            },
            "type": "scatterpolar"
           }
          ],
          "scatterpolargl": [
           {
            "marker": {
             "colorbar": {
              "outlinewidth": 0,
              "ticks": ""
             }
            },
            "type": "scatterpolargl"
           }
          ],
          "scatterternary": [
           {
            "marker": {
             "colorbar": {
              "outlinewidth": 0,
              "ticks": ""
             }
            },
            "type": "scatterternary"
           }
          ],
          "surface": [
           {
            "colorbar": {
             "outlinewidth": 0,
             "ticks": ""
            },
            "colorscale": [
             [
              0,
              "#0d0887"
             ],
             [
              0.1111111111111111,
              "#46039f"
             ],
             [
              0.2222222222222222,
              "#7201a8"
             ],
             [
              0.3333333333333333,
              "#9c179e"
             ],
             [
              0.4444444444444444,
              "#bd3786"
             ],
             [
              0.5555555555555556,
              "#d8576b"
             ],
             [
              0.6666666666666666,
              "#ed7953"
             ],
             [
              0.7777777777777778,
              "#fb9f3a"
             ],
             [
              0.8888888888888888,
              "#fdca26"
             ],
             [
              1,
              "#f0f921"
             ]
            ],
            "type": "surface"
           }
          ],
          "table": [
           {
            "cells": {
             "fill": {
              "color": "#EBF0F8"
             },
             "line": {
              "color": "white"
             }
            },
            "header": {
             "fill": {
              "color": "#C8D4E3"
             },
             "line": {
              "color": "white"
             }
            },
            "type": "table"
           }
          ]
         },
         "layout": {
          "annotationdefaults": {
           "arrowcolor": "#2a3f5f",
           "arrowhead": 0,
           "arrowwidth": 1
          },
          "autotypenumbers": "strict",
          "coloraxis": {
           "colorbar": {
            "outlinewidth": 0,
            "ticks": ""
           }
          },
          "colorscale": {
           "diverging": [
            [
             0,
             "#8e0152"
            ],
            [
             0.1,
             "#c51b7d"
            ],
            [
             0.2,
             "#de77ae"
            ],
            [
             0.3,
             "#f1b6da"
            ],
            [
             0.4,
             "#fde0ef"
            ],
            [
             0.5,
             "#f7f7f7"
            ],
            [
             0.6,
             "#e6f5d0"
            ],
            [
             0.7,
             "#b8e186"
            ],
            [
             0.8,
             "#7fbc41"
            ],
            [
             0.9,
             "#4d9221"
            ],
            [
             1,
             "#276419"
            ]
           ],
           "sequential": [
            [
             0,
             "#0d0887"
            ],
            [
             0.1111111111111111,
             "#46039f"
            ],
            [
             0.2222222222222222,
             "#7201a8"
            ],
            [
             0.3333333333333333,
             "#9c179e"
            ],
            [
             0.4444444444444444,
             "#bd3786"
            ],
            [
             0.5555555555555556,
             "#d8576b"
            ],
            [
             0.6666666666666666,
             "#ed7953"
            ],
            [
             0.7777777777777778,
             "#fb9f3a"
            ],
            [
             0.8888888888888888,
             "#fdca26"
            ],
            [
             1,
             "#f0f921"
            ]
           ],
           "sequentialminus": [
            [
             0,
             "#0d0887"
            ],
            [
             0.1111111111111111,
             "#46039f"
            ],
            [
             0.2222222222222222,
             "#7201a8"
            ],
            [
             0.3333333333333333,
             "#9c179e"
            ],
            [
             0.4444444444444444,
             "#bd3786"
            ],
            [
             0.5555555555555556,
             "#d8576b"
            ],
            [
             0.6666666666666666,
             "#ed7953"
            ],
            [
             0.7777777777777778,
             "#fb9f3a"
            ],
            [
             0.8888888888888888,
             "#fdca26"
            ],
            [
             1,
             "#f0f921"
            ]
           ]
          },
          "colorway": [
           "#636efa",
           "#EF553B",
           "#00cc96",
           "#ab63fa",
           "#FFA15A",
           "#19d3f3",
           "#FF6692",
           "#B6E880",
           "#FF97FF",
           "#FECB52"
          ],
          "font": {
           "color": "#2a3f5f"
          },
          "geo": {
           "bgcolor": "white",
           "lakecolor": "white",
           "landcolor": "#E5ECF6",
           "showlakes": true,
           "showland": true,
           "subunitcolor": "white"
          },
          "hoverlabel": {
           "align": "left"
          },
          "hovermode": "closest",
          "mapbox": {
           "style": "light"
          },
          "paper_bgcolor": "white",
          "plot_bgcolor": "#E5ECF6",
          "polar": {
           "angularaxis": {
            "gridcolor": "white",
            "linecolor": "white",
            "ticks": ""
           },
           "bgcolor": "#E5ECF6",
           "radialaxis": {
            "gridcolor": "white",
            "linecolor": "white",
            "ticks": ""
           }
          },
          "scene": {
           "xaxis": {
            "backgroundcolor": "#E5ECF6",
            "gridcolor": "white",
            "gridwidth": 2,
            "linecolor": "white",
            "showbackground": true,
            "ticks": "",
            "zerolinecolor": "white"
           },
           "yaxis": {
            "backgroundcolor": "#E5ECF6",
            "gridcolor": "white",
            "gridwidth": 2,
            "linecolor": "white",
            "showbackground": true,
            "ticks": "",
            "zerolinecolor": "white"
           },
           "zaxis": {
            "backgroundcolor": "#E5ECF6",
            "gridcolor": "white",
            "gridwidth": 2,
            "linecolor": "white",
            "showbackground": true,
            "ticks": "",
            "zerolinecolor": "white"
           }
          },
          "shapedefaults": {
           "line": {
            "color": "#2a3f5f"
           }
          },
          "ternary": {
           "aaxis": {
            "gridcolor": "white",
            "linecolor": "white",
            "ticks": ""
           },
           "baxis": {
            "gridcolor": "white",
            "linecolor": "white",
            "ticks": ""
           },
           "bgcolor": "#E5ECF6",
           "caxis": {
            "gridcolor": "white",
            "linecolor": "white",
            "ticks": ""
           }
          },
          "title": {
           "x": 0.05
          },
          "xaxis": {
           "automargin": true,
           "gridcolor": "white",
           "linecolor": "white",
           "ticks": "",
           "title": {
            "standoff": 15
           },
           "zerolinecolor": "white",
           "zerolinewidth": 2
          },
          "yaxis": {
           "automargin": true,
           "gridcolor": "white",
           "linecolor": "white",
           "ticks": "",
           "title": {
            "standoff": 15
           },
           "zerolinecolor": "white",
           "zerolinewidth": 2
          }
         }
        },
        "title": {
         "text": "Average Deep Sleep Percentage and Awakenings by Wake-up Hour"
        },
        "xaxis": {
         "anchor": "y",
         "domain": [
          0,
          1
         ],
         "title": {
          "text": "Wake-up Hour"
         }
        },
        "yaxis": {
         "anchor": "x",
         "domain": [
          0,
          1
         ],
         "title": {
          "text": "Value"
         }
        }
       }
      },
      "text/html": [
       "<div>                            <div id=\"f6b3ec9d-5b6a-4158-979e-2306a39739e4\" class=\"plotly-graph-div\" style=\"height:525px; width:100%;\"></div>            <script type=\"text/javascript\">                require([\"plotly\"], function(Plotly) {                    window.PLOTLYENV=window.PLOTLYENV || {};                                    if (document.getElementById(\"f6b3ec9d-5b6a-4158-979e-2306a39739e4\")) {                    Plotly.newPlot(                        \"f6b3ec9d-5b6a-4158-979e-2306a39739e4\",                        [{\"alignmentgroup\":\"True\",\"hovertemplate\":\"variable=Deep sleep percentage\\u003cbr\\u003eWake up hour=%{x}\\u003cbr\\u003evalue=%{y}\\u003cextra\\u003e\\u003c\\u002fextra\\u003e\",\"legendgroup\":\"Deep sleep percentage\",\"marker\":{\"color\":\"#636efa\",\"pattern\":{\"shape\":\"\"}},\"name\":\"Deep sleep percentage\",\"offsetgroup\":\"Deep sleep percentage\",\"orientation\":\"v\",\"showlegend\":true,\"textposition\":\"auto\",\"x\":[3,4,5,6,7,8,9,10,11,12],\"xaxis\":\"x\",\"y\":[49.6,53.46511627906977,55.5625,55.4375,52.67948717948718,52.083333333333336,49.71621621621622,48.714285714285715,58.833333333333336,58.5],\"yaxis\":\"y\",\"type\":\"bar\"},{\"alignmentgroup\":\"True\",\"hovertemplate\":\"variable=Awakenings\\u003cbr\\u003eWake up hour=%{x}\\u003cbr\\u003evalue=%{y}\\u003cextra\\u003e\\u003c\\u002fextra\\u003e\",\"legendgroup\":\"Awakenings\",\"marker\":{\"color\":\"#EF553B\",\"pattern\":{\"shape\":\"\"}},\"name\":\"Awakenings\",\"offsetgroup\":\"Awakenings\",\"orientation\":\"v\",\"showlegend\":true,\"textposition\":\"auto\",\"x\":[3,4,5,6,7,8,9,10,11,12],\"xaxis\":\"x\",\"y\":[1.2,1.759097760551249,1.3945601851851852,1.3157190393518519,1.7554309116809117,1.9213734567901235,1.8600162662662663,1.701851851851852,1.0,1.5],\"yaxis\":\"y\",\"type\":\"bar\"}],                        {\"template\":{\"data\":{\"histogram2dcontour\":[{\"type\":\"histogram2dcontour\",\"colorbar\":{\"outlinewidth\":0,\"ticks\":\"\"},\"colorscale\":[[0.0,\"#0d0887\"],[0.1111111111111111,\"#46039f\"],[0.2222222222222222,\"#7201a8\"],[0.3333333333333333,\"#9c179e\"],[0.4444444444444444,\"#bd3786\"],[0.5555555555555556,\"#d8576b\"],[0.6666666666666666,\"#ed7953\"],[0.7777777777777778,\"#fb9f3a\"],[0.8888888888888888,\"#fdca26\"],[1.0,\"#f0f921\"]]}],\"choropleth\":[{\"type\":\"choropleth\",\"colorbar\":{\"outlinewidth\":0,\"ticks\":\"\"}}],\"histogram2d\":[{\"type\":\"histogram2d\",\"colorbar\":{\"outlinewidth\":0,\"ticks\":\"\"},\"colorscale\":[[0.0,\"#0d0887\"],[0.1111111111111111,\"#46039f\"],[0.2222222222222222,\"#7201a8\"],[0.3333333333333333,\"#9c179e\"],[0.4444444444444444,\"#bd3786\"],[0.5555555555555556,\"#d8576b\"],[0.6666666666666666,\"#ed7953\"],[0.7777777777777778,\"#fb9f3a\"],[0.8888888888888888,\"#fdca26\"],[1.0,\"#f0f921\"]]}],\"heatmap\":[{\"type\":\"heatmap\",\"colorbar\":{\"outlinewidth\":0,\"ticks\":\"\"},\"colorscale\":[[0.0,\"#0d0887\"],[0.1111111111111111,\"#46039f\"],[0.2222222222222222,\"#7201a8\"],[0.3333333333333333,\"#9c179e\"],[0.4444444444444444,\"#bd3786\"],[0.5555555555555556,\"#d8576b\"],[0.6666666666666666,\"#ed7953\"],[0.7777777777777778,\"#fb9f3a\"],[0.8888888888888888,\"#fdca26\"],[1.0,\"#f0f921\"]]}],\"heatmapgl\":[{\"type\":\"heatmapgl\",\"colorbar\":{\"outlinewidth\":0,\"ticks\":\"\"},\"colorscale\":[[0.0,\"#0d0887\"],[0.1111111111111111,\"#46039f\"],[0.2222222222222222,\"#7201a8\"],[0.3333333333333333,\"#9c179e\"],[0.4444444444444444,\"#bd3786\"],[0.5555555555555556,\"#d8576b\"],[0.6666666666666666,\"#ed7953\"],[0.7777777777777778,\"#fb9f3a\"],[0.8888888888888888,\"#fdca26\"],[1.0,\"#f0f921\"]]}],\"contourcarpet\":[{\"type\":\"contourcarpet\",\"colorbar\":{\"outlinewidth\":0,\"ticks\":\"\"}}],\"contour\":[{\"type\":\"contour\",\"colorbar\":{\"outlinewidth\":0,\"ticks\":\"\"},\"colorscale\":[[0.0,\"#0d0887\"],[0.1111111111111111,\"#46039f\"],[0.2222222222222222,\"#7201a8\"],[0.3333333333333333,\"#9c179e\"],[0.4444444444444444,\"#bd3786\"],[0.5555555555555556,\"#d8576b\"],[0.6666666666666666,\"#ed7953\"],[0.7777777777777778,\"#fb9f3a\"],[0.8888888888888888,\"#fdca26\"],[1.0,\"#f0f921\"]]}],\"surface\":[{\"type\":\"surface\",\"colorbar\":{\"outlinewidth\":0,\"ticks\":\"\"},\"colorscale\":[[0.0,\"#0d0887\"],[0.1111111111111111,\"#46039f\"],[0.2222222222222222,\"#7201a8\"],[0.3333333333333333,\"#9c179e\"],[0.4444444444444444,\"#bd3786\"],[0.5555555555555556,\"#d8576b\"],[0.6666666666666666,\"#ed7953\"],[0.7777777777777778,\"#fb9f3a\"],[0.8888888888888888,\"#fdca26\"],[1.0,\"#f0f921\"]]}],\"mesh3d\":[{\"type\":\"mesh3d\",\"colorbar\":{\"outlinewidth\":0,\"ticks\":\"\"}}],\"scatter\":[{\"fillpattern\":{\"fillmode\":\"overlay\",\"size\":10,\"solidity\":0.2},\"type\":\"scatter\"}],\"parcoords\":[{\"type\":\"parcoords\",\"line\":{\"colorbar\":{\"outlinewidth\":0,\"ticks\":\"\"}}}],\"scatterpolargl\":[{\"type\":\"scatterpolargl\",\"marker\":{\"colorbar\":{\"outlinewidth\":0,\"ticks\":\"\"}}}],\"bar\":[{\"error_x\":{\"color\":\"#2a3f5f\"},\"error_y\":{\"color\":\"#2a3f5f\"},\"marker\":{\"line\":{\"color\":\"#E5ECF6\",\"width\":0.5},\"pattern\":{\"fillmode\":\"overlay\",\"size\":10,\"solidity\":0.2}},\"type\":\"bar\"}],\"scattergeo\":[{\"type\":\"scattergeo\",\"marker\":{\"colorbar\":{\"outlinewidth\":0,\"ticks\":\"\"}}}],\"scatterpolar\":[{\"type\":\"scatterpolar\",\"marker\":{\"colorbar\":{\"outlinewidth\":0,\"ticks\":\"\"}}}],\"histogram\":[{\"marker\":{\"pattern\":{\"fillmode\":\"overlay\",\"size\":10,\"solidity\":0.2}},\"type\":\"histogram\"}],\"scattergl\":[{\"type\":\"scattergl\",\"marker\":{\"colorbar\":{\"outlinewidth\":0,\"ticks\":\"\"}}}],\"scatter3d\":[{\"type\":\"scatter3d\",\"line\":{\"colorbar\":{\"outlinewidth\":0,\"ticks\":\"\"}},\"marker\":{\"colorbar\":{\"outlinewidth\":0,\"ticks\":\"\"}}}],\"scattermapbox\":[{\"type\":\"scattermapbox\",\"marker\":{\"colorbar\":{\"outlinewidth\":0,\"ticks\":\"\"}}}],\"scatterternary\":[{\"type\":\"scatterternary\",\"marker\":{\"colorbar\":{\"outlinewidth\":0,\"ticks\":\"\"}}}],\"scattercarpet\":[{\"type\":\"scattercarpet\",\"marker\":{\"colorbar\":{\"outlinewidth\":0,\"ticks\":\"\"}}}],\"carpet\":[{\"aaxis\":{\"endlinecolor\":\"#2a3f5f\",\"gridcolor\":\"white\",\"linecolor\":\"white\",\"minorgridcolor\":\"white\",\"startlinecolor\":\"#2a3f5f\"},\"baxis\":{\"endlinecolor\":\"#2a3f5f\",\"gridcolor\":\"white\",\"linecolor\":\"white\",\"minorgridcolor\":\"white\",\"startlinecolor\":\"#2a3f5f\"},\"type\":\"carpet\"}],\"table\":[{\"cells\":{\"fill\":{\"color\":\"#EBF0F8\"},\"line\":{\"color\":\"white\"}},\"header\":{\"fill\":{\"color\":\"#C8D4E3\"},\"line\":{\"color\":\"white\"}},\"type\":\"table\"}],\"barpolar\":[{\"marker\":{\"line\":{\"color\":\"#E5ECF6\",\"width\":0.5},\"pattern\":{\"fillmode\":\"overlay\",\"size\":10,\"solidity\":0.2}},\"type\":\"barpolar\"}],\"pie\":[{\"automargin\":true,\"type\":\"pie\"}]},\"layout\":{\"autotypenumbers\":\"strict\",\"colorway\":[\"#636efa\",\"#EF553B\",\"#00cc96\",\"#ab63fa\",\"#FFA15A\",\"#19d3f3\",\"#FF6692\",\"#B6E880\",\"#FF97FF\",\"#FECB52\"],\"font\":{\"color\":\"#2a3f5f\"},\"hovermode\":\"closest\",\"hoverlabel\":{\"align\":\"left\"},\"paper_bgcolor\":\"white\",\"plot_bgcolor\":\"#E5ECF6\",\"polar\":{\"bgcolor\":\"#E5ECF6\",\"angularaxis\":{\"gridcolor\":\"white\",\"linecolor\":\"white\",\"ticks\":\"\"},\"radialaxis\":{\"gridcolor\":\"white\",\"linecolor\":\"white\",\"ticks\":\"\"}},\"ternary\":{\"bgcolor\":\"#E5ECF6\",\"aaxis\":{\"gridcolor\":\"white\",\"linecolor\":\"white\",\"ticks\":\"\"},\"baxis\":{\"gridcolor\":\"white\",\"linecolor\":\"white\",\"ticks\":\"\"},\"caxis\":{\"gridcolor\":\"white\",\"linecolor\":\"white\",\"ticks\":\"\"}},\"coloraxis\":{\"colorbar\":{\"outlinewidth\":0,\"ticks\":\"\"}},\"colorscale\":{\"sequential\":[[0.0,\"#0d0887\"],[0.1111111111111111,\"#46039f\"],[0.2222222222222222,\"#7201a8\"],[0.3333333333333333,\"#9c179e\"],[0.4444444444444444,\"#bd3786\"],[0.5555555555555556,\"#d8576b\"],[0.6666666666666666,\"#ed7953\"],[0.7777777777777778,\"#fb9f3a\"],[0.8888888888888888,\"#fdca26\"],[1.0,\"#f0f921\"]],\"sequentialminus\":[[0.0,\"#0d0887\"],[0.1111111111111111,\"#46039f\"],[0.2222222222222222,\"#7201a8\"],[0.3333333333333333,\"#9c179e\"],[0.4444444444444444,\"#bd3786\"],[0.5555555555555556,\"#d8576b\"],[0.6666666666666666,\"#ed7953\"],[0.7777777777777778,\"#fb9f3a\"],[0.8888888888888888,\"#fdca26\"],[1.0,\"#f0f921\"]],\"diverging\":[[0,\"#8e0152\"],[0.1,\"#c51b7d\"],[0.2,\"#de77ae\"],[0.3,\"#f1b6da\"],[0.4,\"#fde0ef\"],[0.5,\"#f7f7f7\"],[0.6,\"#e6f5d0\"],[0.7,\"#b8e186\"],[0.8,\"#7fbc41\"],[0.9,\"#4d9221\"],[1,\"#276419\"]]},\"xaxis\":{\"gridcolor\":\"white\",\"linecolor\":\"white\",\"ticks\":\"\",\"title\":{\"standoff\":15},\"zerolinecolor\":\"white\",\"automargin\":true,\"zerolinewidth\":2},\"yaxis\":{\"gridcolor\":\"white\",\"linecolor\":\"white\",\"ticks\":\"\",\"title\":{\"standoff\":15},\"zerolinecolor\":\"white\",\"automargin\":true,\"zerolinewidth\":2},\"scene\":{\"xaxis\":{\"backgroundcolor\":\"#E5ECF6\",\"gridcolor\":\"white\",\"linecolor\":\"white\",\"showbackground\":true,\"ticks\":\"\",\"zerolinecolor\":\"white\",\"gridwidth\":2},\"yaxis\":{\"backgroundcolor\":\"#E5ECF6\",\"gridcolor\":\"white\",\"linecolor\":\"white\",\"showbackground\":true,\"ticks\":\"\",\"zerolinecolor\":\"white\",\"gridwidth\":2},\"zaxis\":{\"backgroundcolor\":\"#E5ECF6\",\"gridcolor\":\"white\",\"linecolor\":\"white\",\"showbackground\":true,\"ticks\":\"\",\"zerolinecolor\":\"white\",\"gridwidth\":2}},\"shapedefaults\":{\"line\":{\"color\":\"#2a3f5f\"}},\"annotationdefaults\":{\"arrowcolor\":\"#2a3f5f\",\"arrowhead\":0,\"arrowwidth\":1},\"geo\":{\"bgcolor\":\"white\",\"landcolor\":\"#E5ECF6\",\"subunitcolor\":\"white\",\"showland\":true,\"showlakes\":true,\"lakecolor\":\"white\"},\"title\":{\"x\":0.05},\"mapbox\":{\"style\":\"light\"}}},\"xaxis\":{\"anchor\":\"y\",\"domain\":[0.0,1.0],\"title\":{\"text\":\"Wake-up Hour\"}},\"yaxis\":{\"anchor\":\"x\",\"domain\":[0.0,1.0],\"title\":{\"text\":\"Value\"}},\"legend\":{\"title\":{\"text\":\"variable\"},\"tracegroupgap\":0},\"title\":{\"text\":\"Average Deep Sleep Percentage and Awakenings by Wake-up Hour\"},\"barmode\":\"group\",\"font\":{\"color\":\"white\"},\"plot_bgcolor\":\"rgba(0, 0, 0, 0)\",\"paper_bgcolor\":\"rgba(0, 0, 0, 0.7)\"},                        {\"responsive\": true}                    ).then(function(){\n",
       "                            \n",
       "var gd = document.getElementById('f6b3ec9d-5b6a-4158-979e-2306a39739e4');\n",
       "var x = new MutationObserver(function (mutations, observer) {{\n",
       "        var display = window.getComputedStyle(gd).display;\n",
       "        if (!display || display === 'none') {{\n",
       "            console.log([gd, 'removed!']);\n",
       "            Plotly.purge(gd);\n",
       "            observer.disconnect();\n",
       "        }}\n",
       "}});\n",
       "\n",
       "// Listen for the removal of the full notebook cells\n",
       "var notebookContainer = gd.closest('#notebook-container');\n",
       "if (notebookContainer) {{\n",
       "    x.observe(notebookContainer, {childList: true});\n",
       "}}\n",
       "\n",
       "// Listen for the clearing of the current output cell\n",
       "var outputEl = gd.closest('.output');\n",
       "if (outputEl) {{\n",
       "    x.observe(outputEl, {childList: true});\n",
       "}}\n",
       "\n",
       "                        })                };                });            </script>        </div>"
      ]
     },
     "metadata": {},
     "output_type": "display_data"
    }
   ],
   "source": [
    "import plotly.express as px\n",
    "\n",
    "from sklearn.impute import SimpleImputer\n",
    "\n",
    "imputer = SimpleImputer(strategy='mean')\n",
    "df['Awakenings'] = imputer.fit_transform(df[['Awakenings']])\n",
    "\n",
    "# Extract the hour component from the \"Wakeup time\" column\n",
    "df['Wake up hour'] = pd.to_datetime(df['Wakeup time']).dt.hour\n",
    "\n",
    "# Group data by the wake-up hour and calculate the average deep sleep percentage and awakenings\n",
    "grouped_data = df.groupby('Wake up hour').agg({'Deep sleep percentage': 'mean', 'Awakenings': 'mean'}).reset_index()\n",
    "\n",
    "# Create the bar plot\n",
    "fig = px.bar(grouped_data, x='Wake up hour', y=['Deep sleep percentage', 'Awakenings'],\n",
    "             title='Average Deep Sleep Percentage and Awakenings by Wake-up Hour')\n",
    "\n",
    "# Set the layout properties\n",
    "fig.update_layout(\n",
    "    xaxis=dict(title='Wake-up Hour'),\n",
    "    yaxis=dict(title='Value'),\n",
    "    barmode='group',\n",
    "    plot_bgcolor='rgba(0, 0, 0, 0)',\n",
    "    paper_bgcolor='rgba(0, 0, 0, 0.7)',\n",
    "    font=dict(color='white')\n",
    ")\n",
    "\n",
    "# Show the bar plot\n",
    "fig.show()\n",
    "\n"
   ]
  },
  {
   "cell_type": "code",
   "execution_count": 21,
   "id": "5955235a",
   "metadata": {},
   "outputs": [
    {
     "name": "stdout",
     "output_type": "stream",
     "text": [
      "Max awakenings: 4.0\n",
      "Deep sleep percentage (Max awakenings): 37\n",
      "Mean deep sleep percentage (Entire dataset): 52.823008849557525\n",
      "Comparison with mean deep sleep percentage: -15.823008849557525\n"
     ]
    }
   ],
   "source": [
    "# Find the maximum number of awakenings\n",
    "max_awakenings = df['Awakenings'].max()\n",
    "\n",
    "# Filter the dataframe for the person with the maximum awakenings\n",
    "person_with_max_awakenings = df[df['Awakenings'] == max_awakenings]\n",
    "\n",
    "# Calculate the mean deep sleep percentage for the entire dataset\n",
    "mean_deep_sleep = df['Deep sleep percentage'].mean()\n",
    "\n",
    "# Calculate the deep sleep percentage for the person with the maximum awakenings\n",
    "deep_sleep_max_awakenings = person_with_max_awakenings['Deep sleep percentage'].values[0]\n",
    "\n",
    "# Compare the deep sleep values\n",
    "comparison = deep_sleep_max_awakenings - mean_deep_sleep\n",
    "\n",
    "print(\"Max awakenings:\", max_awakenings)\n",
    "print(\"Deep sleep percentage (Max awakenings):\", deep_sleep_max_awakenings)\n",
    "print(\"Mean deep sleep percentage (Entire dataset):\", mean_deep_sleep)\n",
    "print(\"Comparison with mean deep sleep percentage:\", comparison)\n"
   ]
  },
  {
   "cell_type": "code",
   "execution_count": 35,
   "id": "0bde74ac",
   "metadata": {},
   "outputs": [],
   "source": [
    "# import plotly.graph_objects as go\n",
    "\n",
    "# # Find the maximum number of awakenings\n",
    "# max_awakenings = df['Awakenings'].max()\n",
    "\n",
    "# # Filter the dataframe for the person with the maximum awakenings\n",
    "# person_with_max_awakenings = df[df['Awakenings'] == max_awakenings]\n",
    "\n",
    "# # Calculate the mean deep sleep percentage for the entire dataset\n",
    "# mean_deep_sleep = df['Deep sleep percentage'].mean()\n",
    "\n",
    "# # Calculate the deep sleep percentage for the person with the maximum awakenings\n",
    "# deep_sleep_max_awakenings = person_with_max_awakenings['Deep sleep percentage'].values[0]\n",
    "\n",
    "# # Create the bar plot\n",
    "# fig = go.Figure(data=[\n",
    "#     go.Bar(\n",
    "#         x=['Max Awakenings', 'Mean Deep Sleep'],\n",
    "#         y=[deep_sleep_max_awakenings, mean_deep_sleep],\n",
    "#         marker_color=['#FF7F0E', '#1F77B4']\n",
    "#     )\n",
    "# ])\n",
    "\n",
    "# # Set the layout properties\n",
    "# fig.update_layout(\n",
    "#     title='Comparison of Deep Sleep Percentage',\n",
    "#     xaxis=dict(title=''),\n",
    "#     yaxis=dict(title='Deep Sleep Percentage'),\n",
    "#     plot_bgcolor='rgba(0, 0, 0, 0)',\n",
    "#     paper_bgcolor='rgba(0, 0, 0, 0.7)',\n",
    "#     font=dict(color='white')\n",
    "# )\n",
    "\n",
    "# # Show the bar plot\n",
    "# fig.show()\n"
   ]
  },
  {
   "cell_type": "code",
   "execution_count": 29,
   "id": "d78bcc3f",
   "metadata": {},
   "outputs": [
    {
     "data": {
      "application/vnd.plotly.v1+json": {
       "config": {
        "plotlyServerURL": "https://plot.ly"
       },
       "data": [
        {
         "name": "Number of Awakenings",
         "type": "bar",
         "x": [
          "Max Awakenings",
          "Mean Awakenings",
          "No Awakenings"
         ],
         "y": [
          4,
          1.641203703703704,
          0
         ]
        },
        {
         "marker": {
          "color": "#FF7F0E"
         },
         "name": "Deep Sleep Percentage",
         "type": "bar",
         "x": [
          "Max Awakenings",
          "Mean Awakenings",
          "No Awakenings"
         ],
         "y": [
          37,
          52.823008849557525,
          60.77894736842105
         ]
        }
       ],
       "layout": {
        "barmode": "group",
        "font": {
         "color": "white"
        },
        "paper_bgcolor": "rgba(0, 0, 0, 0.7)",
        "plot_bgcolor": "rgba(0, 0, 0, 0)",
        "template": {
         "data": {
          "bar": [
           {
            "error_x": {
             "color": "#2a3f5f"
            },
            "error_y": {
             "color": "#2a3f5f"
            },
            "marker": {
             "line": {
              "color": "#E5ECF6",
              "width": 0.5
             },
             "pattern": {
              "fillmode": "overlay",
              "size": 10,
              "solidity": 0.2
             }
            },
            "type": "bar"
           }
          ],
          "barpolar": [
           {
            "marker": {
             "line": {
              "color": "#E5ECF6",
              "width": 0.5
             },
             "pattern": {
              "fillmode": "overlay",
              "size": 10,
              "solidity": 0.2
             }
            },
            "type": "barpolar"
           }
          ],
          "carpet": [
           {
            "aaxis": {
             "endlinecolor": "#2a3f5f",
             "gridcolor": "white",
             "linecolor": "white",
             "minorgridcolor": "white",
             "startlinecolor": "#2a3f5f"
            },
            "baxis": {
             "endlinecolor": "#2a3f5f",
             "gridcolor": "white",
             "linecolor": "white",
             "minorgridcolor": "white",
             "startlinecolor": "#2a3f5f"
            },
            "type": "carpet"
           }
          ],
          "choropleth": [
           {
            "colorbar": {
             "outlinewidth": 0,
             "ticks": ""
            },
            "type": "choropleth"
           }
          ],
          "contour": [
           {
            "colorbar": {
             "outlinewidth": 0,
             "ticks": ""
            },
            "colorscale": [
             [
              0,
              "#0d0887"
             ],
             [
              0.1111111111111111,
              "#46039f"
             ],
             [
              0.2222222222222222,
              "#7201a8"
             ],
             [
              0.3333333333333333,
              "#9c179e"
             ],
             [
              0.4444444444444444,
              "#bd3786"
             ],
             [
              0.5555555555555556,
              "#d8576b"
             ],
             [
              0.6666666666666666,
              "#ed7953"
             ],
             [
              0.7777777777777778,
              "#fb9f3a"
             ],
             [
              0.8888888888888888,
              "#fdca26"
             ],
             [
              1,
              "#f0f921"
             ]
            ],
            "type": "contour"
           }
          ],
          "contourcarpet": [
           {
            "colorbar": {
             "outlinewidth": 0,
             "ticks": ""
            },
            "type": "contourcarpet"
           }
          ],
          "heatmap": [
           {
            "colorbar": {
             "outlinewidth": 0,
             "ticks": ""
            },
            "colorscale": [
             [
              0,
              "#0d0887"
             ],
             [
              0.1111111111111111,
              "#46039f"
             ],
             [
              0.2222222222222222,
              "#7201a8"
             ],
             [
              0.3333333333333333,
              "#9c179e"
             ],
             [
              0.4444444444444444,
              "#bd3786"
             ],
             [
              0.5555555555555556,
              "#d8576b"
             ],
             [
              0.6666666666666666,
              "#ed7953"
             ],
             [
              0.7777777777777778,
              "#fb9f3a"
             ],
             [
              0.8888888888888888,
              "#fdca26"
             ],
             [
              1,
              "#f0f921"
             ]
            ],
            "type": "heatmap"
           }
          ],
          "heatmapgl": [
           {
            "colorbar": {
             "outlinewidth": 0,
             "ticks": ""
            },
            "colorscale": [
             [
              0,
              "#0d0887"
             ],
             [
              0.1111111111111111,
              "#46039f"
             ],
             [
              0.2222222222222222,
              "#7201a8"
             ],
             [
              0.3333333333333333,
              "#9c179e"
             ],
             [
              0.4444444444444444,
              "#bd3786"
             ],
             [
              0.5555555555555556,
              "#d8576b"
             ],
             [
              0.6666666666666666,
              "#ed7953"
             ],
             [
              0.7777777777777778,
              "#fb9f3a"
             ],
             [
              0.8888888888888888,
              "#fdca26"
             ],
             [
              1,
              "#f0f921"
             ]
            ],
            "type": "heatmapgl"
           }
          ],
          "histogram": [
           {
            "marker": {
             "pattern": {
              "fillmode": "overlay",
              "size": 10,
              "solidity": 0.2
             }
            },
            "type": "histogram"
           }
          ],
          "histogram2d": [
           {
            "colorbar": {
             "outlinewidth": 0,
             "ticks": ""
            },
            "colorscale": [
             [
              0,
              "#0d0887"
             ],
             [
              0.1111111111111111,
              "#46039f"
             ],
             [
              0.2222222222222222,
              "#7201a8"
             ],
             [
              0.3333333333333333,
              "#9c179e"
             ],
             [
              0.4444444444444444,
              "#bd3786"
             ],
             [
              0.5555555555555556,
              "#d8576b"
             ],
             [
              0.6666666666666666,
              "#ed7953"
             ],
             [
              0.7777777777777778,
              "#fb9f3a"
             ],
             [
              0.8888888888888888,
              "#fdca26"
             ],
             [
              1,
              "#f0f921"
             ]
            ],
            "type": "histogram2d"
           }
          ],
          "histogram2dcontour": [
           {
            "colorbar": {
             "outlinewidth": 0,
             "ticks": ""
            },
            "colorscale": [
             [
              0,
              "#0d0887"
             ],
             [
              0.1111111111111111,
              "#46039f"
             ],
             [
              0.2222222222222222,
              "#7201a8"
             ],
             [
              0.3333333333333333,
              "#9c179e"
             ],
             [
              0.4444444444444444,
              "#bd3786"
             ],
             [
              0.5555555555555556,
              "#d8576b"
             ],
             [
              0.6666666666666666,
              "#ed7953"
             ],
             [
              0.7777777777777778,
              "#fb9f3a"
             ],
             [
              0.8888888888888888,
              "#fdca26"
             ],
             [
              1,
              "#f0f921"
             ]
            ],
            "type": "histogram2dcontour"
           }
          ],
          "mesh3d": [
           {
            "colorbar": {
             "outlinewidth": 0,
             "ticks": ""
            },
            "type": "mesh3d"
           }
          ],
          "parcoords": [
           {
            "line": {
             "colorbar": {
              "outlinewidth": 0,
              "ticks": ""
             }
            },
            "type": "parcoords"
           }
          ],
          "pie": [
           {
            "automargin": true,
            "type": "pie"
           }
          ],
          "scatter": [
           {
            "fillpattern": {
             "fillmode": "overlay",
             "size": 10,
             "solidity": 0.2
            },
            "type": "scatter"
           }
          ],
          "scatter3d": [
           {
            "line": {
             "colorbar": {
              "outlinewidth": 0,
              "ticks": ""
             }
            },
            "marker": {
             "colorbar": {
              "outlinewidth": 0,
              "ticks": ""
             }
            },
            "type": "scatter3d"
           }
          ],
          "scattercarpet": [
           {
            "marker": {
             "colorbar": {
              "outlinewidth": 0,
              "ticks": ""
             }
            },
            "type": "scattercarpet"
           }
          ],
          "scattergeo": [
           {
            "marker": {
             "colorbar": {
              "outlinewidth": 0,
              "ticks": ""
             }
            },
            "type": "scattergeo"
           }
          ],
          "scattergl": [
           {
            "marker": {
             "colorbar": {
              "outlinewidth": 0,
              "ticks": ""
             }
            },
            "type": "scattergl"
           }
          ],
          "scattermapbox": [
           {
            "marker": {
             "colorbar": {
              "outlinewidth": 0,
              "ticks": ""
             }
            },
            "type": "scattermapbox"
           }
          ],
          "scatterpolar": [
           {
            "marker": {
             "colorbar": {
              "outlinewidth": 0,
              "ticks": ""
             }
            },
            "type": "scatterpolar"
           }
          ],
          "scatterpolargl": [
           {
            "marker": {
             "colorbar": {
              "outlinewidth": 0,
              "ticks": ""
             }
            },
            "type": "scatterpolargl"
           }
          ],
          "scatterternary": [
           {
            "marker": {
             "colorbar": {
              "outlinewidth": 0,
              "ticks": ""
             }
            },
            "type": "scatterternary"
           }
          ],
          "surface": [
           {
            "colorbar": {
             "outlinewidth": 0,
             "ticks": ""
            },
            "colorscale": [
             [
              0,
              "#0d0887"
             ],
             [
              0.1111111111111111,
              "#46039f"
             ],
             [
              0.2222222222222222,
              "#7201a8"
             ],
             [
              0.3333333333333333,
              "#9c179e"
             ],
             [
              0.4444444444444444,
              "#bd3786"
             ],
             [
              0.5555555555555556,
              "#d8576b"
             ],
             [
              0.6666666666666666,
              "#ed7953"
             ],
             [
              0.7777777777777778,
              "#fb9f3a"
             ],
             [
              0.8888888888888888,
              "#fdca26"
             ],
             [
              1,
              "#f0f921"
             ]
            ],
            "type": "surface"
           }
          ],
          "table": [
           {
            "cells": {
             "fill": {
              "color": "#EBF0F8"
             },
             "line": {
              "color": "white"
             }
            },
            "header": {
             "fill": {
              "color": "#C8D4E3"
             },
             "line": {
              "color": "white"
             }
            },
            "type": "table"
           }
          ]
         },
         "layout": {
          "annotationdefaults": {
           "arrowcolor": "#2a3f5f",
           "arrowhead": 0,
           "arrowwidth": 1
          },
          "autotypenumbers": "strict",
          "coloraxis": {
           "colorbar": {
            "outlinewidth": 0,
            "ticks": ""
           }
          },
          "colorscale": {
           "diverging": [
            [
             0,
             "#8e0152"
            ],
            [
             0.1,
             "#c51b7d"
            ],
            [
             0.2,
             "#de77ae"
            ],
            [
             0.3,
             "#f1b6da"
            ],
            [
             0.4,
             "#fde0ef"
            ],
            [
             0.5,
             "#f7f7f7"
            ],
            [
             0.6,
             "#e6f5d0"
            ],
            [
             0.7,
             "#b8e186"
            ],
            [
             0.8,
             "#7fbc41"
            ],
            [
             0.9,
             "#4d9221"
            ],
            [
             1,
             "#276419"
            ]
           ],
           "sequential": [
            [
             0,
             "#0d0887"
            ],
            [
             0.1111111111111111,
             "#46039f"
            ],
            [
             0.2222222222222222,
             "#7201a8"
            ],
            [
             0.3333333333333333,
             "#9c179e"
            ],
            [
             0.4444444444444444,
             "#bd3786"
            ],
            [
             0.5555555555555556,
             "#d8576b"
            ],
            [
             0.6666666666666666,
             "#ed7953"
            ],
            [
             0.7777777777777778,
             "#fb9f3a"
            ],
            [
             0.8888888888888888,
             "#fdca26"
            ],
            [
             1,
             "#f0f921"
            ]
           ],
           "sequentialminus": [
            [
             0,
             "#0d0887"
            ],
            [
             0.1111111111111111,
             "#46039f"
            ],
            [
             0.2222222222222222,
             "#7201a8"
            ],
            [
             0.3333333333333333,
             "#9c179e"
            ],
            [
             0.4444444444444444,
             "#bd3786"
            ],
            [
             0.5555555555555556,
             "#d8576b"
            ],
            [
             0.6666666666666666,
             "#ed7953"
            ],
            [
             0.7777777777777778,
             "#fb9f3a"
            ],
            [
             0.8888888888888888,
             "#fdca26"
            ],
            [
             1,
             "#f0f921"
            ]
           ]
          },
          "colorway": [
           "#636efa",
           "#EF553B",
           "#00cc96",
           "#ab63fa",
           "#FFA15A",
           "#19d3f3",
           "#FF6692",
           "#B6E880",
           "#FF97FF",
           "#FECB52"
          ],
          "font": {
           "color": "#2a3f5f"
          },
          "geo": {
           "bgcolor": "white",
           "lakecolor": "white",
           "landcolor": "#E5ECF6",
           "showlakes": true,
           "showland": true,
           "subunitcolor": "white"
          },
          "hoverlabel": {
           "align": "left"
          },
          "hovermode": "closest",
          "mapbox": {
           "style": "light"
          },
          "paper_bgcolor": "white",
          "plot_bgcolor": "#E5ECF6",
          "polar": {
           "angularaxis": {
            "gridcolor": "white",
            "linecolor": "white",
            "ticks": ""
           },
           "bgcolor": "#E5ECF6",
           "radialaxis": {
            "gridcolor": "white",
            "linecolor": "white",
            "ticks": ""
           }
          },
          "scene": {
           "xaxis": {
            "backgroundcolor": "#E5ECF6",
            "gridcolor": "white",
            "gridwidth": 2,
            "linecolor": "white",
            "showbackground": true,
            "ticks": "",
            "zerolinecolor": "white"
           },
           "yaxis": {
            "backgroundcolor": "#E5ECF6",
            "gridcolor": "white",
            "gridwidth": 2,
            "linecolor": "white",
            "showbackground": true,
            "ticks": "",
            "zerolinecolor": "white"
           },
           "zaxis": {
            "backgroundcolor": "#E5ECF6",
            "gridcolor": "white",
            "gridwidth": 2,
            "linecolor": "white",
            "showbackground": true,
            "ticks": "",
            "zerolinecolor": "white"
           }
          },
          "shapedefaults": {
           "line": {
            "color": "#2a3f5f"
           }
          },
          "ternary": {
           "aaxis": {
            "gridcolor": "white",
            "linecolor": "white",
            "ticks": ""
           },
           "baxis": {
            "gridcolor": "white",
            "linecolor": "white",
            "ticks": ""
           },
           "bgcolor": "#E5ECF6",
           "caxis": {
            "gridcolor": "white",
            "linecolor": "white",
            "ticks": ""
           }
          },
          "title": {
           "x": 0.05
          },
          "xaxis": {
           "automargin": true,
           "gridcolor": "white",
           "linecolor": "white",
           "ticks": "",
           "title": {
            "standoff": 15
           },
           "zerolinecolor": "white",
           "zerolinewidth": 2
          },
          "yaxis": {
           "automargin": true,
           "gridcolor": "white",
           "linecolor": "white",
           "ticks": "",
           "title": {
            "standoff": 15
           },
           "zerolinecolor": "white",
           "zerolinewidth": 2
          }
         }
        },
        "title": {
         "text": "Comparison of Awakenings and Deep Sleep Percentage"
        },
        "xaxis": {
         "title": {
          "text": "Category"
         }
        },
        "yaxis": {
         "title": {
          "text": "Value"
         }
        }
       }
      },
      "text/html": [
       "<div>                            <div id=\"22e6a585-fadf-4cd4-a498-0f5372bbbcf6\" class=\"plotly-graph-div\" style=\"height:525px; width:100%;\"></div>            <script type=\"text/javascript\">                require([\"plotly\"], function(Plotly) {                    window.PLOTLYENV=window.PLOTLYENV || {};                                    if (document.getElementById(\"22e6a585-fadf-4cd4-a498-0f5372bbbcf6\")) {                    Plotly.newPlot(                        \"22e6a585-fadf-4cd4-a498-0f5372bbbcf6\",                        [{\"name\":\"Number of Awakenings\",\"x\":[\"Max Awakenings\",\"Mean Awakenings\",\"No Awakenings\"],\"y\":[4.0,1.641203703703704,0.0],\"type\":\"bar\"},{\"marker\":{\"color\":\"#FF7F0E\"},\"name\":\"Deep Sleep Percentage\",\"x\":[\"Max Awakenings\",\"Mean Awakenings\",\"No Awakenings\"],\"y\":[37,52.823008849557525,60.77894736842105],\"type\":\"bar\"}],                        {\"template\":{\"data\":{\"histogram2dcontour\":[{\"type\":\"histogram2dcontour\",\"colorbar\":{\"outlinewidth\":0,\"ticks\":\"\"},\"colorscale\":[[0.0,\"#0d0887\"],[0.1111111111111111,\"#46039f\"],[0.2222222222222222,\"#7201a8\"],[0.3333333333333333,\"#9c179e\"],[0.4444444444444444,\"#bd3786\"],[0.5555555555555556,\"#d8576b\"],[0.6666666666666666,\"#ed7953\"],[0.7777777777777778,\"#fb9f3a\"],[0.8888888888888888,\"#fdca26\"],[1.0,\"#f0f921\"]]}],\"choropleth\":[{\"type\":\"choropleth\",\"colorbar\":{\"outlinewidth\":0,\"ticks\":\"\"}}],\"histogram2d\":[{\"type\":\"histogram2d\",\"colorbar\":{\"outlinewidth\":0,\"ticks\":\"\"},\"colorscale\":[[0.0,\"#0d0887\"],[0.1111111111111111,\"#46039f\"],[0.2222222222222222,\"#7201a8\"],[0.3333333333333333,\"#9c179e\"],[0.4444444444444444,\"#bd3786\"],[0.5555555555555556,\"#d8576b\"],[0.6666666666666666,\"#ed7953\"],[0.7777777777777778,\"#fb9f3a\"],[0.8888888888888888,\"#fdca26\"],[1.0,\"#f0f921\"]]}],\"heatmap\":[{\"type\":\"heatmap\",\"colorbar\":{\"outlinewidth\":0,\"ticks\":\"\"},\"colorscale\":[[0.0,\"#0d0887\"],[0.1111111111111111,\"#46039f\"],[0.2222222222222222,\"#7201a8\"],[0.3333333333333333,\"#9c179e\"],[0.4444444444444444,\"#bd3786\"],[0.5555555555555556,\"#d8576b\"],[0.6666666666666666,\"#ed7953\"],[0.7777777777777778,\"#fb9f3a\"],[0.8888888888888888,\"#fdca26\"],[1.0,\"#f0f921\"]]}],\"heatmapgl\":[{\"type\":\"heatmapgl\",\"colorbar\":{\"outlinewidth\":0,\"ticks\":\"\"},\"colorscale\":[[0.0,\"#0d0887\"],[0.1111111111111111,\"#46039f\"],[0.2222222222222222,\"#7201a8\"],[0.3333333333333333,\"#9c179e\"],[0.4444444444444444,\"#bd3786\"],[0.5555555555555556,\"#d8576b\"],[0.6666666666666666,\"#ed7953\"],[0.7777777777777778,\"#fb9f3a\"],[0.8888888888888888,\"#fdca26\"],[1.0,\"#f0f921\"]]}],\"contourcarpet\":[{\"type\":\"contourcarpet\",\"colorbar\":{\"outlinewidth\":0,\"ticks\":\"\"}}],\"contour\":[{\"type\":\"contour\",\"colorbar\":{\"outlinewidth\":0,\"ticks\":\"\"},\"colorscale\":[[0.0,\"#0d0887\"],[0.1111111111111111,\"#46039f\"],[0.2222222222222222,\"#7201a8\"],[0.3333333333333333,\"#9c179e\"],[0.4444444444444444,\"#bd3786\"],[0.5555555555555556,\"#d8576b\"],[0.6666666666666666,\"#ed7953\"],[0.7777777777777778,\"#fb9f3a\"],[0.8888888888888888,\"#fdca26\"],[1.0,\"#f0f921\"]]}],\"surface\":[{\"type\":\"surface\",\"colorbar\":{\"outlinewidth\":0,\"ticks\":\"\"},\"colorscale\":[[0.0,\"#0d0887\"],[0.1111111111111111,\"#46039f\"],[0.2222222222222222,\"#7201a8\"],[0.3333333333333333,\"#9c179e\"],[0.4444444444444444,\"#bd3786\"],[0.5555555555555556,\"#d8576b\"],[0.6666666666666666,\"#ed7953\"],[0.7777777777777778,\"#fb9f3a\"],[0.8888888888888888,\"#fdca26\"],[1.0,\"#f0f921\"]]}],\"mesh3d\":[{\"type\":\"mesh3d\",\"colorbar\":{\"outlinewidth\":0,\"ticks\":\"\"}}],\"scatter\":[{\"fillpattern\":{\"fillmode\":\"overlay\",\"size\":10,\"solidity\":0.2},\"type\":\"scatter\"}],\"parcoords\":[{\"type\":\"parcoords\",\"line\":{\"colorbar\":{\"outlinewidth\":0,\"ticks\":\"\"}}}],\"scatterpolargl\":[{\"type\":\"scatterpolargl\",\"marker\":{\"colorbar\":{\"outlinewidth\":0,\"ticks\":\"\"}}}],\"bar\":[{\"error_x\":{\"color\":\"#2a3f5f\"},\"error_y\":{\"color\":\"#2a3f5f\"},\"marker\":{\"line\":{\"color\":\"#E5ECF6\",\"width\":0.5},\"pattern\":{\"fillmode\":\"overlay\",\"size\":10,\"solidity\":0.2}},\"type\":\"bar\"}],\"scattergeo\":[{\"type\":\"scattergeo\",\"marker\":{\"colorbar\":{\"outlinewidth\":0,\"ticks\":\"\"}}}],\"scatterpolar\":[{\"type\":\"scatterpolar\",\"marker\":{\"colorbar\":{\"outlinewidth\":0,\"ticks\":\"\"}}}],\"histogram\":[{\"marker\":{\"pattern\":{\"fillmode\":\"overlay\",\"size\":10,\"solidity\":0.2}},\"type\":\"histogram\"}],\"scattergl\":[{\"type\":\"scattergl\",\"marker\":{\"colorbar\":{\"outlinewidth\":0,\"ticks\":\"\"}}}],\"scatter3d\":[{\"type\":\"scatter3d\",\"line\":{\"colorbar\":{\"outlinewidth\":0,\"ticks\":\"\"}},\"marker\":{\"colorbar\":{\"outlinewidth\":0,\"ticks\":\"\"}}}],\"scattermapbox\":[{\"type\":\"scattermapbox\",\"marker\":{\"colorbar\":{\"outlinewidth\":0,\"ticks\":\"\"}}}],\"scatterternary\":[{\"type\":\"scatterternary\",\"marker\":{\"colorbar\":{\"outlinewidth\":0,\"ticks\":\"\"}}}],\"scattercarpet\":[{\"type\":\"scattercarpet\",\"marker\":{\"colorbar\":{\"outlinewidth\":0,\"ticks\":\"\"}}}],\"carpet\":[{\"aaxis\":{\"endlinecolor\":\"#2a3f5f\",\"gridcolor\":\"white\",\"linecolor\":\"white\",\"minorgridcolor\":\"white\",\"startlinecolor\":\"#2a3f5f\"},\"baxis\":{\"endlinecolor\":\"#2a3f5f\",\"gridcolor\":\"white\",\"linecolor\":\"white\",\"minorgridcolor\":\"white\",\"startlinecolor\":\"#2a3f5f\"},\"type\":\"carpet\"}],\"table\":[{\"cells\":{\"fill\":{\"color\":\"#EBF0F8\"},\"line\":{\"color\":\"white\"}},\"header\":{\"fill\":{\"color\":\"#C8D4E3\"},\"line\":{\"color\":\"white\"}},\"type\":\"table\"}],\"barpolar\":[{\"marker\":{\"line\":{\"color\":\"#E5ECF6\",\"width\":0.5},\"pattern\":{\"fillmode\":\"overlay\",\"size\":10,\"solidity\":0.2}},\"type\":\"barpolar\"}],\"pie\":[{\"automargin\":true,\"type\":\"pie\"}]},\"layout\":{\"autotypenumbers\":\"strict\",\"colorway\":[\"#636efa\",\"#EF553B\",\"#00cc96\",\"#ab63fa\",\"#FFA15A\",\"#19d3f3\",\"#FF6692\",\"#B6E880\",\"#FF97FF\",\"#FECB52\"],\"font\":{\"color\":\"#2a3f5f\"},\"hovermode\":\"closest\",\"hoverlabel\":{\"align\":\"left\"},\"paper_bgcolor\":\"white\",\"plot_bgcolor\":\"#E5ECF6\",\"polar\":{\"bgcolor\":\"#E5ECF6\",\"angularaxis\":{\"gridcolor\":\"white\",\"linecolor\":\"white\",\"ticks\":\"\"},\"radialaxis\":{\"gridcolor\":\"white\",\"linecolor\":\"white\",\"ticks\":\"\"}},\"ternary\":{\"bgcolor\":\"#E5ECF6\",\"aaxis\":{\"gridcolor\":\"white\",\"linecolor\":\"white\",\"ticks\":\"\"},\"baxis\":{\"gridcolor\":\"white\",\"linecolor\":\"white\",\"ticks\":\"\"},\"caxis\":{\"gridcolor\":\"white\",\"linecolor\":\"white\",\"ticks\":\"\"}},\"coloraxis\":{\"colorbar\":{\"outlinewidth\":0,\"ticks\":\"\"}},\"colorscale\":{\"sequential\":[[0.0,\"#0d0887\"],[0.1111111111111111,\"#46039f\"],[0.2222222222222222,\"#7201a8\"],[0.3333333333333333,\"#9c179e\"],[0.4444444444444444,\"#bd3786\"],[0.5555555555555556,\"#d8576b\"],[0.6666666666666666,\"#ed7953\"],[0.7777777777777778,\"#fb9f3a\"],[0.8888888888888888,\"#fdca26\"],[1.0,\"#f0f921\"]],\"sequentialminus\":[[0.0,\"#0d0887\"],[0.1111111111111111,\"#46039f\"],[0.2222222222222222,\"#7201a8\"],[0.3333333333333333,\"#9c179e\"],[0.4444444444444444,\"#bd3786\"],[0.5555555555555556,\"#d8576b\"],[0.6666666666666666,\"#ed7953\"],[0.7777777777777778,\"#fb9f3a\"],[0.8888888888888888,\"#fdca26\"],[1.0,\"#f0f921\"]],\"diverging\":[[0,\"#8e0152\"],[0.1,\"#c51b7d\"],[0.2,\"#de77ae\"],[0.3,\"#f1b6da\"],[0.4,\"#fde0ef\"],[0.5,\"#f7f7f7\"],[0.6,\"#e6f5d0\"],[0.7,\"#b8e186\"],[0.8,\"#7fbc41\"],[0.9,\"#4d9221\"],[1,\"#276419\"]]},\"xaxis\":{\"gridcolor\":\"white\",\"linecolor\":\"white\",\"ticks\":\"\",\"title\":{\"standoff\":15},\"zerolinecolor\":\"white\",\"automargin\":true,\"zerolinewidth\":2},\"yaxis\":{\"gridcolor\":\"white\",\"linecolor\":\"white\",\"ticks\":\"\",\"title\":{\"standoff\":15},\"zerolinecolor\":\"white\",\"automargin\":true,\"zerolinewidth\":2},\"scene\":{\"xaxis\":{\"backgroundcolor\":\"#E5ECF6\",\"gridcolor\":\"white\",\"linecolor\":\"white\",\"showbackground\":true,\"ticks\":\"\",\"zerolinecolor\":\"white\",\"gridwidth\":2},\"yaxis\":{\"backgroundcolor\":\"#E5ECF6\",\"gridcolor\":\"white\",\"linecolor\":\"white\",\"showbackground\":true,\"ticks\":\"\",\"zerolinecolor\":\"white\",\"gridwidth\":2},\"zaxis\":{\"backgroundcolor\":\"#E5ECF6\",\"gridcolor\":\"white\",\"linecolor\":\"white\",\"showbackground\":true,\"ticks\":\"\",\"zerolinecolor\":\"white\",\"gridwidth\":2}},\"shapedefaults\":{\"line\":{\"color\":\"#2a3f5f\"}},\"annotationdefaults\":{\"arrowcolor\":\"#2a3f5f\",\"arrowhead\":0,\"arrowwidth\":1},\"geo\":{\"bgcolor\":\"white\",\"landcolor\":\"#E5ECF6\",\"subunitcolor\":\"white\",\"showland\":true,\"showlakes\":true,\"lakecolor\":\"white\"},\"title\":{\"x\":0.05},\"mapbox\":{\"style\":\"light\"}}},\"font\":{\"color\":\"white\"},\"barmode\":\"group\",\"title\":{\"text\":\"Comparison of Awakenings and Deep Sleep Percentage\"},\"xaxis\":{\"title\":{\"text\":\"Category\"}},\"yaxis\":{\"title\":{\"text\":\"Value\"}},\"plot_bgcolor\":\"rgba(0, 0, 0, 0)\",\"paper_bgcolor\":\"rgba(0, 0, 0, 0.7)\"},                        {\"responsive\": true}                    ).then(function(){\n",
       "                            \n",
       "var gd = document.getElementById('22e6a585-fadf-4cd4-a498-0f5372bbbcf6');\n",
       "var x = new MutationObserver(function (mutations, observer) {{\n",
       "        var display = window.getComputedStyle(gd).display;\n",
       "        if (!display || display === 'none') {{\n",
       "            console.log([gd, 'removed!']);\n",
       "            Plotly.purge(gd);\n",
       "            observer.disconnect();\n",
       "        }}\n",
       "}});\n",
       "\n",
       "// Listen for the removal of the full notebook cells\n",
       "var notebookContainer = gd.closest('#notebook-container');\n",
       "if (notebookContainer) {{\n",
       "    x.observe(notebookContainer, {childList: true});\n",
       "}}\n",
       "\n",
       "// Listen for the clearing of the current output cell\n",
       "var outputEl = gd.closest('.output');\n",
       "if (outputEl) {{\n",
       "    x.observe(outputEl, {childList: true});\n",
       "}}\n",
       "\n",
       "                        })                };                });            </script>        </div>"
      ]
     },
     "metadata": {},
     "output_type": "display_data"
    }
   ],
   "source": [
    "import plotly.graph_objects as go\n",
    "\n",
    "# Find the maximum number of awakenings\n",
    "max_awakenings = df['Awakenings'].max()\n",
    "zero_awakenings = df[df['Awakenings'] == 0.0]\n",
    "\n",
    "# Filter the dataframe for the person with the maximum awakenings\n",
    "person_with_max_awakenings = df[df['Awakenings'] == max_awakenings]\n",
    "\n",
    "# Calculate the mean awakenings and deep sleep percentage for the entire dataset\n",
    "mean_awakenings = df['Awakenings'].mean()\n",
    "mean_deep_sleep = df['Deep sleep percentage'].mean()\n",
    "\n",
    "# Calculate the mean deep sleep percentage for the 'No Awakenings' category\n",
    "mean_no_awakenings = zero_awakenings['Deep sleep percentage'].mean()\n",
    "\n",
    "# Create a list of categories for the x-axis\n",
    "categories = ['Max Awakenings', 'Mean Awakenings', 'No Awakenings']\n",
    "\n",
    "# Create lists to store the y-axis values\n",
    "awakenings_values = [max_awakenings, mean_awakenings, 0.0]\n",
    "deep_sleep_values = [person_with_max_awakenings['Deep sleep percentage'].values[0], mean_deep_sleep, mean_no_awakenings]\n",
    "\n",
    "# Create the bar plot\n",
    "fig = go.Figure(data=[\n",
    "    go.Bar(\n",
    "        x=categories,\n",
    "        y=awakenings_values,\n",
    "        name='Number of Awakenings'\n",
    "    ),\n",
    "    go.Bar(\n",
    "        x=categories,\n",
    "        y=deep_sleep_values,\n",
    "        name='Deep Sleep Percentage',\n",
    "        marker_color='#FF7F0E'\n",
    "    )\n",
    "])\n",
    "\n",
    "# Set the layout properties\n",
    "fig.update_layout(\n",
    "    barmode='group',\n",
    "    title='Comparison of Awakenings and Deep Sleep Percentage',\n",
    "    xaxis=dict(title='Category'),\n",
    "    yaxis=dict(title='Value'),\n",
    "    plot_bgcolor='rgba(0, 0, 0, 0)',\n",
    "    paper_bgcolor='rgba(0, 0, 0, 0.7)',\n",
    "    font=dict(color='white')\n",
    ")\n",
    "\n",
    "# Show the bar plot\n",
    "fig.show()\n",
    "\n"
   ]
  },
  {
   "cell_type": "code",
   "execution_count": 31,
   "id": "e269436d",
   "metadata": {},
   "outputs": [
    {
     "data": {
      "application/vnd.plotly.v1+json": {
       "config": {
        "plotlyServerURL": "https://plot.ly"
       },
       "data": [
        {
         "alignmentgroup": "True",
         "hovertemplate": "Smoking Status=Yes<br>Exercise Frequency=%{x}<br>Sleep Efficiency=%{y}<extra></extra>",
         "legendgroup": "Yes",
         "marker": {
          "color": "#636efa"
         },
         "name": "Yes",
         "notched": false,
         "offsetgroup": "Yes",
         "orientation": "v",
         "showlegend": true,
         "type": "box",
         "x": [
          3,
          3,
          1,
          1,
          3,
          3,
          0,
          0,
          3,
          3,
          2,
          3,
          0,
          null,
          3,
          1,
          1,
          1,
          1,
          3,
          3,
          1,
          3,
          2,
          1,
          3,
          2,
          1,
          3,
          3,
          2,
          3,
          0,
          1,
          3,
          3,
          1,
          1,
          3,
          3,
          0,
          1,
          3,
          0,
          0,
          1,
          2,
          1,
          3,
          0,
          1,
          0,
          1,
          3,
          3,
          3,
          1,
          2,
          0,
          3,
          2,
          0,
          2,
          1,
          1,
          2,
          2,
          2,
          0,
          0,
          2,
          0,
          3,
          2,
          1,
          0,
          3,
          1,
          1,
          3,
          1,
          0,
          0,
          1,
          1,
          0,
          5,
          3,
          3,
          3,
          0,
          3,
          3,
          1,
          3,
          2,
          3,
          3,
          0,
          0,
          2,
          2,
          0,
          0,
          3,
          1,
          0,
          2,
          1,
          3,
          0,
          1,
          0,
          3,
          1,
          1,
          2,
          2,
          2,
          3,
          0,
          2,
          3,
          3,
          1,
          1,
          3,
          3,
          3,
          1,
          4,
          0,
          3,
          3,
          3,
          1,
          3,
          0,
          1,
          3,
          3,
          3,
          1,
          3,
          1,
          2,
          1,
          2,
          3,
          2,
          0,
          1,
          null,
          0
         ],
         "x0": " ",
         "xaxis": "x",
         "y": [
          0.88,
          0.66,
          0.51,
          0.54,
          0.9,
          0.92,
          0.54,
          0.54,
          0.5,
          0.89,
          0.84,
          0.57,
          0.55,
          0.9,
          0.87,
          0.87,
          0.83,
          0.59,
          0.71,
          0.91,
          0.52,
          0.54,
          0.64,
          0.87,
          0.68,
          0.7,
          0.77,
          0.86,
          0.88,
          0.97,
          0.8,
          0.52,
          0.73,
          0.88,
          0.94,
          0.91,
          0.85,
          0.89,
          0.53,
          0.87,
          0.5,
          0.91,
          0.63,
          0.51,
          0.55,
          0.83,
          0.59,
          0.9,
          0.77,
          0.54,
          0.51,
          0.75,
          0.57,
          0.58,
          0.53,
          0.74,
          0.93,
          0.81,
          0.9,
          0.95,
          0.51,
          0.78,
          0.83,
          0.8,
          0.87,
          0.94,
          0.94,
          0.79,
          0.83,
          0.87,
          0.5,
          0.93,
          0.77,
          0.86,
          0.55,
          0.85,
          0.65,
          0.84,
          0.82,
          0.95,
          0.76,
          0.91,
          0.95,
          0.86,
          0.54,
          0.52,
          0.52,
          0.61,
          0.94,
          0.87,
          0.55,
          0.5,
          0.93,
          0.9,
          0.9,
          0.56,
          0.62,
          0.52,
          0.86,
          0.75,
          0.78,
          0.9,
          0.67,
          0.51,
          0.6,
          0.8,
          0.5,
          0.5,
          0.52,
          0.72,
          0.85,
          0.72,
          0.51,
          0.51,
          0.88,
          0.79,
          0.9,
          0.82,
          0.95,
          0.54,
          0.53,
          0.92,
          0.53,
          0.74,
          0.87,
          0.53,
          0.87,
          0.9,
          0.95,
          0.52,
          0.52,
          0.67,
          0.92,
          0.93,
          0.87,
          0.64,
          0.9,
          0.86,
          0.9,
          0.68,
          0.88,
          0.66,
          0.87,
          0.51,
          0.55,
          0.85,
          0.8,
          0.9,
          0.5,
          0.88,
          0.58,
          0.53,
          0.5,
          0.55
         ],
         "y0": " ",
         "yaxis": "y"
        },
        {
         "alignmentgroup": "True",
         "hovertemplate": "Smoking Status=No<br>Exercise Frequency=%{x}<br>Sleep Efficiency=%{y}<extra></extra>",
         "legendgroup": "No",
         "marker": {
          "color": "#EF553B"
         },
         "name": "No",
         "notched": false,
         "offsetgroup": "No",
         "orientation": "v",
         "showlegend": true,
         "type": "box",
         "x": [
          3,
          3,
          1,
          1,
          0,
          3,
          1,
          3,
          5,
          0,
          2,
          1,
          2,
          1,
          2,
          2,
          1,
          3,
          4,
          0,
          3,
          0,
          1,
          0,
          0,
          1,
          0,
          1,
          0,
          0,
          4,
          2,
          3,
          0,
          0,
          3,
          3,
          3,
          1,
          1,
          1,
          4,
          null,
          1,
          3,
          3,
          2,
          1,
          0,
          4,
          0,
          3,
          3,
          2,
          3,
          0,
          2,
          0,
          0,
          1,
          3,
          0,
          0,
          3,
          2,
          0,
          3,
          0,
          3,
          0,
          0,
          1,
          3,
          2,
          4,
          3,
          2,
          3,
          3,
          4,
          0,
          0,
          3,
          3,
          0,
          3,
          1,
          3,
          4,
          3,
          0,
          3,
          3,
          0,
          1,
          1,
          4,
          4,
          3,
          1,
          1,
          4,
          0,
          3,
          0,
          4,
          3,
          4,
          3,
          1,
          3,
          1,
          0,
          4,
          3,
          0,
          1,
          2,
          4,
          0,
          4,
          4,
          1,
          2,
          0,
          2,
          2,
          0,
          3,
          0,
          0,
          0,
          0,
          4,
          0,
          0,
          2,
          0,
          0,
          4,
          2,
          1,
          3,
          0,
          0,
          4,
          3,
          0,
          4,
          3,
          5,
          2,
          0,
          3,
          1,
          0,
          0,
          1,
          0,
          0,
          4,
          1,
          3,
          4,
          3,
          5,
          1,
          2,
          3,
          1,
          0,
          4,
          4,
          null,
          1,
          3,
          4,
          3,
          2,
          0,
          3,
          0,
          1,
          4,
          4,
          1,
          4,
          2,
          0,
          0,
          0,
          1,
          3,
          3,
          4,
          0,
          4,
          2,
          0,
          3,
          4,
          1,
          3,
          null,
          1,
          3,
          1,
          0,
          4,
          3,
          2,
          3,
          0,
          0,
          0,
          2,
          3,
          0,
          1,
          1,
          0,
          0,
          0,
          5,
          5,
          3,
          3,
          0,
          2,
          0,
          1,
          3,
          4,
          2,
          3,
          1,
          3,
          0,
          4,
          0,
          1,
          0,
          1,
          null,
          1,
          3,
          2,
          1,
          0,
          0,
          1,
          2,
          3,
          0,
          4,
          3,
          0,
          1,
          3,
          1,
          4,
          2,
          0,
          3,
          1,
          0,
          0,
          1,
          4,
          3,
          0,
          2,
          1,
          1,
          0,
          5,
          0,
          0,
          0,
          1,
          4,
          3,
          3,
          4,
          3,
          3,
          4,
          3,
          3,
          3,
          3,
          0,
          1,
          0,
          5,
          3,
          3,
          1
         ],
         "x0": " ",
         "xaxis": "x",
         "y": [
          0.89,
          0.76,
          0.9,
          0.79,
          0.55,
          0.93,
          0.93,
          0.64,
          0.92,
          0.98,
          0.83,
          0.71,
          0.84,
          0.98,
          0.88,
          0.91,
          0.95,
          0.65,
          0.91,
          0.68,
          0.94,
          0.64,
          0.82,
          0.63,
          0.83,
          0.87,
          0.77,
          0.86,
          0.91,
          0.81,
          0.81,
          0.71,
          0.71,
          0.52,
          0.65,
          0.84,
          0.84,
          0.99,
          0.71,
          0.8,
          0.95,
          0.91,
          0.81,
          0.93,
          0.85,
          0.77,
          0.84,
          0.87,
          0.8,
          0.88,
          0.77,
          0.94,
          0.79,
          0.81,
          0.78,
          0.64,
          0.88,
          0.78,
          0.71,
          0.77,
          0.94,
          0.76,
          0.73,
          0.96,
          0.91,
          0.8,
          0.77,
          0.81,
          0.71,
          0.95,
          0.64,
          0.94,
          0.87,
          0.63,
          0.9,
          0.9,
          0.8,
          0.93,
          0.72,
          0.92,
          0.62,
          0.93,
          0.77,
          0.94,
          0.73,
          0.78,
          0.94,
          0.95,
          0.82,
          0.83,
          0.65,
          0.81,
          0.87,
          0.81,
          0.75,
          0.6,
          0.93,
          0.89,
          0.7,
          0.92,
          0.93,
          0.95,
          0.6,
          0.95,
          0.72,
          0.91,
          0.85,
          0.9,
          0.92,
          0.6,
          0.89,
          0.67,
          0.78,
          0.95,
          0.68,
          0.68,
          0.94,
          0.9,
          0.96,
          0.91,
          0.96,
          0.94,
          0.63,
          0.73,
          0.76,
          0.68,
          0.95,
          0.62,
          0.91,
          0.67,
          0.86,
          0.73,
          0.71,
          0.92,
          0.79,
          0.98,
          0.88,
          0.86,
          0.54,
          0.8,
          0.61,
          0.72,
          0.72,
          0.96,
          0.58,
          0.77,
          0.95,
          0.69,
          0.95,
          0.82,
          0.93,
          0.82,
          0.94,
          0.75,
          0.91,
          0.87,
          0.85,
          0.91,
          0.71,
          0.77,
          0.95,
          0.85,
          0.75,
          0.92,
          0.78,
          0.85,
          0.66,
          0.63,
          0.95,
          0.72,
          0.93,
          0.79,
          0.76,
          0.76,
          0.78,
          0.94,
          0.93,
          0.93,
          0.94,
          0.78,
          0.94,
          0.73,
          0.9,
          0.87,
          0.93,
          0.9,
          0.67,
          0.98,
          0.66,
          0.68,
          0.96,
          0.81,
          0.84,
          0.93,
          0.87,
          0.86,
          0.89,
          0.94,
          0.84,
          0.6,
          0.93,
          0.75,
          0.81,
          0.84,
          0.9,
          0.93,
          0.8,
          0.63,
          0.9,
          0.9,
          0.86,
          0.71,
          0.87,
          0.7,
          0.85,
          0.87,
          0.83,
          0.93,
          0.75,
          0.67,
          0.96,
          0.68,
          0.56,
          0.91,
          0.9,
          0.77,
          0.89,
          0.9,
          0.85,
          0.95,
          0.9,
          0.9,
          0.84,
          0.82,
          0.64,
          0.84,
          0.86,
          0.71,
          0.95,
          0.95,
          0.85,
          0.92,
          0.75,
          0.82,
          0.72,
          0.87,
          0.72,
          0.66,
          0.66,
          0.72,
          0.81,
          0.88,
          0.94,
          0.83,
          0.91,
          0.95,
          0.9,
          0.62,
          0.93,
          0.79,
          0.91,
          0.81,
          0.84,
          0.83,
          0.63,
          0.64,
          0.91,
          0.82,
          0.92,
          0.82,
          0.73,
          0.82,
          0.74,
          0.72,
          0.67,
          0.87,
          0.66,
          0.79,
          0.8,
          0.88,
          0.88,
          0.93,
          0.63,
          0.92,
          0.92,
          0.77,
          0.9,
          0.96,
          0.72,
          0.86,
          0.9,
          0.6,
          0.68,
          0.67,
          0.91,
          0.74,
          0.76,
          0.63
         ],
         "y0": " ",
         "yaxis": "y"
        }
       ],
       "layout": {
        "boxmode": "group",
        "font": {
         "color": "white"
        },
        "legend": {
         "title": {
          "text": "Smoking Status"
         },
         "tracegroupgap": 0
        },
        "paper_bgcolor": "rgba(0, 0, 0, 0.7)",
        "plot_bgcolor": "rgba(0, 0, 0, 0)",
        "template": {
         "data": {
          "bar": [
           {
            "error_x": {
             "color": "#2a3f5f"
            },
            "error_y": {
             "color": "#2a3f5f"
            },
            "marker": {
             "line": {
              "color": "#E5ECF6",
              "width": 0.5
             },
             "pattern": {
              "fillmode": "overlay",
              "size": 10,
              "solidity": 0.2
             }
            },
            "type": "bar"
           }
          ],
          "barpolar": [
           {
            "marker": {
             "line": {
              "color": "#E5ECF6",
              "width": 0.5
             },
             "pattern": {
              "fillmode": "overlay",
              "size": 10,
              "solidity": 0.2
             }
            },
            "type": "barpolar"
           }
          ],
          "carpet": [
           {
            "aaxis": {
             "endlinecolor": "#2a3f5f",
             "gridcolor": "white",
             "linecolor": "white",
             "minorgridcolor": "white",
             "startlinecolor": "#2a3f5f"
            },
            "baxis": {
             "endlinecolor": "#2a3f5f",
             "gridcolor": "white",
             "linecolor": "white",
             "minorgridcolor": "white",
             "startlinecolor": "#2a3f5f"
            },
            "type": "carpet"
           }
          ],
          "choropleth": [
           {
            "colorbar": {
             "outlinewidth": 0,
             "ticks": ""
            },
            "type": "choropleth"
           }
          ],
          "contour": [
           {
            "colorbar": {
             "outlinewidth": 0,
             "ticks": ""
            },
            "colorscale": [
             [
              0,
              "#0d0887"
             ],
             [
              0.1111111111111111,
              "#46039f"
             ],
             [
              0.2222222222222222,
              "#7201a8"
             ],
             [
              0.3333333333333333,
              "#9c179e"
             ],
             [
              0.4444444444444444,
              "#bd3786"
             ],
             [
              0.5555555555555556,
              "#d8576b"
             ],
             [
              0.6666666666666666,
              "#ed7953"
             ],
             [
              0.7777777777777778,
              "#fb9f3a"
             ],
             [
              0.8888888888888888,
              "#fdca26"
             ],
             [
              1,
              "#f0f921"
             ]
            ],
            "type": "contour"
           }
          ],
          "contourcarpet": [
           {
            "colorbar": {
             "outlinewidth": 0,
             "ticks": ""
            },
            "type": "contourcarpet"
           }
          ],
          "heatmap": [
           {
            "colorbar": {
             "outlinewidth": 0,
             "ticks": ""
            },
            "colorscale": [
             [
              0,
              "#0d0887"
             ],
             [
              0.1111111111111111,
              "#46039f"
             ],
             [
              0.2222222222222222,
              "#7201a8"
             ],
             [
              0.3333333333333333,
              "#9c179e"
             ],
             [
              0.4444444444444444,
              "#bd3786"
             ],
             [
              0.5555555555555556,
              "#d8576b"
             ],
             [
              0.6666666666666666,
              "#ed7953"
             ],
             [
              0.7777777777777778,
              "#fb9f3a"
             ],
             [
              0.8888888888888888,
              "#fdca26"
             ],
             [
              1,
              "#f0f921"
             ]
            ],
            "type": "heatmap"
           }
          ],
          "heatmapgl": [
           {
            "colorbar": {
             "outlinewidth": 0,
             "ticks": ""
            },
            "colorscale": [
             [
              0,
              "#0d0887"
             ],
             [
              0.1111111111111111,
              "#46039f"
             ],
             [
              0.2222222222222222,
              "#7201a8"
             ],
             [
              0.3333333333333333,
              "#9c179e"
             ],
             [
              0.4444444444444444,
              "#bd3786"
             ],
             [
              0.5555555555555556,
              "#d8576b"
             ],
             [
              0.6666666666666666,
              "#ed7953"
             ],
             [
              0.7777777777777778,
              "#fb9f3a"
             ],
             [
              0.8888888888888888,
              "#fdca26"
             ],
             [
              1,
              "#f0f921"
             ]
            ],
            "type": "heatmapgl"
           }
          ],
          "histogram": [
           {
            "marker": {
             "pattern": {
              "fillmode": "overlay",
              "size": 10,
              "solidity": 0.2
             }
            },
            "type": "histogram"
           }
          ],
          "histogram2d": [
           {
            "colorbar": {
             "outlinewidth": 0,
             "ticks": ""
            },
            "colorscale": [
             [
              0,
              "#0d0887"
             ],
             [
              0.1111111111111111,
              "#46039f"
             ],
             [
              0.2222222222222222,
              "#7201a8"
             ],
             [
              0.3333333333333333,
              "#9c179e"
             ],
             [
              0.4444444444444444,
              "#bd3786"
             ],
             [
              0.5555555555555556,
              "#d8576b"
             ],
             [
              0.6666666666666666,
              "#ed7953"
             ],
             [
              0.7777777777777778,
              "#fb9f3a"
             ],
             [
              0.8888888888888888,
              "#fdca26"
             ],
             [
              1,
              "#f0f921"
             ]
            ],
            "type": "histogram2d"
           }
          ],
          "histogram2dcontour": [
           {
            "colorbar": {
             "outlinewidth": 0,
             "ticks": ""
            },
            "colorscale": [
             [
              0,
              "#0d0887"
             ],
             [
              0.1111111111111111,
              "#46039f"
             ],
             [
              0.2222222222222222,
              "#7201a8"
             ],
             [
              0.3333333333333333,
              "#9c179e"
             ],
             [
              0.4444444444444444,
              "#bd3786"
             ],
             [
              0.5555555555555556,
              "#d8576b"
             ],
             [
              0.6666666666666666,
              "#ed7953"
             ],
             [
              0.7777777777777778,
              "#fb9f3a"
             ],
             [
              0.8888888888888888,
              "#fdca26"
             ],
             [
              1,
              "#f0f921"
             ]
            ],
            "type": "histogram2dcontour"
           }
          ],
          "mesh3d": [
           {
            "colorbar": {
             "outlinewidth": 0,
             "ticks": ""
            },
            "type": "mesh3d"
           }
          ],
          "parcoords": [
           {
            "line": {
             "colorbar": {
              "outlinewidth": 0,
              "ticks": ""
             }
            },
            "type": "parcoords"
           }
          ],
          "pie": [
           {
            "automargin": true,
            "type": "pie"
           }
          ],
          "scatter": [
           {
            "fillpattern": {
             "fillmode": "overlay",
             "size": 10,
             "solidity": 0.2
            },
            "type": "scatter"
           }
          ],
          "scatter3d": [
           {
            "line": {
             "colorbar": {
              "outlinewidth": 0,
              "ticks": ""
             }
            },
            "marker": {
             "colorbar": {
              "outlinewidth": 0,
              "ticks": ""
             }
            },
            "type": "scatter3d"
           }
          ],
          "scattercarpet": [
           {
            "marker": {
             "colorbar": {
              "outlinewidth": 0,
              "ticks": ""
             }
            },
            "type": "scattercarpet"
           }
          ],
          "scattergeo": [
           {
            "marker": {
             "colorbar": {
              "outlinewidth": 0,
              "ticks": ""
             }
            },
            "type": "scattergeo"
           }
          ],
          "scattergl": [
           {
            "marker": {
             "colorbar": {
              "outlinewidth": 0,
              "ticks": ""
             }
            },
            "type": "scattergl"
           }
          ],
          "scattermapbox": [
           {
            "marker": {
             "colorbar": {
              "outlinewidth": 0,
              "ticks": ""
             }
            },
            "type": "scattermapbox"
           }
          ],
          "scatterpolar": [
           {
            "marker": {
             "colorbar": {
              "outlinewidth": 0,
              "ticks": ""
             }
            },
            "type": "scatterpolar"
           }
          ],
          "scatterpolargl": [
           {
            "marker": {
             "colorbar": {
              "outlinewidth": 0,
              "ticks": ""
             }
            },
            "type": "scatterpolargl"
           }
          ],
          "scatterternary": [
           {
            "marker": {
             "colorbar": {
              "outlinewidth": 0,
              "ticks": ""
             }
            },
            "type": "scatterternary"
           }
          ],
          "surface": [
           {
            "colorbar": {
             "outlinewidth": 0,
             "ticks": ""
            },
            "colorscale": [
             [
              0,
              "#0d0887"
             ],
             [
              0.1111111111111111,
              "#46039f"
             ],
             [
              0.2222222222222222,
              "#7201a8"
             ],
             [
              0.3333333333333333,
              "#9c179e"
             ],
             [
              0.4444444444444444,
              "#bd3786"
             ],
             [
              0.5555555555555556,
              "#d8576b"
             ],
             [
              0.6666666666666666,
              "#ed7953"
             ],
             [
              0.7777777777777778,
              "#fb9f3a"
             ],
             [
              0.8888888888888888,
              "#fdca26"
             ],
             [
              1,
              "#f0f921"
             ]
            ],
            "type": "surface"
           }
          ],
          "table": [
           {
            "cells": {
             "fill": {
              "color": "#EBF0F8"
             },
             "line": {
              "color": "white"
             }
            },
            "header": {
             "fill": {
              "color": "#C8D4E3"
             },
             "line": {
              "color": "white"
             }
            },
            "type": "table"
           }
          ]
         },
         "layout": {
          "annotationdefaults": {
           "arrowcolor": "#2a3f5f",
           "arrowhead": 0,
           "arrowwidth": 1
          },
          "autotypenumbers": "strict",
          "coloraxis": {
           "colorbar": {
            "outlinewidth": 0,
            "ticks": ""
           }
          },
          "colorscale": {
           "diverging": [
            [
             0,
             "#8e0152"
            ],
            [
             0.1,
             "#c51b7d"
            ],
            [
             0.2,
             "#de77ae"
            ],
            [
             0.3,
             "#f1b6da"
            ],
            [
             0.4,
             "#fde0ef"
            ],
            [
             0.5,
             "#f7f7f7"
            ],
            [
             0.6,
             "#e6f5d0"
            ],
            [
             0.7,
             "#b8e186"
            ],
            [
             0.8,
             "#7fbc41"
            ],
            [
             0.9,
             "#4d9221"
            ],
            [
             1,
             "#276419"
            ]
           ],
           "sequential": [
            [
             0,
             "#0d0887"
            ],
            [
             0.1111111111111111,
             "#46039f"
            ],
            [
             0.2222222222222222,
             "#7201a8"
            ],
            [
             0.3333333333333333,
             "#9c179e"
            ],
            [
             0.4444444444444444,
             "#bd3786"
            ],
            [
             0.5555555555555556,
             "#d8576b"
            ],
            [
             0.6666666666666666,
             "#ed7953"
            ],
            [
             0.7777777777777778,
             "#fb9f3a"
            ],
            [
             0.8888888888888888,
             "#fdca26"
            ],
            [
             1,
             "#f0f921"
            ]
           ],
           "sequentialminus": [
            [
             0,
             "#0d0887"
            ],
            [
             0.1111111111111111,
             "#46039f"
            ],
            [
             0.2222222222222222,
             "#7201a8"
            ],
            [
             0.3333333333333333,
             "#9c179e"
            ],
            [
             0.4444444444444444,
             "#bd3786"
            ],
            [
             0.5555555555555556,
             "#d8576b"
            ],
            [
             0.6666666666666666,
             "#ed7953"
            ],
            [
             0.7777777777777778,
             "#fb9f3a"
            ],
            [
             0.8888888888888888,
             "#fdca26"
            ],
            [
             1,
             "#f0f921"
            ]
           ]
          },
          "colorway": [
           "#636efa",
           "#EF553B",
           "#00cc96",
           "#ab63fa",
           "#FFA15A",
           "#19d3f3",
           "#FF6692",
           "#B6E880",
           "#FF97FF",
           "#FECB52"
          ],
          "font": {
           "color": "#2a3f5f"
          },
          "geo": {
           "bgcolor": "white",
           "lakecolor": "white",
           "landcolor": "#E5ECF6",
           "showlakes": true,
           "showland": true,
           "subunitcolor": "white"
          },
          "hoverlabel": {
           "align": "left"
          },
          "hovermode": "closest",
          "mapbox": {
           "style": "light"
          },
          "paper_bgcolor": "white",
          "plot_bgcolor": "#E5ECF6",
          "polar": {
           "angularaxis": {
            "gridcolor": "white",
            "linecolor": "white",
            "ticks": ""
           },
           "bgcolor": "#E5ECF6",
           "radialaxis": {
            "gridcolor": "white",
            "linecolor": "white",
            "ticks": ""
           }
          },
          "scene": {
           "xaxis": {
            "backgroundcolor": "#E5ECF6",
            "gridcolor": "white",
            "gridwidth": 2,
            "linecolor": "white",
            "showbackground": true,
            "ticks": "",
            "zerolinecolor": "white"
           },
           "yaxis": {
            "backgroundcolor": "#E5ECF6",
            "gridcolor": "white",
            "gridwidth": 2,
            "linecolor": "white",
            "showbackground": true,
            "ticks": "",
            "zerolinecolor": "white"
           },
           "zaxis": {
            "backgroundcolor": "#E5ECF6",
            "gridcolor": "white",
            "gridwidth": 2,
            "linecolor": "white",
            "showbackground": true,
            "ticks": "",
            "zerolinecolor": "white"
           }
          },
          "shapedefaults": {
           "line": {
            "color": "#2a3f5f"
           }
          },
          "ternary": {
           "aaxis": {
            "gridcolor": "white",
            "linecolor": "white",
            "ticks": ""
           },
           "baxis": {
            "gridcolor": "white",
            "linecolor": "white",
            "ticks": ""
           },
           "bgcolor": "#E5ECF6",
           "caxis": {
            "gridcolor": "white",
            "linecolor": "white",
            "ticks": ""
           }
          },
          "title": {
           "x": 0.05
          },
          "xaxis": {
           "automargin": true,
           "gridcolor": "white",
           "linecolor": "white",
           "ticks": "",
           "title": {
            "standoff": 15
           },
           "zerolinecolor": "white",
           "zerolinewidth": 2
          },
          "yaxis": {
           "automargin": true,
           "gridcolor": "white",
           "linecolor": "white",
           "ticks": "",
           "title": {
            "standoff": 15
           },
           "zerolinecolor": "white",
           "zerolinewidth": 2
          }
         }
        },
        "title": {
         "text": "Sleep Efficiency Distribution across External Factors"
        },
        "xaxis": {
         "anchor": "y",
         "domain": [
          0,
          1
         ],
         "title": {
          "text": "Exercise Frequency"
         }
        },
        "yaxis": {
         "anchor": "x",
         "domain": [
          0,
          1
         ],
         "title": {
          "text": "Sleep Efficiency"
         }
        }
       }
      },
      "text/html": [
       "<div>                            <div id=\"dc1f199b-4149-49ad-b022-c7e41c64f281\" class=\"plotly-graph-div\" style=\"height:525px; width:100%;\"></div>            <script type=\"text/javascript\">                require([\"plotly\"], function(Plotly) {                    window.PLOTLYENV=window.PLOTLYENV || {};                                    if (document.getElementById(\"dc1f199b-4149-49ad-b022-c7e41c64f281\")) {                    Plotly.newPlot(                        \"dc1f199b-4149-49ad-b022-c7e41c64f281\",                        [{\"alignmentgroup\":\"True\",\"hovertemplate\":\"Smoking Status=Yes\\u003cbr\\u003eExercise Frequency=%{x}\\u003cbr\\u003eSleep Efficiency=%{y}\\u003cextra\\u003e\\u003c\\u002fextra\\u003e\",\"legendgroup\":\"Yes\",\"marker\":{\"color\":\"#636efa\"},\"name\":\"Yes\",\"notched\":false,\"offsetgroup\":\"Yes\",\"orientation\":\"v\",\"showlegend\":true,\"x\":[3.0,3.0,1.0,1.0,3.0,3.0,0.0,0.0,3.0,3.0,2.0,3.0,0.0,null,3.0,1.0,1.0,1.0,1.0,3.0,3.0,1.0,3.0,2.0,1.0,3.0,2.0,1.0,3.0,3.0,2.0,3.0,0.0,1.0,3.0,3.0,1.0,1.0,3.0,3.0,0.0,1.0,3.0,0.0,0.0,1.0,2.0,1.0,3.0,0.0,1.0,0.0,1.0,3.0,3.0,3.0,1.0,2.0,0.0,3.0,2.0,0.0,2.0,1.0,1.0,2.0,2.0,2.0,0.0,0.0,2.0,0.0,3.0,2.0,1.0,0.0,3.0,1.0,1.0,3.0,1.0,0.0,0.0,1.0,1.0,0.0,5.0,3.0,3.0,3.0,0.0,3.0,3.0,1.0,3.0,2.0,3.0,3.0,0.0,0.0,2.0,2.0,0.0,0.0,3.0,1.0,0.0,2.0,1.0,3.0,0.0,1.0,0.0,3.0,1.0,1.0,2.0,2.0,2.0,3.0,0.0,2.0,3.0,3.0,1.0,1.0,3.0,3.0,3.0,1.0,4.0,0.0,3.0,3.0,3.0,1.0,3.0,0.0,1.0,3.0,3.0,3.0,1.0,3.0,1.0,2.0,1.0,2.0,3.0,2.0,0.0,1.0,null,0.0],\"x0\":\" \",\"xaxis\":\"x\",\"y\":[0.88,0.66,0.51,0.54,0.9,0.92,0.54,0.54,0.5,0.89,0.84,0.57,0.55,0.9,0.87,0.87,0.83,0.59,0.71,0.91,0.52,0.54,0.64,0.87,0.68,0.7,0.77,0.86,0.88,0.97,0.8,0.52,0.73,0.88,0.94,0.91,0.85,0.89,0.53,0.87,0.5,0.91,0.63,0.51,0.55,0.83,0.59,0.9,0.77,0.54,0.51,0.75,0.57,0.58,0.53,0.74,0.93,0.81,0.9,0.95,0.51,0.78,0.83,0.8,0.87,0.94,0.94,0.79,0.83,0.87,0.5,0.93,0.77,0.86,0.55,0.85,0.65,0.84,0.82,0.95,0.76,0.91,0.95,0.86,0.54,0.52,0.52,0.61,0.94,0.87,0.55,0.5,0.93,0.9,0.9,0.56,0.62,0.52,0.86,0.75,0.78,0.9,0.67,0.51,0.6,0.8,0.5,0.5,0.52,0.72,0.85,0.72,0.51,0.51,0.88,0.79,0.9,0.82,0.95,0.54,0.53,0.92,0.53,0.74,0.87,0.53,0.87,0.9,0.95,0.52,0.52,0.67,0.92,0.93,0.87,0.64,0.9,0.86,0.9,0.68,0.88,0.66,0.87,0.51,0.55,0.85,0.8,0.9,0.5,0.88,0.58,0.53,0.5,0.55],\"y0\":\" \",\"yaxis\":\"y\",\"type\":\"box\"},{\"alignmentgroup\":\"True\",\"hovertemplate\":\"Smoking Status=No\\u003cbr\\u003eExercise Frequency=%{x}\\u003cbr\\u003eSleep Efficiency=%{y}\\u003cextra\\u003e\\u003c\\u002fextra\\u003e\",\"legendgroup\":\"No\",\"marker\":{\"color\":\"#EF553B\"},\"name\":\"No\",\"notched\":false,\"offsetgroup\":\"No\",\"orientation\":\"v\",\"showlegend\":true,\"x\":[3.0,3.0,1.0,1.0,0.0,3.0,1.0,3.0,5.0,0.0,2.0,1.0,2.0,1.0,2.0,2.0,1.0,3.0,4.0,0.0,3.0,0.0,1.0,0.0,0.0,1.0,0.0,1.0,0.0,0.0,4.0,2.0,3.0,0.0,0.0,3.0,3.0,3.0,1.0,1.0,1.0,4.0,null,1.0,3.0,3.0,2.0,1.0,0.0,4.0,0.0,3.0,3.0,2.0,3.0,0.0,2.0,0.0,0.0,1.0,3.0,0.0,0.0,3.0,2.0,0.0,3.0,0.0,3.0,0.0,0.0,1.0,3.0,2.0,4.0,3.0,2.0,3.0,3.0,4.0,0.0,0.0,3.0,3.0,0.0,3.0,1.0,3.0,4.0,3.0,0.0,3.0,3.0,0.0,1.0,1.0,4.0,4.0,3.0,1.0,1.0,4.0,0.0,3.0,0.0,4.0,3.0,4.0,3.0,1.0,3.0,1.0,0.0,4.0,3.0,0.0,1.0,2.0,4.0,0.0,4.0,4.0,1.0,2.0,0.0,2.0,2.0,0.0,3.0,0.0,0.0,0.0,0.0,4.0,0.0,0.0,2.0,0.0,0.0,4.0,2.0,1.0,3.0,0.0,0.0,4.0,3.0,0.0,4.0,3.0,5.0,2.0,0.0,3.0,1.0,0.0,0.0,1.0,0.0,0.0,4.0,1.0,3.0,4.0,3.0,5.0,1.0,2.0,3.0,1.0,0.0,4.0,4.0,null,1.0,3.0,4.0,3.0,2.0,0.0,3.0,0.0,1.0,4.0,4.0,1.0,4.0,2.0,0.0,0.0,0.0,1.0,3.0,3.0,4.0,0.0,4.0,2.0,0.0,3.0,4.0,1.0,3.0,null,1.0,3.0,1.0,0.0,4.0,3.0,2.0,3.0,0.0,0.0,0.0,2.0,3.0,0.0,1.0,1.0,0.0,0.0,0.0,5.0,5.0,3.0,3.0,0.0,2.0,0.0,1.0,3.0,4.0,2.0,3.0,1.0,3.0,0.0,4.0,0.0,1.0,0.0,1.0,null,1.0,3.0,2.0,1.0,0.0,0.0,1.0,2.0,3.0,0.0,4.0,3.0,0.0,1.0,3.0,1.0,4.0,2.0,0.0,3.0,1.0,0.0,0.0,1.0,4.0,3.0,0.0,2.0,1.0,1.0,0.0,5.0,0.0,0.0,0.0,1.0,4.0,3.0,3.0,4.0,3.0,3.0,4.0,3.0,3.0,3.0,3.0,0.0,1.0,0.0,5.0,3.0,3.0,1.0],\"x0\":\" \",\"xaxis\":\"x\",\"y\":[0.89,0.76,0.9,0.79,0.55,0.93,0.93,0.64,0.92,0.98,0.83,0.71,0.84,0.98,0.88,0.91,0.95,0.65,0.91,0.68,0.94,0.64,0.82,0.63,0.83,0.87,0.77,0.86,0.91,0.81,0.81,0.71,0.71,0.52,0.65,0.84,0.84,0.99,0.71,0.8,0.95,0.91,0.81,0.93,0.85,0.77,0.84,0.87,0.8,0.88,0.77,0.94,0.79,0.81,0.78,0.64,0.88,0.78,0.71,0.77,0.94,0.76,0.73,0.96,0.91,0.8,0.77,0.81,0.71,0.95,0.64,0.94,0.87,0.63,0.9,0.9,0.8,0.93,0.72,0.92,0.62,0.93,0.77,0.94,0.73,0.78,0.94,0.95,0.82,0.83,0.65,0.81,0.87,0.81,0.75,0.6,0.93,0.89,0.7,0.92,0.93,0.95,0.6,0.95,0.72,0.91,0.85,0.9,0.92,0.6,0.89,0.67,0.78,0.95,0.68,0.68,0.94,0.9,0.96,0.91,0.96,0.94,0.63,0.73,0.76,0.68,0.95,0.62,0.91,0.67,0.86,0.73,0.71,0.92,0.79,0.98,0.88,0.86,0.54,0.8,0.61,0.72,0.72,0.96,0.58,0.77,0.95,0.69,0.95,0.82,0.93,0.82,0.94,0.75,0.91,0.87,0.85,0.91,0.71,0.77,0.95,0.85,0.75,0.92,0.78,0.85,0.66,0.63,0.95,0.72,0.93,0.79,0.76,0.76,0.78,0.94,0.93,0.93,0.94,0.78,0.94,0.73,0.9,0.87,0.93,0.9,0.67,0.98,0.66,0.68,0.96,0.81,0.84,0.93,0.87,0.86,0.89,0.94,0.84,0.6,0.93,0.75,0.81,0.84,0.9,0.93,0.8,0.63,0.9,0.9,0.86,0.71,0.87,0.7,0.85,0.87,0.83,0.93,0.75,0.67,0.96,0.68,0.56,0.91,0.9,0.77,0.89,0.9,0.85,0.95,0.9,0.9,0.84,0.82,0.64,0.84,0.86,0.71,0.95,0.95,0.85,0.92,0.75,0.82,0.72,0.87,0.72,0.66,0.66,0.72,0.81,0.88,0.94,0.83,0.91,0.95,0.9,0.62,0.93,0.79,0.91,0.81,0.84,0.83,0.63,0.64,0.91,0.82,0.92,0.82,0.73,0.82,0.74,0.72,0.67,0.87,0.66,0.79,0.8,0.88,0.88,0.93,0.63,0.92,0.92,0.77,0.9,0.96,0.72,0.86,0.9,0.6,0.68,0.67,0.91,0.74,0.76,0.63],\"y0\":\" \",\"yaxis\":\"y\",\"type\":\"box\"}],                        {\"template\":{\"data\":{\"histogram2dcontour\":[{\"type\":\"histogram2dcontour\",\"colorbar\":{\"outlinewidth\":0,\"ticks\":\"\"},\"colorscale\":[[0.0,\"#0d0887\"],[0.1111111111111111,\"#46039f\"],[0.2222222222222222,\"#7201a8\"],[0.3333333333333333,\"#9c179e\"],[0.4444444444444444,\"#bd3786\"],[0.5555555555555556,\"#d8576b\"],[0.6666666666666666,\"#ed7953\"],[0.7777777777777778,\"#fb9f3a\"],[0.8888888888888888,\"#fdca26\"],[1.0,\"#f0f921\"]]}],\"choropleth\":[{\"type\":\"choropleth\",\"colorbar\":{\"outlinewidth\":0,\"ticks\":\"\"}}],\"histogram2d\":[{\"type\":\"histogram2d\",\"colorbar\":{\"outlinewidth\":0,\"ticks\":\"\"},\"colorscale\":[[0.0,\"#0d0887\"],[0.1111111111111111,\"#46039f\"],[0.2222222222222222,\"#7201a8\"],[0.3333333333333333,\"#9c179e\"],[0.4444444444444444,\"#bd3786\"],[0.5555555555555556,\"#d8576b\"],[0.6666666666666666,\"#ed7953\"],[0.7777777777777778,\"#fb9f3a\"],[0.8888888888888888,\"#fdca26\"],[1.0,\"#f0f921\"]]}],\"heatmap\":[{\"type\":\"heatmap\",\"colorbar\":{\"outlinewidth\":0,\"ticks\":\"\"},\"colorscale\":[[0.0,\"#0d0887\"],[0.1111111111111111,\"#46039f\"],[0.2222222222222222,\"#7201a8\"],[0.3333333333333333,\"#9c179e\"],[0.4444444444444444,\"#bd3786\"],[0.5555555555555556,\"#d8576b\"],[0.6666666666666666,\"#ed7953\"],[0.7777777777777778,\"#fb9f3a\"],[0.8888888888888888,\"#fdca26\"],[1.0,\"#f0f921\"]]}],\"heatmapgl\":[{\"type\":\"heatmapgl\",\"colorbar\":{\"outlinewidth\":0,\"ticks\":\"\"},\"colorscale\":[[0.0,\"#0d0887\"],[0.1111111111111111,\"#46039f\"],[0.2222222222222222,\"#7201a8\"],[0.3333333333333333,\"#9c179e\"],[0.4444444444444444,\"#bd3786\"],[0.5555555555555556,\"#d8576b\"],[0.6666666666666666,\"#ed7953\"],[0.7777777777777778,\"#fb9f3a\"],[0.8888888888888888,\"#fdca26\"],[1.0,\"#f0f921\"]]}],\"contourcarpet\":[{\"type\":\"contourcarpet\",\"colorbar\":{\"outlinewidth\":0,\"ticks\":\"\"}}],\"contour\":[{\"type\":\"contour\",\"colorbar\":{\"outlinewidth\":0,\"ticks\":\"\"},\"colorscale\":[[0.0,\"#0d0887\"],[0.1111111111111111,\"#46039f\"],[0.2222222222222222,\"#7201a8\"],[0.3333333333333333,\"#9c179e\"],[0.4444444444444444,\"#bd3786\"],[0.5555555555555556,\"#d8576b\"],[0.6666666666666666,\"#ed7953\"],[0.7777777777777778,\"#fb9f3a\"],[0.8888888888888888,\"#fdca26\"],[1.0,\"#f0f921\"]]}],\"surface\":[{\"type\":\"surface\",\"colorbar\":{\"outlinewidth\":0,\"ticks\":\"\"},\"colorscale\":[[0.0,\"#0d0887\"],[0.1111111111111111,\"#46039f\"],[0.2222222222222222,\"#7201a8\"],[0.3333333333333333,\"#9c179e\"],[0.4444444444444444,\"#bd3786\"],[0.5555555555555556,\"#d8576b\"],[0.6666666666666666,\"#ed7953\"],[0.7777777777777778,\"#fb9f3a\"],[0.8888888888888888,\"#fdca26\"],[1.0,\"#f0f921\"]]}],\"mesh3d\":[{\"type\":\"mesh3d\",\"colorbar\":{\"outlinewidth\":0,\"ticks\":\"\"}}],\"scatter\":[{\"fillpattern\":{\"fillmode\":\"overlay\",\"size\":10,\"solidity\":0.2},\"type\":\"scatter\"}],\"parcoords\":[{\"type\":\"parcoords\",\"line\":{\"colorbar\":{\"outlinewidth\":0,\"ticks\":\"\"}}}],\"scatterpolargl\":[{\"type\":\"scatterpolargl\",\"marker\":{\"colorbar\":{\"outlinewidth\":0,\"ticks\":\"\"}}}],\"bar\":[{\"error_x\":{\"color\":\"#2a3f5f\"},\"error_y\":{\"color\":\"#2a3f5f\"},\"marker\":{\"line\":{\"color\":\"#E5ECF6\",\"width\":0.5},\"pattern\":{\"fillmode\":\"overlay\",\"size\":10,\"solidity\":0.2}},\"type\":\"bar\"}],\"scattergeo\":[{\"type\":\"scattergeo\",\"marker\":{\"colorbar\":{\"outlinewidth\":0,\"ticks\":\"\"}}}],\"scatterpolar\":[{\"type\":\"scatterpolar\",\"marker\":{\"colorbar\":{\"outlinewidth\":0,\"ticks\":\"\"}}}],\"histogram\":[{\"marker\":{\"pattern\":{\"fillmode\":\"overlay\",\"size\":10,\"solidity\":0.2}},\"type\":\"histogram\"}],\"scattergl\":[{\"type\":\"scattergl\",\"marker\":{\"colorbar\":{\"outlinewidth\":0,\"ticks\":\"\"}}}],\"scatter3d\":[{\"type\":\"scatter3d\",\"line\":{\"colorbar\":{\"outlinewidth\":0,\"ticks\":\"\"}},\"marker\":{\"colorbar\":{\"outlinewidth\":0,\"ticks\":\"\"}}}],\"scattermapbox\":[{\"type\":\"scattermapbox\",\"marker\":{\"colorbar\":{\"outlinewidth\":0,\"ticks\":\"\"}}}],\"scatterternary\":[{\"type\":\"scatterternary\",\"marker\":{\"colorbar\":{\"outlinewidth\":0,\"ticks\":\"\"}}}],\"scattercarpet\":[{\"type\":\"scattercarpet\",\"marker\":{\"colorbar\":{\"outlinewidth\":0,\"ticks\":\"\"}}}],\"carpet\":[{\"aaxis\":{\"endlinecolor\":\"#2a3f5f\",\"gridcolor\":\"white\",\"linecolor\":\"white\",\"minorgridcolor\":\"white\",\"startlinecolor\":\"#2a3f5f\"},\"baxis\":{\"endlinecolor\":\"#2a3f5f\",\"gridcolor\":\"white\",\"linecolor\":\"white\",\"minorgridcolor\":\"white\",\"startlinecolor\":\"#2a3f5f\"},\"type\":\"carpet\"}],\"table\":[{\"cells\":{\"fill\":{\"color\":\"#EBF0F8\"},\"line\":{\"color\":\"white\"}},\"header\":{\"fill\":{\"color\":\"#C8D4E3\"},\"line\":{\"color\":\"white\"}},\"type\":\"table\"}],\"barpolar\":[{\"marker\":{\"line\":{\"color\":\"#E5ECF6\",\"width\":0.5},\"pattern\":{\"fillmode\":\"overlay\",\"size\":10,\"solidity\":0.2}},\"type\":\"barpolar\"}],\"pie\":[{\"automargin\":true,\"type\":\"pie\"}]},\"layout\":{\"autotypenumbers\":\"strict\",\"colorway\":[\"#636efa\",\"#EF553B\",\"#00cc96\",\"#ab63fa\",\"#FFA15A\",\"#19d3f3\",\"#FF6692\",\"#B6E880\",\"#FF97FF\",\"#FECB52\"],\"font\":{\"color\":\"#2a3f5f\"},\"hovermode\":\"closest\",\"hoverlabel\":{\"align\":\"left\"},\"paper_bgcolor\":\"white\",\"plot_bgcolor\":\"#E5ECF6\",\"polar\":{\"bgcolor\":\"#E5ECF6\",\"angularaxis\":{\"gridcolor\":\"white\",\"linecolor\":\"white\",\"ticks\":\"\"},\"radialaxis\":{\"gridcolor\":\"white\",\"linecolor\":\"white\",\"ticks\":\"\"}},\"ternary\":{\"bgcolor\":\"#E5ECF6\",\"aaxis\":{\"gridcolor\":\"white\",\"linecolor\":\"white\",\"ticks\":\"\"},\"baxis\":{\"gridcolor\":\"white\",\"linecolor\":\"white\",\"ticks\":\"\"},\"caxis\":{\"gridcolor\":\"white\",\"linecolor\":\"white\",\"ticks\":\"\"}},\"coloraxis\":{\"colorbar\":{\"outlinewidth\":0,\"ticks\":\"\"}},\"colorscale\":{\"sequential\":[[0.0,\"#0d0887\"],[0.1111111111111111,\"#46039f\"],[0.2222222222222222,\"#7201a8\"],[0.3333333333333333,\"#9c179e\"],[0.4444444444444444,\"#bd3786\"],[0.5555555555555556,\"#d8576b\"],[0.6666666666666666,\"#ed7953\"],[0.7777777777777778,\"#fb9f3a\"],[0.8888888888888888,\"#fdca26\"],[1.0,\"#f0f921\"]],\"sequentialminus\":[[0.0,\"#0d0887\"],[0.1111111111111111,\"#46039f\"],[0.2222222222222222,\"#7201a8\"],[0.3333333333333333,\"#9c179e\"],[0.4444444444444444,\"#bd3786\"],[0.5555555555555556,\"#d8576b\"],[0.6666666666666666,\"#ed7953\"],[0.7777777777777778,\"#fb9f3a\"],[0.8888888888888888,\"#fdca26\"],[1.0,\"#f0f921\"]],\"diverging\":[[0,\"#8e0152\"],[0.1,\"#c51b7d\"],[0.2,\"#de77ae\"],[0.3,\"#f1b6da\"],[0.4,\"#fde0ef\"],[0.5,\"#f7f7f7\"],[0.6,\"#e6f5d0\"],[0.7,\"#b8e186\"],[0.8,\"#7fbc41\"],[0.9,\"#4d9221\"],[1,\"#276419\"]]},\"xaxis\":{\"gridcolor\":\"white\",\"linecolor\":\"white\",\"ticks\":\"\",\"title\":{\"standoff\":15},\"zerolinecolor\":\"white\",\"automargin\":true,\"zerolinewidth\":2},\"yaxis\":{\"gridcolor\":\"white\",\"linecolor\":\"white\",\"ticks\":\"\",\"title\":{\"standoff\":15},\"zerolinecolor\":\"white\",\"automargin\":true,\"zerolinewidth\":2},\"scene\":{\"xaxis\":{\"backgroundcolor\":\"#E5ECF6\",\"gridcolor\":\"white\",\"linecolor\":\"white\",\"showbackground\":true,\"ticks\":\"\",\"zerolinecolor\":\"white\",\"gridwidth\":2},\"yaxis\":{\"backgroundcolor\":\"#E5ECF6\",\"gridcolor\":\"white\",\"linecolor\":\"white\",\"showbackground\":true,\"ticks\":\"\",\"zerolinecolor\":\"white\",\"gridwidth\":2},\"zaxis\":{\"backgroundcolor\":\"#E5ECF6\",\"gridcolor\":\"white\",\"linecolor\":\"white\",\"showbackground\":true,\"ticks\":\"\",\"zerolinecolor\":\"white\",\"gridwidth\":2}},\"shapedefaults\":{\"line\":{\"color\":\"#2a3f5f\"}},\"annotationdefaults\":{\"arrowcolor\":\"#2a3f5f\",\"arrowhead\":0,\"arrowwidth\":1},\"geo\":{\"bgcolor\":\"white\",\"landcolor\":\"#E5ECF6\",\"subunitcolor\":\"white\",\"showland\":true,\"showlakes\":true,\"lakecolor\":\"white\"},\"title\":{\"x\":0.05},\"mapbox\":{\"style\":\"light\"}}},\"xaxis\":{\"anchor\":\"y\",\"domain\":[0.0,1.0],\"title\":{\"text\":\"Exercise Frequency\"}},\"yaxis\":{\"anchor\":\"x\",\"domain\":[0.0,1.0],\"title\":{\"text\":\"Sleep Efficiency\"}},\"legend\":{\"title\":{\"text\":\"Smoking Status\"},\"tracegroupgap\":0},\"title\":{\"text\":\"Sleep Efficiency Distribution across External Factors\"},\"boxmode\":\"group\",\"font\":{\"color\":\"white\"},\"plot_bgcolor\":\"rgba(0, 0, 0, 0)\",\"paper_bgcolor\":\"rgba(0, 0, 0, 0.7)\"},                        {\"responsive\": true}                    ).then(function(){\n",
       "                            \n",
       "var gd = document.getElementById('dc1f199b-4149-49ad-b022-c7e41c64f281');\n",
       "var x = new MutationObserver(function (mutations, observer) {{\n",
       "        var display = window.getComputedStyle(gd).display;\n",
       "        if (!display || display === 'none') {{\n",
       "            console.log([gd, 'removed!']);\n",
       "            Plotly.purge(gd);\n",
       "            observer.disconnect();\n",
       "        }}\n",
       "}});\n",
       "\n",
       "// Listen for the removal of the full notebook cells\n",
       "var notebookContainer = gd.closest('#notebook-container');\n",
       "if (notebookContainer) {{\n",
       "    x.observe(notebookContainer, {childList: true});\n",
       "}}\n",
       "\n",
       "// Listen for the clearing of the current output cell\n",
       "var outputEl = gd.closest('.output');\n",
       "if (outputEl) {{\n",
       "    x.observe(outputEl, {childList: true});\n",
       "}}\n",
       "\n",
       "                        })                };                });            </script>        </div>"
      ]
     },
     "metadata": {},
     "output_type": "display_data"
    }
   ],
   "source": [
    "import plotly.express as px\n",
    "\n",
    "# Create the box plot\n",
    "fig = px.box(df, x='Exercise frequency', y='Sleep efficiency',\n",
    "             color='Smoking status', title='Sleep Efficiency Distribution across External Factors',\n",
    "             labels={'Exercise frequency': 'Exercise Frequency',\n",
    "                     'Sleep efficiency': 'Sleep Efficiency',\n",
    "                     'Smoking status': 'Smoking Status'})\n",
    "\n",
    "# Set the layout properties\n",
    "fig.update_layout(\n",
    "    plot_bgcolor='rgba(0, 0, 0, 0)',\n",
    "    paper_bgcolor='rgba(0, 0, 0, 0.7)',\n",
    "    font=dict(color='white')\n",
    ")\n",
    "\n",
    "# Show the box plot\n",
    "fig.show(\n"
   ]
  },
  {
   "cell_type": "code",
   "execution_count": 34,
   "id": "4b6effa2",
   "metadata": {},
   "outputs": [
    {
     "data": {
      "application/vnd.plotly.v1+json": {
       "config": {
        "plotlyServerURL": "https://plot.ly"
       },
       "data": [
        {
         "alignmentgroup": "True",
         "hovertemplate": "Hour of Wake-up Time=%{x}<br>Count=%{y}<extra></extra>",
         "legendgroup": "",
         "marker": {
          "color": "#636efa",
          "pattern": {
           "shape": ""
          }
         },
         "name": "",
         "offsetgroup": "",
         "orientation": "v",
         "showlegend": false,
         "textposition": "auto",
         "type": "bar",
         "x": [
          3,
          4,
          5,
          6,
          7,
          8,
          9,
          10,
          11,
          12
         ],
         "xaxis": "x",
         "y": [
          10,
          43,
          80,
          64,
          78,
          60,
          74,
          35,
          6,
          2
         ],
         "yaxis": "y"
        }
       ],
       "layout": {
        "barmode": "relative",
        "font": {
         "color": "white"
        },
        "legend": {
         "tracegroupgap": 0
        },
        "paper_bgcolor": "rgba(0, 0, 0, 0.7)",
        "plot_bgcolor": "rgba(0, 0, 0, 0)",
        "template": {
         "data": {
          "bar": [
           {
            "error_x": {
             "color": "#2a3f5f"
            },
            "error_y": {
             "color": "#2a3f5f"
            },
            "marker": {
             "line": {
              "color": "#E5ECF6",
              "width": 0.5
             },
             "pattern": {
              "fillmode": "overlay",
              "size": 10,
              "solidity": 0.2
             }
            },
            "type": "bar"
           }
          ],
          "barpolar": [
           {
            "marker": {
             "line": {
              "color": "#E5ECF6",
              "width": 0.5
             },
             "pattern": {
              "fillmode": "overlay",
              "size": 10,
              "solidity": 0.2
             }
            },
            "type": "barpolar"
           }
          ],
          "carpet": [
           {
            "aaxis": {
             "endlinecolor": "#2a3f5f",
             "gridcolor": "white",
             "linecolor": "white",
             "minorgridcolor": "white",
             "startlinecolor": "#2a3f5f"
            },
            "baxis": {
             "endlinecolor": "#2a3f5f",
             "gridcolor": "white",
             "linecolor": "white",
             "minorgridcolor": "white",
             "startlinecolor": "#2a3f5f"
            },
            "type": "carpet"
           }
          ],
          "choropleth": [
           {
            "colorbar": {
             "outlinewidth": 0,
             "ticks": ""
            },
            "type": "choropleth"
           }
          ],
          "contour": [
           {
            "colorbar": {
             "outlinewidth": 0,
             "ticks": ""
            },
            "colorscale": [
             [
              0,
              "#0d0887"
             ],
             [
              0.1111111111111111,
              "#46039f"
             ],
             [
              0.2222222222222222,
              "#7201a8"
             ],
             [
              0.3333333333333333,
              "#9c179e"
             ],
             [
              0.4444444444444444,
              "#bd3786"
             ],
             [
              0.5555555555555556,
              "#d8576b"
             ],
             [
              0.6666666666666666,
              "#ed7953"
             ],
             [
              0.7777777777777778,
              "#fb9f3a"
             ],
             [
              0.8888888888888888,
              "#fdca26"
             ],
             [
              1,
              "#f0f921"
             ]
            ],
            "type": "contour"
           }
          ],
          "contourcarpet": [
           {
            "colorbar": {
             "outlinewidth": 0,
             "ticks": ""
            },
            "type": "contourcarpet"
           }
          ],
          "heatmap": [
           {
            "colorbar": {
             "outlinewidth": 0,
             "ticks": ""
            },
            "colorscale": [
             [
              0,
              "#0d0887"
             ],
             [
              0.1111111111111111,
              "#46039f"
             ],
             [
              0.2222222222222222,
              "#7201a8"
             ],
             [
              0.3333333333333333,
              "#9c179e"
             ],
             [
              0.4444444444444444,
              "#bd3786"
             ],
             [
              0.5555555555555556,
              "#d8576b"
             ],
             [
              0.6666666666666666,
              "#ed7953"
             ],
             [
              0.7777777777777778,
              "#fb9f3a"
             ],
             [
              0.8888888888888888,
              "#fdca26"
             ],
             [
              1,
              "#f0f921"
             ]
            ],
            "type": "heatmap"
           }
          ],
          "heatmapgl": [
           {
            "colorbar": {
             "outlinewidth": 0,
             "ticks": ""
            },
            "colorscale": [
             [
              0,
              "#0d0887"
             ],
             [
              0.1111111111111111,
              "#46039f"
             ],
             [
              0.2222222222222222,
              "#7201a8"
             ],
             [
              0.3333333333333333,
              "#9c179e"
             ],
             [
              0.4444444444444444,
              "#bd3786"
             ],
             [
              0.5555555555555556,
              "#d8576b"
             ],
             [
              0.6666666666666666,
              "#ed7953"
             ],
             [
              0.7777777777777778,
              "#fb9f3a"
             ],
             [
              0.8888888888888888,
              "#fdca26"
             ],
             [
              1,
              "#f0f921"
             ]
            ],
            "type": "heatmapgl"
           }
          ],
          "histogram": [
           {
            "marker": {
             "pattern": {
              "fillmode": "overlay",
              "size": 10,
              "solidity": 0.2
             }
            },
            "type": "histogram"
           }
          ],
          "histogram2d": [
           {
            "colorbar": {
             "outlinewidth": 0,
             "ticks": ""
            },
            "colorscale": [
             [
              0,
              "#0d0887"
             ],
             [
              0.1111111111111111,
              "#46039f"
             ],
             [
              0.2222222222222222,
              "#7201a8"
             ],
             [
              0.3333333333333333,
              "#9c179e"
             ],
             [
              0.4444444444444444,
              "#bd3786"
             ],
             [
              0.5555555555555556,
              "#d8576b"
             ],
             [
              0.6666666666666666,
              "#ed7953"
             ],
             [
              0.7777777777777778,
              "#fb9f3a"
             ],
             [
              0.8888888888888888,
              "#fdca26"
             ],
             [
              1,
              "#f0f921"
             ]
            ],
            "type": "histogram2d"
           }
          ],
          "histogram2dcontour": [
           {
            "colorbar": {
             "outlinewidth": 0,
             "ticks": ""
            },
            "colorscale": [
             [
              0,
              "#0d0887"
             ],
             [
              0.1111111111111111,
              "#46039f"
             ],
             [
              0.2222222222222222,
              "#7201a8"
             ],
             [
              0.3333333333333333,
              "#9c179e"
             ],
             [
              0.4444444444444444,
              "#bd3786"
             ],
             [
              0.5555555555555556,
              "#d8576b"
             ],
             [
              0.6666666666666666,
              "#ed7953"
             ],
             [
              0.7777777777777778,
              "#fb9f3a"
             ],
             [
              0.8888888888888888,
              "#fdca26"
             ],
             [
              1,
              "#f0f921"
             ]
            ],
            "type": "histogram2dcontour"
           }
          ],
          "mesh3d": [
           {
            "colorbar": {
             "outlinewidth": 0,
             "ticks": ""
            },
            "type": "mesh3d"
           }
          ],
          "parcoords": [
           {
            "line": {
             "colorbar": {
              "outlinewidth": 0,
              "ticks": ""
             }
            },
            "type": "parcoords"
           }
          ],
          "pie": [
           {
            "automargin": true,
            "type": "pie"
           }
          ],
          "scatter": [
           {
            "fillpattern": {
             "fillmode": "overlay",
             "size": 10,
             "solidity": 0.2
            },
            "type": "scatter"
           }
          ],
          "scatter3d": [
           {
            "line": {
             "colorbar": {
              "outlinewidth": 0,
              "ticks": ""
             }
            },
            "marker": {
             "colorbar": {
              "outlinewidth": 0,
              "ticks": ""
             }
            },
            "type": "scatter3d"
           }
          ],
          "scattercarpet": [
           {
            "marker": {
             "colorbar": {
              "outlinewidth": 0,
              "ticks": ""
             }
            },
            "type": "scattercarpet"
           }
          ],
          "scattergeo": [
           {
            "marker": {
             "colorbar": {
              "outlinewidth": 0,
              "ticks": ""
             }
            },
            "type": "scattergeo"
           }
          ],
          "scattergl": [
           {
            "marker": {
             "colorbar": {
              "outlinewidth": 0,
              "ticks": ""
             }
            },
            "type": "scattergl"
           }
          ],
          "scattermapbox": [
           {
            "marker": {
             "colorbar": {
              "outlinewidth": 0,
              "ticks": ""
             }
            },
            "type": "scattermapbox"
           }
          ],
          "scatterpolar": [
           {
            "marker": {
             "colorbar": {
              "outlinewidth": 0,
              "ticks": ""
             }
            },
            "type": "scatterpolar"
           }
          ],
          "scatterpolargl": [
           {
            "marker": {
             "colorbar": {
              "outlinewidth": 0,
              "ticks": ""
             }
            },
            "type": "scatterpolargl"
           }
          ],
          "scatterternary": [
           {
            "marker": {
             "colorbar": {
              "outlinewidth": 0,
              "ticks": ""
             }
            },
            "type": "scatterternary"
           }
          ],
          "surface": [
           {
            "colorbar": {
             "outlinewidth": 0,
             "ticks": ""
            },
            "colorscale": [
             [
              0,
              "#0d0887"
             ],
             [
              0.1111111111111111,
              "#46039f"
             ],
             [
              0.2222222222222222,
              "#7201a8"
             ],
             [
              0.3333333333333333,
              "#9c179e"
             ],
             [
              0.4444444444444444,
              "#bd3786"
             ],
             [
              0.5555555555555556,
              "#d8576b"
             ],
             [
              0.6666666666666666,
              "#ed7953"
             ],
             [
              0.7777777777777778,
              "#fb9f3a"
             ],
             [
              0.8888888888888888,
              "#fdca26"
             ],
             [
              1,
              "#f0f921"
             ]
            ],
            "type": "surface"
           }
          ],
          "table": [
           {
            "cells": {
             "fill": {
              "color": "#EBF0F8"
             },
             "line": {
              "color": "white"
             }
            },
            "header": {
             "fill": {
              "color": "#C8D4E3"
             },
             "line": {
              "color": "white"
             }
            },
            "type": "table"
           }
          ]
         },
         "layout": {
          "annotationdefaults": {
           "arrowcolor": "#2a3f5f",
           "arrowhead": 0,
           "arrowwidth": 1
          },
          "autotypenumbers": "strict",
          "coloraxis": {
           "colorbar": {
            "outlinewidth": 0,
            "ticks": ""
           }
          },
          "colorscale": {
           "diverging": [
            [
             0,
             "#8e0152"
            ],
            [
             0.1,
             "#c51b7d"
            ],
            [
             0.2,
             "#de77ae"
            ],
            [
             0.3,
             "#f1b6da"
            ],
            [
             0.4,
             "#fde0ef"
            ],
            [
             0.5,
             "#f7f7f7"
            ],
            [
             0.6,
             "#e6f5d0"
            ],
            [
             0.7,
             "#b8e186"
            ],
            [
             0.8,
             "#7fbc41"
            ],
            [
             0.9,
             "#4d9221"
            ],
            [
             1,
             "#276419"
            ]
           ],
           "sequential": [
            [
             0,
             "#0d0887"
            ],
            [
             0.1111111111111111,
             "#46039f"
            ],
            [
             0.2222222222222222,
             "#7201a8"
            ],
            [
             0.3333333333333333,
             "#9c179e"
            ],
            [
             0.4444444444444444,
             "#bd3786"
            ],
            [
             0.5555555555555556,
             "#d8576b"
            ],
            [
             0.6666666666666666,
             "#ed7953"
            ],
            [
             0.7777777777777778,
             "#fb9f3a"
            ],
            [
             0.8888888888888888,
             "#fdca26"
            ],
            [
             1,
             "#f0f921"
            ]
           ],
           "sequentialminus": [
            [
             0,
             "#0d0887"
            ],
            [
             0.1111111111111111,
             "#46039f"
            ],
            [
             0.2222222222222222,
             "#7201a8"
            ],
            [
             0.3333333333333333,
             "#9c179e"
            ],
            [
             0.4444444444444444,
             "#bd3786"
            ],
            [
             0.5555555555555556,
             "#d8576b"
            ],
            [
             0.6666666666666666,
             "#ed7953"
            ],
            [
             0.7777777777777778,
             "#fb9f3a"
            ],
            [
             0.8888888888888888,
             "#fdca26"
            ],
            [
             1,
             "#f0f921"
            ]
           ]
          },
          "colorway": [
           "#636efa",
           "#EF553B",
           "#00cc96",
           "#ab63fa",
           "#FFA15A",
           "#19d3f3",
           "#FF6692",
           "#B6E880",
           "#FF97FF",
           "#FECB52"
          ],
          "font": {
           "color": "#2a3f5f"
          },
          "geo": {
           "bgcolor": "white",
           "lakecolor": "white",
           "landcolor": "#E5ECF6",
           "showlakes": true,
           "showland": true,
           "subunitcolor": "white"
          },
          "hoverlabel": {
           "align": "left"
          },
          "hovermode": "closest",
          "mapbox": {
           "style": "light"
          },
          "paper_bgcolor": "white",
          "plot_bgcolor": "#E5ECF6",
          "polar": {
           "angularaxis": {
            "gridcolor": "white",
            "linecolor": "white",
            "ticks": ""
           },
           "bgcolor": "#E5ECF6",
           "radialaxis": {
            "gridcolor": "white",
            "linecolor": "white",
            "ticks": ""
           }
          },
          "scene": {
           "xaxis": {
            "backgroundcolor": "#E5ECF6",
            "gridcolor": "white",
            "gridwidth": 2,
            "linecolor": "white",
            "showbackground": true,
            "ticks": "",
            "zerolinecolor": "white"
           },
           "yaxis": {
            "backgroundcolor": "#E5ECF6",
            "gridcolor": "white",
            "gridwidth": 2,
            "linecolor": "white",
            "showbackground": true,
            "ticks": "",
            "zerolinecolor": "white"
           },
           "zaxis": {
            "backgroundcolor": "#E5ECF6",
            "gridcolor": "white",
            "gridwidth": 2,
            "linecolor": "white",
            "showbackground": true,
            "ticks": "",
            "zerolinecolor": "white"
           }
          },
          "shapedefaults": {
           "line": {
            "color": "#2a3f5f"
           }
          },
          "ternary": {
           "aaxis": {
            "gridcolor": "white",
            "linecolor": "white",
            "ticks": ""
           },
           "baxis": {
            "gridcolor": "white",
            "linecolor": "white",
            "ticks": ""
           },
           "bgcolor": "#E5ECF6",
           "caxis": {
            "gridcolor": "white",
            "linecolor": "white",
            "ticks": ""
           }
          },
          "title": {
           "x": 0.05
          },
          "xaxis": {
           "automargin": true,
           "gridcolor": "white",
           "linecolor": "white",
           "ticks": "",
           "title": {
            "standoff": 15
           },
           "zerolinecolor": "white",
           "zerolinewidth": 2
          },
          "yaxis": {
           "automargin": true,
           "gridcolor": "white",
           "linecolor": "white",
           "ticks": "",
           "title": {
            "standoff": 15
           },
           "zerolinecolor": "white",
           "zerolinewidth": 2
          }
         }
        },
        "title": {
         "text": "Distribution of Wake-up Time"
        },
        "xaxis": {
         "anchor": "y",
         "domain": [
          0,
          1
         ],
         "ticktext": [
          "0 AM",
          "1 AM",
          "2 AM",
          "3 AM",
          "4 AM",
          "5 AM",
          "6 AM",
          "7 AM",
          "8 AM",
          "9 AM",
          "10 AM",
          "11 AM",
          "12 PM"
         ],
         "tickvals": [
          0,
          1,
          2,
          3,
          4,
          5,
          6,
          7,
          8,
          9,
          10,
          11,
          12
         ],
         "title": {
          "text": "Hour of Wake-up Time"
         }
        },
        "yaxis": {
         "anchor": "x",
         "domain": [
          0,
          1
         ],
         "title": {
          "text": "Count"
         }
        }
       }
      },
      "text/html": [
       "<div>                            <div id=\"ac193a6f-5533-4189-858c-ef07e9bf97b4\" class=\"plotly-graph-div\" style=\"height:525px; width:100%;\"></div>            <script type=\"text/javascript\">                require([\"plotly\"], function(Plotly) {                    window.PLOTLYENV=window.PLOTLYENV || {};                                    if (document.getElementById(\"ac193a6f-5533-4189-858c-ef07e9bf97b4\")) {                    Plotly.newPlot(                        \"ac193a6f-5533-4189-858c-ef07e9bf97b4\",                        [{\"alignmentgroup\":\"True\",\"hovertemplate\":\"Hour of Wake-up Time=%{x}\\u003cbr\\u003eCount=%{y}\\u003cextra\\u003e\\u003c\\u002fextra\\u003e\",\"legendgroup\":\"\",\"marker\":{\"color\":\"#636efa\",\"pattern\":{\"shape\":\"\"}},\"name\":\"\",\"offsetgroup\":\"\",\"orientation\":\"v\",\"showlegend\":false,\"textposition\":\"auto\",\"x\":[3,4,5,6,7,8,9,10,11,12],\"xaxis\":\"x\",\"y\":[10,43,80,64,78,60,74,35,6,2],\"yaxis\":\"y\",\"type\":\"bar\"}],                        {\"template\":{\"data\":{\"histogram2dcontour\":[{\"type\":\"histogram2dcontour\",\"colorbar\":{\"outlinewidth\":0,\"ticks\":\"\"},\"colorscale\":[[0.0,\"#0d0887\"],[0.1111111111111111,\"#46039f\"],[0.2222222222222222,\"#7201a8\"],[0.3333333333333333,\"#9c179e\"],[0.4444444444444444,\"#bd3786\"],[0.5555555555555556,\"#d8576b\"],[0.6666666666666666,\"#ed7953\"],[0.7777777777777778,\"#fb9f3a\"],[0.8888888888888888,\"#fdca26\"],[1.0,\"#f0f921\"]]}],\"choropleth\":[{\"type\":\"choropleth\",\"colorbar\":{\"outlinewidth\":0,\"ticks\":\"\"}}],\"histogram2d\":[{\"type\":\"histogram2d\",\"colorbar\":{\"outlinewidth\":0,\"ticks\":\"\"},\"colorscale\":[[0.0,\"#0d0887\"],[0.1111111111111111,\"#46039f\"],[0.2222222222222222,\"#7201a8\"],[0.3333333333333333,\"#9c179e\"],[0.4444444444444444,\"#bd3786\"],[0.5555555555555556,\"#d8576b\"],[0.6666666666666666,\"#ed7953\"],[0.7777777777777778,\"#fb9f3a\"],[0.8888888888888888,\"#fdca26\"],[1.0,\"#f0f921\"]]}],\"heatmap\":[{\"type\":\"heatmap\",\"colorbar\":{\"outlinewidth\":0,\"ticks\":\"\"},\"colorscale\":[[0.0,\"#0d0887\"],[0.1111111111111111,\"#46039f\"],[0.2222222222222222,\"#7201a8\"],[0.3333333333333333,\"#9c179e\"],[0.4444444444444444,\"#bd3786\"],[0.5555555555555556,\"#d8576b\"],[0.6666666666666666,\"#ed7953\"],[0.7777777777777778,\"#fb9f3a\"],[0.8888888888888888,\"#fdca26\"],[1.0,\"#f0f921\"]]}],\"heatmapgl\":[{\"type\":\"heatmapgl\",\"colorbar\":{\"outlinewidth\":0,\"ticks\":\"\"},\"colorscale\":[[0.0,\"#0d0887\"],[0.1111111111111111,\"#46039f\"],[0.2222222222222222,\"#7201a8\"],[0.3333333333333333,\"#9c179e\"],[0.4444444444444444,\"#bd3786\"],[0.5555555555555556,\"#d8576b\"],[0.6666666666666666,\"#ed7953\"],[0.7777777777777778,\"#fb9f3a\"],[0.8888888888888888,\"#fdca26\"],[1.0,\"#f0f921\"]]}],\"contourcarpet\":[{\"type\":\"contourcarpet\",\"colorbar\":{\"outlinewidth\":0,\"ticks\":\"\"}}],\"contour\":[{\"type\":\"contour\",\"colorbar\":{\"outlinewidth\":0,\"ticks\":\"\"},\"colorscale\":[[0.0,\"#0d0887\"],[0.1111111111111111,\"#46039f\"],[0.2222222222222222,\"#7201a8\"],[0.3333333333333333,\"#9c179e\"],[0.4444444444444444,\"#bd3786\"],[0.5555555555555556,\"#d8576b\"],[0.6666666666666666,\"#ed7953\"],[0.7777777777777778,\"#fb9f3a\"],[0.8888888888888888,\"#fdca26\"],[1.0,\"#f0f921\"]]}],\"surface\":[{\"type\":\"surface\",\"colorbar\":{\"outlinewidth\":0,\"ticks\":\"\"},\"colorscale\":[[0.0,\"#0d0887\"],[0.1111111111111111,\"#46039f\"],[0.2222222222222222,\"#7201a8\"],[0.3333333333333333,\"#9c179e\"],[0.4444444444444444,\"#bd3786\"],[0.5555555555555556,\"#d8576b\"],[0.6666666666666666,\"#ed7953\"],[0.7777777777777778,\"#fb9f3a\"],[0.8888888888888888,\"#fdca26\"],[1.0,\"#f0f921\"]]}],\"mesh3d\":[{\"type\":\"mesh3d\",\"colorbar\":{\"outlinewidth\":0,\"ticks\":\"\"}}],\"scatter\":[{\"fillpattern\":{\"fillmode\":\"overlay\",\"size\":10,\"solidity\":0.2},\"type\":\"scatter\"}],\"parcoords\":[{\"type\":\"parcoords\",\"line\":{\"colorbar\":{\"outlinewidth\":0,\"ticks\":\"\"}}}],\"scatterpolargl\":[{\"type\":\"scatterpolargl\",\"marker\":{\"colorbar\":{\"outlinewidth\":0,\"ticks\":\"\"}}}],\"bar\":[{\"error_x\":{\"color\":\"#2a3f5f\"},\"error_y\":{\"color\":\"#2a3f5f\"},\"marker\":{\"line\":{\"color\":\"#E5ECF6\",\"width\":0.5},\"pattern\":{\"fillmode\":\"overlay\",\"size\":10,\"solidity\":0.2}},\"type\":\"bar\"}],\"scattergeo\":[{\"type\":\"scattergeo\",\"marker\":{\"colorbar\":{\"outlinewidth\":0,\"ticks\":\"\"}}}],\"scatterpolar\":[{\"type\":\"scatterpolar\",\"marker\":{\"colorbar\":{\"outlinewidth\":0,\"ticks\":\"\"}}}],\"histogram\":[{\"marker\":{\"pattern\":{\"fillmode\":\"overlay\",\"size\":10,\"solidity\":0.2}},\"type\":\"histogram\"}],\"scattergl\":[{\"type\":\"scattergl\",\"marker\":{\"colorbar\":{\"outlinewidth\":0,\"ticks\":\"\"}}}],\"scatter3d\":[{\"type\":\"scatter3d\",\"line\":{\"colorbar\":{\"outlinewidth\":0,\"ticks\":\"\"}},\"marker\":{\"colorbar\":{\"outlinewidth\":0,\"ticks\":\"\"}}}],\"scattermapbox\":[{\"type\":\"scattermapbox\",\"marker\":{\"colorbar\":{\"outlinewidth\":0,\"ticks\":\"\"}}}],\"scatterternary\":[{\"type\":\"scatterternary\",\"marker\":{\"colorbar\":{\"outlinewidth\":0,\"ticks\":\"\"}}}],\"scattercarpet\":[{\"type\":\"scattercarpet\",\"marker\":{\"colorbar\":{\"outlinewidth\":0,\"ticks\":\"\"}}}],\"carpet\":[{\"aaxis\":{\"endlinecolor\":\"#2a3f5f\",\"gridcolor\":\"white\",\"linecolor\":\"white\",\"minorgridcolor\":\"white\",\"startlinecolor\":\"#2a3f5f\"},\"baxis\":{\"endlinecolor\":\"#2a3f5f\",\"gridcolor\":\"white\",\"linecolor\":\"white\",\"minorgridcolor\":\"white\",\"startlinecolor\":\"#2a3f5f\"},\"type\":\"carpet\"}],\"table\":[{\"cells\":{\"fill\":{\"color\":\"#EBF0F8\"},\"line\":{\"color\":\"white\"}},\"header\":{\"fill\":{\"color\":\"#C8D4E3\"},\"line\":{\"color\":\"white\"}},\"type\":\"table\"}],\"barpolar\":[{\"marker\":{\"line\":{\"color\":\"#E5ECF6\",\"width\":0.5},\"pattern\":{\"fillmode\":\"overlay\",\"size\":10,\"solidity\":0.2}},\"type\":\"barpolar\"}],\"pie\":[{\"automargin\":true,\"type\":\"pie\"}]},\"layout\":{\"autotypenumbers\":\"strict\",\"colorway\":[\"#636efa\",\"#EF553B\",\"#00cc96\",\"#ab63fa\",\"#FFA15A\",\"#19d3f3\",\"#FF6692\",\"#B6E880\",\"#FF97FF\",\"#FECB52\"],\"font\":{\"color\":\"#2a3f5f\"},\"hovermode\":\"closest\",\"hoverlabel\":{\"align\":\"left\"},\"paper_bgcolor\":\"white\",\"plot_bgcolor\":\"#E5ECF6\",\"polar\":{\"bgcolor\":\"#E5ECF6\",\"angularaxis\":{\"gridcolor\":\"white\",\"linecolor\":\"white\",\"ticks\":\"\"},\"radialaxis\":{\"gridcolor\":\"white\",\"linecolor\":\"white\",\"ticks\":\"\"}},\"ternary\":{\"bgcolor\":\"#E5ECF6\",\"aaxis\":{\"gridcolor\":\"white\",\"linecolor\":\"white\",\"ticks\":\"\"},\"baxis\":{\"gridcolor\":\"white\",\"linecolor\":\"white\",\"ticks\":\"\"},\"caxis\":{\"gridcolor\":\"white\",\"linecolor\":\"white\",\"ticks\":\"\"}},\"coloraxis\":{\"colorbar\":{\"outlinewidth\":0,\"ticks\":\"\"}},\"colorscale\":{\"sequential\":[[0.0,\"#0d0887\"],[0.1111111111111111,\"#46039f\"],[0.2222222222222222,\"#7201a8\"],[0.3333333333333333,\"#9c179e\"],[0.4444444444444444,\"#bd3786\"],[0.5555555555555556,\"#d8576b\"],[0.6666666666666666,\"#ed7953\"],[0.7777777777777778,\"#fb9f3a\"],[0.8888888888888888,\"#fdca26\"],[1.0,\"#f0f921\"]],\"sequentialminus\":[[0.0,\"#0d0887\"],[0.1111111111111111,\"#46039f\"],[0.2222222222222222,\"#7201a8\"],[0.3333333333333333,\"#9c179e\"],[0.4444444444444444,\"#bd3786\"],[0.5555555555555556,\"#d8576b\"],[0.6666666666666666,\"#ed7953\"],[0.7777777777777778,\"#fb9f3a\"],[0.8888888888888888,\"#fdca26\"],[1.0,\"#f0f921\"]],\"diverging\":[[0,\"#8e0152\"],[0.1,\"#c51b7d\"],[0.2,\"#de77ae\"],[0.3,\"#f1b6da\"],[0.4,\"#fde0ef\"],[0.5,\"#f7f7f7\"],[0.6,\"#e6f5d0\"],[0.7,\"#b8e186\"],[0.8,\"#7fbc41\"],[0.9,\"#4d9221\"],[1,\"#276419\"]]},\"xaxis\":{\"gridcolor\":\"white\",\"linecolor\":\"white\",\"ticks\":\"\",\"title\":{\"standoff\":15},\"zerolinecolor\":\"white\",\"automargin\":true,\"zerolinewidth\":2},\"yaxis\":{\"gridcolor\":\"white\",\"linecolor\":\"white\",\"ticks\":\"\",\"title\":{\"standoff\":15},\"zerolinecolor\":\"white\",\"automargin\":true,\"zerolinewidth\":2},\"scene\":{\"xaxis\":{\"backgroundcolor\":\"#E5ECF6\",\"gridcolor\":\"white\",\"linecolor\":\"white\",\"showbackground\":true,\"ticks\":\"\",\"zerolinecolor\":\"white\",\"gridwidth\":2},\"yaxis\":{\"backgroundcolor\":\"#E5ECF6\",\"gridcolor\":\"white\",\"linecolor\":\"white\",\"showbackground\":true,\"ticks\":\"\",\"zerolinecolor\":\"white\",\"gridwidth\":2},\"zaxis\":{\"backgroundcolor\":\"#E5ECF6\",\"gridcolor\":\"white\",\"linecolor\":\"white\",\"showbackground\":true,\"ticks\":\"\",\"zerolinecolor\":\"white\",\"gridwidth\":2}},\"shapedefaults\":{\"line\":{\"color\":\"#2a3f5f\"}},\"annotationdefaults\":{\"arrowcolor\":\"#2a3f5f\",\"arrowhead\":0,\"arrowwidth\":1},\"geo\":{\"bgcolor\":\"white\",\"landcolor\":\"#E5ECF6\",\"subunitcolor\":\"white\",\"showland\":true,\"showlakes\":true,\"lakecolor\":\"white\"},\"title\":{\"x\":0.05},\"mapbox\":{\"style\":\"light\"}}},\"xaxis\":{\"anchor\":\"y\",\"domain\":[0.0,1.0],\"title\":{\"text\":\"Hour of Wake-up Time\"},\"tickvals\":[0,1,2,3,4,5,6,7,8,9,10,11,12],\"ticktext\":[\"0 AM\",\"1 AM\",\"2 AM\",\"3 AM\",\"4 AM\",\"5 AM\",\"6 AM\",\"7 AM\",\"8 AM\",\"9 AM\",\"10 AM\",\"11 AM\",\"12 PM\"]},\"yaxis\":{\"anchor\":\"x\",\"domain\":[0.0,1.0],\"title\":{\"text\":\"Count\"}},\"legend\":{\"tracegroupgap\":0},\"title\":{\"text\":\"Distribution of Wake-up Time\"},\"barmode\":\"relative\",\"font\":{\"color\":\"white\"},\"plot_bgcolor\":\"rgba(0, 0, 0, 0)\",\"paper_bgcolor\":\"rgba(0, 0, 0, 0.7)\"},                        {\"responsive\": true}                    ).then(function(){\n",
       "                            \n",
       "var gd = document.getElementById('ac193a6f-5533-4189-858c-ef07e9bf97b4');\n",
       "var x = new MutationObserver(function (mutations, observer) {{\n",
       "        var display = window.getComputedStyle(gd).display;\n",
       "        if (!display || display === 'none') {{\n",
       "            console.log([gd, 'removed!']);\n",
       "            Plotly.purge(gd);\n",
       "            observer.disconnect();\n",
       "        }}\n",
       "}});\n",
       "\n",
       "// Listen for the removal of the full notebook cells\n",
       "var notebookContainer = gd.closest('#notebook-container');\n",
       "if (notebookContainer) {{\n",
       "    x.observe(notebookContainer, {childList: true});\n",
       "}}\n",
       "\n",
       "// Listen for the clearing of the current output cell\n",
       "var outputEl = gd.closest('.output');\n",
       "if (outputEl) {{\n",
       "    x.observe(outputEl, {childList: true});\n",
       "}}\n",
       "\n",
       "                        })                };                });            </script>        </div>"
      ]
     },
     "metadata": {},
     "output_type": "display_data"
    },
    {
     "data": {
      "application/vnd.plotly.v1+json": {
       "config": {
        "plotlyServerURL": "https://plot.ly"
       },
       "data": [
        {
         "alignmentgroup": "True",
         "hovertemplate": "Hour of Bedtime=%{x}<br>Count=%{y}<extra></extra>",
         "legendgroup": "",
         "marker": {
          "color": "#636efa",
          "pattern": {
           "shape": ""
          }
         },
         "name": "",
         "offsetgroup": "",
         "orientation": "v",
         "showlegend": false,
         "textposition": "auto",
         "type": "bar",
         "x": [
          0,
          1,
          2,
          21,
          22,
          23
         ],
         "xaxis": "x",
         "y": [
          110,
          67,
          64,
          73,
          83,
          55
         ],
         "yaxis": "y"
        }
       ],
       "layout": {
        "barmode": "relative",
        "font": {
         "color": "white"
        },
        "legend": {
         "tracegroupgap": 0
        },
        "paper_bgcolor": "rgba(0, 0, 0, 0.7)",
        "plot_bgcolor": "rgba(0, 0, 0, 0)",
        "template": {
         "data": {
          "bar": [
           {
            "error_x": {
             "color": "#2a3f5f"
            },
            "error_y": {
             "color": "#2a3f5f"
            },
            "marker": {
             "line": {
              "color": "#E5ECF6",
              "width": 0.5
             },
             "pattern": {
              "fillmode": "overlay",
              "size": 10,
              "solidity": 0.2
             }
            },
            "type": "bar"
           }
          ],
          "barpolar": [
           {
            "marker": {
             "line": {
              "color": "#E5ECF6",
              "width": 0.5
             },
             "pattern": {
              "fillmode": "overlay",
              "size": 10,
              "solidity": 0.2
             }
            },
            "type": "barpolar"
           }
          ],
          "carpet": [
           {
            "aaxis": {
             "endlinecolor": "#2a3f5f",
             "gridcolor": "white",
             "linecolor": "white",
             "minorgridcolor": "white",
             "startlinecolor": "#2a3f5f"
            },
            "baxis": {
             "endlinecolor": "#2a3f5f",
             "gridcolor": "white",
             "linecolor": "white",
             "minorgridcolor": "white",
             "startlinecolor": "#2a3f5f"
            },
            "type": "carpet"
           }
          ],
          "choropleth": [
           {
            "colorbar": {
             "outlinewidth": 0,
             "ticks": ""
            },
            "type": "choropleth"
           }
          ],
          "contour": [
           {
            "colorbar": {
             "outlinewidth": 0,
             "ticks": ""
            },
            "colorscale": [
             [
              0,
              "#0d0887"
             ],
             [
              0.1111111111111111,
              "#46039f"
             ],
             [
              0.2222222222222222,
              "#7201a8"
             ],
             [
              0.3333333333333333,
              "#9c179e"
             ],
             [
              0.4444444444444444,
              "#bd3786"
             ],
             [
              0.5555555555555556,
              "#d8576b"
             ],
             [
              0.6666666666666666,
              "#ed7953"
             ],
             [
              0.7777777777777778,
              "#fb9f3a"
             ],
             [
              0.8888888888888888,
              "#fdca26"
             ],
             [
              1,
              "#f0f921"
             ]
            ],
            "type": "contour"
           }
          ],
          "contourcarpet": [
           {
            "colorbar": {
             "outlinewidth": 0,
             "ticks": ""
            },
            "type": "contourcarpet"
           }
          ],
          "heatmap": [
           {
            "colorbar": {
             "outlinewidth": 0,
             "ticks": ""
            },
            "colorscale": [
             [
              0,
              "#0d0887"
             ],
             [
              0.1111111111111111,
              "#46039f"
             ],
             [
              0.2222222222222222,
              "#7201a8"
             ],
             [
              0.3333333333333333,
              "#9c179e"
             ],
             [
              0.4444444444444444,
              "#bd3786"
             ],
             [
              0.5555555555555556,
              "#d8576b"
             ],
             [
              0.6666666666666666,
              "#ed7953"
             ],
             [
              0.7777777777777778,
              "#fb9f3a"
             ],
             [
              0.8888888888888888,
              "#fdca26"
             ],
             [
              1,
              "#f0f921"
             ]
            ],
            "type": "heatmap"
           }
          ],
          "heatmapgl": [
           {
            "colorbar": {
             "outlinewidth": 0,
             "ticks": ""
            },
            "colorscale": [
             [
              0,
              "#0d0887"
             ],
             [
              0.1111111111111111,
              "#46039f"
             ],
             [
              0.2222222222222222,
              "#7201a8"
             ],
             [
              0.3333333333333333,
              "#9c179e"
             ],
             [
              0.4444444444444444,
              "#bd3786"
             ],
             [
              0.5555555555555556,
              "#d8576b"
             ],
             [
              0.6666666666666666,
              "#ed7953"
             ],
             [
              0.7777777777777778,
              "#fb9f3a"
             ],
             [
              0.8888888888888888,
              "#fdca26"
             ],
             [
              1,
              "#f0f921"
             ]
            ],
            "type": "heatmapgl"
           }
          ],
          "histogram": [
           {
            "marker": {
             "pattern": {
              "fillmode": "overlay",
              "size": 10,
              "solidity": 0.2
             }
            },
            "type": "histogram"
           }
          ],
          "histogram2d": [
           {
            "colorbar": {
             "outlinewidth": 0,
             "ticks": ""
            },
            "colorscale": [
             [
              0,
              "#0d0887"
             ],
             [
              0.1111111111111111,
              "#46039f"
             ],
             [
              0.2222222222222222,
              "#7201a8"
             ],
             [
              0.3333333333333333,
              "#9c179e"
             ],
             [
              0.4444444444444444,
              "#bd3786"
             ],
             [
              0.5555555555555556,
              "#d8576b"
             ],
             [
              0.6666666666666666,
              "#ed7953"
             ],
             [
              0.7777777777777778,
              "#fb9f3a"
             ],
             [
              0.8888888888888888,
              "#fdca26"
             ],
             [
              1,
              "#f0f921"
             ]
            ],
            "type": "histogram2d"
           }
          ],
          "histogram2dcontour": [
           {
            "colorbar": {
             "outlinewidth": 0,
             "ticks": ""
            },
            "colorscale": [
             [
              0,
              "#0d0887"
             ],
             [
              0.1111111111111111,
              "#46039f"
             ],
             [
              0.2222222222222222,
              "#7201a8"
             ],
             [
              0.3333333333333333,
              "#9c179e"
             ],
             [
              0.4444444444444444,
              "#bd3786"
             ],
             [
              0.5555555555555556,
              "#d8576b"
             ],
             [
              0.6666666666666666,
              "#ed7953"
             ],
             [
              0.7777777777777778,
              "#fb9f3a"
             ],
             [
              0.8888888888888888,
              "#fdca26"
             ],
             [
              1,
              "#f0f921"
             ]
            ],
            "type": "histogram2dcontour"
           }
          ],
          "mesh3d": [
           {
            "colorbar": {
             "outlinewidth": 0,
             "ticks": ""
            },
            "type": "mesh3d"
           }
          ],
          "parcoords": [
           {
            "line": {
             "colorbar": {
              "outlinewidth": 0,
              "ticks": ""
             }
            },
            "type": "parcoords"
           }
          ],
          "pie": [
           {
            "automargin": true,
            "type": "pie"
           }
          ],
          "scatter": [
           {
            "fillpattern": {
             "fillmode": "overlay",
             "size": 10,
             "solidity": 0.2
            },
            "type": "scatter"
           }
          ],
          "scatter3d": [
           {
            "line": {
             "colorbar": {
              "outlinewidth": 0,
              "ticks": ""
             }
            },
            "marker": {
             "colorbar": {
              "outlinewidth": 0,
              "ticks": ""
             }
            },
            "type": "scatter3d"
           }
          ],
          "scattercarpet": [
           {
            "marker": {
             "colorbar": {
              "outlinewidth": 0,
              "ticks": ""
             }
            },
            "type": "scattercarpet"
           }
          ],
          "scattergeo": [
           {
            "marker": {
             "colorbar": {
              "outlinewidth": 0,
              "ticks": ""
             }
            },
            "type": "scattergeo"
           }
          ],
          "scattergl": [
           {
            "marker": {
             "colorbar": {
              "outlinewidth": 0,
              "ticks": ""
             }
            },
            "type": "scattergl"
           }
          ],
          "scattermapbox": [
           {
            "marker": {
             "colorbar": {
              "outlinewidth": 0,
              "ticks": ""
             }
            },
            "type": "scattermapbox"
           }
          ],
          "scatterpolar": [
           {
            "marker": {
             "colorbar": {
              "outlinewidth": 0,
              "ticks": ""
             }
            },
            "type": "scatterpolar"
           }
          ],
          "scatterpolargl": [
           {
            "marker": {
             "colorbar": {
              "outlinewidth": 0,
              "ticks": ""
             }
            },
            "type": "scatterpolargl"
           }
          ],
          "scatterternary": [
           {
            "marker": {
             "colorbar": {
              "outlinewidth": 0,
              "ticks": ""
             }
            },
            "type": "scatterternary"
           }
          ],
          "surface": [
           {
            "colorbar": {
             "outlinewidth": 0,
             "ticks": ""
            },
            "colorscale": [
             [
              0,
              "#0d0887"
             ],
             [
              0.1111111111111111,
              "#46039f"
             ],
             [
              0.2222222222222222,
              "#7201a8"
             ],
             [
              0.3333333333333333,
              "#9c179e"
             ],
             [
              0.4444444444444444,
              "#bd3786"
             ],
             [
              0.5555555555555556,
              "#d8576b"
             ],
             [
              0.6666666666666666,
              "#ed7953"
             ],
             [
              0.7777777777777778,
              "#fb9f3a"
             ],
             [
              0.8888888888888888,
              "#fdca26"
             ],
             [
              1,
              "#f0f921"
             ]
            ],
            "type": "surface"
           }
          ],
          "table": [
           {
            "cells": {
             "fill": {
              "color": "#EBF0F8"
             },
             "line": {
              "color": "white"
             }
            },
            "header": {
             "fill": {
              "color": "#C8D4E3"
             },
             "line": {
              "color": "white"
             }
            },
            "type": "table"
           }
          ]
         },
         "layout": {
          "annotationdefaults": {
           "arrowcolor": "#2a3f5f",
           "arrowhead": 0,
           "arrowwidth": 1
          },
          "autotypenumbers": "strict",
          "coloraxis": {
           "colorbar": {
            "outlinewidth": 0,
            "ticks": ""
           }
          },
          "colorscale": {
           "diverging": [
            [
             0,
             "#8e0152"
            ],
            [
             0.1,
             "#c51b7d"
            ],
            [
             0.2,
             "#de77ae"
            ],
            [
             0.3,
             "#f1b6da"
            ],
            [
             0.4,
             "#fde0ef"
            ],
            [
             0.5,
             "#f7f7f7"
            ],
            [
             0.6,
             "#e6f5d0"
            ],
            [
             0.7,
             "#b8e186"
            ],
            [
             0.8,
             "#7fbc41"
            ],
            [
             0.9,
             "#4d9221"
            ],
            [
             1,
             "#276419"
            ]
           ],
           "sequential": [
            [
             0,
             "#0d0887"
            ],
            [
             0.1111111111111111,
             "#46039f"
            ],
            [
             0.2222222222222222,
             "#7201a8"
            ],
            [
             0.3333333333333333,
             "#9c179e"
            ],
            [
             0.4444444444444444,
             "#bd3786"
            ],
            [
             0.5555555555555556,
             "#d8576b"
            ],
            [
             0.6666666666666666,
             "#ed7953"
            ],
            [
             0.7777777777777778,
             "#fb9f3a"
            ],
            [
             0.8888888888888888,
             "#fdca26"
            ],
            [
             1,
             "#f0f921"
            ]
           ],
           "sequentialminus": [
            [
             0,
             "#0d0887"
            ],
            [
             0.1111111111111111,
             "#46039f"
            ],
            [
             0.2222222222222222,
             "#7201a8"
            ],
            [
             0.3333333333333333,
             "#9c179e"
            ],
            [
             0.4444444444444444,
             "#bd3786"
            ],
            [
             0.5555555555555556,
             "#d8576b"
            ],
            [
             0.6666666666666666,
             "#ed7953"
            ],
            [
             0.7777777777777778,
             "#fb9f3a"
            ],
            [
             0.8888888888888888,
             "#fdca26"
            ],
            [
             1,
             "#f0f921"
            ]
           ]
          },
          "colorway": [
           "#636efa",
           "#EF553B",
           "#00cc96",
           "#ab63fa",
           "#FFA15A",
           "#19d3f3",
           "#FF6692",
           "#B6E880",
           "#FF97FF",
           "#FECB52"
          ],
          "font": {
           "color": "#2a3f5f"
          },
          "geo": {
           "bgcolor": "white",
           "lakecolor": "white",
           "landcolor": "#E5ECF6",
           "showlakes": true,
           "showland": true,
           "subunitcolor": "white"
          },
          "hoverlabel": {
           "align": "left"
          },
          "hovermode": "closest",
          "mapbox": {
           "style": "light"
          },
          "paper_bgcolor": "white",
          "plot_bgcolor": "#E5ECF6",
          "polar": {
           "angularaxis": {
            "gridcolor": "white",
            "linecolor": "white",
            "ticks": ""
           },
           "bgcolor": "#E5ECF6",
           "radialaxis": {
            "gridcolor": "white",
            "linecolor": "white",
            "ticks": ""
           }
          },
          "scene": {
           "xaxis": {
            "backgroundcolor": "#E5ECF6",
            "gridcolor": "white",
            "gridwidth": 2,
            "linecolor": "white",
            "showbackground": true,
            "ticks": "",
            "zerolinecolor": "white"
           },
           "yaxis": {
            "backgroundcolor": "#E5ECF6",
            "gridcolor": "white",
            "gridwidth": 2,
            "linecolor": "white",
            "showbackground": true,
            "ticks": "",
            "zerolinecolor": "white"
           },
           "zaxis": {
            "backgroundcolor": "#E5ECF6",
            "gridcolor": "white",
            "gridwidth": 2,
            "linecolor": "white",
            "showbackground": true,
            "ticks": "",
            "zerolinecolor": "white"
           }
          },
          "shapedefaults": {
           "line": {
            "color": "#2a3f5f"
           }
          },
          "ternary": {
           "aaxis": {
            "gridcolor": "white",
            "linecolor": "white",
            "ticks": ""
           },
           "baxis": {
            "gridcolor": "white",
            "linecolor": "white",
            "ticks": ""
           },
           "bgcolor": "#E5ECF6",
           "caxis": {
            "gridcolor": "white",
            "linecolor": "white",
            "ticks": ""
           }
          },
          "title": {
           "x": 0.05
          },
          "xaxis": {
           "automargin": true,
           "gridcolor": "white",
           "linecolor": "white",
           "ticks": "",
           "title": {
            "standoff": 15
           },
           "zerolinecolor": "white",
           "zerolinewidth": 2
          },
          "yaxis": {
           "automargin": true,
           "gridcolor": "white",
           "linecolor": "white",
           "ticks": "",
           "title": {
            "standoff": 15
           },
           "zerolinecolor": "white",
           "zerolinewidth": 2
          }
         }
        },
        "title": {
         "text": "Distribution of Bedtime"
        },
        "xaxis": {
         "anchor": "y",
         "domain": [
          0,
          1
         ],
         "range": [
          21,
          27
         ],
         "ticktext": [
          "21 PM",
          "22 PM",
          "23 PM",
          "12 AM",
          "25 PM",
          "26 PM",
          "27 PM"
         ],
         "tickvals": [
          21,
          22,
          23,
          24,
          25,
          26,
          27
         ],
         "title": {
          "text": "Hour of Bedtime"
         }
        },
        "yaxis": {
         "anchor": "x",
         "domain": [
          0,
          1
         ],
         "title": {
          "text": "Count"
         }
        }
       }
      },
      "text/html": [
       "<div>                            <div id=\"5ca5a348-2e54-431d-a704-0f9fb20de610\" class=\"plotly-graph-div\" style=\"height:525px; width:100%;\"></div>            <script type=\"text/javascript\">                require([\"plotly\"], function(Plotly) {                    window.PLOTLYENV=window.PLOTLYENV || {};                                    if (document.getElementById(\"5ca5a348-2e54-431d-a704-0f9fb20de610\")) {                    Plotly.newPlot(                        \"5ca5a348-2e54-431d-a704-0f9fb20de610\",                        [{\"alignmentgroup\":\"True\",\"hovertemplate\":\"Hour of Bedtime=%{x}\\u003cbr\\u003eCount=%{y}\\u003cextra\\u003e\\u003c\\u002fextra\\u003e\",\"legendgroup\":\"\",\"marker\":{\"color\":\"#636efa\",\"pattern\":{\"shape\":\"\"}},\"name\":\"\",\"offsetgroup\":\"\",\"orientation\":\"v\",\"showlegend\":false,\"textposition\":\"auto\",\"x\":[0,1,2,21,22,23],\"xaxis\":\"x\",\"y\":[110,67,64,73,83,55],\"yaxis\":\"y\",\"type\":\"bar\"}],                        {\"template\":{\"data\":{\"histogram2dcontour\":[{\"type\":\"histogram2dcontour\",\"colorbar\":{\"outlinewidth\":0,\"ticks\":\"\"},\"colorscale\":[[0.0,\"#0d0887\"],[0.1111111111111111,\"#46039f\"],[0.2222222222222222,\"#7201a8\"],[0.3333333333333333,\"#9c179e\"],[0.4444444444444444,\"#bd3786\"],[0.5555555555555556,\"#d8576b\"],[0.6666666666666666,\"#ed7953\"],[0.7777777777777778,\"#fb9f3a\"],[0.8888888888888888,\"#fdca26\"],[1.0,\"#f0f921\"]]}],\"choropleth\":[{\"type\":\"choropleth\",\"colorbar\":{\"outlinewidth\":0,\"ticks\":\"\"}}],\"histogram2d\":[{\"type\":\"histogram2d\",\"colorbar\":{\"outlinewidth\":0,\"ticks\":\"\"},\"colorscale\":[[0.0,\"#0d0887\"],[0.1111111111111111,\"#46039f\"],[0.2222222222222222,\"#7201a8\"],[0.3333333333333333,\"#9c179e\"],[0.4444444444444444,\"#bd3786\"],[0.5555555555555556,\"#d8576b\"],[0.6666666666666666,\"#ed7953\"],[0.7777777777777778,\"#fb9f3a\"],[0.8888888888888888,\"#fdca26\"],[1.0,\"#f0f921\"]]}],\"heatmap\":[{\"type\":\"heatmap\",\"colorbar\":{\"outlinewidth\":0,\"ticks\":\"\"},\"colorscale\":[[0.0,\"#0d0887\"],[0.1111111111111111,\"#46039f\"],[0.2222222222222222,\"#7201a8\"],[0.3333333333333333,\"#9c179e\"],[0.4444444444444444,\"#bd3786\"],[0.5555555555555556,\"#d8576b\"],[0.6666666666666666,\"#ed7953\"],[0.7777777777777778,\"#fb9f3a\"],[0.8888888888888888,\"#fdca26\"],[1.0,\"#f0f921\"]]}],\"heatmapgl\":[{\"type\":\"heatmapgl\",\"colorbar\":{\"outlinewidth\":0,\"ticks\":\"\"},\"colorscale\":[[0.0,\"#0d0887\"],[0.1111111111111111,\"#46039f\"],[0.2222222222222222,\"#7201a8\"],[0.3333333333333333,\"#9c179e\"],[0.4444444444444444,\"#bd3786\"],[0.5555555555555556,\"#d8576b\"],[0.6666666666666666,\"#ed7953\"],[0.7777777777777778,\"#fb9f3a\"],[0.8888888888888888,\"#fdca26\"],[1.0,\"#f0f921\"]]}],\"contourcarpet\":[{\"type\":\"contourcarpet\",\"colorbar\":{\"outlinewidth\":0,\"ticks\":\"\"}}],\"contour\":[{\"type\":\"contour\",\"colorbar\":{\"outlinewidth\":0,\"ticks\":\"\"},\"colorscale\":[[0.0,\"#0d0887\"],[0.1111111111111111,\"#46039f\"],[0.2222222222222222,\"#7201a8\"],[0.3333333333333333,\"#9c179e\"],[0.4444444444444444,\"#bd3786\"],[0.5555555555555556,\"#d8576b\"],[0.6666666666666666,\"#ed7953\"],[0.7777777777777778,\"#fb9f3a\"],[0.8888888888888888,\"#fdca26\"],[1.0,\"#f0f921\"]]}],\"surface\":[{\"type\":\"surface\",\"colorbar\":{\"outlinewidth\":0,\"ticks\":\"\"},\"colorscale\":[[0.0,\"#0d0887\"],[0.1111111111111111,\"#46039f\"],[0.2222222222222222,\"#7201a8\"],[0.3333333333333333,\"#9c179e\"],[0.4444444444444444,\"#bd3786\"],[0.5555555555555556,\"#d8576b\"],[0.6666666666666666,\"#ed7953\"],[0.7777777777777778,\"#fb9f3a\"],[0.8888888888888888,\"#fdca26\"],[1.0,\"#f0f921\"]]}],\"mesh3d\":[{\"type\":\"mesh3d\",\"colorbar\":{\"outlinewidth\":0,\"ticks\":\"\"}}],\"scatter\":[{\"fillpattern\":{\"fillmode\":\"overlay\",\"size\":10,\"solidity\":0.2},\"type\":\"scatter\"}],\"parcoords\":[{\"type\":\"parcoords\",\"line\":{\"colorbar\":{\"outlinewidth\":0,\"ticks\":\"\"}}}],\"scatterpolargl\":[{\"type\":\"scatterpolargl\",\"marker\":{\"colorbar\":{\"outlinewidth\":0,\"ticks\":\"\"}}}],\"bar\":[{\"error_x\":{\"color\":\"#2a3f5f\"},\"error_y\":{\"color\":\"#2a3f5f\"},\"marker\":{\"line\":{\"color\":\"#E5ECF6\",\"width\":0.5},\"pattern\":{\"fillmode\":\"overlay\",\"size\":10,\"solidity\":0.2}},\"type\":\"bar\"}],\"scattergeo\":[{\"type\":\"scattergeo\",\"marker\":{\"colorbar\":{\"outlinewidth\":0,\"ticks\":\"\"}}}],\"scatterpolar\":[{\"type\":\"scatterpolar\",\"marker\":{\"colorbar\":{\"outlinewidth\":0,\"ticks\":\"\"}}}],\"histogram\":[{\"marker\":{\"pattern\":{\"fillmode\":\"overlay\",\"size\":10,\"solidity\":0.2}},\"type\":\"histogram\"}],\"scattergl\":[{\"type\":\"scattergl\",\"marker\":{\"colorbar\":{\"outlinewidth\":0,\"ticks\":\"\"}}}],\"scatter3d\":[{\"type\":\"scatter3d\",\"line\":{\"colorbar\":{\"outlinewidth\":0,\"ticks\":\"\"}},\"marker\":{\"colorbar\":{\"outlinewidth\":0,\"ticks\":\"\"}}}],\"scattermapbox\":[{\"type\":\"scattermapbox\",\"marker\":{\"colorbar\":{\"outlinewidth\":0,\"ticks\":\"\"}}}],\"scatterternary\":[{\"type\":\"scatterternary\",\"marker\":{\"colorbar\":{\"outlinewidth\":0,\"ticks\":\"\"}}}],\"scattercarpet\":[{\"type\":\"scattercarpet\",\"marker\":{\"colorbar\":{\"outlinewidth\":0,\"ticks\":\"\"}}}],\"carpet\":[{\"aaxis\":{\"endlinecolor\":\"#2a3f5f\",\"gridcolor\":\"white\",\"linecolor\":\"white\",\"minorgridcolor\":\"white\",\"startlinecolor\":\"#2a3f5f\"},\"baxis\":{\"endlinecolor\":\"#2a3f5f\",\"gridcolor\":\"white\",\"linecolor\":\"white\",\"minorgridcolor\":\"white\",\"startlinecolor\":\"#2a3f5f\"},\"type\":\"carpet\"}],\"table\":[{\"cells\":{\"fill\":{\"color\":\"#EBF0F8\"},\"line\":{\"color\":\"white\"}},\"header\":{\"fill\":{\"color\":\"#C8D4E3\"},\"line\":{\"color\":\"white\"}},\"type\":\"table\"}],\"barpolar\":[{\"marker\":{\"line\":{\"color\":\"#E5ECF6\",\"width\":0.5},\"pattern\":{\"fillmode\":\"overlay\",\"size\":10,\"solidity\":0.2}},\"type\":\"barpolar\"}],\"pie\":[{\"automargin\":true,\"type\":\"pie\"}]},\"layout\":{\"autotypenumbers\":\"strict\",\"colorway\":[\"#636efa\",\"#EF553B\",\"#00cc96\",\"#ab63fa\",\"#FFA15A\",\"#19d3f3\",\"#FF6692\",\"#B6E880\",\"#FF97FF\",\"#FECB52\"],\"font\":{\"color\":\"#2a3f5f\"},\"hovermode\":\"closest\",\"hoverlabel\":{\"align\":\"left\"},\"paper_bgcolor\":\"white\",\"plot_bgcolor\":\"#E5ECF6\",\"polar\":{\"bgcolor\":\"#E5ECF6\",\"angularaxis\":{\"gridcolor\":\"white\",\"linecolor\":\"white\",\"ticks\":\"\"},\"radialaxis\":{\"gridcolor\":\"white\",\"linecolor\":\"white\",\"ticks\":\"\"}},\"ternary\":{\"bgcolor\":\"#E5ECF6\",\"aaxis\":{\"gridcolor\":\"white\",\"linecolor\":\"white\",\"ticks\":\"\"},\"baxis\":{\"gridcolor\":\"white\",\"linecolor\":\"white\",\"ticks\":\"\"},\"caxis\":{\"gridcolor\":\"white\",\"linecolor\":\"white\",\"ticks\":\"\"}},\"coloraxis\":{\"colorbar\":{\"outlinewidth\":0,\"ticks\":\"\"}},\"colorscale\":{\"sequential\":[[0.0,\"#0d0887\"],[0.1111111111111111,\"#46039f\"],[0.2222222222222222,\"#7201a8\"],[0.3333333333333333,\"#9c179e\"],[0.4444444444444444,\"#bd3786\"],[0.5555555555555556,\"#d8576b\"],[0.6666666666666666,\"#ed7953\"],[0.7777777777777778,\"#fb9f3a\"],[0.8888888888888888,\"#fdca26\"],[1.0,\"#f0f921\"]],\"sequentialminus\":[[0.0,\"#0d0887\"],[0.1111111111111111,\"#46039f\"],[0.2222222222222222,\"#7201a8\"],[0.3333333333333333,\"#9c179e\"],[0.4444444444444444,\"#bd3786\"],[0.5555555555555556,\"#d8576b\"],[0.6666666666666666,\"#ed7953\"],[0.7777777777777778,\"#fb9f3a\"],[0.8888888888888888,\"#fdca26\"],[1.0,\"#f0f921\"]],\"diverging\":[[0,\"#8e0152\"],[0.1,\"#c51b7d\"],[0.2,\"#de77ae\"],[0.3,\"#f1b6da\"],[0.4,\"#fde0ef\"],[0.5,\"#f7f7f7\"],[0.6,\"#e6f5d0\"],[0.7,\"#b8e186\"],[0.8,\"#7fbc41\"],[0.9,\"#4d9221\"],[1,\"#276419\"]]},\"xaxis\":{\"gridcolor\":\"white\",\"linecolor\":\"white\",\"ticks\":\"\",\"title\":{\"standoff\":15},\"zerolinecolor\":\"white\",\"automargin\":true,\"zerolinewidth\":2},\"yaxis\":{\"gridcolor\":\"white\",\"linecolor\":\"white\",\"ticks\":\"\",\"title\":{\"standoff\":15},\"zerolinecolor\":\"white\",\"automargin\":true,\"zerolinewidth\":2},\"scene\":{\"xaxis\":{\"backgroundcolor\":\"#E5ECF6\",\"gridcolor\":\"white\",\"linecolor\":\"white\",\"showbackground\":true,\"ticks\":\"\",\"zerolinecolor\":\"white\",\"gridwidth\":2},\"yaxis\":{\"backgroundcolor\":\"#E5ECF6\",\"gridcolor\":\"white\",\"linecolor\":\"white\",\"showbackground\":true,\"ticks\":\"\",\"zerolinecolor\":\"white\",\"gridwidth\":2},\"zaxis\":{\"backgroundcolor\":\"#E5ECF6\",\"gridcolor\":\"white\",\"linecolor\":\"white\",\"showbackground\":true,\"ticks\":\"\",\"zerolinecolor\":\"white\",\"gridwidth\":2}},\"shapedefaults\":{\"line\":{\"color\":\"#2a3f5f\"}},\"annotationdefaults\":{\"arrowcolor\":\"#2a3f5f\",\"arrowhead\":0,\"arrowwidth\":1},\"geo\":{\"bgcolor\":\"white\",\"landcolor\":\"#E5ECF6\",\"subunitcolor\":\"white\",\"showland\":true,\"showlakes\":true,\"lakecolor\":\"white\"},\"title\":{\"x\":0.05},\"mapbox\":{\"style\":\"light\"}}},\"xaxis\":{\"anchor\":\"y\",\"domain\":[0.0,1.0],\"title\":{\"text\":\"Hour of Bedtime\"},\"range\":[21,27],\"tickvals\":[21,22,23,24,25,26,27],\"ticktext\":[\"21 PM\",\"22 PM\",\"23 PM\",\"12 AM\",\"25 PM\",\"26 PM\",\"27 PM\"]},\"yaxis\":{\"anchor\":\"x\",\"domain\":[0.0,1.0],\"title\":{\"text\":\"Count\"}},\"legend\":{\"tracegroupgap\":0},\"title\":{\"text\":\"Distribution of Bedtime\"},\"barmode\":\"relative\",\"font\":{\"color\":\"white\"},\"plot_bgcolor\":\"rgba(0, 0, 0, 0)\",\"paper_bgcolor\":\"rgba(0, 0, 0, 0.7)\"},                        {\"responsive\": true}                    ).then(function(){\n",
       "                            \n",
       "var gd = document.getElementById('5ca5a348-2e54-431d-a704-0f9fb20de610');\n",
       "var x = new MutationObserver(function (mutations, observer) {{\n",
       "        var display = window.getComputedStyle(gd).display;\n",
       "        if (!display || display === 'none') {{\n",
       "            console.log([gd, 'removed!']);\n",
       "            Plotly.purge(gd);\n",
       "            observer.disconnect();\n",
       "        }}\n",
       "}});\n",
       "\n",
       "// Listen for the removal of the full notebook cells\n",
       "var notebookContainer = gd.closest('#notebook-container');\n",
       "if (notebookContainer) {{\n",
       "    x.observe(notebookContainer, {childList: true});\n",
       "}}\n",
       "\n",
       "// Listen for the clearing of the current output cell\n",
       "var outputEl = gd.closest('.output');\n",
       "if (outputEl) {{\n",
       "    x.observe(outputEl, {childList: true});\n",
       "}}\n",
       "\n",
       "                        })                };                });            </script>        </div>"
      ]
     },
     "metadata": {},
     "output_type": "display_data"
    }
   ],
   "source": [
    "import plotly.express as px\n",
    "\n",
    "# Convert the 'Wakeup time' and 'Bedtime' columns to datetime\n",
    "df['Wakeup time'] = pd.to_datetime(df['Wakeup time'])\n",
    "df['Bedtime'] = pd.to_datetime(df['Bedtime'])\n",
    "\n",
    "# Extract the hour component from the datetime columns\n",
    "df['Wakeup hour'] = df['Wakeup time'].dt.hour\n",
    "df['Bedtime hour'] = df['Bedtime'].dt.hour\n",
    "\n",
    "# Group the data by wakeup hour and calculate the count\n",
    "wakeup_hour_counts = df['Wakeup hour'].value_counts().sort_index()\n",
    "\n",
    "# Group the data by bedtime hour and calculate the count\n",
    "bedtime_hour_counts = df['Bedtime hour'].value_counts().sort_index()\n",
    "\n",
    "# Create the bar plot for wakeup time\n",
    "fig = px.bar(x=wakeup_hour_counts.index, y=wakeup_hour_counts.values,\n",
    "             title='Distribution of Wake-up Time',\n",
    "             labels={'x': 'Hour of Wake-up Time', 'y': 'Count'})\n",
    "\n",
    "# Convert x-axis labels to 12-hour format\n",
    "fig.update_xaxes(tickvals=list(range(13)), ticktext=[str(i) + ' AM' if i != 12 else '12 PM' for i in range(13)])\n",
    "\n",
    "# Set the layout properties\n",
    "fig.update_layout(\n",
    "    plot_bgcolor='rgba(0, 0, 0, 0)',\n",
    "    paper_bgcolor='rgba(0, 0, 0, 0.7)',\n",
    "    font=dict(color='white')\n",
    ")\n",
    "\n",
    "# Show the bar plot for wakeup time\n",
    "fig.show()\n",
    "\n",
    "\n",
    "# Create the bar plot for bedtime\n",
    "fig = px.bar(x=bedtime_hour_counts.index, y=bedtime_hour_counts.values,\n",
    "             title='Distribution of Bedtime',\n",
    "             labels={'x': 'Hour of Bedtime', 'y': 'Count'})\n",
    "\n",
    "# Convert x-axis labels to 12-hour format\n",
    "fig.update_xaxes(range=[21, 27], tickvals=list(range(21, 28)), ticktext=[str(i) + ' PM' if i != 24 else '12 AM' for i in range(21, 28)])\n",
    "\n",
    "# Set the layout properties\n",
    "fig.update_layout(\n",
    "    plot_bgcolor='rgba(0, 0, 0, 0)',\n",
    "    paper_bgcolor='rgba(0, 0, 0, 0.7)',\n",
    "    font=dict(color='white')\n",
    ")\n",
    "\n",
    "# Show the bar plot for bedtime\n",
    "fig.show()\n",
    "\n"
   ]
  },
  {
   "cell_type": "code",
   "execution_count": 39,
   "id": "3ce5b256",
   "metadata": {},
   "outputs": [
    {
     "data": {
      "application/vnd.plotly.v1+json": {
       "config": {
        "plotlyServerURL": "https://plot.ly"
       },
       "data": [
        {
         "alignmentgroup": "True",
         "box": {
          "visible": true
         },
         "customdata": [
          [
           1,
           65,
           "Female",
           "2021-03-06T01:00:00",
           "2021-03-06T07:00:00",
           6,
           18,
           70,
           12,
           0,
           0,
           0,
           "Yes",
           7,
           7,
           1,
           1,
           7
          ],
          [
           2,
           69,
           "Male",
           "2021-12-05T02:00:00",
           "2021-12-05T09:00:00",
           7,
           19,
           28,
           53,
           3,
           0,
           3,
           "Yes",
           9,
           9,
           2,
           2,
           9
          ],
          [
           3,
           40,
           "Female",
           "2021-05-25T21:30:00",
           "2021-05-25T05:30:00",
           8,
           20,
           70,
           10,
           1,
           0,
           0,
           "No",
           5,
           5,
           21,
           21,
           5
          ],
          [
           5,
           57,
           "Male",
           "2021-03-13T01:00:00",
           "2021-03-13T09:00:00",
           8,
           27,
           55,
           18,
           3,
           0,
           3,
           "No",
           9,
           9,
           1,
           1,
           9
          ],
          [
           8,
           53,
           "Male",
           "2021-08-16T00:30:00",
           "2021-08-16T10:30:00",
           10,
           28,
           52,
           20,
           0,
           50,
           0,
           "Yes",
           10,
           10,
           0,
           0,
           10
          ],
          [
           11,
           50,
           "Male",
           "2021-02-28T00:30:00",
           "2021-02-28T08:30:00",
           8,
           23,
           57,
           20,
           1,
           50,
           0,
           "Yes",
           8,
           8,
           0,
           0,
           8
          ],
          [
           12,
           55,
           "Male",
           "2021-03-10T22:30:00",
           "2021-03-10T06:00:00",
           7.5,
           18,
           60,
           22,
           0,
           0,
           0,
           "No",
           6,
           6,
           22,
           22,
           6
          ],
          [
           14,
           28,
           "Male",
           "2021-02-25T01:00:00",
           "2021-02-25T09:30:00",
           8.5,
           28,
           25,
           47,
           4,
           0,
           0,
           "No",
           9,
           9,
           1,
           1,
           9
          ],
          [
           18,
           40,
           "Female",
           "2021-08-27T23:00:00",
           "2021-08-27T06:30:00",
           7.5,
           18,
           20,
           62,
           3,
           50,
           2,
           "Yes",
           6,
           6,
           23,
           23,
           6
          ],
          [
           20,
           52,
           "Male",
           "2021-12-03T00:30:00",
           "2021-12-03T07:30:00",
           7,
           28,
           52,
           20,
           1.6412037037037037,
           50,
           0,
           "Yes",
           7,
           7,
           0,
           0,
           7
          ],
          [
           29,
           23,
           "Male",
           "2021-11-08T21:30:00",
           "2021-11-08T06:30:00",
           9,
           27,
           20,
           53,
           3,
           0,
           0,
           "No",
           6,
           6,
           21,
           21,
           6
          ],
          [
           31,
           24,
           "Male",
           "2021-08-10T00:00:00",
           "2021-08-10T07:00:00",
           7,
           27,
           20,
           53,
           3,
           0,
           1,
           "Yes",
           7,
           7,
           0,
           0,
           7
          ],
          [
           35,
           46,
           "Female",
           "2021-07-28T21:30:00",
           "2021-07-28T05:00:00",
           7.5,
           25,
           60,
           15,
           0,
           0,
           0,
           "No",
           5,
           5,
           21,
           21,
           5
          ],
          [
           37,
           38,
           "Male",
           "2021-08-06T22:00:00",
           "2021-08-06T05:00:00",
           7,
           18,
           72,
           10,
           1,
           0,
           0,
           "Yes",
           5,
           5,
           22,
           22,
           5
          ],
          [
           52,
           65,
           "Male",
           "2021-08-27T02:30:00",
           "2021-08-27T10:00:00",
           7.5,
           22,
           59,
           19,
           2,
           50,
           2,
           "No",
           10,
           10,
           2,
           2,
           10
          ],
          [
           55,
           18,
           "Male",
           "2021-08-09T01:30:00",
           "2021-08-09T09:00:00",
           7.5,
           18,
           70,
           12,
           2,
           0,
           0,
           "No",
           9,
           9,
           1,
           1,
           9
          ],
          [
           56,
           37,
           "Male",
           "2021-12-04T22:00:00",
           "2021-12-04T07:00:00",
           9,
           18,
           70,
           12,
           1,
           0,
           0,
           "No",
           7,
           7,
           22,
           22,
           7
          ],
          [
           57,
           54,
           "Male",
           "2021-09-22T01:00:00",
           "2021-09-22T09:00:00",
           8,
           27,
           55,
           18,
           1,
           0,
           3,
           "No",
           9,
           9,
           1,
           1,
           9
          ],
          [
           58,
           43,
           "Male",
           "2021-03-20T02:00:00",
           "2021-03-20T09:30:00",
           7.5,
           23,
           58,
           19,
           1,
           null,
           0,
           "Yes",
           9,
           9,
           2,
           2,
           9
          ],
          [
           65,
           30,
           "Male",
           "2021-04-24T01:30:00",
           "2021-04-24T09:00:00",
           7.5,
           20,
           70,
           10,
           1,
           null,
           0,
           "No",
           9,
           9,
           1,
           1,
           9
          ],
          [
           66,
           21,
           "Male",
           "2021-02-21T01:00:00",
           "2021-02-21T09:00:00",
           8,
           19,
           63,
           18,
           4,
           0,
           3,
           "No",
           9,
           9,
           1,
           1,
           9
          ],
          [
           70,
           40,
           "Male",
           "2021-09-23T22:00:00",
           "2021-09-23T04:00:00",
           6,
           20,
           35,
           45,
           2,
           0,
           2,
           "Yes",
           4,
           4,
           22,
           22,
           4
          ],
          [
           73,
           55,
           "Male",
           "2021-02-28T21:30:00",
           "2021-02-28T03:30:00",
           6,
           20,
           35,
           45,
           1,
           0,
           4,
           "Yes",
           3,
           3,
           21,
           21,
           3
          ],
          [
           77,
           47,
           "Female",
           "2021-09-02T21:00:00",
           "2021-09-02T04:00:00",
           7,
           30,
           60,
           10,
           1,
           0,
           0,
           "No",
           4,
           4,
           21,
           21,
           4
          ],
          [
           78,
           46,
           "Male",
           "2021-01-11T02:00:00",
           "2021-01-11T11:00:00",
           9,
           18,
           70,
           12,
           1,
           0,
           5,
           "Yes",
           11,
           11,
           2,
           2,
           11
          ],
          [
           79,
           43,
           "Male",
           "2021-03-04T22:00:00",
           "2021-03-04T05:00:00",
           7,
           20,
           70,
           10,
           4,
           0,
           0,
           "No",
           5,
           5,
           22,
           22,
           5
          ],
          [
           83,
           66,
           "Male",
           "2021-07-03T02:00:00",
           "2021-07-03T09:30:00",
           7.5,
           24,
           60,
           16,
           0,
           0,
           0,
           "Yes",
           9,
           9,
           2,
           2,
           9
          ],
          [
           84,
           40,
           "Female",
           "2021-12-04T22:30:00",
           "2021-12-04T06:30:00",
           8,
           22,
           57,
           21,
           4,
           25,
           0,
           "No",
           6,
           6,
           22,
           22,
           6
          ],
          [
           89,
           48,
           "Male",
           "2021-08-28T02:00:00",
           "2021-08-28T09:30:00",
           7.5,
           23,
           60,
           17,
           0,
           0,
           0,
           "Yes",
           9,
           9,
           2,
           2,
           9
          ],
          [
           92,
           57,
           "Male",
           "2021-08-20T21:30:00",
           "2021-08-20T05:30:00",
           8,
           27,
           55,
           18,
           0,
           0,
           3,
           "No",
           5,
           5,
           21,
           21,
           5
          ],
          [
           93,
           39,
           "Male",
           "2021-08-25T21:00:00",
           "2021-08-25T04:00:00",
           7,
           18,
           35,
           47,
           3,
           0,
           3,
           "Yes",
           4,
           4,
           21,
           21,
           4
          ],
          [
           97,
           41,
           "Male",
           "2021-02-15T21:00:00",
           "2021-02-15T04:00:00",
           7,
           28,
           55,
           17,
           0,
           200,
           0,
           "No",
           4,
           4,
           21,
           21,
           4
          ],
          [
           100,
           65,
           "Male",
           "2021-12-07T01:30:00",
           "2021-12-07T09:30:00",
           8,
           20,
           70,
           10,
           4,
           0,
           0,
           "No",
           9,
           9,
           1,
           1,
           9
          ],
          [
           102,
           53,
           "Male",
           "2021-01-28T01:00:00",
           "2021-01-28T09:30:00",
           8.5,
           20,
           67,
           13,
           4,
           0,
           1,
           "No",
           9,
           9,
           1,
           1,
           9
          ],
          [
           106,
           40,
           "Female",
           "2021-12-07T22:00:00",
           "2021-12-07T06:00:00",
           8,
           22,
           57,
           21,
           0,
           25,
           0,
           "No",
           6,
           6,
           22,
           22,
           6
          ],
          [
           110,
           47,
           "Male",
           "2021-12-30T00:30:00",
           "2021-12-30T08:00:00",
           7.5,
           23,
           57,
           20,
           1,
           50,
           0,
           "Yes",
           8,
           8,
           0,
           0,
           8
          ],
          [
           111,
           51,
           "Male",
           "2021-06-18T00:30:00",
           "2021-06-18T05:30:00",
           5,
           23,
           57,
           20,
           1,
           50,
           0,
           "Yes",
           5,
           5,
           0,
           0,
           5
          ],
          [
           112,
           25,
           "Male",
           "2021-10-26T23:00:00",
           "2021-10-26T06:00:00",
           7,
           20,
           65,
           15,
           0,
           100,
           0,
           "No",
           6,
           6,
           23,
           23,
           6
          ],
          [
           116,
           22,
           "Male",
           "2021-08-04T00:00:00",
           "2021-08-04T07:00:00",
           7,
           27,
           20,
           53,
           2,
           0,
           5,
           "Yes",
           7,
           7,
           0,
           0,
           7
          ],
          [
           117,
           50,
           "Male",
           "2021-04-29T00:30:00",
           "2021-04-29T08:30:00",
           8,
           28,
           57,
           15,
           1,
           50,
           0,
           "Yes",
           8,
           8,
           0,
           0,
           8
          ],
          [
           119,
           52,
           "Male",
           "2021-11-25T22:30:00",
           "2021-11-25T05:30:00",
           7,
           20,
           62,
           18,
           1,
           0,
           0,
           "No",
           5,
           5,
           22,
           22,
           5
          ],
          [
           120,
           52,
           "Male",
           "2021-07-25T21:30:00",
           "2021-07-25T04:30:00",
           7,
           20,
           70,
           10,
           2,
           0,
           0,
           "No",
           4,
           4,
           21,
           21,
           4
          ],
          [
           125,
           56,
           "Male",
           "2021-10-29T02:00:00",
           "2021-10-29T09:00:00",
           7,
           20,
           35,
           45,
           3,
           0,
           2,
           "Yes",
           9,
           9,
           2,
           2,
           9
          ],
          [
           126,
           25,
           "Male",
           "2021-05-31T22:30:00",
           "2021-05-31T06:30:00",
           8,
           28,
           51,
           21,
           2,
           25,
           0,
           "No",
           6,
           6,
           22,
           22,
           6
          ],
          [
           128,
           37,
           "Female",
           "2021-05-15T23:00:00",
           "2021-05-15T06:00:00",
           7,
           30,
           55,
           15,
           1,
           50,
           1,
           "No",
           6,
           6,
           23,
           23,
           6
          ],
          [
           130,
           25,
           "Male",
           "2021-07-20T21:00:00",
           "2021-07-20T04:00:00",
           7,
           18,
           65,
           17,
           2,
           50,
           null,
           "No",
           4,
           4,
           21,
           21,
           4
          ],
          [
           134,
           37,
           "Male",
           "2021-01-26T21:30:00",
           "2021-01-26T05:30:00",
           8,
           18,
           70,
           12,
           1,
           0,
           0,
           "No",
           5,
           5,
           21,
           21,
           5
          ],
          [
           138,
           36,
           "Male",
           "2021-03-06T02:00:00",
           "2021-03-06T09:00:00",
           7,
           22,
           65,
           13,
           2,
           0,
           0,
           "Yes",
           9,
           9,
           2,
           2,
           9
          ],
          [
           139,
           55,
           "Male",
           "2021-03-01T02:30:00",
           "2021-03-01T10:00:00",
           7.5,
           23,
           58,
           19,
           1.6412037037037037,
           0,
           3,
           "No",
           10,
           10,
           2,
           2,
           10
          ],
          [
           143,
           48,
           "Male",
           "2021-02-04T22:00:00",
           "2021-02-04T05:00:00",
           7,
           27,
           55,
           18,
           3,
           0,
           3,
           "No",
           5,
           5,
           22,
           22,
           5
          ],
          [
           144,
           25,
           "Male",
           "2021-04-21T21:30:00",
           "2021-04-21T04:30:00",
           7,
           27,
           55,
           18,
           1.6412037037037037,
           0,
           3,
           "No",
           4,
           4,
           21,
           21,
           4
          ],
          [
           147,
           42,
           "Male",
           "2021-09-10T23:00:00",
           "2021-09-10T07:00:00",
           8,
           18,
           35,
           47,
           2,
           0,
           0,
           "Yes",
           7,
           7,
           23,
           23,
           7
          ],
          [
           151,
           65,
           "Male",
           "2021-04-15T01:00:00",
           "2021-04-15T09:30:00",
           8.5,
           28,
           20,
           52,
           3,
           0,
           2,
           "Yes",
           9,
           9,
           1,
           1,
           9
          ],
          [
           154,
           41,
           "Male",
           "2021-07-01T02:30:00",
           "2021-07-01T10:00:00",
           7.5,
           22,
           59,
           19,
           3,
           0,
           0,
           "No",
           10,
           10,
           2,
           2,
           10
          ],
          [
           155,
           68,
           "Male",
           "2021-03-19T02:00:00",
           "2021-03-19T09:30:00",
           7.5,
           28,
           58,
           14,
           4,
           0,
           1,
           "Yes",
           9,
           9,
           2,
           2,
           9
          ],
          [
           162,
           42,
           "Male",
           "2021-11-06T21:00:00",
           "2021-11-06T04:30:00",
           7.5,
           28,
           55,
           17,
           0,
           200,
           0,
           "No",
           4,
           4,
           21,
           21,
           4
          ],
          [
           165,
           48,
           "Male",
           "2021-09-02T02:00:00",
           "2021-09-02T10:00:00",
           8,
           20,
           70,
           10,
           1,
           null,
           0,
           "Yes",
           10,
           10,
           2,
           2,
           10
          ],
          [
           167,
           40,
           "Female",
           "2021-06-02T23:00:00",
           "2021-06-02T06:00:00",
           7,
           20,
           70,
           10,
           1,
           0,
           0,
           "No",
           6,
           6,
           23,
           23,
           6
          ],
          [
           169,
           35,
           "Male",
           "2021-05-24T23:00:00",
           "2021-05-24T06:30:00",
           7.5,
           20,
           62,
           18,
           0,
           50,
           1,
           "No",
           6,
           6,
           23,
           23,
           6
          ],
          [
           171,
           24,
           "Male",
           "2021-10-20T21:30:00",
           "2021-10-20T05:30:00",
           8,
           27,
           55,
           18,
           1.6412037037037037,
           0,
           3,
           "No",
           5,
           5,
           21,
           21,
           5
          ],
          [
           176,
           42,
           "Male",
           "2021-07-07T22:00:00",
           "2021-07-07T05:00:00",
           7,
           18,
           35,
           47,
           2,
           null,
           0,
           "No",
           5,
           5,
           22,
           22,
           5
          ],
          [
           195,
           44,
           "Female",
           "2021-06-05T21:00:00",
           "2021-06-05T05:00:00",
           8,
           20,
           60,
           20,
           1,
           0,
           0,
           "No",
           5,
           5,
           21,
           21,
           5
          ],
          [
           210,
           61,
           "Male",
           "2021-02-06T02:00:00",
           "2021-02-06T11:00:00",
           9,
           20,
           70,
           10,
           1,
           0,
           0,
           "Yes",
           11,
           11,
           2,
           2,
           11
          ],
          [
           217,
           22,
           "Male",
           "2021-06-15T21:00:00",
           "2021-06-15T03:00:00",
           6,
           27,
           55,
           18,
           1,
           0,
           5,
           "No",
           3,
           3,
           21,
           21,
           3
          ],
          [
           223,
           52,
           "Male",
           "2021-02-07T00:00:00",
           "2021-02-07T08:00:00",
           8,
           25,
           55,
           20,
           0,
           50,
           1,
           "No",
           8,
           8,
           0,
           0,
           8
          ],
          [
           226,
           60,
           "Male",
           "2021-09-07T01:00:00",
           "2021-09-07T09:00:00",
           8,
           22,
           58,
           20,
           3,
           0,
           3,
           "No",
           9,
           9,
           1,
           1,
           9
          ],
          [
           230,
           26,
           "Male",
           "2021-03-04T22:30:00",
           "2021-03-04T05:30:00",
           7,
           24,
           56,
           20,
           4,
           0,
           0,
           "No",
           5,
           5,
           22,
           22,
           5
          ],
          [
           232,
           55,
           "Male",
           "2021-04-28T23:00:00",
           "2021-04-28T07:00:00",
           8,
           27,
           20,
           53,
           1,
           0,
           0,
           "Yes",
           7,
           7,
           23,
           23,
           7
          ],
          [
           240,
           41,
           "Male",
           "2021-02-27T22:00:00",
           "2021-02-27T06:00:00",
           8,
           20,
           70,
           10,
           0,
           0,
           0,
           "Yes",
           6,
           6,
           22,
           22,
           6
          ],
          [
           244,
           52,
           "Male",
           "2021-09-14T00:00:00",
           "2021-09-14T07:00:00",
           7,
           23,
           60,
           17,
           4,
           75,
           0,
           "No",
           7,
           7,
           0,
           0,
           7
          ],
          [
           246,
           67,
           "Male",
           "2021-02-06T01:00:00",
           "2021-02-06T09:30:00",
           8.5,
           24,
           60,
           16,
           3,
           0,
           3,
           "No",
           9,
           9,
           1,
           1,
           9
          ],
          [
           254,
           46,
           "Female",
           "2021-06-01T21:00:00",
           "2021-06-01T03:00:00",
           6,
           30,
           60,
           10,
           0,
           0,
           0,
           "No",
           3,
           3,
           21,
           21,
           3
          ],
          [
           259,
           54,
           "Male",
           "2021-10-21T22:00:00",
           "2021-10-21T06:00:00",
           8,
           18,
           35,
           47,
           1,
           0,
           0,
           "Yes",
           6,
           6,
           22,
           22,
           6
          ],
          [
           261,
           46,
           "Male",
           "2021-08-20T22:00:00",
           "2021-08-20T05:00:00",
           7,
           27,
           55,
           18,
           0,
           0,
           3,
           "Yes",
           5,
           5,
           22,
           22,
           5
          ],
          [
           265,
           48,
           "Female",
           "2021-05-30T22:00:00",
           "2021-05-30T05:00:00",
           7,
           22,
           57,
           21,
           0,
           50,
           0,
           "No",
           5,
           5,
           22,
           22,
           5
          ],
          [
           266,
           44,
           "Male",
           "2021-06-21T02:00:00",
           "2021-06-21T09:30:00",
           7.5,
           18,
           72,
           10,
           0,
           0,
           0,
           "Yes",
           9,
           9,
           2,
           2,
           9
          ],
          [
           269,
           45,
           "Male",
           "2021-11-30T01:00:00",
           "2021-11-30T09:30:00",
           8.5,
           20,
           67,
           13,
           1,
           0,
           3,
           "No",
           9,
           9,
           1,
           1,
           9
          ],
          [
           272,
           50,
           "Female",
           "2021-10-12T21:30:00",
           "2021-10-12T04:30:00",
           7,
           28,
           55,
           17,
           1,
           0,
           0,
           "No",
           4,
           4,
           21,
           21,
           4
          ],
          [
           273,
           58,
           "Male",
           "2021-02-13T01:00:00",
           "2021-02-13T10:00:00",
           9,
           27,
           20,
           53,
           2,
           0,
           3,
           "Yes",
           10,
           10,
           1,
           1,
           10
          ],
          [
           274,
           49,
           "Male",
           "2021-12-19T00:30:00",
           "2021-12-19T07:30:00",
           7,
           28,
           57,
           15,
           0,
           50,
           0,
           "Yes",
           7,
           7,
           0,
           0,
           7
          ],
          [
           282,
           64,
           "Male",
           "2021-02-14T02:00:00",
           "2021-02-14T09:30:00",
           7.5,
           26,
           58,
           16,
           1,
           0,
           0,
           "Yes",
           9,
           9,
           2,
           2,
           9
          ],
          [
           287,
           50,
           "Male",
           "2021-11-25T22:00:00",
           "2021-11-25T06:00:00",
           8,
           18,
           37,
           45,
           1,
           0,
           2,
           "Yes",
           6,
           6,
           22,
           22,
           6
          ],
          [
           288,
           40,
           "Female",
           "2021-01-06T21:30:00",
           "2021-01-06T05:00:00",
           7.5,
           23,
           25,
           52,
           1.6412037037037037,
           75,
           2,
           "Yes",
           5,
           5,
           21,
           21,
           5
          ],
          [
           291,
           54,
           "Male",
           "2021-01-20T22:30:00",
           "2021-01-20T06:30:00",
           8,
           18,
           60,
           22,
           3,
           0,
           0,
           "No",
           6,
           6,
           22,
           22,
           6
          ],
          [
           292,
           46,
           "Female",
           "2021-03-28T21:30:00",
           "2021-03-28T05:00:00",
           7.5,
           25,
           60,
           15,
           1,
           0,
           0,
           "No",
           5,
           5,
           21,
           21,
           5
          ],
          [
           300,
           22,
           "Male",
           "2021-04-24T21:30:00",
           "2021-04-24T05:30:00",
           8,
           27,
           20,
           53,
           4,
           0,
           4,
           "No",
           5,
           5,
           21,
           21,
           5
          ],
          [
           303,
           25,
           "Male",
           "2021-05-15T00:00:00",
           "2021-05-15T07:00:00",
           7,
           25,
           55,
           20,
           4,
           0,
           5,
           "No",
           7,
           7,
           0,
           0,
           7
          ],
          [
           309,
           56,
           "Female",
           "2021-10-16T01:00:00",
           "2021-10-16T08:00:00",
           7,
           20,
           65,
           15,
           1,
           0,
           5,
           "No",
           8,
           8,
           1,
           1,
           8
          ],
          [
           313,
           50,
           "Male",
           "2021-12-12T01:00:00",
           "2021-12-12T10:00:00",
           9,
           27,
           55,
           18,
           1,
           0,
           3,
           "No",
           10,
           10,
           1,
           1,
           10
          ],
          [
           316,
           40,
           "Female",
           "2021-03-10T22:00:00",
           "2021-03-10T06:00:00",
           8,
           25,
           55,
           20,
           1.6412037037037037,
           0,
           0,
           "No",
           6,
           6,
           22,
           22,
           6
          ],
          [
           321,
           60,
           "Male",
           "2021-06-19T23:00:00",
           "2021-06-19T06:00:00",
           7,
           27,
           20,
           53,
           1,
           0,
           2,
           "Yes",
           6,
           6,
           23,
           23,
           6
          ],
          [
           322,
           25,
           "Male",
           "2021-09-11T23:00:00",
           "2021-09-11T06:30:00",
           7.5,
           23,
           60,
           17,
           2,
           null,
           0,
           "No",
           6,
           6,
           23,
           23,
           6
          ],
          [
           332,
           46,
           "Male",
           "2021-04-28T21:30:00",
           "2021-04-28T05:30:00",
           8,
           18,
           72,
           10,
           3,
           0,
           0,
           "Yes",
           5,
           5,
           21,
           21,
           5
          ],
          [
           338,
           52,
           "Male",
           "2021-07-05T22:30:00",
           "2021-07-05T06:30:00",
           8,
           20,
           65,
           15,
           1.6412037037037037,
           50,
           1,
           "No",
           6,
           6,
           22,
           22,
           6
          ],
          [
           339,
           44,
           "Male",
           "2021-11-10T02:30:00",
           "2021-11-10T12:30:00",
           10,
           23,
           58,
           19,
           1,
           0,
           0,
           "No",
           12,
           12,
           2,
           2,
           12
          ],
          [
           345,
           53,
           "Male",
           "2021-03-26T21:30:00",
           "2021-03-26T06:30:00",
           9,
           27,
           55,
           18,
           1,
           0,
           3,
           "No",
           6,
           6,
           21,
           21,
           6
          ],
          [
           346,
           25,
           "Male",
           "2021-03-09T00:00:00",
           "2021-03-09T07:00:00",
           7,
           28,
           22,
           50,
           1,
           50,
           2,
           "Yes",
           7,
           7,
           0,
           0,
           7
          ],
          [
           351,
           24,
           "Male",
           "2021-07-18T21:30:00",
           "2021-07-18T04:30:00",
           7,
           27,
           20,
           53,
           4,
           0,
           1,
           "No",
           4,
           4,
           21,
           21,
           4
          ],
          [
           353,
           52,
           "Male",
           "2021-10-06T21:00:00",
           "2021-10-06T05:00:00",
           8,
           25,
           55,
           20,
           1.6412037037037037,
           0,
           5,
           "No",
           5,
           5,
           21,
           21,
           5
          ],
          [
           359,
           41,
           "Male",
           "2021-11-17T22:00:00",
           "2021-11-17T05:00:00",
           7,
           20,
           35,
           45,
           1,
           0,
           2,
           "Yes",
           5,
           5,
           22,
           22,
           5
          ],
          [
           365,
           37,
           "Male",
           "2021-09-07T00:30:00",
           "2021-09-07T08:30:00",
           8,
           30,
           25,
           45,
           1,
           0,
           0,
           "Yes",
           8,
           8,
           0,
           0,
           8
          ],
          [
           368,
           56,
           "Male",
           "2021-08-03T02:30:00",
           "2021-08-03T07:30:00",
           5,
           22,
           59,
           19,
           1,
           0,
           0,
           "Yes",
           7,
           7,
           2,
           2,
           7
          ],
          [
           371,
           40,
           "Female",
           "2021-09-21T22:00:00",
           "2021-09-21T05:00:00",
           7,
           20,
           65,
           15,
           1,
           50,
           1,
           "No",
           5,
           5,
           22,
           22,
           5
          ],
          [
           374,
           39,
           "Male",
           "2021-10-11T23:00:00",
           "2021-10-11T07:00:00",
           8,
           20,
           70,
           10,
           1,
           0,
           0,
           "Yes",
           7,
           7,
           23,
           23,
           7
          ],
          [
           380,
           61,
           "Male",
           "2021-07-31T22:00:00",
           "2021-07-31T05:00:00",
           7,
           27,
           55,
           18,
           1,
           0,
           3,
           "No",
           5,
           5,
           22,
           22,
           5
          ],
          [
           383,
           40,
           "Male",
           "2021-06-11T21:00:00",
           "2021-06-11T04:30:00",
           7.5,
           25,
           57,
           18,
           1,
           0,
           0,
           "No",
           4,
           4,
           21,
           21,
           4
          ],
          [
           384,
           39,
           "Male",
           "2021-02-26T22:00:00",
           "2021-02-26T07:00:00",
           9,
           20,
           70,
           10,
           1,
           0,
           0,
           "Yes",
           7,
           7,
           22,
           22,
           7
          ],
          [
           385,
           40,
           "Male",
           "2021-09-25T21:00:00",
           "2021-09-25T04:00:00",
           7,
           18,
           72,
           10,
           1,
           0,
           0,
           "Yes",
           4,
           4,
           21,
           21,
           4
          ],
          [
           388,
           48,
           "Female",
           "2021-07-14T21:00:00",
           "2021-07-14T04:00:00",
           7,
           30,
           60,
           10,
           1,
           0,
           0,
           "No",
           4,
           4,
           21,
           21,
           4
          ],
          [
           396,
           56,
           "Male",
           "2021-12-23T21:30:00",
           "2021-12-23T05:30:00",
           8,
           27,
           55,
           18,
           2,
           0,
           null,
           "No",
           5,
           5,
           21,
           21,
           5
          ],
          [
           402,
           48,
           "Male",
           "2021-02-01T01:30:00",
           "2021-02-01T09:00:00",
           7.5,
           20,
           67,
           13,
           0,
           0,
           0,
           "Yes",
           9,
           9,
           1,
           1,
           9
          ],
          [
           403,
           38,
           "Male",
           "2021-11-25T22:00:00",
           "2021-11-25T06:00:00",
           8,
           18,
           70,
           12,
           0,
           0,
           0,
           "Yes",
           6,
           6,
           22,
           22,
           6
          ],
          [
           404,
           58,
           "Male",
           "2021-11-06T21:30:00",
           "2021-11-06T05:30:00",
           8,
           27,
           55,
           18,
           0,
           0,
           3,
           "Yes",
           5,
           5,
           21,
           21,
           5
          ],
          [
           406,
           56,
           "Male",
           "2021-08-15T02:00:00",
           "2021-08-15T07:30:00",
           5.5,
           22,
           57,
           21,
           0,
           0,
           null,
           "Yes",
           7,
           7,
           2,
           2,
           7
          ],
          [
           407,
           53,
           "Male",
           "2021-04-17T22:30:00",
           "2021-04-17T05:30:00",
           7,
           20,
           62,
           18,
           2,
           0,
           0,
           "No",
           5,
           5,
           22,
           22,
           5
          ],
          [
           411,
           58,
           "Male",
           "2021-10-02T02:00:00",
           "2021-10-02T09:00:00",
           7,
           18,
           35,
           47,
           1,
           0,
           4,
           "Yes",
           9,
           9,
           2,
           2,
           9
          ],
          [
           414,
           51,
           "Male",
           "2021-10-25T00:30:00",
           "2021-10-25T09:00:00",
           8.5,
           28,
           52,
           20,
           1,
           50,
           0,
           "Yes",
           9,
           9,
           0,
           0,
           9
          ],
          [
           418,
           44,
           "Male",
           "2021-10-07T22:00:00",
           "2021-10-07T05:00:00",
           7,
           20,
           35,
           45,
           4,
           0,
           3,
           "Yes",
           5,
           5,
           22,
           22,
           5
          ],
          [
           421,
           55,
           "Male",
           "2021-10-04T21:30:00",
           "2021-10-04T04:30:00",
           7,
           27,
           20,
           53,
           4,
           0,
           null,
           "Yes",
           4,
           4,
           21,
           21,
           4
          ],
          [
           428,
           54,
           "Male",
           "2021-12-09T23:00:00",
           "2021-12-09T07:00:00",
           8,
           27,
           55,
           18,
           0,
           0,
           3,
           "No",
           7,
           7,
           23,
           23,
           7
          ],
          [
           429,
           23,
           "Male",
           "2021-01-11T01:00:00",
           "2021-01-11T09:00:00",
           8,
           20,
           35,
           45,
           2,
           0,
           5,
           "No",
           9,
           9,
           1,
           1,
           9
          ],
          [
           432,
           37,
           "Female",
           "2021-10-20T23:00:00",
           "2021-10-20T06:00:00",
           7,
           25,
           55,
           20,
           1,
           50,
           1,
           "No",
           6,
           6,
           23,
           23,
           6
          ],
          [
           433,
           55,
           "Male",
           "2021-04-27T01:00:00",
           "2021-04-27T09:00:00",
           8,
           28,
           53,
           19,
           3,
           0,
           3,
           "No",
           9,
           9,
           1,
           1,
           9
          ],
          [
           436,
           40,
           "Female",
           "2021-02-12T22:00:00",
           "2021-02-12T05:00:00",
           7,
           28,
           57,
           15,
           0,
           0,
           0,
           "No",
           5,
           5,
           22,
           22,
           5
          ],
          [
           437,
           59,
           "Male",
           "2021-06-10T21:30:00",
           "2021-06-10T05:30:00",
           8,
           27,
           55,
           18,
           2,
           0,
           3,
           "No",
           5,
           5,
           21,
           21,
           5
          ],
          [
           438,
           56,
           "Male",
           "2021-03-11T01:00:00",
           "2021-03-11T09:00:00",
           8,
           27,
           55,
           18,
           0,
           0,
           3,
           "No",
           9,
           9,
           1,
           1,
           9
          ],
          [
           439,
           55,
           "Male",
           "2021-04-14T01:30:00",
           "2021-04-14T07:30:00",
           6,
           28,
           57,
           15,
           1,
           0,
           3,
           "No",
           7,
           7,
           1,
           1,
           7
          ],
          [
           440,
           25,
           "Male",
           "2021-11-30T23:00:00",
           "2021-11-30T06:30:00",
           7.5,
           20,
           35,
           45,
           4,
           0,
           3,
           "Yes",
           6,
           6,
           23,
           23,
           6
          ],
          [
           449,
           52,
           "Male",
           "2021-03-31T21:00:00",
           "2021-03-31T03:00:00",
           6,
           28,
           57,
           15,
           4,
           25,
           0,
           "No",
           3,
           3,
           21,
           21,
           3
          ],
          [
           451,
           45,
           "Male",
           "2021-07-29T21:00:00",
           "2021-07-29T04:00:00",
           7,
           18,
           72,
           10,
           3,
           0,
           0,
           "No",
           4,
           4,
           21,
           21,
           4
          ]
         ],
         "hovertemplate": "Exercise frequency=%{x}<br>Sleep efficiency=%{y}<br>ID=%{customdata[0]}<br>Age=%{customdata[1]}<br>Gender=%{customdata[2]}<br>Bedtime=%{customdata[3]}<br>Wakeup time=%{customdata[4]}<br>Sleep duration=%{customdata[5]}<br>REM sleep percentage=%{customdata[6]}<br>Deep sleep percentage=%{customdata[7]}<br>Light sleep percentage=%{customdata[8]}<br>Awakenings=%{customdata[9]}<br>Caffeine consumption=%{customdata[10]}<br>Alcohol consumption=%{customdata[11]}<br>Smoking status=%{customdata[12]}<br>Wake up hour=%{customdata[13]}<br>Wakeup hour=%{customdata[14]}<br>Bedtime hour=%{customdata[15]}<br>Bedtime_hour=%{customdata[16]}<br>Wakeup_hour=%{customdata[17]}<extra></extra>",
         "legendgroup": "3.0",
         "marker": {
          "color": "#636efa"
         },
         "name": "3.0",
         "offsetgroup": "3.0",
         "orientation": "v",
         "points": "all",
         "scalegroup": "True",
         "showlegend": true,
         "type": "violin",
         "x": [
          3,
          3,
          3,
          3,
          3,
          3,
          3,
          3,
          3,
          3,
          3,
          3,
          3,
          3,
          3,
          3,
          3,
          3,
          3,
          3,
          3,
          3,
          3,
          3,
          3,
          3,
          3,
          3,
          3,
          3,
          3,
          3,
          3,
          3,
          3,
          3,
          3,
          3,
          3,
          3,
          3,
          3,
          3,
          3,
          3,
          3,
          3,
          3,
          3,
          3,
          3,
          3,
          3,
          3,
          3,
          3,
          3,
          3,
          3,
          3,
          3,
          3,
          3,
          3,
          3,
          3,
          3,
          3,
          3,
          3,
          3,
          3,
          3,
          3,
          3,
          3,
          3,
          3,
          3,
          3,
          3,
          3,
          3,
          3,
          3,
          3,
          3,
          3,
          3,
          3,
          3,
          3,
          3,
          3,
          3,
          3,
          3,
          3,
          3,
          3,
          3,
          3,
          3,
          3,
          3,
          3,
          3,
          3,
          3,
          3,
          3,
          3,
          3,
          3,
          3,
          3,
          3,
          3,
          3,
          3,
          3,
          3,
          3,
          3,
          3,
          3,
          3,
          3,
          3,
          3
         ],
         "x0": " ",
         "xaxis": "x",
         "y": [
          0.88,
          0.66,
          0.89,
          0.76,
          0.9,
          0.92,
          0.93,
          0.64,
          0.5,
          0.89,
          0.65,
          0.57,
          0.94,
          0.87,
          0.71,
          0.84,
          0.84,
          0.99,
          0.91,
          0.85,
          0.77,
          0.52,
          0.64,
          0.94,
          0.7,
          0.79,
          0.88,
          0.78,
          0.97,
          0.94,
          0.52,
          0.96,
          0.77,
          0.71,
          0.87,
          0.94,
          0.91,
          0.9,
          0.53,
          0.87,
          0.93,
          0.72,
          0.63,
          0.77,
          0.94,
          0.78,
          0.95,
          0.77,
          0.83,
          0.81,
          0.87,
          0.58,
          0.53,
          0.7,
          0.74,
          0.95,
          0.95,
          0.85,
          0.92,
          0.89,
          0.68,
          0.91,
          0.77,
          0.72,
          0.95,
          0.82,
          0.75,
          0.65,
          0.95,
          0.75,
          0.78,
          0.95,
          0.61,
          0.94,
          0.94,
          0.87,
          0.93,
          0.94,
          0.5,
          0.93,
          0.9,
          0.62,
          0.52,
          0.84,
          0.93,
          0.6,
          0.81,
          0.93,
          0.9,
          0.71,
          0.6,
          0.83,
          0.72,
          0.77,
          0.89,
          0.9,
          0.51,
          0.64,
          0.86,
          0.54,
          0.53,
          0.74,
          0.87,
          0.87,
          0.94,
          0.95,
          0.9,
          0.95,
          0.93,
          0.83,
          0.92,
          0.93,
          0.87,
          0.9,
          0.82,
          0.68,
          0.88,
          0.66,
          0.51,
          0.93,
          0.63,
          0.92,
          0.77,
          0.96,
          0.72,
          0.86,
          0.9,
          0.5,
          0.74,
          0.76
         ],
         "y0": " ",
         "yaxis": "y"
        },
        {
         "alignmentgroup": "True",
         "box": {
          "visible": true
         },
         "customdata": [
          [
           4,
           40,
           "Female",
           "2021-11-03T02:30:00",
           "2021-11-03T08:30:00",
           6,
           23,
           25,
           52,
           3,
           50,
           5,
           "Yes",
           8,
           8,
           2,
           2,
           8
          ],
          [
           6,
           36,
           "Female",
           "2021-07-01T21:00:00",
           "2021-07-01T04:30:00",
           7.5,
           23,
           60,
           17,
           0,
           null,
           0,
           "No",
           4,
           4,
           21,
           21,
           4
          ],
          [
           7,
           27,
           "Female",
           "2021-07-21T21:00:00",
           "2021-07-21T03:00:00",
           6,
           28,
           25,
           47,
           2,
           50,
           0,
           "Yes",
           3,
           3,
           21,
           21,
           3
          ],
          [
           9,
           41,
           "Female",
           "2021-04-05T02:30:00",
           "2021-04-05T08:30:00",
           6,
           28,
           55,
           17,
           3,
           50,
           0,
           "No",
           8,
           8,
           2,
           2,
           8
          ],
          [
           13,
           30,
           "Female",
           "2021-08-07T02:30:00",
           "2021-08-07T11:30:00",
           9,
           24,
           58,
           18,
           0,
           50,
           0,
           "No",
           11,
           11,
           2,
           2,
           11
          ],
          [
           22,
           32,
           "Male",
           "2021-06-14T02:30:00",
           "2021-06-14T10:00:00",
           7.5,
           23,
           58,
           19,
           3,
           50,
           4,
           "No",
           10,
           10,
           2,
           2,
           10
          ],
          [
           24,
           63,
           "Female",
           "2021-05-21T02:30:00",
           "2021-05-21T10:30:00",
           8,
           22,
           65,
           13,
           0,
           50,
           0,
           "No",
           10,
           10,
           2,
           2,
           10
          ],
          [
           27,
           36,
           "Female",
           "2021-06-18T00:00:00",
           "2021-06-18T07:00:00",
           7,
           28,
           55,
           17,
           0,
           null,
           0,
           "No",
           7,
           7,
           0,
           0,
           7
          ],
          [
           38,
           20,
           "Female",
           "2021-09-05T00:00:00",
           "2021-09-05T09:00:00",
           9,
           26,
           56,
           18,
           4,
           null,
           0,
           "No",
           9,
           9,
           0,
           0,
           9
          ],
          [
           39,
           28,
           "Female",
           "2021-06-19T00:00:00",
           "2021-06-19T07:30:00",
           7.5,
           28,
           60,
           12,
           1,
           50,
           0,
           "Yes",
           7,
           7,
           0,
           0,
           7
          ],
          [
           42,
           52,
           "Male",
           "2021-05-08T01:30:00",
           "2021-05-08T07:30:00",
           6,
           20,
           67,
           13,
           1,
           25,
           0,
           "Yes",
           7,
           7,
           1,
           1,
           7
          ],
          [
           43,
           29,
           "Female",
           "2021-06-27T00:00:00",
           "2021-06-27T10:00:00",
           10,
           28,
           20,
           52,
           2,
           50,
           0,
           "Yes",
           10,
           10,
           0,
           0,
           10
          ],
          [
           44,
           31,
           "Female",
           "2021-08-13T22:30:00",
           "2021-08-13T06:00:00",
           7.5,
           23,
           60,
           17,
           1,
           50,
           0,
           "No",
           6,
           6,
           22,
           22,
           6
          ],
          [
           46,
           40,
           "Female",
           "2021-04-07T01:30:00",
           "2021-04-07T08:30:00",
           7,
           19,
           63,
           18,
           1,
           50,
           0,
           "No",
           8,
           8,
           1,
           1,
           8
          ],
          [
           48,
           27,
           "Female",
           "2021-04-11T00:00:00",
           "2021-04-11T07:30:00",
           7.5,
           28,
           60,
           12,
           1,
           50,
           1,
           "Yes",
           7,
           7,
           0,
           0,
           7
          ],
          [
           59,
           34,
           "Female",
           "2021-11-07T01:30:00",
           "2021-11-07T08:30:00",
           7,
           22,
           65,
           13,
           3,
           50,
           0,
           "No",
           8,
           8,
           1,
           1,
           8
          ],
          [
           60,
           34,
           "Female",
           "2021-08-08T21:00:00",
           "2021-08-08T04:30:00",
           7.5,
           28,
           60,
           12,
           4,
           50,
           0,
           "No",
           4,
           4,
           21,
           21,
           4
          ],
          [
           61,
           32,
           "Female",
           "2021-06-11T02:30:00",
           "2021-06-11T10:00:00",
           7.5,
           28,
           60,
           12,
           1,
           null,
           0,
           "No",
           10,
           10,
           2,
           2,
           10
          ],
          [
           64,
           35,
           "Female",
           "2021-05-08T21:00:00",
           "2021-05-08T04:30:00",
           7.5,
           28,
           55,
           17,
           1,
           null,
           0,
           "No",
           4,
           4,
           21,
           21,
           4
          ],
          [
           68,
           52,
           "Male",
           "2021-12-24T01:30:00",
           "2021-12-24T09:00:00",
           7.5,
           18,
           72,
           10,
           0,
           25,
           2,
           "No",
           9,
           9,
           1,
           1,
           9
          ],
          [
           71,
           30,
           "Female",
           "2021-06-08T02:30:00",
           "2021-06-08T10:00:00",
           7.5,
           28,
           20,
           52,
           1,
           50,
           3,
           "Yes",
           10,
           10,
           2,
           2,
           10
          ],
          [
           76,
           44,
           "Male",
           "2021-12-16T00:30:00",
           "2021-12-16T09:00:00",
           8.5,
           26,
           28,
           46,
           2,
           0,
           null,
           "Yes",
           9,
           9,
           0,
           0,
           9
          ],
          [
           81,
           55,
           "Male",
           "2021-07-14T01:30:00",
           "2021-07-14T10:00:00",
           8.5,
           20,
           67,
           13,
           1,
           25,
           0,
           "Yes",
           10,
           10,
           1,
           1,
           10
          ],
          [
           90,
           24,
           "Female",
           "2021-11-26T00:00:00",
           "2021-11-26T07:30:00",
           7.5,
           26,
           56,
           18,
           4,
           25,
           0,
           "No",
           7,
           7,
           0,
           0,
           7
          ],
          [
           105,
           38,
           "Female",
           "2021-06-13T23:00:00",
           "2021-06-13T05:00:00",
           6,
           28,
           60,
           12,
           0,
           50,
           0,
           "No",
           5,
           5,
           23,
           23,
           5
          ],
          [
           108,
           24,
           "Male",
           "2021-04-03T00:30:00",
           "2021-04-03T09:00:00",
           8.5,
           19,
           63,
           18,
           0,
           50,
           0,
           "Yes",
           9,
           9,
           0,
           0,
           9
          ],
          [
           114,
           54,
           "Male",
           "2021-11-19T01:30:00",
           "2021-11-19T07:30:00",
           6,
           20,
           67,
           13,
           1,
           25,
           0,
           "Yes",
           7,
           7,
           1,
           1,
           7
          ],
          [
           115,
           32,
           "Male",
           "2021-07-02T00:30:00",
           "2021-07-02T09:00:00",
           8.5,
           19,
           63,
           18,
           1,
           null,
           0,
           "Yes",
           9,
           9,
           0,
           0,
           9
          ],
          [
           124,
           19,
           "Male",
           "2021-10-05T01:30:00",
           "2021-10-05T10:00:00",
           8.5,
           20,
           67,
           13,
           1.6412037037037037,
           25,
           0,
           "Yes",
           10,
           10,
           1,
           1,
           10
          ],
          [
           132,
           36,
           "Female",
           "2021-01-03T00:30:00",
           "2021-01-03T08:30:00",
           8,
           23,
           60,
           17,
           4,
           50,
           0,
           "Yes",
           8,
           8,
           0,
           0,
           8
          ],
          [
           133,
           32,
           "Female",
           "2021-09-10T22:00:00",
           "2021-09-10T05:30:00",
           7.5,
           28,
           60,
           12,
           1,
           50,
           0,
           "No",
           5,
           5,
           22,
           22,
           5
          ],
          [
           137,
           52,
           "Male",
           "2021-03-05T00:30:00",
           "2021-03-05T07:30:00",
           7,
           19,
           63,
           18,
           0,
           null,
           3,
           "Yes",
           7,
           7,
           0,
           0,
           7
          ],
          [
           142,
           28,
           "Female",
           "2021-02-05T21:00:00",
           "2021-02-05T03:00:00",
           6,
           23,
           25,
           52,
           2,
           50,
           5,
           "Yes",
           3,
           3,
           21,
           21,
           3
          ],
          [
           146,
           31,
           "Female",
           "2021-12-03T01:30:00",
           "2021-12-03T08:30:00",
           7,
           24,
           28,
           48,
           3,
           50,
           5,
           "Yes",
           8,
           8,
           1,
           1,
           8
          ],
          [
           149,
           26,
           "Female",
           "2021-02-27T21:00:00",
           "2021-02-27T05:00:00",
           8,
           28,
           60,
           12,
           3,
           50,
           null,
           "No",
           5,
           5,
           21,
           21,
           5
          ],
          [
           150,
           33,
           "Female",
           "2021-09-30T02:30:00",
           "2021-09-30T10:00:00",
           7.5,
           24,
           25,
           51,
           1.6412037037037037,
           50,
           0,
           "No",
           10,
           10,
           2,
           2,
           10
          ],
          [
           156,
           61,
           "Male",
           "2021-09-23T01:30:00",
           "2021-09-23T09:00:00",
           7.5,
           20,
           70,
           10,
           1,
           0,
           0,
           "No",
           9,
           9,
           1,
           1,
           9
          ],
          [
           157,
           23,
           "Female",
           "2021-01-26T21:30:00",
           "2021-01-26T05:00:00",
           7.5,
           23,
           60,
           17,
           0,
           50,
           0,
           "No",
           5,
           5,
           21,
           21,
           5
          ],
          [
           160,
           30,
           "Male",
           "2021-10-18T00:30:00",
           "2021-10-18T09:00:00",
           8.5,
           26,
           56,
           18,
           0,
           0,
           0,
           "Yes",
           9,
           9,
           0,
           0,
           9
          ],
          [
           170,
           55,
           "Female",
           "2021-12-06T01:30:00",
           "2021-12-06T08:30:00",
           7,
           28,
           25,
           47,
           3,
           null,
           0,
           "No",
           8,
           8,
           1,
           1,
           8
          ],
          [
           172,
           33,
           "Female",
           "2021-10-06T21:00:00",
           "2021-10-06T04:30:00",
           7.5,
           28,
           25,
           47,
           1,
           50,
           3,
           "No",
           4,
           4,
           21,
           21,
           4
          ],
          [
           178,
           44,
           "Female",
           "2021-07-04T02:00:00",
           "2021-07-04T09:00:00",
           7,
           22,
           65,
           13,
           0,
           50,
           0,
           "No",
           9,
           9,
           2,
           2,
           9
          ],
          [
           182,
           29,
           "Female",
           "2021-11-27T21:30:00",
           "2021-11-27T04:30:00",
           7,
           23,
           60,
           17,
           2,
           50,
           0,
           "Yes",
           4,
           4,
           21,
           21,
           4
          ],
          [
           187,
           37,
           "Female",
           "2021-12-10T00:00:00",
           "2021-12-10T07:00:00",
           7,
           28,
           20,
           52,
           3,
           null,
           3,
           "No",
           7,
           7,
           0,
           0,
           7
          ],
          [
           189,
           21,
           "Male",
           "2021-09-13T02:30:00",
           "2021-09-13T10:30:00",
           8,
           19,
           63,
           18,
           1,
           50,
           0,
           "Yes",
           10,
           10,
           2,
           2,
           10
          ],
          [
           216,
           22,
           "Female",
           "2021-05-14T23:00:00",
           "2021-05-14T06:00:00",
           7,
           28,
           60,
           12,
           4,
           null,
           5,
           "No",
           6,
           6,
           23,
           23,
           6
          ],
          [
           218,
           40,
           "Female",
           "2021-09-26T00:00:00",
           "2021-09-26T07:30:00",
           7.5,
           23,
           25,
           52,
           4,
           50,
           3,
           "Yes",
           7,
           7,
           0,
           0,
           7
          ],
          [
           231,
           32,
           "Male",
           "2021-10-21T01:30:00",
           "2021-10-21T09:00:00",
           7.5,
           22,
           58,
           20,
           0,
           50,
           0,
           "No",
           9,
           9,
           1,
           1,
           9
          ],
          [
           234,
           53,
           "Male",
           "2021-09-23T01:30:00",
           "2021-09-23T09:30:00",
           8,
           22,
           65,
           13,
           4,
           25,
           0,
           "Yes",
           9,
           9,
           1,
           1,
           9
          ],
          [
           236,
           28,
           "Female",
           "2021-02-02T21:00:00",
           "2021-02-02T04:00:00",
           7,
           23,
           60,
           17,
           1,
           50,
           0,
           "No",
           4,
           4,
           21,
           21,
           4
          ],
          [
           238,
           51,
           "Male",
           "2021-04-29T01:30:00",
           "2021-04-29T09:00:00",
           7.5,
           20,
           67,
           13,
           2,
           25,
           0,
           "Yes",
           9,
           9,
           1,
           1,
           9
          ],
          [
           242,
           56,
           "Male",
           "2021-03-07T00:30:00",
           "2021-03-07T09:00:00",
           8.5,
           26,
           56,
           18,
           3,
           0,
           0,
           "Yes",
           9,
           9,
           0,
           0,
           9
          ],
          [
           243,
           43,
           "Female",
           "2021-08-17T02:30:00",
           "2021-08-17T10:30:00",
           8,
           23,
           60,
           17,
           0,
           50,
           0,
           "No",
           10,
           10,
           2,
           2,
           10
          ],
          [
           250,
           61,
           "Male",
           "2021-04-04T00:30:00",
           "2021-04-04T10:30:00",
           10,
           19,
           28,
           53,
           1.6412037037037037,
           0,
           4,
           "No",
           10,
           10,
           0,
           0,
           10
          ],
          [
           252,
           31,
           "Male",
           "2021-06-26T00:30:00",
           "2021-06-26T09:00:00",
           8.5,
           28,
           57,
           15,
           0,
           50,
           0,
           "Yes",
           9,
           9,
           0,
           0,
           9
          ],
          [
           253,
           23,
           "Female",
           "2021-06-23T02:30:00",
           "2021-06-23T09:30:00",
           7,
           20,
           35,
           45,
           1,
           50,
           5,
           "Yes",
           9,
           9,
           2,
           2,
           9
          ],
          [
           255,
           47,
           "Female",
           "2021-03-23T01:30:00",
           "2021-03-23T08:30:00",
           7,
           20,
           65,
           15,
           3,
           50,
           5,
           "No",
           8,
           8,
           1,
           1,
           8
          ],
          [
           264,
           23,
           "Female",
           "2021-04-17T00:00:00",
           "2021-04-17T09:00:00",
           9,
           26,
           56,
           18,
           1,
           25,
           0,
           "No",
           9,
           9,
           0,
           0,
           9
          ],
          [
           276,
           27,
           "Female",
           "2021-05-27T23:00:00",
           "2021-05-27T06:00:00",
           7,
           21,
           62,
           17,
           0,
           50,
           4,
           "No",
           6,
           6,
           23,
           23,
           6
          ],
          [
           279,
           42,
           "Female",
           "2021-08-26T02:30:00",
           "2021-08-26T10:30:00",
           8,
           23,
           58,
           19,
           0,
           50,
           0,
           "No",
           10,
           10,
           2,
           2,
           10
          ],
          [
           281,
           25,
           "Female",
           "2021-11-28T00:00:00",
           "2021-11-28T07:30:00",
           7.5,
           28,
           55,
           17,
           1,
           50,
           0,
           "Yes",
           7,
           7,
           0,
           0,
           7
          ],
          [
           290,
           26,
           "Female",
           "2021-06-08T22:00:00",
           "2021-06-08T05:00:00",
           7,
           28,
           60,
           12,
           2,
           50,
           0,
           "No",
           5,
           5,
           22,
           22,
           5
          ],
          [
           302,
           25,
           "Female",
           "2021-12-29T00:00:00",
           "2021-12-29T08:30:00",
           8.5,
           26,
           56,
           18,
           2,
           25,
           0,
           "No",
           8,
           8,
           0,
           0,
           8
          ],
          [
           306,
           65,
           "Male",
           "2021-11-21T00:30:00",
           "2021-11-21T05:30:00",
           5,
           23,
           60,
           17,
           1,
           0,
           0,
           "No",
           5,
           5,
           0,
           0,
           5
          ],
          [
           310,
           28,
           "Female",
           "2021-12-21T21:00:00",
           "2021-12-21T04:30:00",
           7.5,
           28,
           60,
           12,
           2,
           50,
           0,
           "No",
           4,
           4,
           21,
           21,
           4
          ],
          [
           323,
           30,
           "Female",
           "2021-09-17T21:00:00",
           "2021-09-17T04:30:00",
           7.5,
           28,
           55,
           17,
           3,
           50,
           0,
           "Yes",
           4,
           4,
           21,
           21,
           4
          ],
          [
           325,
           44,
           "Female",
           "2021-03-08T01:30:00",
           "2021-03-08T07:30:00",
           6,
           18,
           70,
           12,
           4,
           null,
           0,
           "No",
           7,
           7,
           1,
           1,
           7
          ],
          [
           328,
           44,
           "Female",
           "2021-10-26T23:00:00",
           "2021-10-26T06:30:00",
           7.5,
           23,
           25,
           52,
           1.6412037037037037,
           50,
           1,
           "No",
           6,
           6,
           23,
           23,
           6
          ],
          [
           330,
           26,
           "Female",
           "2021-05-21T00:00:00",
           "2021-05-21T07:30:00",
           7.5,
           23,
           25,
           52,
           4,
           50,
           2,
           "Yes",
           7,
           7,
           0,
           0,
           7
          ],
          [
           336,
           44,
           "Female",
           "2021-10-26T00:30:00",
           "2021-10-26T10:30:00",
           10,
           28,
           60,
           12,
           3,
           50,
           4,
           "Yes",
           10,
           10,
           0,
           0,
           10
          ],
          [
           344,
           52,
           "Female",
           "2021-11-01T02:30:00",
           "2021-11-01T09:30:00",
           7,
           22,
           60,
           18,
           0,
           50,
           0,
           "No",
           9,
           9,
           2,
           2,
           9
          ],
          [
           349,
           57,
           "Male",
           "2021-04-17T01:30:00",
           "2021-04-17T08:30:00",
           7,
           22,
           65,
           13,
           0,
           25,
           0,
           "Yes",
           8,
           8,
           1,
           1,
           8
          ],
          [
           350,
           24,
           "Female",
           "2021-12-04T21:30:00",
           "2021-12-04T05:00:00",
           7.5,
           28,
           60,
           12,
           1,
           50,
           0,
           "Yes",
           5,
           5,
           21,
           21,
           5
          ],
          [
           352,
           19,
           "Female",
           "2021-01-07T00:00:00",
           "2021-01-07T07:30:00",
           7.5,
           19,
           63,
           18,
           4,
           25,
           0,
           "No",
           7,
           7,
           0,
           0,
           7
          ],
          [
           363,
           28,
           "Male",
           "2021-02-26T23:00:00",
           "2021-02-26T06:30:00",
           7.5,
           22,
           63,
           15,
           1,
           0,
           0,
           "No",
           6,
           6,
           23,
           23,
           6
          ],
          [
           366,
           22,
           "Female",
           "2021-05-19T01:30:00",
           "2021-05-19T08:30:00",
           7,
           26,
           60,
           14,
           4,
           50,
           0,
           "No",
           8,
           8,
           1,
           1,
           8
          ],
          [
           369,
           56,
           "Male",
           "2021-06-18T01:30:00",
           "2021-06-18T09:00:00",
           7.5,
           20,
           65,
           15,
           0,
           25,
           0,
           "Yes",
           9,
           9,
           1,
           1,
           9
          ],
          [
           370,
           41,
           "Male",
           "2021-05-08T01:30:00",
           "2021-05-08T07:30:00",
           6,
           20,
           70,
           10,
           2,
           25,
           1,
           "No",
           7,
           7,
           1,
           1,
           7
          ],
          [
           372,
           32,
           "Female",
           "2021-02-21T02:30:00",
           "2021-02-21T09:30:00",
           7,
           20,
           35,
           45,
           2,
           50,
           2,
           "Yes",
           9,
           9,
           2,
           2,
           9
          ],
          [
           375,
           65,
           "Male",
           "2021-08-13T01:30:00",
           "2021-08-13T09:00:00",
           7.5,
           20,
           35,
           45,
           4,
           25,
           1,
           "No",
           9,
           9,
           1,
           1,
           9
          ],
          [
           378,
           21,
           "Female",
           "2021-04-14T00:00:00",
           "2021-04-14T08:00:00",
           8,
           26,
           63,
           11,
           4,
           25,
           0,
           "No",
           8,
           8,
           0,
           0,
           8
          ],
          [
           387,
           62,
           "Female",
           "2021-07-29T02:30:00",
           "2021-07-29T09:30:00",
           7,
           20,
           35,
           45,
           4,
           50,
           5,
           "No",
           9,
           9,
           2,
           2,
           9
          ],
          [
           389,
           22,
           "Female",
           "2021-09-05T00:00:00",
           "2021-09-05T08:00:00",
           8,
           26,
           63,
           11,
           3,
           25,
           0,
           "No",
           8,
           8,
           0,
           0,
           8
          ],
          [
           392,
           37,
           "Female",
           "2021-08-24T00:30:00",
           "2021-08-24T05:30:00",
           5,
           28,
           20,
           52,
           2,
           50,
           4,
           "Yes",
           5,
           5,
           0,
           0,
           5
          ],
          [
           397,
           57,
           "Female",
           "2021-03-25T01:30:00",
           "2021-03-25T08:30:00",
           7,
           28,
           18,
           54,
           1,
           50,
           1,
           "No",
           8,
           8,
           1,
           1,
           8
          ],
          [
           400,
           32,
           "Female",
           "2021-08-02T02:30:00",
           "2021-08-02T10:00:00",
           7.5,
           28,
           60,
           12,
           3,
           50,
           0,
           "No",
           10,
           10,
           2,
           2,
           10
          ],
          [
           405,
           24,
           "Male",
           "2021-04-10T02:30:00",
           "2021-04-10T08:30:00",
           6,
           22,
           24,
           54,
           1.6412037037037037,
           null,
           3,
           "Yes",
           8,
           8,
           2,
           2,
           8
          ],
          [
           410,
           32,
           "Female",
           "2021-11-12T23:00:00",
           "2021-11-12T07:00:00",
           8,
           28,
           60,
           12,
           0,
           50,
           0,
           "Yes",
           7,
           7,
           23,
           23,
           7
          ],
          [
           413,
           27,
           "Female",
           "2021-11-14T01:00:00",
           "2021-11-14T08:00:00",
           7,
           18,
           72,
           10,
           3,
           25,
           0,
           "No",
           8,
           8,
           1,
           1,
           8
          ],
          [
           415,
           28,
           "Female",
           "2021-09-19T00:00:00",
           "2021-09-19T08:00:00",
           8,
           26,
           56,
           18,
           1,
           25,
           4,
           "No",
           8,
           8,
           0,
           0,
           8
          ],
          [
           420,
           21,
           "Male",
           "2021-03-04T00:30:00",
           "2021-03-04T09:00:00",
           8.5,
           19,
           63,
           18,
           0,
           50,
           0,
           "Yes",
           9,
           9,
           0,
           0,
           9
          ],
          [
           424,
           41,
           "Female",
           "2021-10-17T00:30:00",
           "2021-10-17T08:00:00",
           7.5,
           23,
           25,
           52,
           1,
           50,
           4,
           "Yes",
           8,
           8,
           0,
           0,
           8
          ],
          [
           426,
           26,
           "Female",
           "2021-10-31T21:00:00",
           "2021-10-31T03:00:00",
           6,
           28,
           55,
           17,
           0,
           50,
           0,
           "No",
           3,
           3,
           21,
           21,
           3
          ],
          [
           431,
           38,
           "Female",
           "2021-06-30T00:30:00",
           "2021-06-30T06:30:00",
           6,
           28,
           60,
           12,
           1,
           50,
           0,
           "Yes",
           6,
           6,
           0,
           0,
           6
          ],
          [
           443,
           27,
           "Female",
           "2021-02-06T01:30:00",
           "2021-02-06T08:30:00",
           7,
           23,
           22,
           55,
           1,
           null,
           4,
           "No",
           8,
           8,
           1,
           1,
           8
          ],
          [
           446,
           30,
           "Female",
           "2021-11-16T23:00:00",
           "2021-11-16T06:30:00",
           7.5,
           28,
           20,
           52,
           4,
           50,
           2,
           "Yes",
           6,
           6,
           23,
           23,
           6
          ],
          [
           452,
           18,
           "Male",
           "2021-03-17T02:30:00",
           "2021-03-17T10:00:00",
           7.5,
           22,
           23,
           55,
           1,
           50,
           0,
           "No",
           10,
           10,
           2,
           2,
           10
          ]
         ],
         "hovertemplate": "Exercise frequency=%{x}<br>Sleep efficiency=%{y}<br>ID=%{customdata[0]}<br>Age=%{customdata[1]}<br>Gender=%{customdata[2]}<br>Bedtime=%{customdata[3]}<br>Wakeup time=%{customdata[4]}<br>Sleep duration=%{customdata[5]}<br>REM sleep percentage=%{customdata[6]}<br>Deep sleep percentage=%{customdata[7]}<br>Light sleep percentage=%{customdata[8]}<br>Awakenings=%{customdata[9]}<br>Caffeine consumption=%{customdata[10]}<br>Alcohol consumption=%{customdata[11]}<br>Smoking status=%{customdata[12]}<br>Wake up hour=%{customdata[13]}<br>Wakeup hour=%{customdata[14]}<br>Bedtime hour=%{customdata[15]}<br>Bedtime_hour=%{customdata[16]}<br>Wakeup_hour=%{customdata[17]}<extra></extra>",
         "legendgroup": "1.0",
         "marker": {
          "color": "#EF553B"
         },
         "name": "1.0",
         "offsetgroup": "1.0",
         "orientation": "v",
         "points": "all",
         "scalegroup": "True",
         "showlegend": true,
         "type": "violin",
         "x": [
          1,
          1,
          1,
          1,
          1,
          1,
          1,
          1,
          1,
          1,
          1,
          1,
          1,
          1,
          1,
          1,
          1,
          1,
          1,
          1,
          1,
          1,
          1,
          1,
          1,
          1,
          1,
          1,
          1,
          1,
          1,
          1,
          1,
          1,
          1,
          1,
          1,
          1,
          1,
          1,
          1,
          1,
          1,
          1,
          1,
          1,
          1,
          1,
          1,
          1,
          1,
          1,
          1,
          1,
          1,
          1,
          1,
          1,
          1,
          1,
          1,
          1,
          1,
          1,
          1,
          1,
          1,
          1,
          1,
          1,
          1,
          1,
          1,
          1,
          1,
          1,
          1,
          1,
          1,
          1,
          1,
          1,
          1,
          1,
          1,
          1,
          1,
          1,
          1,
          1,
          1,
          1,
          1,
          1,
          1,
          1,
          1
         ],
         "x0": " ",
         "xaxis": "x",
         "y": [
          0.51,
          0.9,
          0.54,
          0.79,
          0.93,
          0.71,
          0.98,
          0.95,
          0.82,
          0.87,
          0.83,
          0.59,
          0.87,
          0.86,
          0.71,
          0.71,
          0.8,
          0.95,
          0.93,
          0.87,
          0.54,
          0.68,
          0.86,
          0.77,
          0.94,
          0.88,
          0.85,
          0.89,
          0.91,
          0.83,
          0.94,
          0.9,
          0.51,
          0.57,
          0.75,
          0.6,
          0.92,
          0.93,
          0.93,
          0.6,
          0.67,
          0.94,
          0.8,
          0.63,
          0.87,
          0.72,
          0.55,
          0.91,
          0.84,
          0.91,
          0.82,
          0.76,
          0.85,
          0.66,
          0.86,
          0.54,
          0.72,
          0.78,
          0.9,
          0.9,
          0.9,
          0.81,
          0.75,
          0.9,
          0.8,
          0.8,
          0.75,
          0.67,
          0.52,
          0.72,
          0.9,
          0.88,
          0.79,
          0.84,
          0.85,
          0.75,
          0.87,
          0.72,
          0.53,
          0.66,
          0.81,
          0.62,
          0.79,
          0.52,
          0.63,
          0.82,
          0.64,
          0.9,
          0.74,
          0.72,
          0.87,
          0.55,
          0.88,
          0.8,
          0.68,
          0.53,
          0.63
         ],
         "y0": " ",
         "yaxis": "y"
        },
        {
         "alignmentgroup": "True",
         "box": {
          "visible": true
         },
         "customdata": [
          [
           10,
           11,
           "Female",
           "2021-09-16T01:00:00",
           "2021-09-16T10:00:00",
           9,
           18,
           37,
           45,
           4,
           0,
           0,
           "No",
           10,
           10,
           1,
           1,
           10
          ],
          [
           15,
           36,
           "Female",
           "2021-07-03T01:30:00",
           "2021-07-03T10:00:00",
           8.5,
           20,
           32,
           48,
           2,
           25,
           1,
           "Yes",
           10,
           10,
           1,
           1,
           10
          ],
          [
           17,
           21,
           "Female",
           "2021-03-24T01:00:00",
           "2021-03-24T08:00:00",
           7,
           28,
           22,
           50,
           4,
           0,
           2,
           "Yes",
           8,
           8,
           1,
           1,
           8
          ],
          [
           19,
           43,
           "Female",
           "2021-07-27T00:00:00",
           "2021-07-27T09:00:00",
           9,
           20,
           67,
           13,
           0,
           25,
           1,
           "No",
           9,
           9,
           0,
           0,
           9
          ],
          [
           32,
           18,
           "Male",
           "2021-05-24T00:30:00",
           "2021-05-24T08:30:00",
           8,
           22,
           30,
           48,
           3,
           25,
           0,
           "No",
           8,
           8,
           0,
           0,
           8
          ],
          [
           33,
           26,
           "Male",
           "2021-03-26T00:00:00",
           "2021-03-26T07:00:00",
           7,
           23,
           23,
           54,
           3,
           0,
           4,
           "Yes",
           7,
           7,
           0,
           0,
           7
          ],
          [
           36,
           61,
           "Female",
           "2021-10-19T01:00:00",
           "2021-10-19T08:00:00",
           7,
           23,
           22,
           55,
           2,
           50,
           3,
           "No",
           8,
           8,
           1,
           1,
           8
          ],
          [
           40,
           58,
           "Female",
           "2021-03-26T02:00:00",
           "2021-03-26T09:00:00",
           7,
           22,
           23,
           55,
           3,
           50,
           3,
           "No",
           9,
           9,
           2,
           2,
           9
          ],
          [
           41,
           46,
           "Male",
           "2021-07-29T22:00:00",
           "2021-07-29T04:00:00",
           6,
           22,
           58,
           20,
           3,
           0,
           0,
           "No",
           4,
           4,
           22,
           22,
           4
          ],
          [
           45,
           34,
           "Female",
           "2021-12-10T23:00:00",
           "2021-12-10T07:00:00",
           8,
           22,
           65,
           13,
           3,
           25,
           1,
           "No",
           7,
           7,
           23,
           23,
           7
          ],
          [
           47,
           55,
           "Male",
           "2021-04-20T00:00:00",
           "2021-04-20T08:00:00",
           8,
           23,
           57,
           20,
           1,
           0,
           0,
           "No",
           8,
           8,
           0,
           0,
           8
          ],
          [
           49,
           21,
           "Female",
           "2021-08-01T00:00:00",
           "2021-08-01T08:00:00",
           8,
           23,
           60,
           17,
           3,
           0,
           0,
           "No",
           8,
           8,
           0,
           0,
           8
          ],
          [
           53,
           9,
           "Female",
           "2021-11-27T01:00:00",
           "2021-11-27T09:30:00",
           8.5,
           18,
           35,
           47,
           2,
           0,
           0,
           "No",
           9,
           9,
           1,
           1,
           9
          ],
          [
           54,
           16,
           "Female",
           "2021-08-31T01:00:00",
           "2021-08-31T09:30:00",
           8.5,
           18,
           35,
           47,
           2,
           0,
           0,
           "No",
           9,
           9,
           1,
           1,
           9
          ],
          [
           69,
           46,
           "Male",
           "2021-05-07T00:00:00",
           "2021-05-07T07:00:00",
           7,
           18,
           70,
           12,
           2,
           0,
           0,
           "No",
           7,
           7,
           0,
           0,
           7
          ],
          [
           75,
           47,
           "Male",
           "2021-12-23T22:00:00",
           "2021-12-23T05:00:00",
           7,
           22,
           58,
           20,
           4,
           0,
           0,
           "No",
           5,
           5,
           22,
           22,
           5
          ],
          [
           85,
           50,
           "Male",
           "2021-09-26T22:00:00",
           "2021-09-26T04:00:00",
           6,
           22,
           22,
           56,
           4,
           0,
           3,
           "No",
           4,
           4,
           22,
           22,
           4
          ],
          [
           87,
           50,
           "Male",
           "2021-04-09T00:00:00",
           "2021-04-09T07:00:00",
           7,
           22,
           57,
           21,
           2,
           0,
           0,
           "No",
           7,
           7,
           0,
           0,
           7
          ],
          [
           88,
           50,
           "Male",
           "2021-04-14T00:00:00",
           "2021-04-14T07:00:00",
           7,
           26,
           58,
           16,
           3,
           0,
           3,
           "No",
           7,
           7,
           0,
           0,
           7
          ],
          [
           94,
           43,
           "Male",
           "2021-10-23T22:00:00",
           "2021-10-23T05:00:00",
           7,
           22,
           58,
           20,
           4,
           0,
           0,
           "No",
           5,
           5,
           22,
           22,
           5
          ],
          [
           95,
           51,
           "Male",
           "2021-08-12T00:00:00",
           "2021-08-12T07:30:00",
           7.5,
           22,
           58,
           20,
           4,
           0,
           3,
           "No",
           7,
           7,
           0,
           0,
           7
          ],
          [
           96,
           61,
           "Female",
           "2021-07-10T02:00:00",
           "2021-07-10T09:00:00",
           7,
           20,
           67,
           13,
           1,
           25,
           2,
           "Yes",
           9,
           9,
           2,
           2,
           9
          ],
          [
           99,
           32,
           "Female",
           "2021-01-12T02:00:00",
           "2021-01-12T11:00:00",
           9,
           20,
           67,
           13,
           2,
           25,
           0,
           "No",
           11,
           11,
           2,
           2,
           11
          ],
          [
           101,
           38,
           "Female",
           "2021-09-02T00:30:00",
           "2021-09-02T08:30:00",
           8,
           28,
           55,
           17,
           1,
           25,
           1,
           "No",
           8,
           8,
           0,
           0,
           8
          ],
          [
           103,
           55,
           "Female",
           "2021-12-30T00:00:00",
           "2021-12-30T08:00:00",
           8,
           23,
           60,
           17,
           1,
           25,
           0,
           "No",
           8,
           8,
           0,
           0,
           8
          ],
          [
           104,
           44,
           "Female",
           "2021-11-18T23:00:00",
           "2021-11-18T05:00:00",
           6,
           20,
           32,
           48,
           4,
           25,
           5,
           "No",
           5,
           5,
           23,
           23,
           5
          ],
          [
           118,
           30,
           "Male",
           "2021-10-11T21:30:00",
           "2021-10-11T05:30:00",
           8,
           20,
           35,
           45,
           1,
           0,
           5,
           "Yes",
           5,
           5,
           21,
           21,
           5
          ],
          [
           122,
           15,
           "Female",
           "2021-07-24T01:00:00",
           "2021-07-24T09:00:00",
           8,
           20,
           35,
           45,
           1,
           0,
           0,
           "No",
           9,
           9,
           1,
           1,
           9
          ],
          [
           123,
           48,
           "Male",
           "2021-04-26T00:00:00",
           "2021-04-26T07:00:00",
           7,
           22,
           58,
           20,
           1,
           0,
           0,
           "No",
           7,
           7,
           0,
           0,
           7
          ],
          [
           127,
           54,
           "Male",
           "2021-01-29T00:00:00",
           "2021-01-29T07:00:00",
           7,
           23,
           22,
           55,
           3,
           0,
           0,
           "Yes",
           7,
           7,
           0,
           0,
           7
          ],
          [
           129,
           33,
           "Female",
           "2021-08-09T23:00:00",
           "2021-08-09T08:00:00",
           9,
           20,
           65,
           15,
           2,
           25,
           1,
           "No",
           8,
           8,
           23,
           23,
           8
          ],
          [
           131,
           29,
           "Female",
           "2021-11-25T00:30:00",
           "2021-11-25T08:30:00",
           8,
           28,
           25,
           47,
           1,
           25,
           1,
           "Yes",
           8,
           8,
           0,
           0,
           8
          ],
          [
           140,
           52,
           "Female",
           "2021-12-09T00:00:00",
           "2021-12-09T09:00:00",
           9,
           18,
           35,
           47,
           2,
           25,
           2,
           "No",
           9,
           9,
           0,
           0,
           9
          ],
          [
           141,
           37,
           "Female",
           "2021-09-19T22:00:00",
           "2021-09-19T06:30:00",
           8.5,
           20,
           32,
           48,
           2,
           25,
           null,
           "Yes",
           6,
           6,
           22,
           22,
           6
          ],
          [
           145,
           65,
           "Female",
           "2021-03-26T02:00:00",
           "2021-03-26T09:00:00",
           7,
           22,
           65,
           13,
           2,
           25,
           1,
           "Yes",
           9,
           9,
           2,
           2,
           9
          ],
          [
           148,
           40,
           "Female",
           "2021-11-27T00:00:00",
           "2021-11-27T08:00:00",
           8,
           20,
           65,
           15,
           4,
           25,
           1,
           "No",
           8,
           8,
           0,
           0,
           8
          ],
          [
           159,
           14,
           "Female",
           "2021-02-02T01:00:00",
           "2021-02-02T08:00:00",
           7,
           18,
           35,
           47,
           3,
           0,
           0,
           "No",
           8,
           8,
           1,
           1,
           8
          ],
          [
           163,
           53,
           "Male",
           "2021-05-31T22:00:00",
           "2021-05-31T05:00:00",
           7,
           23,
           57,
           20,
           3,
           0,
           0,
           "No",
           5,
           5,
           22,
           22,
           5
          ],
          [
           164,
           49,
           "Female",
           "2021-09-06T00:30:00",
           "2021-09-06T07:30:00",
           7,
           22,
           57,
           21,
           1,
           25,
           1,
           "Yes",
           7,
           7,
           0,
           0,
           7
          ],
          [
           174,
           24,
           "Female",
           "2021-11-11T02:00:00",
           "2021-11-11T08:00:00",
           6,
           26,
           60,
           14,
           1,
           0,
           0,
           "No",
           8,
           8,
           2,
           2,
           8
          ],
          [
           177,
           62,
           "Female",
           "2021-09-17T02:00:00",
           "2021-09-17T09:30:00",
           7.5,
           22,
           24,
           54,
           3,
           50,
           2,
           "No",
           9,
           9,
           2,
           2,
           9
          ],
          [
           179,
           39,
           "Female",
           "2021-08-08T00:30:00",
           "2021-08-08T08:30:00",
           8,
           24,
           58,
           18,
           3,
           25,
           1,
           "Yes",
           8,
           8,
           0,
           0,
           8
          ],
          [
           184,
           24,
           "Female",
           "2021-01-18T00:00:00",
           "2021-01-18T08:00:00",
           8,
           24,
           59,
           17,
           0,
           0,
           0,
           "No",
           8,
           8,
           0,
           0,
           8
          ],
          [
           190,
           52,
           "Female",
           "2021-02-07T01:00:00",
           "2021-02-07T08:00:00",
           7,
           20,
           70,
           10,
           4,
           0,
           0,
           "No",
           8,
           8,
           1,
           1,
           8
          ],
          [
           194,
           18,
           "Female",
           "2021-07-30T02:00:00",
           "2021-07-30T09:00:00",
           7,
           20,
           30,
           50,
           1,
           25,
           0,
           "No",
           9,
           9,
           2,
           2,
           9
          ],
          [
           196,
           61,
           "Female",
           "2021-12-05T02:00:00",
           "2021-12-05T09:00:00",
           7,
           23,
           23,
           54,
           2,
           50,
           5,
           "No",
           9,
           9,
           2,
           2,
           9
          ],
          [
           199,
           32,
           "Female",
           "2021-12-31T01:30:00",
           "2021-12-31T06:30:00",
           5,
           20,
           65,
           15,
           1,
           25,
           1,
           "No",
           6,
           6,
           1,
           1,
           6
          ],
          [
           200,
           52,
           "Male",
           "2021-08-19T22:30:00",
           "2021-08-19T05:30:00",
           7,
           23,
           57,
           20,
           1,
           0,
           0,
           "Yes",
           5,
           5,
           22,
           22,
           5
          ],
          [
           201,
           61,
           "Male",
           "2021-06-09T00:00:00",
           "2021-06-09T07:00:00",
           7,
           22,
           57,
           21,
           3,
           0,
           4,
           "No",
           7,
           7,
           0,
           0,
           7
          ],
          [
           202,
           64,
           "Female",
           "2021-10-18T02:00:00",
           "2021-10-18T10:00:00",
           8,
           23,
           58,
           19,
           2,
           50,
           0,
           "No",
           10,
           10,
           2,
           2,
           10
          ],
          [
           203,
           59,
           "Female",
           "2021-08-05T00:30:00",
           "2021-08-05T06:30:00",
           6,
           18,
           70,
           12,
           0,
           25,
           1,
           "Yes",
           6,
           6,
           0,
           0,
           6
          ],
          [
           206,
           32,
           "Female",
           "2021-12-22T21:30:00",
           "2021-12-22T03:30:00",
           6,
           20,
           67,
           13,
           1,
           25,
           1,
           "No",
           3,
           3,
           21,
           21,
           3
          ],
          [
           207,
           31,
           "Female",
           "2021-01-22T01:30:00",
           "2021-01-22T08:30:00",
           7,
           20,
           67,
           13,
           0,
           25,
           1,
           "No",
           8,
           8,
           1,
           1,
           8
          ],
          [
           208,
           41,
           "Female",
           "2021-03-15T02:00:00",
           "2021-03-15T09:00:00",
           7,
           20,
           65,
           15,
           1,
           50,
           0,
           "Yes",
           9,
           9,
           2,
           2,
           9
          ],
          [
           211,
           61,
           "Male",
           "2021-10-20T00:00:00",
           "2021-10-20T07:00:00",
           7,
           23,
           60,
           17,
           0,
           0,
           0,
           "No",
           7,
           7,
           0,
           0,
           7
          ],
          [
           212,
           10,
           "Female",
           "2021-07-15T01:00:00",
           "2021-07-15T08:00:00",
           7,
           18,
           35,
           47,
           3,
           0,
           0,
           "No",
           8,
           8,
           1,
           1,
           8
          ],
          [
           219,
           56,
           "Female",
           "2021-07-07T01:00:00",
           "2021-07-07T08:00:00",
           7,
           28,
           52,
           20,
           1,
           50,
           0,
           "No",
           8,
           8,
           1,
           1,
           8
          ],
          [
           220,
           13,
           "Female",
           "2021-03-11T01:00:00",
           "2021-03-11T09:00:00",
           8,
           18,
           37,
           45,
           1,
           0,
           0,
           "No",
           9,
           9,
           1,
           1,
           9
          ],
          [
           222,
           41,
           "Female",
           "2021-12-17T23:00:00",
           "2021-12-17T07:30:00",
           8.5,
           20,
           67,
           13,
           0,
           25,
           1,
           "Yes",
           7,
           7,
           23,
           23,
           7
          ],
          [
           224,
           63,
           "Female",
           "2021-08-18T02:00:00",
           "2021-08-18T10:30:00",
           8.5,
           22,
           24,
           54,
           3,
           50,
           0,
           "No",
           10,
           10,
           2,
           2,
           10
          ],
          [
           229,
           30,
           "Female",
           "2021-09-28T00:00:00",
           "2021-09-28T08:00:00",
           8,
           24,
           59,
           17,
           0,
           25,
           0,
           "No",
           8,
           8,
           0,
           0,
           8
          ],
          [
           233,
           36,
           "Female",
           "2021-03-06T23:00:00",
           "2021-03-06T04:00:00",
           5,
           22,
           65,
           13,
           1,
           25,
           1,
           "No",
           4,
           4,
           23,
           23,
           4
          ],
          [
           235,
           18,
           "Female",
           "2021-07-26T01:00:00",
           "2021-07-26T10:00:00",
           9,
           23,
           57,
           20,
           1,
           50,
           0,
           "No",
           10,
           10,
           1,
           1,
           10
          ],
          [
           237,
           58,
           "Male",
           "2021-12-15T21:30:00",
           "2021-12-15T05:00:00",
           7.5,
           22,
           58,
           20,
           1,
           0,
           3,
           "No",
           5,
           5,
           21,
           21,
           5
          ],
          [
           239,
           37,
           "Female",
           "2021-02-13T01:30:00",
           "2021-02-13T10:00:00",
           8.5,
           22,
           65,
           13,
           4,
           25,
           1,
           "No",
           10,
           10,
           1,
           1,
           10
          ],
          [
           247,
           36,
           "Female",
           "2021-09-03T22:00:00",
           "2021-09-03T06:30:00",
           8.5,
           20,
           65,
           15,
           1,
           25,
           1,
           "Yes",
           6,
           6,
           22,
           22,
           6
          ],
          [
           249,
           25,
           "Male",
           "2021-10-20T00:00:00",
           "2021-10-20T07:30:00",
           7.5,
           24,
           63,
           13,
           0,
           0,
           0,
           "Yes",
           7,
           7,
           0,
           0,
           7
          ],
          [
           256,
           65,
           "Female",
           "2021-06-23T02:00:00",
           "2021-06-23T09:00:00",
           7,
           20,
           32,
           48,
           2,
           50,
           0,
           "Yes",
           9,
           9,
           2,
           2,
           9
          ],
          [
           257,
           35,
           "Female",
           "2021-04-22T00:00:00",
           "2021-04-22T07:00:00",
           7,
           20,
           65,
           15,
           0,
           25,
           1,
           "No",
           7,
           7,
           0,
           0,
           7
          ],
          [
           267,
           24,
           "Male",
           "2021-05-18T00:00:00",
           "2021-05-18T07:00:00",
           7,
           20,
           32,
           48,
           3,
           0,
           3,
           "Yes",
           7,
           7,
           0,
           0,
           7
          ],
          [
           271,
           44,
           "Female",
           "2021-11-03T00:00:00",
           "2021-11-03T08:00:00",
           8,
           23,
           60,
           17,
           1,
           null,
           0,
           "No",
           8,
           8,
           0,
           0,
           8
          ],
          [
           275,
           46,
           "Male",
           "2021-06-21T22:00:00",
           "2021-06-21T05:00:00",
           7,
           22,
           58,
           20,
           4,
           0,
           5,
           "No",
           5,
           5,
           22,
           22,
           5
          ],
          [
           284,
           38,
           "Female",
           "2021-01-13T23:00:00",
           "2021-01-13T07:30:00",
           8.5,
           22,
           30,
           48,
           4,
           25,
           2,
           "No",
           7,
           7,
           23,
           23,
           7
          ],
          [
           285,
           17,
           "Female",
           "2021-12-08T02:00:00",
           "2021-12-08T09:00:00",
           7,
           22,
           24,
           54,
           3,
           50,
           0,
           "No",
           9,
           9,
           2,
           2,
           9
          ],
          [
           289,
           34,
           "Female",
           "2021-09-13T23:00:00",
           "2021-09-13T06:00:00",
           7,
           20,
           65,
           15,
           1.6412037037037037,
           25,
           1,
           "No",
           6,
           6,
           23,
           23,
           6
          ],
          [
           294,
           24,
           "Female",
           "2021-04-01T22:00:00",
           "2021-04-01T05:00:00",
           7,
           23,
           60,
           17,
           0,
           25,
           0,
           "No",
           5,
           5,
           22,
           22,
           5
          ],
          [
           297,
           51,
           "Male",
           "2021-11-06T00:00:00",
           "2021-11-06T07:00:00",
           7,
           22,
           58,
           20,
           2,
           0,
           0,
           "No",
           7,
           7,
           0,
           0,
           7
          ],
          [
           298,
           27,
           "Female",
           "2021-01-11T00:30:00",
           "2021-01-11T08:30:00",
           8,
           20,
           65,
           15,
           1,
           25,
           1,
           "Yes",
           8,
           8,
           0,
           0,
           8
          ],
          [
           299,
           35,
           "Female",
           "2021-08-11T23:00:00",
           "2021-08-11T07:30:00",
           8.5,
           22,
           65,
           13,
           2,
           25,
           1,
           "Yes",
           7,
           7,
           23,
           23,
           7
          ],
          [
           308,
           41,
           "Female",
           "2021-11-29T00:30:00",
           "2021-11-29T09:30:00",
           9,
           24,
           25,
           51,
           1.6412037037037037,
           25,
           1,
           "Yes",
           9,
           9,
           0,
           0,
           9
          ],
          [
           311,
           33,
           "Female",
           "2021-09-26T23:00:00",
           "2021-09-26T09:00:00",
           10,
           20,
           30,
           50,
           4,
           25,
           1,
           "No",
           9,
           9,
           23,
           23,
           9
          ],
          [
           315,
           54,
           "Male",
           "2021-03-25T22:30:00",
           "2021-03-25T05:30:00",
           7,
           22,
           23,
           55,
           4,
           0,
           0,
           "Yes",
           5,
           5,
           22,
           22,
           5
          ],
          [
           317,
           58,
           "Male",
           "2021-04-19T00:00:00",
           "2021-04-19T07:30:00",
           7.5,
           22,
           58,
           20,
           1,
           0,
           0,
           "No",
           7,
           7,
           0,
           0,
           7
          ],
          [
           318,
           45,
           "Male",
           "2021-11-22T21:00:00",
           "2021-11-22T04:30:00",
           7.5,
           23,
           57,
           20,
           1,
           0,
           5,
           "No",
           4,
           4,
           21,
           21,
           4
          ],
          [
           319,
           55,
           "Male",
           "2021-03-30T00:00:00",
           "2021-03-30T08:00:00",
           8,
           23,
           57,
           20,
           1,
           0,
           0,
           "No",
           8,
           8,
           0,
           0,
           8
          ],
          [
           324,
           41,
           "Male",
           "2021-12-29T00:00:00",
           "2021-12-29T07:30:00",
           7.5,
           22,
           58,
           20,
           0,
           0,
           0,
           "No",
           7,
           7,
           0,
           0,
           7
          ],
          [
           326,
           52,
           "Female",
           "2021-07-30T01:00:00",
           "2021-07-30T08:00:00",
           7,
           23,
           22,
           55,
           4,
           0,
           4,
           "Yes",
           8,
           8,
           1,
           1,
           8
          ],
          [
           329,
           42,
           "Female",
           "2021-09-30T22:00:00",
           "2021-09-30T06:00:00",
           8,
           20,
           65,
           15,
           1,
           25,
           1,
           "No",
           6,
           6,
           22,
           22,
           6
          ],
          [
           331,
           49,
           "Male",
           "2021-05-21T22:30:00",
           "2021-05-21T04:00:00",
           5.5,
           22,
           22,
           56,
           2,
           0,
           0,
           "No",
           4,
           4,
           22,
           22,
           4
          ],
          [
           333,
           12,
           "Female",
           "2021-11-01T01:00:00",
           "2021-11-01T10:00:00",
           9,
           18,
           35,
           47,
           1,
           0,
           0,
           "No",
           10,
           10,
           1,
           1,
           10
          ],
          [
           335,
           39,
           "Female",
           "2021-11-07T23:00:00",
           "2021-11-07T07:30:00",
           8.5,
           22,
           65,
           13,
           0,
           25,
           1,
           "Yes",
           7,
           7,
           23,
           23,
           7
          ],
          [
           340,
           57,
           "Male",
           "2021-08-09T22:00:00",
           "2021-08-09T03:30:00",
           5.5,
           22,
           57,
           21,
           0,
           0,
           0,
           "No",
           3,
           3,
           22,
           22,
           3
          ],
          [
           342,
           65,
           "Female",
           "2021-03-18T00:00:00",
           "2021-03-18T08:00:00",
           8,
           23,
           60,
           17,
           0,
           0,
           0,
           "No",
           8,
           8,
           0,
           0,
           8
          ],
          [
           343,
           41,
           "Female",
           "2021-08-17T01:00:00",
           "2021-08-17T09:00:00",
           8,
           19,
           28,
           53,
           4,
           50,
           5,
           "Yes",
           9,
           9,
           1,
           1,
           9
          ],
          [
           354,
           45,
           "Male",
           "2021-12-17T22:00:00",
           "2021-12-17T05:30:00",
           7.5,
           25,
           57,
           18,
           4,
           0,
           2,
           "No",
           5,
           5,
           22,
           22,
           5
          ],
          [
           360,
           65,
           "Female",
           "2021-03-11T01:00:00",
           "2021-03-11T10:00:00",
           9,
           23,
           57,
           20,
           0,
           0,
           0,
           "No",
           10,
           10,
           1,
           1,
           10
          ],
          [
           361,
           56,
           "Female",
           "2021-11-08T00:00:00",
           "2021-11-08T09:00:00",
           9,
           24,
           25,
           51,
           2,
           25,
           4,
           "Yes",
           9,
           9,
           0,
           0,
           9
          ],
          [
           364,
           30,
           "Female",
           "2021-11-06T01:30:00",
           "2021-11-06T11:30:00",
           10,
           22,
           65,
           13,
           0,
           25,
           1,
           "No",
           11,
           11,
           1,
           1,
           11
          ],
          [
           376,
           60,
           "Female",
           "2021-01-26T02:00:00",
           "2021-01-26T11:00:00",
           9,
           22,
           23,
           55,
           2,
           50,
           3,
           "No",
           11,
           11,
           2,
           2,
           11
          ],
          [
           377,
           48,
           "Male",
           "2021-03-19T22:30:00",
           "2021-03-19T06:30:00",
           8,
           22,
           57,
           21,
           1,
           0,
           2,
           "No",
           6,
           6,
           22,
           22,
           6
          ],
          [
           381,
           35,
           "Female",
           "2021-02-10T21:30:00",
           "2021-02-10T04:30:00",
           7,
           20,
           67,
           13,
           1,
           25,
           1,
           "No",
           4,
           4,
           21,
           21,
           4
          ],
          [
           386,
           32,
           "Female",
           "2021-10-11T00:00:00",
           "2021-10-11T08:00:00",
           8,
           24,
           60,
           16,
           1,
           0,
           0,
           "No",
           8,
           8,
           0,
           0,
           8
          ],
          [
           394,
           56,
           "Male",
           "2021-04-30T21:30:00",
           "2021-04-30T04:30:00",
           7,
           23,
           57,
           20,
           3,
           0,
           0,
           "No",
           4,
           4,
           21,
           21,
           4
          ],
          [
           395,
           55,
           "Female",
           "2021-05-05T02:00:00",
           "2021-05-05T10:00:00",
           8,
           20,
           30,
           50,
           4,
           50,
           5,
           "Yes",
           10,
           10,
           2,
           2,
           10
          ],
          [
           398,
           59,
           "Female",
           "2021-07-18T02:00:00",
           "2021-07-18T10:00:00",
           8,
           22,
           23,
           55,
           2,
           50,
           2,
           "No",
           10,
           10,
           2,
           2,
           10
          ],
          [
           399,
           30,
           "Female",
           "2021-07-21T01:00:00",
           "2021-07-21T08:00:00",
           7,
           28,
           52,
           20,
           0,
           50,
           0,
           "No",
           8,
           8,
           1,
           1,
           8
          ],
          [
           408,
           35,
           "Female",
           "2021-08-31T00:30:00",
           "2021-08-31T08:30:00",
           8,
           24,
           63,
           13,
           1.6412037037037037,
           25,
           1,
           "Yes",
           8,
           8,
           0,
           0,
           8
          ],
          [
           409,
           61,
           "Female",
           "2021-06-06T00:00:00",
           "2021-06-06T08:00:00",
           8,
           26,
           56,
           18,
           3,
           0,
           2,
           "No",
           8,
           8,
           0,
           0,
           8
          ],
          [
           416,
           49,
           "Male",
           "2021-03-03T00:00:00",
           "2021-03-03T07:00:00",
           7,
           23,
           22,
           55,
           1,
           0,
           4,
           "No",
           7,
           7,
           0,
           0,
           7
          ],
          [
           419,
           51,
           "Male",
           "2021-07-26T22:00:00",
           "2021-07-26T07:00:00",
           9,
           22,
           22,
           56,
           1,
           0,
           2,
           "No",
           7,
           7,
           22,
           22,
           7
          ],
          [
           422,
           44,
           "Male",
           "2021-05-05T22:30:00",
           "2021-05-05T05:30:00",
           7,
           22,
           58,
           20,
           4,
           0,
           0,
           "No",
           5,
           5,
           22,
           22,
           5
          ],
          [
           423,
           41,
           "Female",
           "2021-07-11T21:00:00",
           "2021-07-11T04:00:00",
           7,
           20,
           65,
           15,
           4,
           25,
           1,
           "No",
           4,
           4,
           21,
           21,
           4
          ],
          [
           442,
           46,
           "Male",
           "2021-03-30T00:00:00",
           "2021-03-30T09:00:00",
           9,
           23,
           22,
           55,
           4,
           0,
           3,
           "No",
           9,
           9,
           0,
           0,
           9
          ],
          [
           444,
           65,
           "Female",
           "2021-09-05T02:00:00",
           "2021-09-05T09:30:00",
           7.5,
           23,
           23,
           54,
           4,
           50,
           2,
           "No",
           9,
           9,
           2,
           2,
           9
          ],
          [
           445,
           24,
           "Male",
           "2021-05-07T00:00:00",
           "2021-05-07T07:30:00",
           7.5,
           24,
           28,
           48,
           1,
           0,
           2,
           "Yes",
           7,
           7,
           0,
           0,
           7
          ],
          [
           450,
           40,
           "Female",
           "2021-09-07T23:00:00",
           "2021-09-07T07:30:00",
           8.5,
           20,
           32,
           48,
           1,
           null,
           3,
           "Yes",
           7,
           7,
           23,
           23,
           7
          ]
         ],
         "hovertemplate": "Exercise frequency=%{x}<br>Sleep efficiency=%{y}<br>ID=%{customdata[0]}<br>Age=%{customdata[1]}<br>Gender=%{customdata[2]}<br>Bedtime=%{customdata[3]}<br>Wakeup time=%{customdata[4]}<br>Sleep duration=%{customdata[5]}<br>REM sleep percentage=%{customdata[6]}<br>Deep sleep percentage=%{customdata[7]}<br>Light sleep percentage=%{customdata[8]}<br>Awakenings=%{customdata[9]}<br>Caffeine consumption=%{customdata[10]}<br>Alcohol consumption=%{customdata[11]}<br>Smoking status=%{customdata[12]}<br>Wake up hour=%{customdata[13]}<br>Wakeup hour=%{customdata[14]}<br>Bedtime hour=%{customdata[15]}<br>Bedtime_hour=%{customdata[16]}<br>Wakeup_hour=%{customdata[17]}<extra></extra>",
         "legendgroup": "0.0",
         "marker": {
          "color": "#00cc96"
         },
         "name": "0.0",
         "offsetgroup": "0.0",
         "orientation": "v",
         "points": "all",
         "scalegroup": "True",
         "showlegend": true,
         "type": "violin",
         "x": [
          0,
          0,
          0,
          0,
          0,
          0,
          0,
          0,
          0,
          0,
          0,
          0,
          0,
          0,
          0,
          0,
          0,
          0,
          0,
          0,
          0,
          0,
          0,
          0,
          0,
          0,
          0,
          0,
          0,
          0,
          0,
          0,
          0,
          0,
          0,
          0,
          0,
          0,
          0,
          0,
          0,
          0,
          0,
          0,
          0,
          0,
          0,
          0,
          0,
          0,
          0,
          0,
          0,
          0,
          0,
          0,
          0,
          0,
          0,
          0,
          0,
          0,
          0,
          0,
          0,
          0,
          0,
          0,
          0,
          0,
          0,
          0,
          0,
          0,
          0,
          0,
          0,
          0,
          0,
          0,
          0,
          0,
          0,
          0,
          0,
          0,
          0,
          0,
          0,
          0,
          0,
          0,
          0,
          0,
          0,
          0,
          0,
          0,
          0,
          0,
          0,
          0,
          0,
          0,
          0,
          0,
          0,
          0,
          0,
          0,
          0,
          0,
          0,
          0,
          0,
          0
         ],
         "x0": " ",
         "xaxis": "x",
         "y": [
          0.55,
          0.54,
          0.54,
          0.98,
          0.68,
          0.55,
          0.64,
          0.63,
          0.83,
          0.77,
          0.91,
          0.81,
          0.52,
          0.65,
          0.8,
          0.77,
          0.64,
          0.78,
          0.71,
          0.76,
          0.73,
          0.73,
          0.8,
          0.81,
          0.95,
          0.64,
          0.5,
          0.62,
          0.93,
          0.51,
          0.73,
          0.55,
          0.65,
          0.54,
          0.75,
          0.81,
          0.6,
          0.72,
          0.9,
          0.78,
          0.68,
          0.78,
          0.91,
          0.76,
          0.62,
          0.67,
          0.86,
          0.83,
          0.73,
          0.71,
          0.87,
          0.79,
          0.98,
          0.93,
          0.86,
          0.54,
          0.96,
          0.58,
          0.85,
          0.69,
          0.94,
          0.87,
          0.85,
          0.71,
          0.77,
          0.91,
          0.95,
          0.52,
          0.93,
          0.55,
          0.78,
          0.73,
          0.66,
          0.68,
          0.96,
          0.86,
          0.84,
          0.86,
          0.75,
          0.67,
          0.63,
          0.51,
          0.87,
          0.7,
          0.85,
          0.93,
          0.5,
          0.96,
          0.68,
          0.56,
          0.85,
          0.9,
          0.95,
          0.51,
          0.71,
          0.95,
          0.53,
          0.92,
          0.66,
          0.72,
          0.83,
          0.9,
          0.84,
          0.67,
          0.64,
          0.91,
          0.86,
          0.73,
          0.67,
          0.66,
          0.79,
          0.8,
          0.6,
          0.67,
          0.58,
          0.55
         ],
         "y0": " ",
         "yaxis": "y"
        },
        {
         "alignmentgroup": "True",
         "box": {
          "visible": true
         },
         "customdata": [
          [
           16,
           32,
           "Female",
           "2021-12-06T22:00:00",
           "2021-12-06T05:30:00",
           7.5,
           25,
           55,
           20,
           0,
           50,
           2,
           "No",
           5,
           5,
           22,
           22,
           5
          ],
          [
           227,
           29,
           "Female",
           "2021-12-29T22:00:00",
           "2021-12-29T05:30:00",
           7.5,
           25,
           55,
           20,
           0,
           0,
           0,
           "No",
           5,
           5,
           22,
           22,
           5
          ],
          [
           248,
           29,
           "Female",
           "2021-09-01T22:00:00",
           "2021-09-01T06:00:00",
           8,
           18,
           62,
           20,
           0,
           0,
           0,
           "No",
           6,
           6,
           22,
           22,
           6
          ],
          [
           258,
           27,
           "Female",
           "2021-05-31T22:00:00",
           "2021-05-31T06:00:00",
           8,
           15,
           22,
           63,
           1,
           25,
           5,
           "Yes",
           6,
           6,
           22,
           22,
           6
          ],
          [
           334,
           27,
           "Female",
           "2021-01-23T22:00:00",
           "2021-01-23T05:30:00",
           7.5,
           22,
           57,
           21,
           0,
           25,
           0,
           "No",
           5,
           5,
           22,
           22,
           5
          ],
          [
           337,
           50,
           "Female",
           "2021-07-20T22:00:00",
           "2021-07-20T05:00:00",
           7,
           22,
           58,
           20,
           1,
           0,
           null,
           "No",
           5,
           5,
           22,
           22,
           5
          ],
          [
           417,
           49,
           "Female",
           "2021-01-04T22:00:00",
           "2021-01-04T05:00:00",
           7,
           25,
           55,
           20,
           0,
           0,
           0,
           "No",
           5,
           5,
           22,
           22,
           5
          ],
          [
           448,
           27,
           "Female",
           "2021-11-13T22:00:00",
           "2021-11-13T05:30:00",
           7.5,
           22,
           57,
           21,
           0,
           0,
           0,
           "No",
           5,
           5,
           22,
           22,
           5
          ]
         ],
         "hovertemplate": "Exercise frequency=%{x}<br>Sleep efficiency=%{y}<br>ID=%{customdata[0]}<br>Age=%{customdata[1]}<br>Gender=%{customdata[2]}<br>Bedtime=%{customdata[3]}<br>Wakeup time=%{customdata[4]}<br>Sleep duration=%{customdata[5]}<br>REM sleep percentage=%{customdata[6]}<br>Deep sleep percentage=%{customdata[7]}<br>Light sleep percentage=%{customdata[8]}<br>Awakenings=%{customdata[9]}<br>Caffeine consumption=%{customdata[10]}<br>Alcohol consumption=%{customdata[11]}<br>Smoking status=%{customdata[12]}<br>Wake up hour=%{customdata[13]}<br>Wakeup hour=%{customdata[14]}<br>Bedtime hour=%{customdata[15]}<br>Bedtime_hour=%{customdata[16]}<br>Wakeup_hour=%{customdata[17]}<extra></extra>",
         "legendgroup": "5.0",
         "marker": {
          "color": "#ab63fa"
         },
         "name": "5.0",
         "offsetgroup": "5.0",
         "orientation": "v",
         "points": "all",
         "scalegroup": "True",
         "showlegend": true,
         "type": "violin",
         "x": [
          5,
          5,
          5,
          5,
          5,
          5,
          5,
          5
         ],
         "x0": " ",
         "xaxis": "x",
         "y": [
          0.92,
          0.93,
          0.85,
          0.52,
          0.91,
          0.9,
          0.87,
          0.91
         ],
         "y0": " ",
         "yaxis": "y"
        },
        {
         "alignmentgroup": "True",
         "box": {
          "visible": true
         },
         "customdata": [
          [
           21,
           24,
           "Male",
           "2021-05-02T00:00:00",
           "2021-05-02T08:00:00",
           8,
           15,
           75,
           10,
           3,
           0,
           null,
           "No",
           8,
           8,
           0,
           0,
           8
          ],
          [
           23,
           29,
           "Female",
           "2021-12-23T22:00:00",
           "2021-12-23T06:00:00",
           8,
           23,
           60,
           17,
           2,
           75,
           0,
           "No",
           6,
           6,
           22,
           22,
           6
          ],
          [
           25,
           24,
           "Male",
           "2021-09-16T00:00:00",
           "2021-09-16T07:00:00",
           7,
           15,
           75,
           10,
           1,
           null,
           5,
           "No",
           7,
           7,
           0,
           0,
           7
          ],
          [
           26,
           52,
           "Male",
           "2021-03-26T00:00:00",
           "2021-03-26T06:00:00",
           6,
           18,
           72,
           10,
           1,
           0,
           0,
           "No",
           6,
           6,
           0,
           0,
           6
          ],
          [
           28,
           35,
           "Male",
           "2021-12-15T02:30:00",
           "2021-12-15T09:30:00",
           7,
           24,
           60,
           16,
           2,
           0,
           0,
           "Yes",
           9,
           9,
           2,
           2,
           9
          ],
          [
           51,
           29,
           "Female",
           "2021-11-24T22:00:00",
           "2021-11-24T05:00:00",
           7,
           22,
           57,
           21,
           1,
           25,
           0,
           "No",
           5,
           5,
           22,
           22,
           5
          ],
          [
           67,
           25,
           "Male",
           "2021-07-16T00:00:00",
           "2021-07-16T07:00:00",
           7,
           15,
           70,
           15,
           4,
           0,
           4,
           "No",
           7,
           7,
           0,
           0,
           7
          ],
          [
           74,
           58,
           "Male",
           "2021-05-25T02:30:00",
           "2021-05-25T10:00:00",
           7.5,
           23,
           60,
           17,
           0,
           25,
           0,
           "Yes",
           10,
           10,
           2,
           2,
           10
          ],
          [
           80,
           54,
           "Male",
           "2021-05-19T02:30:00",
           "2021-05-19T10:00:00",
           7.5,
           23,
           60,
           17,
           3,
           0,
           0,
           "Yes",
           10,
           10,
           2,
           2,
           10
          ],
          [
           82,
           29,
           "Male",
           "2021-07-11T21:00:00",
           "2021-07-11T04:30:00",
           7.5,
           15,
           67,
           18,
           2,
           200,
           0,
           "No",
           4,
           4,
           21,
           21,
           4
          ],
          [
           86,
           53,
           "Male",
           "2021-11-06T23:00:00",
           "2021-11-06T06:30:00",
           7.5,
           18,
           65,
           17,
           1.6412037037037037,
           75,
           0,
           "No",
           6,
           6,
           23,
           23,
           6
          ],
          [
           91,
           45,
           "Male",
           "2021-03-29T02:30:00",
           "2021-03-29T07:30:00",
           5,
           24,
           60,
           16,
           4,
           0,
           0,
           "Yes",
           7,
           7,
           2,
           2,
           7
          ],
          [
           98,
           53,
           "Male",
           "2021-11-02T23:00:00",
           "2021-11-02T06:30:00",
           7.5,
           22,
           57,
           21,
           1,
           25,
           0,
           "No",
           6,
           6,
           23,
           23,
           6
          ],
          [
           107,
           53,
           "Male",
           "2021-05-19T21:00:00",
           "2021-05-19T04:00:00",
           7,
           25,
           20,
           55,
           3,
           0,
           5,
           "No",
           4,
           4,
           21,
           21,
           4
          ],
          [
           113,
           23,
           "Male",
           "2021-10-07T23:00:00",
           "2021-10-07T07:00:00",
           8,
           15,
           65,
           20,
           4,
           75,
           0,
           "No",
           7,
           7,
           23,
           23,
           7
          ],
          [
           135,
           27,
           "Male",
           "2021-10-23T23:00:00",
           "2021-10-23T06:00:00",
           7,
           23,
           25,
           52,
           3,
           75,
           2,
           "Yes",
           6,
           6,
           23,
           23,
           6
          ],
          [
           161,
           42,
           "Male",
           "2021-11-06T02:30:00",
           "2021-11-06T09:30:00",
           7,
           24,
           59,
           17,
           4,
           0,
           0,
           "Yes",
           9,
           9,
           2,
           2,
           9
          ],
          [
           173,
           27,
           "Male",
           "2021-07-28T23:00:00",
           "2021-07-28T07:00:00",
           8,
           25,
           20,
           55,
           3,
           0,
           0,
           "Yes",
           7,
           7,
           23,
           23,
           7
          ],
          [
           180,
           53,
           "Male",
           "2021-06-30T23:00:00",
           "2021-06-30T05:00:00",
           6,
           20,
           65,
           15,
           1,
           75,
           0,
           "No",
           5,
           5,
           23,
           23,
           5
          ],
          [
           181,
           37,
           "Male",
           "2021-11-20T02:30:00",
           "2021-11-20T10:00:00",
           7.5,
           24,
           60,
           16,
           2,
           0,
           0,
           "Yes",
           10,
           10,
           2,
           2,
           10
          ],
          [
           188,
           27,
           "Male",
           "2021-06-01T00:00:00",
           "2021-06-01T07:00:00",
           7,
           18,
           65,
           17,
           4,
           50,
           null,
           "No",
           7,
           7,
           0,
           0,
           7
          ],
          [
           191,
           53,
           "Male",
           "2021-10-17T00:00:00",
           "2021-10-17T07:30:00",
           7.5,
           18,
           30,
           52,
           4,
           50,
           4,
           "No",
           7,
           7,
           0,
           0,
           7
          ],
          [
           192,
           27,
           "Female",
           "2021-09-09T22:30:00",
           "2021-09-09T06:30:00",
           8,
           25,
           60,
           15,
           1,
           75,
           0,
           "Yes",
           6,
           6,
           22,
           22,
           6
          ],
          [
           193,
           24,
           "Male",
           "2021-07-14T00:00:00",
           "2021-07-14T07:00:00",
           7,
           15,
           70,
           15,
           0,
           0,
           null,
           "No",
           7,
           7,
           0,
           0,
           7
          ],
          [
           197,
           30,
           "Female",
           "2021-08-05T00:00:00",
           "2021-08-05T08:00:00",
           8,
           22,
           63,
           15,
           1,
           75,
           0,
           "Yes",
           8,
           8,
           0,
           0,
           8
          ],
          [
           198,
           48,
           "Male",
           "2021-01-09T02:30:00",
           "2021-01-09T08:30:00",
           6,
           24,
           60,
           16,
           4,
           0,
           0,
           "Yes",
           8,
           8,
           2,
           2,
           8
          ],
          [
           204,
           38,
           "Male",
           "2021-07-11T23:00:00",
           "2021-07-11T07:00:00",
           8,
           20,
           30,
           50,
           3,
           null,
           3,
           "Yes",
           7,
           7,
           23,
           23,
           7
          ],
          [
           209,
           32,
           "Female",
           "2021-03-22T22:00:00",
           "2021-03-22T06:00:00",
           8,
           22,
           65,
           13,
           1,
           0,
           0,
           "No",
           6,
           6,
           22,
           22,
           6
          ],
          [
           214,
           29,
           "Female",
           "2021-10-29T00:00:00",
           "2021-10-29T05:00:00",
           5,
           25,
           60,
           15,
           1,
           75,
           0,
           "Yes",
           5,
           5,
           0,
           0,
           5
          ],
          [
           215,
           27,
           "Male",
           "2021-09-25T00:30:00",
           "2021-09-25T08:00:00",
           7.5,
           25,
           35,
           40,
           1,
           25,
           2,
           "No",
           8,
           8,
           0,
           0,
           8
          ],
          [
           228,
           29,
           "Female",
           "2021-09-12T21:30:00",
           "2021-09-12T04:30:00",
           7,
           20,
           70,
           10,
           1,
           0,
           0,
           "No",
           4,
           4,
           21,
           21,
           4
          ],
          [
           251,
           29,
           "Female",
           "2021-03-31T21:30:00",
           "2021-03-31T04:30:00",
           7,
           18,
           30,
           52,
           2,
           50,
           2,
           "No",
           4,
           4,
           21,
           21,
           4
          ],
          [
           270,
           27,
           "Male",
           "2021-10-05T00:00:00",
           "2021-10-05T07:00:00",
           7,
           22,
           57,
           21,
           0,
           25,
           0,
           "No",
           7,
           7,
           0,
           0,
           7
          ],
          [
           283,
           53,
           "Male",
           "2021-12-31T21:00:00",
           "2021-12-31T04:00:00",
           7,
           24,
           60,
           16,
           1,
           75,
           0,
           "No",
           4,
           4,
           21,
           21,
           4
          ],
          [
           286,
           27,
           "Male",
           "2021-02-21T23:00:00",
           "2021-02-21T05:00:00",
           6,
           20,
           35,
           45,
           3,
           0,
           5,
           "Yes",
           5,
           5,
           23,
           23,
           5
          ],
          [
           296,
           29,
           "Female",
           "2021-10-09T01:00:00",
           "2021-10-09T09:00:00",
           8,
           24,
           59,
           17,
           0,
           0,
           0,
           "No",
           9,
           9,
           1,
           1,
           9
          ],
          [
           304,
           51,
           "Male",
           "2021-01-08T02:30:00",
           "2021-01-08T12:30:00",
           10,
           24,
           59,
           17,
           2,
           0,
           0,
           "Yes",
           12,
           12,
           2,
           2,
           12
          ],
          [
           307,
           27,
           "Male",
           "2021-07-16T21:00:00",
           "2021-07-16T03:00:00",
           6,
           24,
           60,
           16,
           1,
           0,
           5,
           "Yes",
           3,
           3,
           21,
           21,
           3
          ],
          [
           314,
           25,
           "Male",
           "2021-12-04T23:00:00",
           "2021-12-04T06:00:00",
           7,
           20,
           70,
           10,
           1,
           25,
           0,
           "No",
           6,
           6,
           23,
           23,
           6
          ],
          [
           320,
           54,
           "Male",
           "2021-08-27T00:00:00",
           "2021-08-27T07:00:00",
           7,
           15,
           70,
           15,
           1,
           0,
           4,
           "No",
           7,
           7,
           0,
           0,
           7
          ],
          [
           327,
           29,
           "Female",
           "2021-12-11T00:00:00",
           "2021-12-11T07:30:00",
           7.5,
           22,
           28,
           50,
           1,
           75,
           1,
           "Yes",
           7,
           7,
           0,
           0,
           7
          ],
          [
           341,
           53,
           "Male",
           "2021-06-11T22:30:00",
           "2021-06-11T05:30:00",
           7,
           20,
           65,
           15,
           1,
           75,
           0,
           "No",
           5,
           5,
           22,
           22,
           5
          ],
          [
           348,
           30,
           "Male",
           "2021-09-19T00:00:00",
           "2021-09-19T08:00:00",
           8,
           18,
           75,
           7,
           3,
           0,
           4,
           "No",
           8,
           8,
           0,
           0,
           8
          ],
          [
           355,
           29,
           "Female",
           "2021-06-08T22:00:00",
           "2021-06-08T05:00:00",
           7,
           25,
           55,
           20,
           1,
           0,
           5,
           "Yes",
           5,
           5,
           22,
           22,
           5
          ],
          [
           356,
           39,
           "Male",
           "2021-10-26T02:30:00",
           "2021-10-26T09:30:00",
           7,
           24,
           60,
           16,
           3,
           null,
           0,
           "Yes",
           9,
           9,
           2,
           2,
           9
          ],
          [
           358,
           27,
           "Female",
           "2021-06-04T00:00:00",
           "2021-06-04T09:00:00",
           9,
           25,
           60,
           15,
           0,
           75,
           0,
           "Yes",
           9,
           9,
           0,
           0,
           9
          ],
          [
           362,
           27,
           "Female",
           "2021-07-03T00:00:00",
           "2021-07-03T06:00:00",
           6,
           25,
           63,
           12,
           0,
           75,
           0,
           "Yes",
           6,
           6,
           0,
           0,
           6
          ],
          [
           373,
           29,
           "Female",
           "2021-02-24T22:00:00",
           "2021-02-24T06:00:00",
           8,
           25,
           55,
           20,
           3,
           25,
           1,
           "No",
           6,
           6,
           22,
           22,
           6
          ],
          [
           379,
           25,
           "Male",
           "2021-02-15T00:00:00",
           "2021-02-15T07:00:00",
           7,
           18,
           75,
           7,
           0,
           0,
           5,
           "No",
           7,
           7,
           0,
           0,
           7
          ],
          [
           391,
           21,
           "Male",
           "2021-12-09T23:00:00",
           "2021-12-09T06:30:00",
           7.5,
           18,
           65,
           17,
           2,
           null,
           0,
           "No",
           6,
           6,
           23,
           23,
           6
          ],
          [
           412,
           53,
           "Male",
           "2021-09-27T00:00:00",
           "2021-09-27T07:00:00",
           7,
           20,
           70,
           10,
           3,
           0,
           0,
           "No",
           7,
           7,
           0,
           0,
           7
          ],
          [
           425,
           19,
           "Male",
           "2021-04-24T00:00:00",
           "2021-04-24T08:00:00",
           8,
           15,
           70,
           15,
           0,
           0,
           4,
           "Yes",
           8,
           8,
           0,
           0,
           8
          ],
          [
           434,
           29,
           "Female",
           "2021-02-16T21:00:00",
           "2021-02-16T04:30:00",
           7.5,
           25,
           63,
           12,
           0,
           75,
           0,
           "Yes",
           4,
           4,
           21,
           21,
           4
          ],
          [
           441,
           28,
           "Female",
           "2021-02-06T21:00:00",
           "2021-02-06T05:00:00",
           8,
           22,
           63,
           15,
           0,
           75,
           null,
           "Yes",
           5,
           5,
           21,
           21,
           5
          ]
         ],
         "hovertemplate": "Exercise frequency=%{x}<br>Sleep efficiency=%{y}<br>ID=%{customdata[0]}<br>Age=%{customdata[1]}<br>Gender=%{customdata[2]}<br>Bedtime=%{customdata[3]}<br>Wakeup time=%{customdata[4]}<br>Sleep duration=%{customdata[5]}<br>REM sleep percentage=%{customdata[6]}<br>Deep sleep percentage=%{customdata[7]}<br>Light sleep percentage=%{customdata[8]}<br>Awakenings=%{customdata[9]}<br>Caffeine consumption=%{customdata[10]}<br>Alcohol consumption=%{customdata[11]}<br>Smoking status=%{customdata[12]}<br>Wake up hour=%{customdata[13]}<br>Wakeup hour=%{customdata[14]}<br>Bedtime hour=%{customdata[15]}<br>Bedtime_hour=%{customdata[16]}<br>Wakeup_hour=%{customdata[17]}<extra></extra>",
         "legendgroup": "2.0",
         "marker": {
          "color": "#FFA15A"
         },
         "name": "2.0",
         "offsetgroup": "2.0",
         "orientation": "v",
         "points": "all",
         "scalegroup": "True",
         "showlegend": true,
         "type": "violin",
         "x": [
          2,
          2,
          2,
          2,
          2,
          2,
          2,
          2,
          2,
          2,
          2,
          2,
          2,
          2,
          2,
          2,
          2,
          2,
          2,
          2,
          2,
          2,
          2,
          2,
          2,
          2,
          2,
          2,
          2,
          2,
          2,
          2,
          2,
          2,
          2,
          2,
          2,
          2,
          2,
          2,
          2,
          2,
          2,
          2,
          2,
          2,
          2,
          2,
          2,
          2,
          2,
          2,
          2,
          2
         ],
         "x0": " ",
         "xaxis": "x",
         "y": [
          0.83,
          0.84,
          0.88,
          0.91,
          0.84,
          0.71,
          0.84,
          0.87,
          0.77,
          0.81,
          0.88,
          0.8,
          0.91,
          0.63,
          0.8,
          0.59,
          0.81,
          0.51,
          0.9,
          0.83,
          0.73,
          0.68,
          0.94,
          0.95,
          0.94,
          0.79,
          0.5,
          0.88,
          0.86,
          0.61,
          0.82,
          0.63,
          0.94,
          0.98,
          0.56,
          0.94,
          0.78,
          0.9,
          0.86,
          0.87,
          0.5,
          0.85,
          0.82,
          0.9,
          0.82,
          0.95,
          0.92,
          0.72,
          0.88,
          0.81,
          0.82,
          0.85,
          0.9,
          0.88
         ],
         "y0": " ",
         "yaxis": "y"
        },
        {
         "alignmentgroup": "True",
         "box": {
          "visible": true
         },
         "customdata": [
          [
           30,
           47,
           "Female",
           "2021-12-25T22:30:00",
           "2021-12-25T05:30:00",
           7,
           20,
           60,
           20,
           1,
           0,
           3,
           "No",
           5,
           5,
           22,
           22,
           5
          ],
          [
           50,
           37,
           "Female",
           "2021-04-10T21:30:00",
           "2021-04-10T04:30:00",
           7,
           25,
           55,
           20,
           1,
           0,
           5,
           "No",
           4,
           4,
           21,
           21,
           4
          ],
          [
           62,
           56,
           "Male",
           "2021-09-30T22:30:00",
           "2021-09-30T05:30:00",
           7,
           18,
           60,
           22,
           0,
           0,
           0,
           "No",
           5,
           5,
           22,
           22,
           5
          ],
          [
           72,
           32,
           "Female",
           "2021-11-26T23:00:00",
           "2021-11-26T06:00:00",
           7,
           18,
           62,
           20,
           1,
           50,
           2,
           "No",
           6,
           6,
           23,
           23,
           6
          ],
          [
           109,
           39,
           "Female",
           "2021-10-22T23:00:00",
           "2021-10-22T07:00:00",
           8,
           22,
           63,
           15,
           1,
           50,
           2,
           "No",
           7,
           7,
           23,
           23,
           7
          ],
          [
           121,
           51,
           "Male",
           "2021-07-24T22:30:00",
           "2021-07-24T04:30:00",
           6,
           20,
           62,
           18,
           1,
           0,
           0,
           "No",
           4,
           4,
           22,
           22,
           4
          ],
          [
           136,
           48,
           "Female",
           "2021-02-03T00:00:00",
           "2021-02-03T07:00:00",
           7,
           20,
           65,
           15,
           1.6412037037037037,
           50,
           1,
           "No",
           7,
           7,
           0,
           0,
           7
          ],
          [
           152,
           50,
           "Female",
           "2021-07-24T23:00:00",
           "2021-07-24T06:00:00",
           7,
           25,
           63,
           12,
           1,
           50,
           2,
           "No",
           6,
           6,
           23,
           23,
           6
          ],
          [
           153,
           22,
           "Male",
           "2021-09-29T23:00:00",
           "2021-09-29T06:30:00",
           7.5,
           18,
           65,
           17,
           0,
           75,
           1,
           "No",
           6,
           6,
           23,
           23,
           6
          ],
          [
           158,
           45,
           "Female",
           "2021-07-20T21:00:00",
           "2021-07-20T04:00:00",
           7,
           30,
           60,
           10,
           1,
           0,
           0,
           "No",
           4,
           4,
           21,
           21,
           4
          ],
          [
           166,
           48,
           "Female",
           "2021-01-11T22:00:00",
           "2021-01-11T05:00:00",
           7,
           25,
           55,
           20,
           1,
           0,
           5,
           "No",
           5,
           5,
           22,
           22,
           5
          ],
          [
           168,
           48,
           "Female",
           "2021-05-03T22:00:00",
           "2021-05-03T05:00:00",
           7,
           23,
           60,
           17,
           0,
           75,
           0,
           "No",
           5,
           5,
           22,
           22,
           5
          ],
          [
           175,
           48,
           "Female",
           "2021-07-26T22:30:00",
           "2021-07-26T06:30:00",
           8,
           20,
           70,
           10,
           1,
           0,
           0,
           "No",
           6,
           6,
           22,
           22,
           6
          ],
          [
           183,
           49,
           "Female",
           "2021-08-08T21:30:00",
           "2021-08-08T05:00:00",
           7.5,
           28,
           60,
           12,
           0,
           0,
           0,
           "No",
           5,
           5,
           21,
           21,
           5
          ],
          [
           185,
           48,
           "Female",
           "2021-07-14T21:00:00",
           "2021-07-14T04:30:00",
           7.5,
           22,
           57,
           21,
           0,
           25,
           0,
           "No",
           4,
           4,
           21,
           21,
           4
          ],
          [
           186,
           36,
           "Female",
           "2021-05-25T23:00:00",
           "2021-05-25T06:30:00",
           7.5,
           30,
           55,
           15,
           0,
           50,
           null,
           "No",
           6,
           6,
           23,
           23,
           6
          ],
          [
           205,
           31,
           "Female",
           "2021-03-07T22:30:00",
           "2021-03-07T05:30:00",
           7,
           20,
           60,
           20,
           1,
           0,
           3,
           "No",
           5,
           5,
           22,
           22,
           5
          ],
          [
           213,
           36,
           "Female",
           "2021-01-31T23:00:00",
           "2021-01-31T06:30:00",
           7.5,
           15,
           55,
           30,
           1,
           50,
           2,
           "No",
           6,
           6,
           23,
           23,
           6
          ],
          [
           221,
           37,
           "Female",
           "2021-09-17T21:00:00",
           "2021-09-17T04:00:00",
           7,
           28,
           51,
           21,
           4,
           0,
           0,
           "No",
           4,
           4,
           21,
           21,
           4
          ],
          [
           225,
           38,
           "Male",
           "2021-02-24T23:00:00",
           "2021-02-24T05:00:00",
           6,
           28,
           65,
           7,
           1,
           75,
           1,
           "No",
           5,
           5,
           23,
           23,
           5
          ],
          [
           241,
           32,
           "Male",
           "2021-07-23T22:30:00",
           "2021-07-23T05:30:00",
           7,
           18,
           60,
           22,
           0,
           0,
           0,
           "No",
           5,
           5,
           22,
           22,
           5
          ],
          [
           245,
           37,
           "Female",
           "2021-01-08T22:00:00",
           "2021-01-08T05:00:00",
           7,
           24,
           59,
           17,
           1.6412037037037037,
           0,
           0,
           "No",
           5,
           5,
           22,
           22,
           5
          ],
          [
           260,
           48,
           "Female",
           "2021-06-18T21:30:00",
           "2021-06-18T05:00:00",
           7.5,
           20,
           65,
           15,
           2,
           0,
           0,
           "No",
           5,
           5,
           21,
           21,
           5
          ],
          [
           262,
           37,
           "Female",
           "2021-12-17T22:00:00",
           "2021-12-17T05:00:00",
           7,
           28,
           57,
           15,
           1,
           25,
           0,
           "No",
           5,
           5,
           22,
           22,
           5
          ],
          [
           268,
           30,
           "Female",
           "2021-10-26T22:30:00",
           "2021-10-26T06:30:00",
           8,
           20,
           60,
           20,
           1,
           0,
           3,
           "No",
           6,
           6,
           22,
           22,
           6
          ],
          [
           277,
           37,
           "Female",
           "2021-02-03T22:00:00",
           "2021-02-03T06:00:00",
           8,
           18,
           67,
           15,
           0,
           50,
           1,
           "No",
           6,
           6,
           22,
           22,
           6
          ],
          [
           278,
           48,
           "Female",
           "2021-04-17T21:30:00",
           "2021-04-17T05:30:00",
           8,
           25,
           60,
           15,
           0,
           25,
           0,
           "No",
           5,
           5,
           21,
           21,
           5
          ],
          [
           280,
           48,
           "Female",
           "2021-02-07T22:00:00",
           "2021-02-07T05:00:00",
           7,
           20,
           27,
           53,
           1,
           0,
           2,
           "No",
           5,
           5,
           22,
           22,
           5
          ],
          [
           293,
           38,
           "Female",
           "2021-11-06T22:00:00",
           "2021-11-06T04:00:00",
           6,
           20,
           70,
           10,
           0,
           0,
           0,
           "No",
           4,
           4,
           22,
           22,
           4
          ],
          [
           295,
           38,
           "Male",
           "2021-03-12T23:00:00",
           "2021-03-12T06:00:00",
           7,
           20,
           65,
           15,
           0,
           75,
           1,
           "No",
           6,
           6,
           23,
           23,
           6
          ],
          [
           301,
           47,
           "Female",
           "2021-10-09T22:30:00",
           "2021-10-09T05:30:00",
           7,
           25,
           55,
           20,
           0,
           0,
           3,
           "No",
           5,
           5,
           22,
           22,
           5
          ],
          [
           312,
           22,
           "Female",
           "2021-07-19T22:00:00",
           "2021-07-19T05:00:00",
           7,
           25,
           60,
           15,
           1,
           0,
           0,
           "No",
           5,
           5,
           22,
           22,
           5
          ],
          [
           347,
           51,
           "Male",
           "2021-03-01T22:30:00",
           "2021-03-01T05:30:00",
           7,
           15,
           67,
           18,
           1,
           0,
           0,
           "No",
           5,
           5,
           22,
           22,
           5
          ],
          [
           357,
           51,
           "Male",
           "2021-07-17T22:30:00",
           "2021-07-17T06:30:00",
           8,
           20,
           62,
           18,
           0,
           0,
           0,
           "No",
           6,
           6,
           22,
           22,
           6
          ],
          [
           382,
           22,
           "Male",
           "2021-04-16T23:00:00",
           "2021-04-16T06:00:00",
           7,
           25,
           58,
           17,
           1,
           75,
           1,
           "No",
           6,
           6,
           23,
           23,
           6
          ],
          [
           390,
           36,
           "Female",
           "2021-02-06T23:00:00",
           "2021-02-06T07:00:00",
           8,
           25,
           55,
           20,
           1,
           50,
           2,
           "No",
           7,
           7,
           23,
           23,
           7
          ],
          [
           393,
           37,
           "Female",
           "2021-08-30T23:00:00",
           "2021-08-30T06:00:00",
           7,
           20,
           35,
           45,
           3,
           null,
           3,
           "Yes",
           6,
           6,
           23,
           23,
           6
          ],
          [
           401,
           37,
           "Female",
           "2021-10-03T21:30:00",
           "2021-10-03T05:30:00",
           8,
           20,
           65,
           15,
           1,
           25,
           0,
           "No",
           5,
           5,
           21,
           21,
           5
          ],
          [
           427,
           26,
           "Male",
           "2021-05-12T23:00:00",
           "2021-05-12T06:00:00",
           7,
           18,
           65,
           17,
           1,
           75,
           null,
           "No",
           6,
           6,
           23,
           23,
           6
          ],
          [
           430,
           52,
           "Male",
           "2021-01-05T22:30:00",
           "2021-01-05T06:00:00",
           7.5,
           25,
           62,
           13,
           1,
           0,
           0,
           "No",
           6,
           6,
           22,
           22,
           6
          ],
          [
           435,
           28,
           "Female",
           "2021-08-11T23:00:00",
           "2021-08-11T07:00:00",
           8,
           22,
           63,
           15,
           1.6412037037037037,
           75,
           2,
           "No",
           7,
           7,
           23,
           23,
           7
          ]
         ],
         "hovertemplate": "Exercise frequency=%{x}<br>Sleep efficiency=%{y}<br>ID=%{customdata[0]}<br>Age=%{customdata[1]}<br>Gender=%{customdata[2]}<br>Bedtime=%{customdata[3]}<br>Wakeup time=%{customdata[4]}<br>Sleep duration=%{customdata[5]}<br>REM sleep percentage=%{customdata[6]}<br>Deep sleep percentage=%{customdata[7]}<br>Light sleep percentage=%{customdata[8]}<br>Awakenings=%{customdata[9]}<br>Caffeine consumption=%{customdata[10]}<br>Alcohol consumption=%{customdata[11]}<br>Smoking status=%{customdata[12]}<br>Wake up hour=%{customdata[13]}<br>Wakeup hour=%{customdata[14]}<br>Bedtime hour=%{customdata[15]}<br>Bedtime_hour=%{customdata[16]}<br>Wakeup_hour=%{customdata[17]}<extra></extra>",
         "legendgroup": "4.0",
         "marker": {
          "color": "#19d3f3"
         },
         "name": "4.0",
         "offsetgroup": "4.0",
         "orientation": "v",
         "points": "all",
         "scalegroup": "True",
         "showlegend": true,
         "type": "violin",
         "x": [
          4,
          4,
          4,
          4,
          4,
          4,
          4,
          4,
          4,
          4,
          4,
          4,
          4,
          4,
          4,
          4,
          4,
          4,
          4,
          4,
          4,
          4,
          4,
          4,
          4,
          4,
          4,
          4,
          4,
          4,
          4,
          4,
          4,
          4,
          4,
          4,
          4,
          4,
          4,
          4,
          4
         ],
         "x0": " ",
         "xaxis": "x",
         "y": [
          0.91,
          0.81,
          0.91,
          0.88,
          0.9,
          0.92,
          0.82,
          0.93,
          0.89,
          0.95,
          0.91,
          0.9,
          0.95,
          0.96,
          0.96,
          0.94,
          0.92,
          0.8,
          0.77,
          0.95,
          0.95,
          0.92,
          0.79,
          0.76,
          0.93,
          0.87,
          0.93,
          0.67,
          0.87,
          0.89,
          0.93,
          0.9,
          0.84,
          0.95,
          0.91,
          0.91,
          0.52,
          0.92,
          0.88,
          0.92,
          0.9
         ],
         "y0": " ",
         "yaxis": "y"
        }
       ],
       "layout": {
        "font": {
         "color": "white"
        },
        "legend": {
         "title": {
          "text": "Exercise frequency"
         },
         "tracegroupgap": 0
        },
        "margin": {
         "t": 60
        },
        "paper_bgcolor": "rgba(0, 0, 0, 0.7)",
        "plot_bgcolor": "rgba(0, 0, 0, 0)",
        "template": {
         "data": {
          "bar": [
           {
            "error_x": {
             "color": "#2a3f5f"
            },
            "error_y": {
             "color": "#2a3f5f"
            },
            "marker": {
             "line": {
              "color": "#E5ECF6",
              "width": 0.5
             },
             "pattern": {
              "fillmode": "overlay",
              "size": 10,
              "solidity": 0.2
             }
            },
            "type": "bar"
           }
          ],
          "barpolar": [
           {
            "marker": {
             "line": {
              "color": "#E5ECF6",
              "width": 0.5
             },
             "pattern": {
              "fillmode": "overlay",
              "size": 10,
              "solidity": 0.2
             }
            },
            "type": "barpolar"
           }
          ],
          "carpet": [
           {
            "aaxis": {
             "endlinecolor": "#2a3f5f",
             "gridcolor": "white",
             "linecolor": "white",
             "minorgridcolor": "white",
             "startlinecolor": "#2a3f5f"
            },
            "baxis": {
             "endlinecolor": "#2a3f5f",
             "gridcolor": "white",
             "linecolor": "white",
             "minorgridcolor": "white",
             "startlinecolor": "#2a3f5f"
            },
            "type": "carpet"
           }
          ],
          "choropleth": [
           {
            "colorbar": {
             "outlinewidth": 0,
             "ticks": ""
            },
            "type": "choropleth"
           }
          ],
          "contour": [
           {
            "colorbar": {
             "outlinewidth": 0,
             "ticks": ""
            },
            "colorscale": [
             [
              0,
              "#0d0887"
             ],
             [
              0.1111111111111111,
              "#46039f"
             ],
             [
              0.2222222222222222,
              "#7201a8"
             ],
             [
              0.3333333333333333,
              "#9c179e"
             ],
             [
              0.4444444444444444,
              "#bd3786"
             ],
             [
              0.5555555555555556,
              "#d8576b"
             ],
             [
              0.6666666666666666,
              "#ed7953"
             ],
             [
              0.7777777777777778,
              "#fb9f3a"
             ],
             [
              0.8888888888888888,
              "#fdca26"
             ],
             [
              1,
              "#f0f921"
             ]
            ],
            "type": "contour"
           }
          ],
          "contourcarpet": [
           {
            "colorbar": {
             "outlinewidth": 0,
             "ticks": ""
            },
            "type": "contourcarpet"
           }
          ],
          "heatmap": [
           {
            "colorbar": {
             "outlinewidth": 0,
             "ticks": ""
            },
            "colorscale": [
             [
              0,
              "#0d0887"
             ],
             [
              0.1111111111111111,
              "#46039f"
             ],
             [
              0.2222222222222222,
              "#7201a8"
             ],
             [
              0.3333333333333333,
              "#9c179e"
             ],
             [
              0.4444444444444444,
              "#bd3786"
             ],
             [
              0.5555555555555556,
              "#d8576b"
             ],
             [
              0.6666666666666666,
              "#ed7953"
             ],
             [
              0.7777777777777778,
              "#fb9f3a"
             ],
             [
              0.8888888888888888,
              "#fdca26"
             ],
             [
              1,
              "#f0f921"
             ]
            ],
            "type": "heatmap"
           }
          ],
          "heatmapgl": [
           {
            "colorbar": {
             "outlinewidth": 0,
             "ticks": ""
            },
            "colorscale": [
             [
              0,
              "#0d0887"
             ],
             [
              0.1111111111111111,
              "#46039f"
             ],
             [
              0.2222222222222222,
              "#7201a8"
             ],
             [
              0.3333333333333333,
              "#9c179e"
             ],
             [
              0.4444444444444444,
              "#bd3786"
             ],
             [
              0.5555555555555556,
              "#d8576b"
             ],
             [
              0.6666666666666666,
              "#ed7953"
             ],
             [
              0.7777777777777778,
              "#fb9f3a"
             ],
             [
              0.8888888888888888,
              "#fdca26"
             ],
             [
              1,
              "#f0f921"
             ]
            ],
            "type": "heatmapgl"
           }
          ],
          "histogram": [
           {
            "marker": {
             "pattern": {
              "fillmode": "overlay",
              "size": 10,
              "solidity": 0.2
             }
            },
            "type": "histogram"
           }
          ],
          "histogram2d": [
           {
            "colorbar": {
             "outlinewidth": 0,
             "ticks": ""
            },
            "colorscale": [
             [
              0,
              "#0d0887"
             ],
             [
              0.1111111111111111,
              "#46039f"
             ],
             [
              0.2222222222222222,
              "#7201a8"
             ],
             [
              0.3333333333333333,
              "#9c179e"
             ],
             [
              0.4444444444444444,
              "#bd3786"
             ],
             [
              0.5555555555555556,
              "#d8576b"
             ],
             [
              0.6666666666666666,
              "#ed7953"
             ],
             [
              0.7777777777777778,
              "#fb9f3a"
             ],
             [
              0.8888888888888888,
              "#fdca26"
             ],
             [
              1,
              "#f0f921"
             ]
            ],
            "type": "histogram2d"
           }
          ],
          "histogram2dcontour": [
           {
            "colorbar": {
             "outlinewidth": 0,
             "ticks": ""
            },
            "colorscale": [
             [
              0,
              "#0d0887"
             ],
             [
              0.1111111111111111,
              "#46039f"
             ],
             [
              0.2222222222222222,
              "#7201a8"
             ],
             [
              0.3333333333333333,
              "#9c179e"
             ],
             [
              0.4444444444444444,
              "#bd3786"
             ],
             [
              0.5555555555555556,
              "#d8576b"
             ],
             [
              0.6666666666666666,
              "#ed7953"
             ],
             [
              0.7777777777777778,
              "#fb9f3a"
             ],
             [
              0.8888888888888888,
              "#fdca26"
             ],
             [
              1,
              "#f0f921"
             ]
            ],
            "type": "histogram2dcontour"
           }
          ],
          "mesh3d": [
           {
            "colorbar": {
             "outlinewidth": 0,
             "ticks": ""
            },
            "type": "mesh3d"
           }
          ],
          "parcoords": [
           {
            "line": {
             "colorbar": {
              "outlinewidth": 0,
              "ticks": ""
             }
            },
            "type": "parcoords"
           }
          ],
          "pie": [
           {
            "automargin": true,
            "type": "pie"
           }
          ],
          "scatter": [
           {
            "fillpattern": {
             "fillmode": "overlay",
             "size": 10,
             "solidity": 0.2
            },
            "type": "scatter"
           }
          ],
          "scatter3d": [
           {
            "line": {
             "colorbar": {
              "outlinewidth": 0,
              "ticks": ""
             }
            },
            "marker": {
             "colorbar": {
              "outlinewidth": 0,
              "ticks": ""
             }
            },
            "type": "scatter3d"
           }
          ],
          "scattercarpet": [
           {
            "marker": {
             "colorbar": {
              "outlinewidth": 0,
              "ticks": ""
             }
            },
            "type": "scattercarpet"
           }
          ],
          "scattergeo": [
           {
            "marker": {
             "colorbar": {
              "outlinewidth": 0,
              "ticks": ""
             }
            },
            "type": "scattergeo"
           }
          ],
          "scattergl": [
           {
            "marker": {
             "colorbar": {
              "outlinewidth": 0,
              "ticks": ""
             }
            },
            "type": "scattergl"
           }
          ],
          "scattermapbox": [
           {
            "marker": {
             "colorbar": {
              "outlinewidth": 0,
              "ticks": ""
             }
            },
            "type": "scattermapbox"
           }
          ],
          "scatterpolar": [
           {
            "marker": {
             "colorbar": {
              "outlinewidth": 0,
              "ticks": ""
             }
            },
            "type": "scatterpolar"
           }
          ],
          "scatterpolargl": [
           {
            "marker": {
             "colorbar": {
              "outlinewidth": 0,
              "ticks": ""
             }
            },
            "type": "scatterpolargl"
           }
          ],
          "scatterternary": [
           {
            "marker": {
             "colorbar": {
              "outlinewidth": 0,
              "ticks": ""
             }
            },
            "type": "scatterternary"
           }
          ],
          "surface": [
           {
            "colorbar": {
             "outlinewidth": 0,
             "ticks": ""
            },
            "colorscale": [
             [
              0,
              "#0d0887"
             ],
             [
              0.1111111111111111,
              "#46039f"
             ],
             [
              0.2222222222222222,
              "#7201a8"
             ],
             [
              0.3333333333333333,
              "#9c179e"
             ],
             [
              0.4444444444444444,
              "#bd3786"
             ],
             [
              0.5555555555555556,
              "#d8576b"
             ],
             [
              0.6666666666666666,
              "#ed7953"
             ],
             [
              0.7777777777777778,
              "#fb9f3a"
             ],
             [
              0.8888888888888888,
              "#fdca26"
             ],
             [
              1,
              "#f0f921"
             ]
            ],
            "type": "surface"
           }
          ],
          "table": [
           {
            "cells": {
             "fill": {
              "color": "#EBF0F8"
             },
             "line": {
              "color": "white"
             }
            },
            "header": {
             "fill": {
              "color": "#C8D4E3"
             },
             "line": {
              "color": "white"
             }
            },
            "type": "table"
           }
          ]
         },
         "layout": {
          "annotationdefaults": {
           "arrowcolor": "#2a3f5f",
           "arrowhead": 0,
           "arrowwidth": 1
          },
          "autotypenumbers": "strict",
          "coloraxis": {
           "colorbar": {
            "outlinewidth": 0,
            "ticks": ""
           }
          },
          "colorscale": {
           "diverging": [
            [
             0,
             "#8e0152"
            ],
            [
             0.1,
             "#c51b7d"
            ],
            [
             0.2,
             "#de77ae"
            ],
            [
             0.3,
             "#f1b6da"
            ],
            [
             0.4,
             "#fde0ef"
            ],
            [
             0.5,
             "#f7f7f7"
            ],
            [
             0.6,
             "#e6f5d0"
            ],
            [
             0.7,
             "#b8e186"
            ],
            [
             0.8,
             "#7fbc41"
            ],
            [
             0.9,
             "#4d9221"
            ],
            [
             1,
             "#276419"
            ]
           ],
           "sequential": [
            [
             0,
             "#0d0887"
            ],
            [
             0.1111111111111111,
             "#46039f"
            ],
            [
             0.2222222222222222,
             "#7201a8"
            ],
            [
             0.3333333333333333,
             "#9c179e"
            ],
            [
             0.4444444444444444,
             "#bd3786"
            ],
            [
             0.5555555555555556,
             "#d8576b"
            ],
            [
             0.6666666666666666,
             "#ed7953"
            ],
            [
             0.7777777777777778,
             "#fb9f3a"
            ],
            [
             0.8888888888888888,
             "#fdca26"
            ],
            [
             1,
             "#f0f921"
            ]
           ],
           "sequentialminus": [
            [
             0,
             "#0d0887"
            ],
            [
             0.1111111111111111,
             "#46039f"
            ],
            [
             0.2222222222222222,
             "#7201a8"
            ],
            [
             0.3333333333333333,
             "#9c179e"
            ],
            [
             0.4444444444444444,
             "#bd3786"
            ],
            [
             0.5555555555555556,
             "#d8576b"
            ],
            [
             0.6666666666666666,
             "#ed7953"
            ],
            [
             0.7777777777777778,
             "#fb9f3a"
            ],
            [
             0.8888888888888888,
             "#fdca26"
            ],
            [
             1,
             "#f0f921"
            ]
           ]
          },
          "colorway": [
           "#636efa",
           "#EF553B",
           "#00cc96",
           "#ab63fa",
           "#FFA15A",
           "#19d3f3",
           "#FF6692",
           "#B6E880",
           "#FF97FF",
           "#FECB52"
          ],
          "font": {
           "color": "#2a3f5f"
          },
          "geo": {
           "bgcolor": "white",
           "lakecolor": "white",
           "landcolor": "#E5ECF6",
           "showlakes": true,
           "showland": true,
           "subunitcolor": "white"
          },
          "hoverlabel": {
           "align": "left"
          },
          "hovermode": "closest",
          "mapbox": {
           "style": "light"
          },
          "paper_bgcolor": "white",
          "plot_bgcolor": "#E5ECF6",
          "polar": {
           "angularaxis": {
            "gridcolor": "white",
            "linecolor": "white",
            "ticks": ""
           },
           "bgcolor": "#E5ECF6",
           "radialaxis": {
            "gridcolor": "white",
            "linecolor": "white",
            "ticks": ""
           }
          },
          "scene": {
           "xaxis": {
            "backgroundcolor": "#E5ECF6",
            "gridcolor": "white",
            "gridwidth": 2,
            "linecolor": "white",
            "showbackground": true,
            "ticks": "",
            "zerolinecolor": "white"
           },
           "yaxis": {
            "backgroundcolor": "#E5ECF6",
            "gridcolor": "white",
            "gridwidth": 2,
            "linecolor": "white",
            "showbackground": true,
            "ticks": "",
            "zerolinecolor": "white"
           },
           "zaxis": {
            "backgroundcolor": "#E5ECF6",
            "gridcolor": "white",
            "gridwidth": 2,
            "linecolor": "white",
            "showbackground": true,
            "ticks": "",
            "zerolinecolor": "white"
           }
          },
          "shapedefaults": {
           "line": {
            "color": "#2a3f5f"
           }
          },
          "ternary": {
           "aaxis": {
            "gridcolor": "white",
            "linecolor": "white",
            "ticks": ""
           },
           "baxis": {
            "gridcolor": "white",
            "linecolor": "white",
            "ticks": ""
           },
           "bgcolor": "#E5ECF6",
           "caxis": {
            "gridcolor": "white",
            "linecolor": "white",
            "ticks": ""
           }
          },
          "title": {
           "x": 0.05
          },
          "xaxis": {
           "automargin": true,
           "gridcolor": "white",
           "linecolor": "white",
           "ticks": "",
           "title": {
            "standoff": 15
           },
           "zerolinecolor": "white",
           "zerolinewidth": 2
          },
          "yaxis": {
           "automargin": true,
           "gridcolor": "white",
           "linecolor": "white",
           "ticks": "",
           "title": {
            "standoff": 15
           },
           "zerolinecolor": "white",
           "zerolinewidth": 2
          }
         }
        },
        "title": {
         "text": "Violin Plot of Sleep Efficiency by Exercise Frequency"
        },
        "violinmode": "overlay",
        "xaxis": {
         "anchor": "y",
         "categoryarray": [
          3,
          1,
          0,
          5,
          2,
          4,
          null
         ],
         "categoryorder": "array",
         "domain": [
          0,
          1
         ],
         "title": {
          "text": "Exercise Frequency"
         }
        },
        "yaxis": {
         "anchor": "x",
         "domain": [
          0,
          1
         ],
         "title": {
          "text": "Sleep Efficiency"
         }
        }
       }
      },
      "text/html": [
       "<div>                            <div id=\"29f516c1-6a68-41d3-ac6f-7ef24c4ceeeb\" class=\"plotly-graph-div\" style=\"height:525px; width:100%;\"></div>            <script type=\"text/javascript\">                require([\"plotly\"], function(Plotly) {                    window.PLOTLYENV=window.PLOTLYENV || {};                                    if (document.getElementById(\"29f516c1-6a68-41d3-ac6f-7ef24c4ceeeb\")) {                    Plotly.newPlot(                        \"29f516c1-6a68-41d3-ac6f-7ef24c4ceeeb\",                        [{\"alignmentgroup\":\"True\",\"box\":{\"visible\":true},\"customdata\":[[1,65,\"Female\",\"2021-03-06T01:00:00\",\"2021-03-06T07:00:00\",6.0,18,70,12,0.0,0.0,0.0,\"Yes\",7,7,1,1,7],[2,69,\"Male\",\"2021-12-05T02:00:00\",\"2021-12-05T09:00:00\",7.0,19,28,53,3.0,0.0,3.0,\"Yes\",9,9,2,2,9],[3,40,\"Female\",\"2021-05-25T21:30:00\",\"2021-05-25T05:30:00\",8.0,20,70,10,1.0,0.0,0.0,\"No\",5,5,21,21,5],[5,57,\"Male\",\"2021-03-13T01:00:00\",\"2021-03-13T09:00:00\",8.0,27,55,18,3.0,0.0,3.0,\"No\",9,9,1,1,9],[8,53,\"Male\",\"2021-08-16T00:30:00\",\"2021-08-16T10:30:00\",10.0,28,52,20,0.0,50.0,0.0,\"Yes\",10,10,0,0,10],[11,50,\"Male\",\"2021-02-28T00:30:00\",\"2021-02-28T08:30:00\",8.0,23,57,20,1.0,50.0,0.0,\"Yes\",8,8,0,0,8],[12,55,\"Male\",\"2021-03-10T22:30:00\",\"2021-03-10T06:00:00\",7.5,18,60,22,0.0,0.0,0.0,\"No\",6,6,22,22,6],[14,28,\"Male\",\"2021-02-25T01:00:00\",\"2021-02-25T09:30:00\",8.5,28,25,47,4.0,0.0,0.0,\"No\",9,9,1,1,9],[18,40,\"Female\",\"2021-08-27T23:00:00\",\"2021-08-27T06:30:00\",7.5,18,20,62,3.0,50.0,2.0,\"Yes\",6,6,23,23,6],[20,52,\"Male\",\"2021-12-03T00:30:00\",\"2021-12-03T07:30:00\",7.0,28,52,20,1.6412037037037037,50.0,0.0,\"Yes\",7,7,0,0,7],[29,23,\"Male\",\"2021-11-08T21:30:00\",\"2021-11-08T06:30:00\",9.0,27,20,53,3.0,0.0,0.0,\"No\",6,6,21,21,6],[31,24,\"Male\",\"2021-08-10T00:00:00\",\"2021-08-10T07:00:00\",7.0,27,20,53,3.0,0.0,1.0,\"Yes\",7,7,0,0,7],[35,46,\"Female\",\"2021-07-28T21:30:00\",\"2021-07-28T05:00:00\",7.5,25,60,15,0.0,0.0,0.0,\"No\",5,5,21,21,5],[37,38,\"Male\",\"2021-08-06T22:00:00\",\"2021-08-06T05:00:00\",7.0,18,72,10,1.0,0.0,0.0,\"Yes\",5,5,22,22,5],[52,65,\"Male\",\"2021-08-27T02:30:00\",\"2021-08-27T10:00:00\",7.5,22,59,19,2.0,50.0,2.0,\"No\",10,10,2,2,10],[55,18,\"Male\",\"2021-08-09T01:30:00\",\"2021-08-09T09:00:00\",7.5,18,70,12,2.0,0.0,0.0,\"No\",9,9,1,1,9],[56,37,\"Male\",\"2021-12-04T22:00:00\",\"2021-12-04T07:00:00\",9.0,18,70,12,1.0,0.0,0.0,\"No\",7,7,22,22,7],[57,54,\"Male\",\"2021-09-22T01:00:00\",\"2021-09-22T09:00:00\",8.0,27,55,18,1.0,0.0,3.0,\"No\",9,9,1,1,9],[58,43,\"Male\",\"2021-03-20T02:00:00\",\"2021-03-20T09:30:00\",7.5,23,58,19,1.0,null,0.0,\"Yes\",9,9,2,2,9],[65,30,\"Male\",\"2021-04-24T01:30:00\",\"2021-04-24T09:00:00\",7.5,20,70,10,1.0,null,0.0,\"No\",9,9,1,1,9],[66,21,\"Male\",\"2021-02-21T01:00:00\",\"2021-02-21T09:00:00\",8.0,19,63,18,4.0,0.0,3.0,\"No\",9,9,1,1,9],[70,40,\"Male\",\"2021-09-23T22:00:00\",\"2021-09-23T04:00:00\",6.0,20,35,45,2.0,0.0,2.0,\"Yes\",4,4,22,22,4],[73,55,\"Male\",\"2021-02-28T21:30:00\",\"2021-02-28T03:30:00\",6.0,20,35,45,1.0,0.0,4.0,\"Yes\",3,3,21,21,3],[77,47,\"Female\",\"2021-09-02T21:00:00\",\"2021-09-02T04:00:00\",7.0,30,60,10,1.0,0.0,0.0,\"No\",4,4,21,21,4],[78,46,\"Male\",\"2021-01-11T02:00:00\",\"2021-01-11T11:00:00\",9.0,18,70,12,1.0,0.0,5.0,\"Yes\",11,11,2,2,11],[79,43,\"Male\",\"2021-03-04T22:00:00\",\"2021-03-04T05:00:00\",7.0,20,70,10,4.0,0.0,0.0,\"No\",5,5,22,22,5],[83,66,\"Male\",\"2021-07-03T02:00:00\",\"2021-07-03T09:30:00\",7.5,24,60,16,0.0,0.0,0.0,\"Yes\",9,9,2,2,9],[84,40,\"Female\",\"2021-12-04T22:30:00\",\"2021-12-04T06:30:00\",8.0,22,57,21,4.0,25.0,0.0,\"No\",6,6,22,22,6],[89,48,\"Male\",\"2021-08-28T02:00:00\",\"2021-08-28T09:30:00\",7.5,23,60,17,0.0,0.0,0.0,\"Yes\",9,9,2,2,9],[92,57,\"Male\",\"2021-08-20T21:30:00\",\"2021-08-20T05:30:00\",8.0,27,55,18,0.0,0.0,3.0,\"No\",5,5,21,21,5],[93,39,\"Male\",\"2021-08-25T21:00:00\",\"2021-08-25T04:00:00\",7.0,18,35,47,3.0,0.0,3.0,\"Yes\",4,4,21,21,4],[97,41,\"Male\",\"2021-02-15T21:00:00\",\"2021-02-15T04:00:00\",7.0,28,55,17,0.0,200.0,0.0,\"No\",4,4,21,21,4],[100,65,\"Male\",\"2021-12-07T01:30:00\",\"2021-12-07T09:30:00\",8.0,20,70,10,4.0,0.0,0.0,\"No\",9,9,1,1,9],[102,53,\"Male\",\"2021-01-28T01:00:00\",\"2021-01-28T09:30:00\",8.5,20,67,13,4.0,0.0,1.0,\"No\",9,9,1,1,9],[106,40,\"Female\",\"2021-12-07T22:00:00\",\"2021-12-07T06:00:00\",8.0,22,57,21,0.0,25.0,0.0,\"No\",6,6,22,22,6],[110,47,\"Male\",\"2021-12-30T00:30:00\",\"2021-12-30T08:00:00\",7.5,23,57,20,1.0,50.0,0.0,\"Yes\",8,8,0,0,8],[111,51,\"Male\",\"2021-06-18T00:30:00\",\"2021-06-18T05:30:00\",5.0,23,57,20,1.0,50.0,0.0,\"Yes\",5,5,0,0,5],[112,25,\"Male\",\"2021-10-26T23:00:00\",\"2021-10-26T06:00:00\",7.0,20,65,15,0.0,100.0,0.0,\"No\",6,6,23,23,6],[116,22,\"Male\",\"2021-08-04T00:00:00\",\"2021-08-04T07:00:00\",7.0,27,20,53,2.0,0.0,5.0,\"Yes\",7,7,0,0,7],[117,50,\"Male\",\"2021-04-29T00:30:00\",\"2021-04-29T08:30:00\",8.0,28,57,15,1.0,50.0,0.0,\"Yes\",8,8,0,0,8],[119,52,\"Male\",\"2021-11-25T22:30:00\",\"2021-11-25T05:30:00\",7.0,20,62,18,1.0,0.0,0.0,\"No\",5,5,22,22,5],[120,52,\"Male\",\"2021-07-25T21:30:00\",\"2021-07-25T04:30:00\",7.0,20,70,10,2.0,0.0,0.0,\"No\",4,4,21,21,4],[125,56,\"Male\",\"2021-10-29T02:00:00\",\"2021-10-29T09:00:00\",7.0,20,35,45,3.0,0.0,2.0,\"Yes\",9,9,2,2,9],[126,25,\"Male\",\"2021-05-31T22:30:00\",\"2021-05-31T06:30:00\",8.0,28,51,21,2.0,25.0,0.0,\"No\",6,6,22,22,6],[128,37,\"Female\",\"2021-05-15T23:00:00\",\"2021-05-15T06:00:00\",7.0,30,55,15,1.0,50.0,1.0,\"No\",6,6,23,23,6],[130,25,\"Male\",\"2021-07-20T21:00:00\",\"2021-07-20T04:00:00\",7.0,18,65,17,2.0,50.0,null,\"No\",4,4,21,21,4],[134,37,\"Male\",\"2021-01-26T21:30:00\",\"2021-01-26T05:30:00\",8.0,18,70,12,1.0,0.0,0.0,\"No\",5,5,21,21,5],[138,36,\"Male\",\"2021-03-06T02:00:00\",\"2021-03-06T09:00:00\",7.0,22,65,13,2.0,0.0,0.0,\"Yes\",9,9,2,2,9],[139,55,\"Male\",\"2021-03-01T02:30:00\",\"2021-03-01T10:00:00\",7.5,23,58,19,1.6412037037037037,0.0,3.0,\"No\",10,10,2,2,10],[143,48,\"Male\",\"2021-02-04T22:00:00\",\"2021-02-04T05:00:00\",7.0,27,55,18,3.0,0.0,3.0,\"No\",5,5,22,22,5],[144,25,\"Male\",\"2021-04-21T21:30:00\",\"2021-04-21T04:30:00\",7.0,27,55,18,1.6412037037037037,0.0,3.0,\"No\",4,4,21,21,4],[147,42,\"Male\",\"2021-09-10T23:00:00\",\"2021-09-10T07:00:00\",8.0,18,35,47,2.0,0.0,0.0,\"Yes\",7,7,23,23,7],[151,65,\"Male\",\"2021-04-15T01:00:00\",\"2021-04-15T09:30:00\",8.5,28,20,52,3.0,0.0,2.0,\"Yes\",9,9,1,1,9],[154,41,\"Male\",\"2021-07-01T02:30:00\",\"2021-07-01T10:00:00\",7.5,22,59,19,3.0,0.0,0.0,\"No\",10,10,2,2,10],[155,68,\"Male\",\"2021-03-19T02:00:00\",\"2021-03-19T09:30:00\",7.5,28,58,14,4.0,0.0,1.0,\"Yes\",9,9,2,2,9],[162,42,\"Male\",\"2021-11-06T21:00:00\",\"2021-11-06T04:30:00\",7.5,28,55,17,0.0,200.0,0.0,\"No\",4,4,21,21,4],[165,48,\"Male\",\"2021-09-02T02:00:00\",\"2021-09-02T10:00:00\",8.0,20,70,10,1.0,null,0.0,\"Yes\",10,10,2,2,10],[167,40,\"Female\",\"2021-06-02T23:00:00\",\"2021-06-02T06:00:00\",7.0,20,70,10,1.0,0.0,0.0,\"No\",6,6,23,23,6],[169,35,\"Male\",\"2021-05-24T23:00:00\",\"2021-05-24T06:30:00\",7.5,20,62,18,0.0,50.0,1.0,\"No\",6,6,23,23,6],[171,24,\"Male\",\"2021-10-20T21:30:00\",\"2021-10-20T05:30:00\",8.0,27,55,18,1.6412037037037037,0.0,3.0,\"No\",5,5,21,21,5],[176,42,\"Male\",\"2021-07-07T22:00:00\",\"2021-07-07T05:00:00\",7.0,18,35,47,2.0,null,0.0,\"No\",5,5,22,22,5],[195,44,\"Female\",\"2021-06-05T21:00:00\",\"2021-06-05T05:00:00\",8.0,20,60,20,1.0,0.0,0.0,\"No\",5,5,21,21,5],[210,61,\"Male\",\"2021-02-06T02:00:00\",\"2021-02-06T11:00:00\",9.0,20,70,10,1.0,0.0,0.0,\"Yes\",11,11,2,2,11],[217,22,\"Male\",\"2021-06-15T21:00:00\",\"2021-06-15T03:00:00\",6.0,27,55,18,1.0,0.0,5.0,\"No\",3,3,21,21,3],[223,52,\"Male\",\"2021-02-07T00:00:00\",\"2021-02-07T08:00:00\",8.0,25,55,20,0.0,50.0,1.0,\"No\",8,8,0,0,8],[226,60,\"Male\",\"2021-09-07T01:00:00\",\"2021-09-07T09:00:00\",8.0,22,58,20,3.0,0.0,3.0,\"No\",9,9,1,1,9],[230,26,\"Male\",\"2021-03-04T22:30:00\",\"2021-03-04T05:30:00\",7.0,24,56,20,4.0,0.0,0.0,\"No\",5,5,22,22,5],[232,55,\"Male\",\"2021-04-28T23:00:00\",\"2021-04-28T07:00:00\",8.0,27,20,53,1.0,0.0,0.0,\"Yes\",7,7,23,23,7],[240,41,\"Male\",\"2021-02-27T22:00:00\",\"2021-02-27T06:00:00\",8.0,20,70,10,0.0,0.0,0.0,\"Yes\",6,6,22,22,6],[244,52,\"Male\",\"2021-09-14T00:00:00\",\"2021-09-14T07:00:00\",7.0,23,60,17,4.0,75.0,0.0,\"No\",7,7,0,0,7],[246,67,\"Male\",\"2021-02-06T01:00:00\",\"2021-02-06T09:30:00\",8.5,24,60,16,3.0,0.0,3.0,\"No\",9,9,1,1,9],[254,46,\"Female\",\"2021-06-01T21:00:00\",\"2021-06-01T03:00:00\",6.0,30,60,10,0.0,0.0,0.0,\"No\",3,3,21,21,3],[259,54,\"Male\",\"2021-10-21T22:00:00\",\"2021-10-21T06:00:00\",8.0,18,35,47,1.0,0.0,0.0,\"Yes\",6,6,22,22,6],[261,46,\"Male\",\"2021-08-20T22:00:00\",\"2021-08-20T05:00:00\",7.0,27,55,18,0.0,0.0,3.0,\"Yes\",5,5,22,22,5],[265,48,\"Female\",\"2021-05-30T22:00:00\",\"2021-05-30T05:00:00\",7.0,22,57,21,0.0,50.0,0.0,\"No\",5,5,22,22,5],[266,44,\"Male\",\"2021-06-21T02:00:00\",\"2021-06-21T09:30:00\",7.5,18,72,10,0.0,0.0,0.0,\"Yes\",9,9,2,2,9],[269,45,\"Male\",\"2021-11-30T01:00:00\",\"2021-11-30T09:30:00\",8.5,20,67,13,1.0,0.0,3.0,\"No\",9,9,1,1,9],[272,50,\"Female\",\"2021-10-12T21:30:00\",\"2021-10-12T04:30:00\",7.0,28,55,17,1.0,0.0,0.0,\"No\",4,4,21,21,4],[273,58,\"Male\",\"2021-02-13T01:00:00\",\"2021-02-13T10:00:00\",9.0,27,20,53,2.0,0.0,3.0,\"Yes\",10,10,1,1,10],[274,49,\"Male\",\"2021-12-19T00:30:00\",\"2021-12-19T07:30:00\",7.0,28,57,15,0.0,50.0,0.0,\"Yes\",7,7,0,0,7],[282,64,\"Male\",\"2021-02-14T02:00:00\",\"2021-02-14T09:30:00\",7.5,26,58,16,1.0,0.0,0.0,\"Yes\",9,9,2,2,9],[287,50,\"Male\",\"2021-11-25T22:00:00\",\"2021-11-25T06:00:00\",8.0,18,37,45,1.0,0.0,2.0,\"Yes\",6,6,22,22,6],[288,40,\"Female\",\"2021-01-06T21:30:00\",\"2021-01-06T05:00:00\",7.5,23,25,52,1.6412037037037037,75.0,2.0,\"Yes\",5,5,21,21,5],[291,54,\"Male\",\"2021-01-20T22:30:00\",\"2021-01-20T06:30:00\",8.0,18,60,22,3.0,0.0,0.0,\"No\",6,6,22,22,6],[292,46,\"Female\",\"2021-03-28T21:30:00\",\"2021-03-28T05:00:00\",7.5,25,60,15,1.0,0.0,0.0,\"No\",5,5,21,21,5],[300,22,\"Male\",\"2021-04-24T21:30:00\",\"2021-04-24T05:30:00\",8.0,27,20,53,4.0,0.0,4.0,\"No\",5,5,21,21,5],[303,25,\"Male\",\"2021-05-15T00:00:00\",\"2021-05-15T07:00:00\",7.0,25,55,20,4.0,0.0,5.0,\"No\",7,7,0,0,7],[309,56,\"Female\",\"2021-10-16T01:00:00\",\"2021-10-16T08:00:00\",7.0,20,65,15,1.0,0.0,5.0,\"No\",8,8,1,1,8],[313,50,\"Male\",\"2021-12-12T01:00:00\",\"2021-12-12T10:00:00\",9.0,27,55,18,1.0,0.0,3.0,\"No\",10,10,1,1,10],[316,40,\"Female\",\"2021-03-10T22:00:00\",\"2021-03-10T06:00:00\",8.0,25,55,20,1.6412037037037037,0.0,0.0,\"No\",6,6,22,22,6],[321,60,\"Male\",\"2021-06-19T23:00:00\",\"2021-06-19T06:00:00\",7.0,27,20,53,1.0,0.0,2.0,\"Yes\",6,6,23,23,6],[322,25,\"Male\",\"2021-09-11T23:00:00\",\"2021-09-11T06:30:00\",7.5,23,60,17,2.0,null,0.0,\"No\",6,6,23,23,6],[332,46,\"Male\",\"2021-04-28T21:30:00\",\"2021-04-28T05:30:00\",8.0,18,72,10,3.0,0.0,0.0,\"Yes\",5,5,21,21,5],[338,52,\"Male\",\"2021-07-05T22:30:00\",\"2021-07-05T06:30:00\",8.0,20,65,15,1.6412037037037037,50.0,1.0,\"No\",6,6,22,22,6],[339,44,\"Male\",\"2021-11-10T02:30:00\",\"2021-11-10T12:30:00\",10.0,23,58,19,1.0,0.0,0.0,\"No\",12,12,2,2,12],[345,53,\"Male\",\"2021-03-26T21:30:00\",\"2021-03-26T06:30:00\",9.0,27,55,18,1.0,0.0,3.0,\"No\",6,6,21,21,6],[346,25,\"Male\",\"2021-03-09T00:00:00\",\"2021-03-09T07:00:00\",7.0,28,22,50,1.0,50.0,2.0,\"Yes\",7,7,0,0,7],[351,24,\"Male\",\"2021-07-18T21:30:00\",\"2021-07-18T04:30:00\",7.0,27,20,53,4.0,0.0,1.0,\"No\",4,4,21,21,4],[353,52,\"Male\",\"2021-10-06T21:00:00\",\"2021-10-06T05:00:00\",8.0,25,55,20,1.6412037037037037,0.0,5.0,\"No\",5,5,21,21,5],[359,41,\"Male\",\"2021-11-17T22:00:00\",\"2021-11-17T05:00:00\",7.0,20,35,45,1.0,0.0,2.0,\"Yes\",5,5,22,22,5],[365,37,\"Male\",\"2021-09-07T00:30:00\",\"2021-09-07T08:30:00\",8.0,30,25,45,1.0,0.0,0.0,\"Yes\",8,8,0,0,8],[368,56,\"Male\",\"2021-08-03T02:30:00\",\"2021-08-03T07:30:00\",5.0,22,59,19,1.0,0.0,0.0,\"Yes\",7,7,2,2,7],[371,40,\"Female\",\"2021-09-21T22:00:00\",\"2021-09-21T05:00:00\",7.0,20,65,15,1.0,50.0,1.0,\"No\",5,5,22,22,5],[374,39,\"Male\",\"2021-10-11T23:00:00\",\"2021-10-11T07:00:00\",8.0,20,70,10,1.0,0.0,0.0,\"Yes\",7,7,23,23,7],[380,61,\"Male\",\"2021-07-31T22:00:00\",\"2021-07-31T05:00:00\",7.0,27,55,18,1.0,0.0,3.0,\"No\",5,5,22,22,5],[383,40,\"Male\",\"2021-06-11T21:00:00\",\"2021-06-11T04:30:00\",7.5,25,57,18,1.0,0.0,0.0,\"No\",4,4,21,21,4],[384,39,\"Male\",\"2021-02-26T22:00:00\",\"2021-02-26T07:00:00\",9.0,20,70,10,1.0,0.0,0.0,\"Yes\",7,7,22,22,7],[385,40,\"Male\",\"2021-09-25T21:00:00\",\"2021-09-25T04:00:00\",7.0,18,72,10,1.0,0.0,0.0,\"Yes\",4,4,21,21,4],[388,48,\"Female\",\"2021-07-14T21:00:00\",\"2021-07-14T04:00:00\",7.0,30,60,10,1.0,0.0,0.0,\"No\",4,4,21,21,4],[396,56,\"Male\",\"2021-12-23T21:30:00\",\"2021-12-23T05:30:00\",8.0,27,55,18,2.0,0.0,null,\"No\",5,5,21,21,5],[402,48,\"Male\",\"2021-02-01T01:30:00\",\"2021-02-01T09:00:00\",7.5,20,67,13,0.0,0.0,0.0,\"Yes\",9,9,1,1,9],[403,38,\"Male\",\"2021-11-25T22:00:00\",\"2021-11-25T06:00:00\",8.0,18,70,12,0.0,0.0,0.0,\"Yes\",6,6,22,22,6],[404,58,\"Male\",\"2021-11-06T21:30:00\",\"2021-11-06T05:30:00\",8.0,27,55,18,0.0,0.0,3.0,\"Yes\",5,5,21,21,5],[406,56,\"Male\",\"2021-08-15T02:00:00\",\"2021-08-15T07:30:00\",5.5,22,57,21,0.0,0.0,null,\"Yes\",7,7,2,2,7],[407,53,\"Male\",\"2021-04-17T22:30:00\",\"2021-04-17T05:30:00\",7.0,20,62,18,2.0,0.0,0.0,\"No\",5,5,22,22,5],[411,58,\"Male\",\"2021-10-02T02:00:00\",\"2021-10-02T09:00:00\",7.0,18,35,47,1.0,0.0,4.0,\"Yes\",9,9,2,2,9],[414,51,\"Male\",\"2021-10-25T00:30:00\",\"2021-10-25T09:00:00\",8.5,28,52,20,1.0,50.0,0.0,\"Yes\",9,9,0,0,9],[418,44,\"Male\",\"2021-10-07T22:00:00\",\"2021-10-07T05:00:00\",7.0,20,35,45,4.0,0.0,3.0,\"Yes\",5,5,22,22,5],[421,55,\"Male\",\"2021-10-04T21:30:00\",\"2021-10-04T04:30:00\",7.0,27,20,53,4.0,0.0,null,\"Yes\",4,4,21,21,4],[428,54,\"Male\",\"2021-12-09T23:00:00\",\"2021-12-09T07:00:00\",8.0,27,55,18,0.0,0.0,3.0,\"No\",7,7,23,23,7],[429,23,\"Male\",\"2021-01-11T01:00:00\",\"2021-01-11T09:00:00\",8.0,20,35,45,2.0,0.0,5.0,\"No\",9,9,1,1,9],[432,37,\"Female\",\"2021-10-20T23:00:00\",\"2021-10-20T06:00:00\",7.0,25,55,20,1.0,50.0,1.0,\"No\",6,6,23,23,6],[433,55,\"Male\",\"2021-04-27T01:00:00\",\"2021-04-27T09:00:00\",8.0,28,53,19,3.0,0.0,3.0,\"No\",9,9,1,1,9],[436,40,\"Female\",\"2021-02-12T22:00:00\",\"2021-02-12T05:00:00\",7.0,28,57,15,0.0,0.0,0.0,\"No\",5,5,22,22,5],[437,59,\"Male\",\"2021-06-10T21:30:00\",\"2021-06-10T05:30:00\",8.0,27,55,18,2.0,0.0,3.0,\"No\",5,5,21,21,5],[438,56,\"Male\",\"2021-03-11T01:00:00\",\"2021-03-11T09:00:00\",8.0,27,55,18,0.0,0.0,3.0,\"No\",9,9,1,1,9],[439,55,\"Male\",\"2021-04-14T01:30:00\",\"2021-04-14T07:30:00\",6.0,28,57,15,1.0,0.0,3.0,\"No\",7,7,1,1,7],[440,25,\"Male\",\"2021-11-30T23:00:00\",\"2021-11-30T06:30:00\",7.5,20,35,45,4.0,0.0,3.0,\"Yes\",6,6,23,23,6],[449,52,\"Male\",\"2021-03-31T21:00:00\",\"2021-03-31T03:00:00\",6.0,28,57,15,4.0,25.0,0.0,\"No\",3,3,21,21,3],[451,45,\"Male\",\"2021-07-29T21:00:00\",\"2021-07-29T04:00:00\",7.0,18,72,10,3.0,0.0,0.0,\"No\",4,4,21,21,4]],\"hovertemplate\":\"Exercise frequency=%{x}\\u003cbr\\u003eSleep efficiency=%{y}\\u003cbr\\u003eID=%{customdata[0]}\\u003cbr\\u003eAge=%{customdata[1]}\\u003cbr\\u003eGender=%{customdata[2]}\\u003cbr\\u003eBedtime=%{customdata[3]}\\u003cbr\\u003eWakeup time=%{customdata[4]}\\u003cbr\\u003eSleep duration=%{customdata[5]}\\u003cbr\\u003eREM sleep percentage=%{customdata[6]}\\u003cbr\\u003eDeep sleep percentage=%{customdata[7]}\\u003cbr\\u003eLight sleep percentage=%{customdata[8]}\\u003cbr\\u003eAwakenings=%{customdata[9]}\\u003cbr\\u003eCaffeine consumption=%{customdata[10]}\\u003cbr\\u003eAlcohol consumption=%{customdata[11]}\\u003cbr\\u003eSmoking status=%{customdata[12]}\\u003cbr\\u003eWake up hour=%{customdata[13]}\\u003cbr\\u003eWakeup hour=%{customdata[14]}\\u003cbr\\u003eBedtime hour=%{customdata[15]}\\u003cbr\\u003eBedtime_hour=%{customdata[16]}\\u003cbr\\u003eWakeup_hour=%{customdata[17]}\\u003cextra\\u003e\\u003c\\u002fextra\\u003e\",\"legendgroup\":\"3.0\",\"marker\":{\"color\":\"#636efa\"},\"name\":\"3.0\",\"offsetgroup\":\"3.0\",\"orientation\":\"v\",\"points\":\"all\",\"scalegroup\":\"True\",\"showlegend\":true,\"x\":[3.0,3.0,3.0,3.0,3.0,3.0,3.0,3.0,3.0,3.0,3.0,3.0,3.0,3.0,3.0,3.0,3.0,3.0,3.0,3.0,3.0,3.0,3.0,3.0,3.0,3.0,3.0,3.0,3.0,3.0,3.0,3.0,3.0,3.0,3.0,3.0,3.0,3.0,3.0,3.0,3.0,3.0,3.0,3.0,3.0,3.0,3.0,3.0,3.0,3.0,3.0,3.0,3.0,3.0,3.0,3.0,3.0,3.0,3.0,3.0,3.0,3.0,3.0,3.0,3.0,3.0,3.0,3.0,3.0,3.0,3.0,3.0,3.0,3.0,3.0,3.0,3.0,3.0,3.0,3.0,3.0,3.0,3.0,3.0,3.0,3.0,3.0,3.0,3.0,3.0,3.0,3.0,3.0,3.0,3.0,3.0,3.0,3.0,3.0,3.0,3.0,3.0,3.0,3.0,3.0,3.0,3.0,3.0,3.0,3.0,3.0,3.0,3.0,3.0,3.0,3.0,3.0,3.0,3.0,3.0,3.0,3.0,3.0,3.0,3.0,3.0,3.0,3.0,3.0,3.0],\"x0\":\" \",\"xaxis\":\"x\",\"y\":[0.88,0.66,0.89,0.76,0.9,0.92,0.93,0.64,0.5,0.89,0.65,0.57,0.94,0.87,0.71,0.84,0.84,0.99,0.91,0.85,0.77,0.52,0.64,0.94,0.7,0.79,0.88,0.78,0.97,0.94,0.52,0.96,0.77,0.71,0.87,0.94,0.91,0.9,0.53,0.87,0.93,0.72,0.63,0.77,0.94,0.78,0.95,0.77,0.83,0.81,0.87,0.58,0.53,0.7,0.74,0.95,0.95,0.85,0.92,0.89,0.68,0.91,0.77,0.72,0.95,0.82,0.75,0.65,0.95,0.75,0.78,0.95,0.61,0.94,0.94,0.87,0.93,0.94,0.5,0.93,0.9,0.62,0.52,0.84,0.93,0.6,0.81,0.93,0.9,0.71,0.6,0.83,0.72,0.77,0.89,0.9,0.51,0.64,0.86,0.54,0.53,0.74,0.87,0.87,0.94,0.95,0.9,0.95,0.93,0.83,0.92,0.93,0.87,0.9,0.82,0.68,0.88,0.66,0.51,0.93,0.63,0.92,0.77,0.96,0.72,0.86,0.9,0.5,0.74,0.76],\"y0\":\" \",\"yaxis\":\"y\",\"type\":\"violin\"},{\"alignmentgroup\":\"True\",\"box\":{\"visible\":true},\"customdata\":[[4,40,\"Female\",\"2021-11-03T02:30:00\",\"2021-11-03T08:30:00\",6.0,23,25,52,3.0,50.0,5.0,\"Yes\",8,8,2,2,8],[6,36,\"Female\",\"2021-07-01T21:00:00\",\"2021-07-01T04:30:00\",7.5,23,60,17,0.0,null,0.0,\"No\",4,4,21,21,4],[7,27,\"Female\",\"2021-07-21T21:00:00\",\"2021-07-21T03:00:00\",6.0,28,25,47,2.0,50.0,0.0,\"Yes\",3,3,21,21,3],[9,41,\"Female\",\"2021-04-05T02:30:00\",\"2021-04-05T08:30:00\",6.0,28,55,17,3.0,50.0,0.0,\"No\",8,8,2,2,8],[13,30,\"Female\",\"2021-08-07T02:30:00\",\"2021-08-07T11:30:00\",9.0,24,58,18,0.0,50.0,0.0,\"No\",11,11,2,2,11],[22,32,\"Male\",\"2021-06-14T02:30:00\",\"2021-06-14T10:00:00\",7.5,23,58,19,3.0,50.0,4.0,\"No\",10,10,2,2,10],[24,63,\"Female\",\"2021-05-21T02:30:00\",\"2021-05-21T10:30:00\",8.0,22,65,13,0.0,50.0,0.0,\"No\",10,10,2,2,10],[27,36,\"Female\",\"2021-06-18T00:00:00\",\"2021-06-18T07:00:00\",7.0,28,55,17,0.0,null,0.0,\"No\",7,7,0,0,7],[38,20,\"Female\",\"2021-09-05T00:00:00\",\"2021-09-05T09:00:00\",9.0,26,56,18,4.0,null,0.0,\"No\",9,9,0,0,9],[39,28,\"Female\",\"2021-06-19T00:00:00\",\"2021-06-19T07:30:00\",7.5,28,60,12,1.0,50.0,0.0,\"Yes\",7,7,0,0,7],[42,52,\"Male\",\"2021-05-08T01:30:00\",\"2021-05-08T07:30:00\",6.0,20,67,13,1.0,25.0,0.0,\"Yes\",7,7,1,1,7],[43,29,\"Female\",\"2021-06-27T00:00:00\",\"2021-06-27T10:00:00\",10.0,28,20,52,2.0,50.0,0.0,\"Yes\",10,10,0,0,10],[44,31,\"Female\",\"2021-08-13T22:30:00\",\"2021-08-13T06:00:00\",7.5,23,60,17,1.0,50.0,0.0,\"No\",6,6,22,22,6],[46,40,\"Female\",\"2021-04-07T01:30:00\",\"2021-04-07T08:30:00\",7.0,19,63,18,1.0,50.0,0.0,\"No\",8,8,1,1,8],[48,27,\"Female\",\"2021-04-11T00:00:00\",\"2021-04-11T07:30:00\",7.5,28,60,12,1.0,50.0,1.0,\"Yes\",7,7,0,0,7],[59,34,\"Female\",\"2021-11-07T01:30:00\",\"2021-11-07T08:30:00\",7.0,22,65,13,3.0,50.0,0.0,\"No\",8,8,1,1,8],[60,34,\"Female\",\"2021-08-08T21:00:00\",\"2021-08-08T04:30:00\",7.5,28,60,12,4.0,50.0,0.0,\"No\",4,4,21,21,4],[61,32,\"Female\",\"2021-06-11T02:30:00\",\"2021-06-11T10:00:00\",7.5,28,60,12,1.0,null,0.0,\"No\",10,10,2,2,10],[64,35,\"Female\",\"2021-05-08T21:00:00\",\"2021-05-08T04:30:00\",7.5,28,55,17,1.0,null,0.0,\"No\",4,4,21,21,4],[68,52,\"Male\",\"2021-12-24T01:30:00\",\"2021-12-24T09:00:00\",7.5,18,72,10,0.0,25.0,2.0,\"No\",9,9,1,1,9],[71,30,\"Female\",\"2021-06-08T02:30:00\",\"2021-06-08T10:00:00\",7.5,28,20,52,1.0,50.0,3.0,\"Yes\",10,10,2,2,10],[76,44,\"Male\",\"2021-12-16T00:30:00\",\"2021-12-16T09:00:00\",8.5,26,28,46,2.0,0.0,null,\"Yes\",9,9,0,0,9],[81,55,\"Male\",\"2021-07-14T01:30:00\",\"2021-07-14T10:00:00\",8.5,20,67,13,1.0,25.0,0.0,\"Yes\",10,10,1,1,10],[90,24,\"Female\",\"2021-11-26T00:00:00\",\"2021-11-26T07:30:00\",7.5,26,56,18,4.0,25.0,0.0,\"No\",7,7,0,0,7],[105,38,\"Female\",\"2021-06-13T23:00:00\",\"2021-06-13T05:00:00\",6.0,28,60,12,0.0,50.0,0.0,\"No\",5,5,23,23,5],[108,24,\"Male\",\"2021-04-03T00:30:00\",\"2021-04-03T09:00:00\",8.5,19,63,18,0.0,50.0,0.0,\"Yes\",9,9,0,0,9],[114,54,\"Male\",\"2021-11-19T01:30:00\",\"2021-11-19T07:30:00\",6.0,20,67,13,1.0,25.0,0.0,\"Yes\",7,7,1,1,7],[115,32,\"Male\",\"2021-07-02T00:30:00\",\"2021-07-02T09:00:00\",8.5,19,63,18,1.0,null,0.0,\"Yes\",9,9,0,0,9],[124,19,\"Male\",\"2021-10-05T01:30:00\",\"2021-10-05T10:00:00\",8.5,20,67,13,1.6412037037037037,25.0,0.0,\"Yes\",10,10,1,1,10],[132,36,\"Female\",\"2021-01-03T00:30:00\",\"2021-01-03T08:30:00\",8.0,23,60,17,4.0,50.0,0.0,\"Yes\",8,8,0,0,8],[133,32,\"Female\",\"2021-09-10T22:00:00\",\"2021-09-10T05:30:00\",7.5,28,60,12,1.0,50.0,0.0,\"No\",5,5,22,22,5],[137,52,\"Male\",\"2021-03-05T00:30:00\",\"2021-03-05T07:30:00\",7.0,19,63,18,0.0,null,3.0,\"Yes\",7,7,0,0,7],[142,28,\"Female\",\"2021-02-05T21:00:00\",\"2021-02-05T03:00:00\",6.0,23,25,52,2.0,50.0,5.0,\"Yes\",3,3,21,21,3],[146,31,\"Female\",\"2021-12-03T01:30:00\",\"2021-12-03T08:30:00\",7.0,24,28,48,3.0,50.0,5.0,\"Yes\",8,8,1,1,8],[149,26,\"Female\",\"2021-02-27T21:00:00\",\"2021-02-27T05:00:00\",8.0,28,60,12,3.0,50.0,null,\"No\",5,5,21,21,5],[150,33,\"Female\",\"2021-09-30T02:30:00\",\"2021-09-30T10:00:00\",7.5,24,25,51,1.6412037037037037,50.0,0.0,\"No\",10,10,2,2,10],[156,61,\"Male\",\"2021-09-23T01:30:00\",\"2021-09-23T09:00:00\",7.5,20,70,10,1.0,0.0,0.0,\"No\",9,9,1,1,9],[157,23,\"Female\",\"2021-01-26T21:30:00\",\"2021-01-26T05:00:00\",7.5,23,60,17,0.0,50.0,0.0,\"No\",5,5,21,21,5],[160,30,\"Male\",\"2021-10-18T00:30:00\",\"2021-10-18T09:00:00\",8.5,26,56,18,0.0,0.0,0.0,\"Yes\",9,9,0,0,9],[170,55,\"Female\",\"2021-12-06T01:30:00\",\"2021-12-06T08:30:00\",7.0,28,25,47,3.0,null,0.0,\"No\",8,8,1,1,8],[172,33,\"Female\",\"2021-10-06T21:00:00\",\"2021-10-06T04:30:00\",7.5,28,25,47,1.0,50.0,3.0,\"No\",4,4,21,21,4],[178,44,\"Female\",\"2021-07-04T02:00:00\",\"2021-07-04T09:00:00\",7.0,22,65,13,0.0,50.0,0.0,\"No\",9,9,2,2,9],[182,29,\"Female\",\"2021-11-27T21:30:00\",\"2021-11-27T04:30:00\",7.0,23,60,17,2.0,50.0,0.0,\"Yes\",4,4,21,21,4],[187,37,\"Female\",\"2021-12-10T00:00:00\",\"2021-12-10T07:00:00\",7.0,28,20,52,3.0,null,3.0,\"No\",7,7,0,0,7],[189,21,\"Male\",\"2021-09-13T02:30:00\",\"2021-09-13T10:30:00\",8.0,19,63,18,1.0,50.0,0.0,\"Yes\",10,10,2,2,10],[216,22,\"Female\",\"2021-05-14T23:00:00\",\"2021-05-14T06:00:00\",7.0,28,60,12,4.0,null,5.0,\"No\",6,6,23,23,6],[218,40,\"Female\",\"2021-09-26T00:00:00\",\"2021-09-26T07:30:00\",7.5,23,25,52,4.0,50.0,3.0,\"Yes\",7,7,0,0,7],[231,32,\"Male\",\"2021-10-21T01:30:00\",\"2021-10-21T09:00:00\",7.5,22,58,20,0.0,50.0,0.0,\"No\",9,9,1,1,9],[234,53,\"Male\",\"2021-09-23T01:30:00\",\"2021-09-23T09:30:00\",8.0,22,65,13,4.0,25.0,0.0,\"Yes\",9,9,1,1,9],[236,28,\"Female\",\"2021-02-02T21:00:00\",\"2021-02-02T04:00:00\",7.0,23,60,17,1.0,50.0,0.0,\"No\",4,4,21,21,4],[238,51,\"Male\",\"2021-04-29T01:30:00\",\"2021-04-29T09:00:00\",7.5,20,67,13,2.0,25.0,0.0,\"Yes\",9,9,1,1,9],[242,56,\"Male\",\"2021-03-07T00:30:00\",\"2021-03-07T09:00:00\",8.5,26,56,18,3.0,0.0,0.0,\"Yes\",9,9,0,0,9],[243,43,\"Female\",\"2021-08-17T02:30:00\",\"2021-08-17T10:30:00\",8.0,23,60,17,0.0,50.0,0.0,\"No\",10,10,2,2,10],[250,61,\"Male\",\"2021-04-04T00:30:00\",\"2021-04-04T10:30:00\",10.0,19,28,53,1.6412037037037037,0.0,4.0,\"No\",10,10,0,0,10],[252,31,\"Male\",\"2021-06-26T00:30:00\",\"2021-06-26T09:00:00\",8.5,28,57,15,0.0,50.0,0.0,\"Yes\",9,9,0,0,9],[253,23,\"Female\",\"2021-06-23T02:30:00\",\"2021-06-23T09:30:00\",7.0,20,35,45,1.0,50.0,5.0,\"Yes\",9,9,2,2,9],[255,47,\"Female\",\"2021-03-23T01:30:00\",\"2021-03-23T08:30:00\",7.0,20,65,15,3.0,50.0,5.0,\"No\",8,8,1,1,8],[264,23,\"Female\",\"2021-04-17T00:00:00\",\"2021-04-17T09:00:00\",9.0,26,56,18,1.0,25.0,0.0,\"No\",9,9,0,0,9],[276,27,\"Female\",\"2021-05-27T23:00:00\",\"2021-05-27T06:00:00\",7.0,21,62,17,0.0,50.0,4.0,\"No\",6,6,23,23,6],[279,42,\"Female\",\"2021-08-26T02:30:00\",\"2021-08-26T10:30:00\",8.0,23,58,19,0.0,50.0,0.0,\"No\",10,10,2,2,10],[281,25,\"Female\",\"2021-11-28T00:00:00\",\"2021-11-28T07:30:00\",7.5,28,55,17,1.0,50.0,0.0,\"Yes\",7,7,0,0,7],[290,26,\"Female\",\"2021-06-08T22:00:00\",\"2021-06-08T05:00:00\",7.0,28,60,12,2.0,50.0,0.0,\"No\",5,5,22,22,5],[302,25,\"Female\",\"2021-12-29T00:00:00\",\"2021-12-29T08:30:00\",8.5,26,56,18,2.0,25.0,0.0,\"No\",8,8,0,0,8],[306,65,\"Male\",\"2021-11-21T00:30:00\",\"2021-11-21T05:30:00\",5.0,23,60,17,1.0,0.0,0.0,\"No\",5,5,0,0,5],[310,28,\"Female\",\"2021-12-21T21:00:00\",\"2021-12-21T04:30:00\",7.5,28,60,12,2.0,50.0,0.0,\"No\",4,4,21,21,4],[323,30,\"Female\",\"2021-09-17T21:00:00\",\"2021-09-17T04:30:00\",7.5,28,55,17,3.0,50.0,0.0,\"Yes\",4,4,21,21,4],[325,44,\"Female\",\"2021-03-08T01:30:00\",\"2021-03-08T07:30:00\",6.0,18,70,12,4.0,null,0.0,\"No\",7,7,1,1,7],[328,44,\"Female\",\"2021-10-26T23:00:00\",\"2021-10-26T06:30:00\",7.5,23,25,52,1.6412037037037037,50.0,1.0,\"No\",6,6,23,23,6],[330,26,\"Female\",\"2021-05-21T00:00:00\",\"2021-05-21T07:30:00\",7.5,23,25,52,4.0,50.0,2.0,\"Yes\",7,7,0,0,7],[336,44,\"Female\",\"2021-10-26T00:30:00\",\"2021-10-26T10:30:00\",10.0,28,60,12,3.0,50.0,4.0,\"Yes\",10,10,0,0,10],[344,52,\"Female\",\"2021-11-01T02:30:00\",\"2021-11-01T09:30:00\",7.0,22,60,18,0.0,50.0,0.0,\"No\",9,9,2,2,9],[349,57,\"Male\",\"2021-04-17T01:30:00\",\"2021-04-17T08:30:00\",7.0,22,65,13,0.0,25.0,0.0,\"Yes\",8,8,1,1,8],[350,24,\"Female\",\"2021-12-04T21:30:00\",\"2021-12-04T05:00:00\",7.5,28,60,12,1.0,50.0,0.0,\"Yes\",5,5,21,21,5],[352,19,\"Female\",\"2021-01-07T00:00:00\",\"2021-01-07T07:30:00\",7.5,19,63,18,4.0,25.0,0.0,\"No\",7,7,0,0,7],[363,28,\"Male\",\"2021-02-26T23:00:00\",\"2021-02-26T06:30:00\",7.5,22,63,15,1.0,0.0,0.0,\"No\",6,6,23,23,6],[366,22,\"Female\",\"2021-05-19T01:30:00\",\"2021-05-19T08:30:00\",7.0,26,60,14,4.0,50.0,0.0,\"No\",8,8,1,1,8],[369,56,\"Male\",\"2021-06-18T01:30:00\",\"2021-06-18T09:00:00\",7.5,20,65,15,0.0,25.0,0.0,\"Yes\",9,9,1,1,9],[370,41,\"Male\",\"2021-05-08T01:30:00\",\"2021-05-08T07:30:00\",6.0,20,70,10,2.0,25.0,1.0,\"No\",7,7,1,1,7],[372,32,\"Female\",\"2021-02-21T02:30:00\",\"2021-02-21T09:30:00\",7.0,20,35,45,2.0,50.0,2.0,\"Yes\",9,9,2,2,9],[375,65,\"Male\",\"2021-08-13T01:30:00\",\"2021-08-13T09:00:00\",7.5,20,35,45,4.0,25.0,1.0,\"No\",9,9,1,1,9],[378,21,\"Female\",\"2021-04-14T00:00:00\",\"2021-04-14T08:00:00\",8.0,26,63,11,4.0,25.0,0.0,\"No\",8,8,0,0,8],[387,62,\"Female\",\"2021-07-29T02:30:00\",\"2021-07-29T09:30:00\",7.0,20,35,45,4.0,50.0,5.0,\"No\",9,9,2,2,9],[389,22,\"Female\",\"2021-09-05T00:00:00\",\"2021-09-05T08:00:00\",8.0,26,63,11,3.0,25.0,0.0,\"No\",8,8,0,0,8],[392,37,\"Female\",\"2021-08-24T00:30:00\",\"2021-08-24T05:30:00\",5.0,28,20,52,2.0,50.0,4.0,\"Yes\",5,5,0,0,5],[397,57,\"Female\",\"2021-03-25T01:30:00\",\"2021-03-25T08:30:00\",7.0,28,18,54,1.0,50.0,1.0,\"No\",8,8,1,1,8],[400,32,\"Female\",\"2021-08-02T02:30:00\",\"2021-08-02T10:00:00\",7.5,28,60,12,3.0,50.0,0.0,\"No\",10,10,2,2,10],[405,24,\"Male\",\"2021-04-10T02:30:00\",\"2021-04-10T08:30:00\",6.0,22,24,54,1.6412037037037037,null,3.0,\"Yes\",8,8,2,2,8],[410,32,\"Female\",\"2021-11-12T23:00:00\",\"2021-11-12T07:00:00\",8.0,28,60,12,0.0,50.0,0.0,\"Yes\",7,7,23,23,7],[413,27,\"Female\",\"2021-11-14T01:00:00\",\"2021-11-14T08:00:00\",7.0,18,72,10,3.0,25.0,0.0,\"No\",8,8,1,1,8],[415,28,\"Female\",\"2021-09-19T00:00:00\",\"2021-09-19T08:00:00\",8.0,26,56,18,1.0,25.0,4.0,\"No\",8,8,0,0,8],[420,21,\"Male\",\"2021-03-04T00:30:00\",\"2021-03-04T09:00:00\",8.5,19,63,18,0.0,50.0,0.0,\"Yes\",9,9,0,0,9],[424,41,\"Female\",\"2021-10-17T00:30:00\",\"2021-10-17T08:00:00\",7.5,23,25,52,1.0,50.0,4.0,\"Yes\",8,8,0,0,8],[426,26,\"Female\",\"2021-10-31T21:00:00\",\"2021-10-31T03:00:00\",6.0,28,55,17,0.0,50.0,0.0,\"No\",3,3,21,21,3],[431,38,\"Female\",\"2021-06-30T00:30:00\",\"2021-06-30T06:30:00\",6.0,28,60,12,1.0,50.0,0.0,\"Yes\",6,6,0,0,6],[443,27,\"Female\",\"2021-02-06T01:30:00\",\"2021-02-06T08:30:00\",7.0,23,22,55,1.0,null,4.0,\"No\",8,8,1,1,8],[446,30,\"Female\",\"2021-11-16T23:00:00\",\"2021-11-16T06:30:00\",7.5,28,20,52,4.0,50.0,2.0,\"Yes\",6,6,23,23,6],[452,18,\"Male\",\"2021-03-17T02:30:00\",\"2021-03-17T10:00:00\",7.5,22,23,55,1.0,50.0,0.0,\"No\",10,10,2,2,10]],\"hovertemplate\":\"Exercise frequency=%{x}\\u003cbr\\u003eSleep efficiency=%{y}\\u003cbr\\u003eID=%{customdata[0]}\\u003cbr\\u003eAge=%{customdata[1]}\\u003cbr\\u003eGender=%{customdata[2]}\\u003cbr\\u003eBedtime=%{customdata[3]}\\u003cbr\\u003eWakeup time=%{customdata[4]}\\u003cbr\\u003eSleep duration=%{customdata[5]}\\u003cbr\\u003eREM sleep percentage=%{customdata[6]}\\u003cbr\\u003eDeep sleep percentage=%{customdata[7]}\\u003cbr\\u003eLight sleep percentage=%{customdata[8]}\\u003cbr\\u003eAwakenings=%{customdata[9]}\\u003cbr\\u003eCaffeine consumption=%{customdata[10]}\\u003cbr\\u003eAlcohol consumption=%{customdata[11]}\\u003cbr\\u003eSmoking status=%{customdata[12]}\\u003cbr\\u003eWake up hour=%{customdata[13]}\\u003cbr\\u003eWakeup hour=%{customdata[14]}\\u003cbr\\u003eBedtime hour=%{customdata[15]}\\u003cbr\\u003eBedtime_hour=%{customdata[16]}\\u003cbr\\u003eWakeup_hour=%{customdata[17]}\\u003cextra\\u003e\\u003c\\u002fextra\\u003e\",\"legendgroup\":\"1.0\",\"marker\":{\"color\":\"#EF553B\"},\"name\":\"1.0\",\"offsetgroup\":\"1.0\",\"orientation\":\"v\",\"points\":\"all\",\"scalegroup\":\"True\",\"showlegend\":true,\"x\":[1.0,1.0,1.0,1.0,1.0,1.0,1.0,1.0,1.0,1.0,1.0,1.0,1.0,1.0,1.0,1.0,1.0,1.0,1.0,1.0,1.0,1.0,1.0,1.0,1.0,1.0,1.0,1.0,1.0,1.0,1.0,1.0,1.0,1.0,1.0,1.0,1.0,1.0,1.0,1.0,1.0,1.0,1.0,1.0,1.0,1.0,1.0,1.0,1.0,1.0,1.0,1.0,1.0,1.0,1.0,1.0,1.0,1.0,1.0,1.0,1.0,1.0,1.0,1.0,1.0,1.0,1.0,1.0,1.0,1.0,1.0,1.0,1.0,1.0,1.0,1.0,1.0,1.0,1.0,1.0,1.0,1.0,1.0,1.0,1.0,1.0,1.0,1.0,1.0,1.0,1.0,1.0,1.0,1.0,1.0,1.0,1.0],\"x0\":\" \",\"xaxis\":\"x\",\"y\":[0.51,0.9,0.54,0.79,0.93,0.71,0.98,0.95,0.82,0.87,0.83,0.59,0.87,0.86,0.71,0.71,0.8,0.95,0.93,0.87,0.54,0.68,0.86,0.77,0.94,0.88,0.85,0.89,0.91,0.83,0.94,0.9,0.51,0.57,0.75,0.6,0.92,0.93,0.93,0.6,0.67,0.94,0.8,0.63,0.87,0.72,0.55,0.91,0.84,0.91,0.82,0.76,0.85,0.66,0.86,0.54,0.72,0.78,0.9,0.9,0.9,0.81,0.75,0.9,0.8,0.8,0.75,0.67,0.52,0.72,0.9,0.88,0.79,0.84,0.85,0.75,0.87,0.72,0.53,0.66,0.81,0.62,0.79,0.52,0.63,0.82,0.64,0.9,0.74,0.72,0.87,0.55,0.88,0.8,0.68,0.53,0.63],\"y0\":\" \",\"yaxis\":\"y\",\"type\":\"violin\"},{\"alignmentgroup\":\"True\",\"box\":{\"visible\":true},\"customdata\":[[10,11,\"Female\",\"2021-09-16T01:00:00\",\"2021-09-16T10:00:00\",9.0,18,37,45,4.0,0.0,0.0,\"No\",10,10,1,1,10],[15,36,\"Female\",\"2021-07-03T01:30:00\",\"2021-07-03T10:00:00\",8.5,20,32,48,2.0,25.0,1.0,\"Yes\",10,10,1,1,10],[17,21,\"Female\",\"2021-03-24T01:00:00\",\"2021-03-24T08:00:00\",7.0,28,22,50,4.0,0.0,2.0,\"Yes\",8,8,1,1,8],[19,43,\"Female\",\"2021-07-27T00:00:00\",\"2021-07-27T09:00:00\",9.0,20,67,13,0.0,25.0,1.0,\"No\",9,9,0,0,9],[32,18,\"Male\",\"2021-05-24T00:30:00\",\"2021-05-24T08:30:00\",8.0,22,30,48,3.0,25.0,0.0,\"No\",8,8,0,0,8],[33,26,\"Male\",\"2021-03-26T00:00:00\",\"2021-03-26T07:00:00\",7.0,23,23,54,3.0,0.0,4.0,\"Yes\",7,7,0,0,7],[36,61,\"Female\",\"2021-10-19T01:00:00\",\"2021-10-19T08:00:00\",7.0,23,22,55,2.0,50.0,3.0,\"No\",8,8,1,1,8],[40,58,\"Female\",\"2021-03-26T02:00:00\",\"2021-03-26T09:00:00\",7.0,22,23,55,3.0,50.0,3.0,\"No\",9,9,2,2,9],[41,46,\"Male\",\"2021-07-29T22:00:00\",\"2021-07-29T04:00:00\",6.0,22,58,20,3.0,0.0,0.0,\"No\",4,4,22,22,4],[45,34,\"Female\",\"2021-12-10T23:00:00\",\"2021-12-10T07:00:00\",8.0,22,65,13,3.0,25.0,1.0,\"No\",7,7,23,23,7],[47,55,\"Male\",\"2021-04-20T00:00:00\",\"2021-04-20T08:00:00\",8.0,23,57,20,1.0,0.0,0.0,\"No\",8,8,0,0,8],[49,21,\"Female\",\"2021-08-01T00:00:00\",\"2021-08-01T08:00:00\",8.0,23,60,17,3.0,0.0,0.0,\"No\",8,8,0,0,8],[53,9,\"Female\",\"2021-11-27T01:00:00\",\"2021-11-27T09:30:00\",8.5,18,35,47,2.0,0.0,0.0,\"No\",9,9,1,1,9],[54,16,\"Female\",\"2021-08-31T01:00:00\",\"2021-08-31T09:30:00\",8.5,18,35,47,2.0,0.0,0.0,\"No\",9,9,1,1,9],[69,46,\"Male\",\"2021-05-07T00:00:00\",\"2021-05-07T07:00:00\",7.0,18,70,12,2.0,0.0,0.0,\"No\",7,7,0,0,7],[75,47,\"Male\",\"2021-12-23T22:00:00\",\"2021-12-23T05:00:00\",7.0,22,58,20,4.0,0.0,0.0,\"No\",5,5,22,22,5],[85,50,\"Male\",\"2021-09-26T22:00:00\",\"2021-09-26T04:00:00\",6.0,22,22,56,4.0,0.0,3.0,\"No\",4,4,22,22,4],[87,50,\"Male\",\"2021-04-09T00:00:00\",\"2021-04-09T07:00:00\",7.0,22,57,21,2.0,0.0,0.0,\"No\",7,7,0,0,7],[88,50,\"Male\",\"2021-04-14T00:00:00\",\"2021-04-14T07:00:00\",7.0,26,58,16,3.0,0.0,3.0,\"No\",7,7,0,0,7],[94,43,\"Male\",\"2021-10-23T22:00:00\",\"2021-10-23T05:00:00\",7.0,22,58,20,4.0,0.0,0.0,\"No\",5,5,22,22,5],[95,51,\"Male\",\"2021-08-12T00:00:00\",\"2021-08-12T07:30:00\",7.5,22,58,20,4.0,0.0,3.0,\"No\",7,7,0,0,7],[96,61,\"Female\",\"2021-07-10T02:00:00\",\"2021-07-10T09:00:00\",7.0,20,67,13,1.0,25.0,2.0,\"Yes\",9,9,2,2,9],[99,32,\"Female\",\"2021-01-12T02:00:00\",\"2021-01-12T11:00:00\",9.0,20,67,13,2.0,25.0,0.0,\"No\",11,11,2,2,11],[101,38,\"Female\",\"2021-09-02T00:30:00\",\"2021-09-02T08:30:00\",8.0,28,55,17,1.0,25.0,1.0,\"No\",8,8,0,0,8],[103,55,\"Female\",\"2021-12-30T00:00:00\",\"2021-12-30T08:00:00\",8.0,23,60,17,1.0,25.0,0.0,\"No\",8,8,0,0,8],[104,44,\"Female\",\"2021-11-18T23:00:00\",\"2021-11-18T05:00:00\",6.0,20,32,48,4.0,25.0,5.0,\"No\",5,5,23,23,5],[118,30,\"Male\",\"2021-10-11T21:30:00\",\"2021-10-11T05:30:00\",8.0,20,35,45,1.0,0.0,5.0,\"Yes\",5,5,21,21,5],[122,15,\"Female\",\"2021-07-24T01:00:00\",\"2021-07-24T09:00:00\",8.0,20,35,45,1.0,0.0,0.0,\"No\",9,9,1,1,9],[123,48,\"Male\",\"2021-04-26T00:00:00\",\"2021-04-26T07:00:00\",7.0,22,58,20,1.0,0.0,0.0,\"No\",7,7,0,0,7],[127,54,\"Male\",\"2021-01-29T00:00:00\",\"2021-01-29T07:00:00\",7.0,23,22,55,3.0,0.0,0.0,\"Yes\",7,7,0,0,7],[129,33,\"Female\",\"2021-08-09T23:00:00\",\"2021-08-09T08:00:00\",9.0,20,65,15,2.0,25.0,1.0,\"No\",8,8,23,23,8],[131,29,\"Female\",\"2021-11-25T00:30:00\",\"2021-11-25T08:30:00\",8.0,28,25,47,1.0,25.0,1.0,\"Yes\",8,8,0,0,8],[140,52,\"Female\",\"2021-12-09T00:00:00\",\"2021-12-09T09:00:00\",9.0,18,35,47,2.0,25.0,2.0,\"No\",9,9,0,0,9],[141,37,\"Female\",\"2021-09-19T22:00:00\",\"2021-09-19T06:30:00\",8.5,20,32,48,2.0,25.0,null,\"Yes\",6,6,22,22,6],[145,65,\"Female\",\"2021-03-26T02:00:00\",\"2021-03-26T09:00:00\",7.0,22,65,13,2.0,25.0,1.0,\"Yes\",9,9,2,2,9],[148,40,\"Female\",\"2021-11-27T00:00:00\",\"2021-11-27T08:00:00\",8.0,20,65,15,4.0,25.0,1.0,\"No\",8,8,0,0,8],[159,14,\"Female\",\"2021-02-02T01:00:00\",\"2021-02-02T08:00:00\",7.0,18,35,47,3.0,0.0,0.0,\"No\",8,8,1,1,8],[163,53,\"Male\",\"2021-05-31T22:00:00\",\"2021-05-31T05:00:00\",7.0,23,57,20,3.0,0.0,0.0,\"No\",5,5,22,22,5],[164,49,\"Female\",\"2021-09-06T00:30:00\",\"2021-09-06T07:30:00\",7.0,22,57,21,1.0,25.0,1.0,\"Yes\",7,7,0,0,7],[174,24,\"Female\",\"2021-11-11T02:00:00\",\"2021-11-11T08:00:00\",6.0,26,60,14,1.0,0.0,0.0,\"No\",8,8,2,2,8],[177,62,\"Female\",\"2021-09-17T02:00:00\",\"2021-09-17T09:30:00\",7.5,22,24,54,3.0,50.0,2.0,\"No\",9,9,2,2,9],[179,39,\"Female\",\"2021-08-08T00:30:00\",\"2021-08-08T08:30:00\",8.0,24,58,18,3.0,25.0,1.0,\"Yes\",8,8,0,0,8],[184,24,\"Female\",\"2021-01-18T00:00:00\",\"2021-01-18T08:00:00\",8.0,24,59,17,0.0,0.0,0.0,\"No\",8,8,0,0,8],[190,52,\"Female\",\"2021-02-07T01:00:00\",\"2021-02-07T08:00:00\",7.0,20,70,10,4.0,0.0,0.0,\"No\",8,8,1,1,8],[194,18,\"Female\",\"2021-07-30T02:00:00\",\"2021-07-30T09:00:00\",7.0,20,30,50,1.0,25.0,0.0,\"No\",9,9,2,2,9],[196,61,\"Female\",\"2021-12-05T02:00:00\",\"2021-12-05T09:00:00\",7.0,23,23,54,2.0,50.0,5.0,\"No\",9,9,2,2,9],[199,32,\"Female\",\"2021-12-31T01:30:00\",\"2021-12-31T06:30:00\",5.0,20,65,15,1.0,25.0,1.0,\"No\",6,6,1,1,6],[200,52,\"Male\",\"2021-08-19T22:30:00\",\"2021-08-19T05:30:00\",7.0,23,57,20,1.0,0.0,0.0,\"Yes\",5,5,22,22,5],[201,61,\"Male\",\"2021-06-09T00:00:00\",\"2021-06-09T07:00:00\",7.0,22,57,21,3.0,0.0,4.0,\"No\",7,7,0,0,7],[202,64,\"Female\",\"2021-10-18T02:00:00\",\"2021-10-18T10:00:00\",8.0,23,58,19,2.0,50.0,0.0,\"No\",10,10,2,2,10],[203,59,\"Female\",\"2021-08-05T00:30:00\",\"2021-08-05T06:30:00\",6.0,18,70,12,0.0,25.0,1.0,\"Yes\",6,6,0,0,6],[206,32,\"Female\",\"2021-12-22T21:30:00\",\"2021-12-22T03:30:00\",6.0,20,67,13,1.0,25.0,1.0,\"No\",3,3,21,21,3],[207,31,\"Female\",\"2021-01-22T01:30:00\",\"2021-01-22T08:30:00\",7.0,20,67,13,0.0,25.0,1.0,\"No\",8,8,1,1,8],[208,41,\"Female\",\"2021-03-15T02:00:00\",\"2021-03-15T09:00:00\",7.0,20,65,15,1.0,50.0,0.0,\"Yes\",9,9,2,2,9],[211,61,\"Male\",\"2021-10-20T00:00:00\",\"2021-10-20T07:00:00\",7.0,23,60,17,0.0,0.0,0.0,\"No\",7,7,0,0,7],[212,10,\"Female\",\"2021-07-15T01:00:00\",\"2021-07-15T08:00:00\",7.0,18,35,47,3.0,0.0,0.0,\"No\",8,8,1,1,8],[219,56,\"Female\",\"2021-07-07T01:00:00\",\"2021-07-07T08:00:00\",7.0,28,52,20,1.0,50.0,0.0,\"No\",8,8,1,1,8],[220,13,\"Female\",\"2021-03-11T01:00:00\",\"2021-03-11T09:00:00\",8.0,18,37,45,1.0,0.0,0.0,\"No\",9,9,1,1,9],[222,41,\"Female\",\"2021-12-17T23:00:00\",\"2021-12-17T07:30:00\",8.5,20,67,13,0.0,25.0,1.0,\"Yes\",7,7,23,23,7],[224,63,\"Female\",\"2021-08-18T02:00:00\",\"2021-08-18T10:30:00\",8.5,22,24,54,3.0,50.0,0.0,\"No\",10,10,2,2,10],[229,30,\"Female\",\"2021-09-28T00:00:00\",\"2021-09-28T08:00:00\",8.0,24,59,17,0.0,25.0,0.0,\"No\",8,8,0,0,8],[233,36,\"Female\",\"2021-03-06T23:00:00\",\"2021-03-06T04:00:00\",5.0,22,65,13,1.0,25.0,1.0,\"No\",4,4,23,23,4],[235,18,\"Female\",\"2021-07-26T01:00:00\",\"2021-07-26T10:00:00\",9.0,23,57,20,1.0,50.0,0.0,\"No\",10,10,1,1,10],[237,58,\"Male\",\"2021-12-15T21:30:00\",\"2021-12-15T05:00:00\",7.5,22,58,20,1.0,0.0,3.0,\"No\",5,5,21,21,5],[239,37,\"Female\",\"2021-02-13T01:30:00\",\"2021-02-13T10:00:00\",8.5,22,65,13,4.0,25.0,1.0,\"No\",10,10,1,1,10],[247,36,\"Female\",\"2021-09-03T22:00:00\",\"2021-09-03T06:30:00\",8.5,20,65,15,1.0,25.0,1.0,\"Yes\",6,6,22,22,6],[249,25,\"Male\",\"2021-10-20T00:00:00\",\"2021-10-20T07:30:00\",7.5,24,63,13,0.0,0.0,0.0,\"Yes\",7,7,0,0,7],[256,65,\"Female\",\"2021-06-23T02:00:00\",\"2021-06-23T09:00:00\",7.0,20,32,48,2.0,50.0,0.0,\"Yes\",9,9,2,2,9],[257,35,\"Female\",\"2021-04-22T00:00:00\",\"2021-04-22T07:00:00\",7.0,20,65,15,0.0,25.0,1.0,\"No\",7,7,0,0,7],[267,24,\"Male\",\"2021-05-18T00:00:00\",\"2021-05-18T07:00:00\",7.0,20,32,48,3.0,0.0,3.0,\"Yes\",7,7,0,0,7],[271,44,\"Female\",\"2021-11-03T00:00:00\",\"2021-11-03T08:00:00\",8.0,23,60,17,1.0,null,0.0,\"No\",8,8,0,0,8],[275,46,\"Male\",\"2021-06-21T22:00:00\",\"2021-06-21T05:00:00\",7.0,22,58,20,4.0,0.0,5.0,\"No\",5,5,22,22,5],[284,38,\"Female\",\"2021-01-13T23:00:00\",\"2021-01-13T07:30:00\",8.5,22,30,48,4.0,25.0,2.0,\"No\",7,7,23,23,7],[285,17,\"Female\",\"2021-12-08T02:00:00\",\"2021-12-08T09:00:00\",7.0,22,24,54,3.0,50.0,0.0,\"No\",9,9,2,2,9],[289,34,\"Female\",\"2021-09-13T23:00:00\",\"2021-09-13T06:00:00\",7.0,20,65,15,1.6412037037037037,25.0,1.0,\"No\",6,6,23,23,6],[294,24,\"Female\",\"2021-04-01T22:00:00\",\"2021-04-01T05:00:00\",7.0,23,60,17,0.0,25.0,0.0,\"No\",5,5,22,22,5],[297,51,\"Male\",\"2021-11-06T00:00:00\",\"2021-11-06T07:00:00\",7.0,22,58,20,2.0,0.0,0.0,\"No\",7,7,0,0,7],[298,27,\"Female\",\"2021-01-11T00:30:00\",\"2021-01-11T08:30:00\",8.0,20,65,15,1.0,25.0,1.0,\"Yes\",8,8,0,0,8],[299,35,\"Female\",\"2021-08-11T23:00:00\",\"2021-08-11T07:30:00\",8.5,22,65,13,2.0,25.0,1.0,\"Yes\",7,7,23,23,7],[308,41,\"Female\",\"2021-11-29T00:30:00\",\"2021-11-29T09:30:00\",9.0,24,25,51,1.6412037037037037,25.0,1.0,\"Yes\",9,9,0,0,9],[311,33,\"Female\",\"2021-09-26T23:00:00\",\"2021-09-26T09:00:00\",10.0,20,30,50,4.0,25.0,1.0,\"No\",9,9,23,23,9],[315,54,\"Male\",\"2021-03-25T22:30:00\",\"2021-03-25T05:30:00\",7.0,22,23,55,4.0,0.0,0.0,\"Yes\",5,5,22,22,5],[317,58,\"Male\",\"2021-04-19T00:00:00\",\"2021-04-19T07:30:00\",7.5,22,58,20,1.0,0.0,0.0,\"No\",7,7,0,0,7],[318,45,\"Male\",\"2021-11-22T21:00:00\",\"2021-11-22T04:30:00\",7.5,23,57,20,1.0,0.0,5.0,\"No\",4,4,21,21,4],[319,55,\"Male\",\"2021-03-30T00:00:00\",\"2021-03-30T08:00:00\",8.0,23,57,20,1.0,0.0,0.0,\"No\",8,8,0,0,8],[324,41,\"Male\",\"2021-12-29T00:00:00\",\"2021-12-29T07:30:00\",7.5,22,58,20,0.0,0.0,0.0,\"No\",7,7,0,0,7],[326,52,\"Female\",\"2021-07-30T01:00:00\",\"2021-07-30T08:00:00\",7.0,23,22,55,4.0,0.0,4.0,\"Yes\",8,8,1,1,8],[329,42,\"Female\",\"2021-09-30T22:00:00\",\"2021-09-30T06:00:00\",8.0,20,65,15,1.0,25.0,1.0,\"No\",6,6,22,22,6],[331,49,\"Male\",\"2021-05-21T22:30:00\",\"2021-05-21T04:00:00\",5.5,22,22,56,2.0,0.0,0.0,\"No\",4,4,22,22,4],[333,12,\"Female\",\"2021-11-01T01:00:00\",\"2021-11-01T10:00:00\",9.0,18,35,47,1.0,0.0,0.0,\"No\",10,10,1,1,10],[335,39,\"Female\",\"2021-11-07T23:00:00\",\"2021-11-07T07:30:00\",8.5,22,65,13,0.0,25.0,1.0,\"Yes\",7,7,23,23,7],[340,57,\"Male\",\"2021-08-09T22:00:00\",\"2021-08-09T03:30:00\",5.5,22,57,21,0.0,0.0,0.0,\"No\",3,3,22,22,3],[342,65,\"Female\",\"2021-03-18T00:00:00\",\"2021-03-18T08:00:00\",8.0,23,60,17,0.0,0.0,0.0,\"No\",8,8,0,0,8],[343,41,\"Female\",\"2021-08-17T01:00:00\",\"2021-08-17T09:00:00\",8.0,19,28,53,4.0,50.0,5.0,\"Yes\",9,9,1,1,9],[354,45,\"Male\",\"2021-12-17T22:00:00\",\"2021-12-17T05:30:00\",7.5,25,57,18,4.0,0.0,2.0,\"No\",5,5,22,22,5],[360,65,\"Female\",\"2021-03-11T01:00:00\",\"2021-03-11T10:00:00\",9.0,23,57,20,0.0,0.0,0.0,\"No\",10,10,1,1,10],[361,56,\"Female\",\"2021-11-08T00:00:00\",\"2021-11-08T09:00:00\",9.0,24,25,51,2.0,25.0,4.0,\"Yes\",9,9,0,0,9],[364,30,\"Female\",\"2021-11-06T01:30:00\",\"2021-11-06T11:30:00\",10.0,22,65,13,0.0,25.0,1.0,\"No\",11,11,1,1,11],[376,60,\"Female\",\"2021-01-26T02:00:00\",\"2021-01-26T11:00:00\",9.0,22,23,55,2.0,50.0,3.0,\"No\",11,11,2,2,11],[377,48,\"Male\",\"2021-03-19T22:30:00\",\"2021-03-19T06:30:00\",8.0,22,57,21,1.0,0.0,2.0,\"No\",6,6,22,22,6],[381,35,\"Female\",\"2021-02-10T21:30:00\",\"2021-02-10T04:30:00\",7.0,20,67,13,1.0,25.0,1.0,\"No\",4,4,21,21,4],[386,32,\"Female\",\"2021-10-11T00:00:00\",\"2021-10-11T08:00:00\",8.0,24,60,16,1.0,0.0,0.0,\"No\",8,8,0,0,8],[394,56,\"Male\",\"2021-04-30T21:30:00\",\"2021-04-30T04:30:00\",7.0,23,57,20,3.0,0.0,0.0,\"No\",4,4,21,21,4],[395,55,\"Female\",\"2021-05-05T02:00:00\",\"2021-05-05T10:00:00\",8.0,20,30,50,4.0,50.0,5.0,\"Yes\",10,10,2,2,10],[398,59,\"Female\",\"2021-07-18T02:00:00\",\"2021-07-18T10:00:00\",8.0,22,23,55,2.0,50.0,2.0,\"No\",10,10,2,2,10],[399,30,\"Female\",\"2021-07-21T01:00:00\",\"2021-07-21T08:00:00\",7.0,28,52,20,0.0,50.0,0.0,\"No\",8,8,1,1,8],[408,35,\"Female\",\"2021-08-31T00:30:00\",\"2021-08-31T08:30:00\",8.0,24,63,13,1.6412037037037037,25.0,1.0,\"Yes\",8,8,0,0,8],[409,61,\"Female\",\"2021-06-06T00:00:00\",\"2021-06-06T08:00:00\",8.0,26,56,18,3.0,0.0,2.0,\"No\",8,8,0,0,8],[416,49,\"Male\",\"2021-03-03T00:00:00\",\"2021-03-03T07:00:00\",7.0,23,22,55,1.0,0.0,4.0,\"No\",7,7,0,0,7],[419,51,\"Male\",\"2021-07-26T22:00:00\",\"2021-07-26T07:00:00\",9.0,22,22,56,1.0,0.0,2.0,\"No\",7,7,22,22,7],[422,44,\"Male\",\"2021-05-05T22:30:00\",\"2021-05-05T05:30:00\",7.0,22,58,20,4.0,0.0,0.0,\"No\",5,5,22,22,5],[423,41,\"Female\",\"2021-07-11T21:00:00\",\"2021-07-11T04:00:00\",7.0,20,65,15,4.0,25.0,1.0,\"No\",4,4,21,21,4],[442,46,\"Male\",\"2021-03-30T00:00:00\",\"2021-03-30T09:00:00\",9.0,23,22,55,4.0,0.0,3.0,\"No\",9,9,0,0,9],[444,65,\"Female\",\"2021-09-05T02:00:00\",\"2021-09-05T09:30:00\",7.5,23,23,54,4.0,50.0,2.0,\"No\",9,9,2,2,9],[445,24,\"Male\",\"2021-05-07T00:00:00\",\"2021-05-07T07:30:00\",7.5,24,28,48,1.0,0.0,2.0,\"Yes\",7,7,0,0,7],[450,40,\"Female\",\"2021-09-07T23:00:00\",\"2021-09-07T07:30:00\",8.5,20,32,48,1.0,null,3.0,\"Yes\",7,7,23,23,7]],\"hovertemplate\":\"Exercise frequency=%{x}\\u003cbr\\u003eSleep efficiency=%{y}\\u003cbr\\u003eID=%{customdata[0]}\\u003cbr\\u003eAge=%{customdata[1]}\\u003cbr\\u003eGender=%{customdata[2]}\\u003cbr\\u003eBedtime=%{customdata[3]}\\u003cbr\\u003eWakeup time=%{customdata[4]}\\u003cbr\\u003eSleep duration=%{customdata[5]}\\u003cbr\\u003eREM sleep percentage=%{customdata[6]}\\u003cbr\\u003eDeep sleep percentage=%{customdata[7]}\\u003cbr\\u003eLight sleep percentage=%{customdata[8]}\\u003cbr\\u003eAwakenings=%{customdata[9]}\\u003cbr\\u003eCaffeine consumption=%{customdata[10]}\\u003cbr\\u003eAlcohol consumption=%{customdata[11]}\\u003cbr\\u003eSmoking status=%{customdata[12]}\\u003cbr\\u003eWake up hour=%{customdata[13]}\\u003cbr\\u003eWakeup hour=%{customdata[14]}\\u003cbr\\u003eBedtime hour=%{customdata[15]}\\u003cbr\\u003eBedtime_hour=%{customdata[16]}\\u003cbr\\u003eWakeup_hour=%{customdata[17]}\\u003cextra\\u003e\\u003c\\u002fextra\\u003e\",\"legendgroup\":\"0.0\",\"marker\":{\"color\":\"#00cc96\"},\"name\":\"0.0\",\"offsetgroup\":\"0.0\",\"orientation\":\"v\",\"points\":\"all\",\"scalegroup\":\"True\",\"showlegend\":true,\"x\":[0.0,0.0,0.0,0.0,0.0,0.0,0.0,0.0,0.0,0.0,0.0,0.0,0.0,0.0,0.0,0.0,0.0,0.0,0.0,0.0,0.0,0.0,0.0,0.0,0.0,0.0,0.0,0.0,0.0,0.0,0.0,0.0,0.0,0.0,0.0,0.0,0.0,0.0,0.0,0.0,0.0,0.0,0.0,0.0,0.0,0.0,0.0,0.0,0.0,0.0,0.0,0.0,0.0,0.0,0.0,0.0,0.0,0.0,0.0,0.0,0.0,0.0,0.0,0.0,0.0,0.0,0.0,0.0,0.0,0.0,0.0,0.0,0.0,0.0,0.0,0.0,0.0,0.0,0.0,0.0,0.0,0.0,0.0,0.0,0.0,0.0,0.0,0.0,0.0,0.0,0.0,0.0,0.0,0.0,0.0,0.0,0.0,0.0,0.0,0.0,0.0,0.0,0.0,0.0,0.0,0.0,0.0,0.0,0.0,0.0,0.0,0.0,0.0,0.0,0.0,0.0],\"x0\":\" \",\"xaxis\":\"x\",\"y\":[0.55,0.54,0.54,0.98,0.68,0.55,0.64,0.63,0.83,0.77,0.91,0.81,0.52,0.65,0.8,0.77,0.64,0.78,0.71,0.76,0.73,0.73,0.8,0.81,0.95,0.64,0.5,0.62,0.93,0.51,0.73,0.55,0.65,0.54,0.75,0.81,0.6,0.72,0.9,0.78,0.68,0.78,0.91,0.76,0.62,0.67,0.86,0.83,0.73,0.71,0.87,0.79,0.98,0.93,0.86,0.54,0.96,0.58,0.85,0.69,0.94,0.87,0.85,0.71,0.77,0.91,0.95,0.52,0.93,0.55,0.78,0.73,0.66,0.68,0.96,0.86,0.84,0.86,0.75,0.67,0.63,0.51,0.87,0.7,0.85,0.93,0.5,0.96,0.68,0.56,0.85,0.9,0.95,0.51,0.71,0.95,0.53,0.92,0.66,0.72,0.83,0.9,0.84,0.67,0.64,0.91,0.86,0.73,0.67,0.66,0.79,0.8,0.6,0.67,0.58,0.55],\"y0\":\" \",\"yaxis\":\"y\",\"type\":\"violin\"},{\"alignmentgroup\":\"True\",\"box\":{\"visible\":true},\"customdata\":[[16,32,\"Female\",\"2021-12-06T22:00:00\",\"2021-12-06T05:30:00\",7.5,25,55,20,0.0,50.0,2.0,\"No\",5,5,22,22,5],[227,29,\"Female\",\"2021-12-29T22:00:00\",\"2021-12-29T05:30:00\",7.5,25,55,20,0.0,0.0,0.0,\"No\",5,5,22,22,5],[248,29,\"Female\",\"2021-09-01T22:00:00\",\"2021-09-01T06:00:00\",8.0,18,62,20,0.0,0.0,0.0,\"No\",6,6,22,22,6],[258,27,\"Female\",\"2021-05-31T22:00:00\",\"2021-05-31T06:00:00\",8.0,15,22,63,1.0,25.0,5.0,\"Yes\",6,6,22,22,6],[334,27,\"Female\",\"2021-01-23T22:00:00\",\"2021-01-23T05:30:00\",7.5,22,57,21,0.0,25.0,0.0,\"No\",5,5,22,22,5],[337,50,\"Female\",\"2021-07-20T22:00:00\",\"2021-07-20T05:00:00\",7.0,22,58,20,1.0,0.0,null,\"No\",5,5,22,22,5],[417,49,\"Female\",\"2021-01-04T22:00:00\",\"2021-01-04T05:00:00\",7.0,25,55,20,0.0,0.0,0.0,\"No\",5,5,22,22,5],[448,27,\"Female\",\"2021-11-13T22:00:00\",\"2021-11-13T05:30:00\",7.5,22,57,21,0.0,0.0,0.0,\"No\",5,5,22,22,5]],\"hovertemplate\":\"Exercise frequency=%{x}\\u003cbr\\u003eSleep efficiency=%{y}\\u003cbr\\u003eID=%{customdata[0]}\\u003cbr\\u003eAge=%{customdata[1]}\\u003cbr\\u003eGender=%{customdata[2]}\\u003cbr\\u003eBedtime=%{customdata[3]}\\u003cbr\\u003eWakeup time=%{customdata[4]}\\u003cbr\\u003eSleep duration=%{customdata[5]}\\u003cbr\\u003eREM sleep percentage=%{customdata[6]}\\u003cbr\\u003eDeep sleep percentage=%{customdata[7]}\\u003cbr\\u003eLight sleep percentage=%{customdata[8]}\\u003cbr\\u003eAwakenings=%{customdata[9]}\\u003cbr\\u003eCaffeine consumption=%{customdata[10]}\\u003cbr\\u003eAlcohol consumption=%{customdata[11]}\\u003cbr\\u003eSmoking status=%{customdata[12]}\\u003cbr\\u003eWake up hour=%{customdata[13]}\\u003cbr\\u003eWakeup hour=%{customdata[14]}\\u003cbr\\u003eBedtime hour=%{customdata[15]}\\u003cbr\\u003eBedtime_hour=%{customdata[16]}\\u003cbr\\u003eWakeup_hour=%{customdata[17]}\\u003cextra\\u003e\\u003c\\u002fextra\\u003e\",\"legendgroup\":\"5.0\",\"marker\":{\"color\":\"#ab63fa\"},\"name\":\"5.0\",\"offsetgroup\":\"5.0\",\"orientation\":\"v\",\"points\":\"all\",\"scalegroup\":\"True\",\"showlegend\":true,\"x\":[5.0,5.0,5.0,5.0,5.0,5.0,5.0,5.0],\"x0\":\" \",\"xaxis\":\"x\",\"y\":[0.92,0.93,0.85,0.52,0.91,0.9,0.87,0.91],\"y0\":\" \",\"yaxis\":\"y\",\"type\":\"violin\"},{\"alignmentgroup\":\"True\",\"box\":{\"visible\":true},\"customdata\":[[21,24,\"Male\",\"2021-05-02T00:00:00\",\"2021-05-02T08:00:00\",8.0,15,75,10,3.0,0.0,null,\"No\",8,8,0,0,8],[23,29,\"Female\",\"2021-12-23T22:00:00\",\"2021-12-23T06:00:00\",8.0,23,60,17,2.0,75.0,0.0,\"No\",6,6,22,22,6],[25,24,\"Male\",\"2021-09-16T00:00:00\",\"2021-09-16T07:00:00\",7.0,15,75,10,1.0,null,5.0,\"No\",7,7,0,0,7],[26,52,\"Male\",\"2021-03-26T00:00:00\",\"2021-03-26T06:00:00\",6.0,18,72,10,1.0,0.0,0.0,\"No\",6,6,0,0,6],[28,35,\"Male\",\"2021-12-15T02:30:00\",\"2021-12-15T09:30:00\",7.0,24,60,16,2.0,0.0,0.0,\"Yes\",9,9,2,2,9],[51,29,\"Female\",\"2021-11-24T22:00:00\",\"2021-11-24T05:00:00\",7.0,22,57,21,1.0,25.0,0.0,\"No\",5,5,22,22,5],[67,25,\"Male\",\"2021-07-16T00:00:00\",\"2021-07-16T07:00:00\",7.0,15,70,15,4.0,0.0,4.0,\"No\",7,7,0,0,7],[74,58,\"Male\",\"2021-05-25T02:30:00\",\"2021-05-25T10:00:00\",7.5,23,60,17,0.0,25.0,0.0,\"Yes\",10,10,2,2,10],[80,54,\"Male\",\"2021-05-19T02:30:00\",\"2021-05-19T10:00:00\",7.5,23,60,17,3.0,0.0,0.0,\"Yes\",10,10,2,2,10],[82,29,\"Male\",\"2021-07-11T21:00:00\",\"2021-07-11T04:30:00\",7.5,15,67,18,2.0,200.0,0.0,\"No\",4,4,21,21,4],[86,53,\"Male\",\"2021-11-06T23:00:00\",\"2021-11-06T06:30:00\",7.5,18,65,17,1.6412037037037037,75.0,0.0,\"No\",6,6,23,23,6],[91,45,\"Male\",\"2021-03-29T02:30:00\",\"2021-03-29T07:30:00\",5.0,24,60,16,4.0,0.0,0.0,\"Yes\",7,7,2,2,7],[98,53,\"Male\",\"2021-11-02T23:00:00\",\"2021-11-02T06:30:00\",7.5,22,57,21,1.0,25.0,0.0,\"No\",6,6,23,23,6],[107,53,\"Male\",\"2021-05-19T21:00:00\",\"2021-05-19T04:00:00\",7.0,25,20,55,3.0,0.0,5.0,\"No\",4,4,21,21,4],[113,23,\"Male\",\"2021-10-07T23:00:00\",\"2021-10-07T07:00:00\",8.0,15,65,20,4.0,75.0,0.0,\"No\",7,7,23,23,7],[135,27,\"Male\",\"2021-10-23T23:00:00\",\"2021-10-23T06:00:00\",7.0,23,25,52,3.0,75.0,2.0,\"Yes\",6,6,23,23,6],[161,42,\"Male\",\"2021-11-06T02:30:00\",\"2021-11-06T09:30:00\",7.0,24,59,17,4.0,0.0,0.0,\"Yes\",9,9,2,2,9],[173,27,\"Male\",\"2021-07-28T23:00:00\",\"2021-07-28T07:00:00\",8.0,25,20,55,3.0,0.0,0.0,\"Yes\",7,7,23,23,7],[180,53,\"Male\",\"2021-06-30T23:00:00\",\"2021-06-30T05:00:00\",6.0,20,65,15,1.0,75.0,0.0,\"No\",5,5,23,23,5],[181,37,\"Male\",\"2021-11-20T02:30:00\",\"2021-11-20T10:00:00\",7.5,24,60,16,2.0,0.0,0.0,\"Yes\",10,10,2,2,10],[188,27,\"Male\",\"2021-06-01T00:00:00\",\"2021-06-01T07:00:00\",7.0,18,65,17,4.0,50.0,null,\"No\",7,7,0,0,7],[191,53,\"Male\",\"2021-10-17T00:00:00\",\"2021-10-17T07:30:00\",7.5,18,30,52,4.0,50.0,4.0,\"No\",7,7,0,0,7],[192,27,\"Female\",\"2021-09-09T22:30:00\",\"2021-09-09T06:30:00\",8.0,25,60,15,1.0,75.0,0.0,\"Yes\",6,6,22,22,6],[193,24,\"Male\",\"2021-07-14T00:00:00\",\"2021-07-14T07:00:00\",7.0,15,70,15,0.0,0.0,null,\"No\",7,7,0,0,7],[197,30,\"Female\",\"2021-08-05T00:00:00\",\"2021-08-05T08:00:00\",8.0,22,63,15,1.0,75.0,0.0,\"Yes\",8,8,0,0,8],[198,48,\"Male\",\"2021-01-09T02:30:00\",\"2021-01-09T08:30:00\",6.0,24,60,16,4.0,0.0,0.0,\"Yes\",8,8,2,2,8],[204,38,\"Male\",\"2021-07-11T23:00:00\",\"2021-07-11T07:00:00\",8.0,20,30,50,3.0,null,3.0,\"Yes\",7,7,23,23,7],[209,32,\"Female\",\"2021-03-22T22:00:00\",\"2021-03-22T06:00:00\",8.0,22,65,13,1.0,0.0,0.0,\"No\",6,6,22,22,6],[214,29,\"Female\",\"2021-10-29T00:00:00\",\"2021-10-29T05:00:00\",5.0,25,60,15,1.0,75.0,0.0,\"Yes\",5,5,0,0,5],[215,27,\"Male\",\"2021-09-25T00:30:00\",\"2021-09-25T08:00:00\",7.5,25,35,40,1.0,25.0,2.0,\"No\",8,8,0,0,8],[228,29,\"Female\",\"2021-09-12T21:30:00\",\"2021-09-12T04:30:00\",7.0,20,70,10,1.0,0.0,0.0,\"No\",4,4,21,21,4],[251,29,\"Female\",\"2021-03-31T21:30:00\",\"2021-03-31T04:30:00\",7.0,18,30,52,2.0,50.0,2.0,\"No\",4,4,21,21,4],[270,27,\"Male\",\"2021-10-05T00:00:00\",\"2021-10-05T07:00:00\",7.0,22,57,21,0.0,25.0,0.0,\"No\",7,7,0,0,7],[283,53,\"Male\",\"2021-12-31T21:00:00\",\"2021-12-31T04:00:00\",7.0,24,60,16,1.0,75.0,0.0,\"No\",4,4,21,21,4],[286,27,\"Male\",\"2021-02-21T23:00:00\",\"2021-02-21T05:00:00\",6.0,20,35,45,3.0,0.0,5.0,\"Yes\",5,5,23,23,5],[296,29,\"Female\",\"2021-10-09T01:00:00\",\"2021-10-09T09:00:00\",8.0,24,59,17,0.0,0.0,0.0,\"No\",9,9,1,1,9],[304,51,\"Male\",\"2021-01-08T02:30:00\",\"2021-01-08T12:30:00\",10.0,24,59,17,2.0,0.0,0.0,\"Yes\",12,12,2,2,12],[307,27,\"Male\",\"2021-07-16T21:00:00\",\"2021-07-16T03:00:00\",6.0,24,60,16,1.0,0.0,5.0,\"Yes\",3,3,21,21,3],[314,25,\"Male\",\"2021-12-04T23:00:00\",\"2021-12-04T06:00:00\",7.0,20,70,10,1.0,25.0,0.0,\"No\",6,6,23,23,6],[320,54,\"Male\",\"2021-08-27T00:00:00\",\"2021-08-27T07:00:00\",7.0,15,70,15,1.0,0.0,4.0,\"No\",7,7,0,0,7],[327,29,\"Female\",\"2021-12-11T00:00:00\",\"2021-12-11T07:30:00\",7.5,22,28,50,1.0,75.0,1.0,\"Yes\",7,7,0,0,7],[341,53,\"Male\",\"2021-06-11T22:30:00\",\"2021-06-11T05:30:00\",7.0,20,65,15,1.0,75.0,0.0,\"No\",5,5,22,22,5],[348,30,\"Male\",\"2021-09-19T00:00:00\",\"2021-09-19T08:00:00\",8.0,18,75,7,3.0,0.0,4.0,\"No\",8,8,0,0,8],[355,29,\"Female\",\"2021-06-08T22:00:00\",\"2021-06-08T05:00:00\",7.0,25,55,20,1.0,0.0,5.0,\"Yes\",5,5,22,22,5],[356,39,\"Male\",\"2021-10-26T02:30:00\",\"2021-10-26T09:30:00\",7.0,24,60,16,3.0,null,0.0,\"Yes\",9,9,2,2,9],[358,27,\"Female\",\"2021-06-04T00:00:00\",\"2021-06-04T09:00:00\",9.0,25,60,15,0.0,75.0,0.0,\"Yes\",9,9,0,0,9],[362,27,\"Female\",\"2021-07-03T00:00:00\",\"2021-07-03T06:00:00\",6.0,25,63,12,0.0,75.0,0.0,\"Yes\",6,6,0,0,6],[373,29,\"Female\",\"2021-02-24T22:00:00\",\"2021-02-24T06:00:00\",8.0,25,55,20,3.0,25.0,1.0,\"No\",6,6,22,22,6],[379,25,\"Male\",\"2021-02-15T00:00:00\",\"2021-02-15T07:00:00\",7.0,18,75,7,0.0,0.0,5.0,\"No\",7,7,0,0,7],[391,21,\"Male\",\"2021-12-09T23:00:00\",\"2021-12-09T06:30:00\",7.5,18,65,17,2.0,null,0.0,\"No\",6,6,23,23,6],[412,53,\"Male\",\"2021-09-27T00:00:00\",\"2021-09-27T07:00:00\",7.0,20,70,10,3.0,0.0,0.0,\"No\",7,7,0,0,7],[425,19,\"Male\",\"2021-04-24T00:00:00\",\"2021-04-24T08:00:00\",8.0,15,70,15,0.0,0.0,4.0,\"Yes\",8,8,0,0,8],[434,29,\"Female\",\"2021-02-16T21:00:00\",\"2021-02-16T04:30:00\",7.5,25,63,12,0.0,75.0,0.0,\"Yes\",4,4,21,21,4],[441,28,\"Female\",\"2021-02-06T21:00:00\",\"2021-02-06T05:00:00\",8.0,22,63,15,0.0,75.0,null,\"Yes\",5,5,21,21,5]],\"hovertemplate\":\"Exercise frequency=%{x}\\u003cbr\\u003eSleep efficiency=%{y}\\u003cbr\\u003eID=%{customdata[0]}\\u003cbr\\u003eAge=%{customdata[1]}\\u003cbr\\u003eGender=%{customdata[2]}\\u003cbr\\u003eBedtime=%{customdata[3]}\\u003cbr\\u003eWakeup time=%{customdata[4]}\\u003cbr\\u003eSleep duration=%{customdata[5]}\\u003cbr\\u003eREM sleep percentage=%{customdata[6]}\\u003cbr\\u003eDeep sleep percentage=%{customdata[7]}\\u003cbr\\u003eLight sleep percentage=%{customdata[8]}\\u003cbr\\u003eAwakenings=%{customdata[9]}\\u003cbr\\u003eCaffeine consumption=%{customdata[10]}\\u003cbr\\u003eAlcohol consumption=%{customdata[11]}\\u003cbr\\u003eSmoking status=%{customdata[12]}\\u003cbr\\u003eWake up hour=%{customdata[13]}\\u003cbr\\u003eWakeup hour=%{customdata[14]}\\u003cbr\\u003eBedtime hour=%{customdata[15]}\\u003cbr\\u003eBedtime_hour=%{customdata[16]}\\u003cbr\\u003eWakeup_hour=%{customdata[17]}\\u003cextra\\u003e\\u003c\\u002fextra\\u003e\",\"legendgroup\":\"2.0\",\"marker\":{\"color\":\"#FFA15A\"},\"name\":\"2.0\",\"offsetgroup\":\"2.0\",\"orientation\":\"v\",\"points\":\"all\",\"scalegroup\":\"True\",\"showlegend\":true,\"x\":[2.0,2.0,2.0,2.0,2.0,2.0,2.0,2.0,2.0,2.0,2.0,2.0,2.0,2.0,2.0,2.0,2.0,2.0,2.0,2.0,2.0,2.0,2.0,2.0,2.0,2.0,2.0,2.0,2.0,2.0,2.0,2.0,2.0,2.0,2.0,2.0,2.0,2.0,2.0,2.0,2.0,2.0,2.0,2.0,2.0,2.0,2.0,2.0,2.0,2.0,2.0,2.0,2.0,2.0],\"x0\":\" \",\"xaxis\":\"x\",\"y\":[0.83,0.84,0.88,0.91,0.84,0.71,0.84,0.87,0.77,0.81,0.88,0.8,0.91,0.63,0.8,0.59,0.81,0.51,0.9,0.83,0.73,0.68,0.94,0.95,0.94,0.79,0.5,0.88,0.86,0.61,0.82,0.63,0.94,0.98,0.56,0.94,0.78,0.9,0.86,0.87,0.5,0.85,0.82,0.9,0.82,0.95,0.92,0.72,0.88,0.81,0.82,0.85,0.9,0.88],\"y0\":\" \",\"yaxis\":\"y\",\"type\":\"violin\"},{\"alignmentgroup\":\"True\",\"box\":{\"visible\":true},\"customdata\":[[30,47,\"Female\",\"2021-12-25T22:30:00\",\"2021-12-25T05:30:00\",7.0,20,60,20,1.0,0.0,3.0,\"No\",5,5,22,22,5],[50,37,\"Female\",\"2021-04-10T21:30:00\",\"2021-04-10T04:30:00\",7.0,25,55,20,1.0,0.0,5.0,\"No\",4,4,21,21,4],[62,56,\"Male\",\"2021-09-30T22:30:00\",\"2021-09-30T05:30:00\",7.0,18,60,22,0.0,0.0,0.0,\"No\",5,5,22,22,5],[72,32,\"Female\",\"2021-11-26T23:00:00\",\"2021-11-26T06:00:00\",7.0,18,62,20,1.0,50.0,2.0,\"No\",6,6,23,23,6],[109,39,\"Female\",\"2021-10-22T23:00:00\",\"2021-10-22T07:00:00\",8.0,22,63,15,1.0,50.0,2.0,\"No\",7,7,23,23,7],[121,51,\"Male\",\"2021-07-24T22:30:00\",\"2021-07-24T04:30:00\",6.0,20,62,18,1.0,0.0,0.0,\"No\",4,4,22,22,4],[136,48,\"Female\",\"2021-02-03T00:00:00\",\"2021-02-03T07:00:00\",7.0,20,65,15,1.6412037037037037,50.0,1.0,\"No\",7,7,0,0,7],[152,50,\"Female\",\"2021-07-24T23:00:00\",\"2021-07-24T06:00:00\",7.0,25,63,12,1.0,50.0,2.0,\"No\",6,6,23,23,6],[153,22,\"Male\",\"2021-09-29T23:00:00\",\"2021-09-29T06:30:00\",7.5,18,65,17,0.0,75.0,1.0,\"No\",6,6,23,23,6],[158,45,\"Female\",\"2021-07-20T21:00:00\",\"2021-07-20T04:00:00\",7.0,30,60,10,1.0,0.0,0.0,\"No\",4,4,21,21,4],[166,48,\"Female\",\"2021-01-11T22:00:00\",\"2021-01-11T05:00:00\",7.0,25,55,20,1.0,0.0,5.0,\"No\",5,5,22,22,5],[168,48,\"Female\",\"2021-05-03T22:00:00\",\"2021-05-03T05:00:00\",7.0,23,60,17,0.0,75.0,0.0,\"No\",5,5,22,22,5],[175,48,\"Female\",\"2021-07-26T22:30:00\",\"2021-07-26T06:30:00\",8.0,20,70,10,1.0,0.0,0.0,\"No\",6,6,22,22,6],[183,49,\"Female\",\"2021-08-08T21:30:00\",\"2021-08-08T05:00:00\",7.5,28,60,12,0.0,0.0,0.0,\"No\",5,5,21,21,5],[185,48,\"Female\",\"2021-07-14T21:00:00\",\"2021-07-14T04:30:00\",7.5,22,57,21,0.0,25.0,0.0,\"No\",4,4,21,21,4],[186,36,\"Female\",\"2021-05-25T23:00:00\",\"2021-05-25T06:30:00\",7.5,30,55,15,0.0,50.0,null,\"No\",6,6,23,23,6],[205,31,\"Female\",\"2021-03-07T22:30:00\",\"2021-03-07T05:30:00\",7.0,20,60,20,1.0,0.0,3.0,\"No\",5,5,22,22,5],[213,36,\"Female\",\"2021-01-31T23:00:00\",\"2021-01-31T06:30:00\",7.5,15,55,30,1.0,50.0,2.0,\"No\",6,6,23,23,6],[221,37,\"Female\",\"2021-09-17T21:00:00\",\"2021-09-17T04:00:00\",7.0,28,51,21,4.0,0.0,0.0,\"No\",4,4,21,21,4],[225,38,\"Male\",\"2021-02-24T23:00:00\",\"2021-02-24T05:00:00\",6.0,28,65,7,1.0,75.0,1.0,\"No\",5,5,23,23,5],[241,32,\"Male\",\"2021-07-23T22:30:00\",\"2021-07-23T05:30:00\",7.0,18,60,22,0.0,0.0,0.0,\"No\",5,5,22,22,5],[245,37,\"Female\",\"2021-01-08T22:00:00\",\"2021-01-08T05:00:00\",7.0,24,59,17,1.6412037037037037,0.0,0.0,\"No\",5,5,22,22,5],[260,48,\"Female\",\"2021-06-18T21:30:00\",\"2021-06-18T05:00:00\",7.5,20,65,15,2.0,0.0,0.0,\"No\",5,5,21,21,5],[262,37,\"Female\",\"2021-12-17T22:00:00\",\"2021-12-17T05:00:00\",7.0,28,57,15,1.0,25.0,0.0,\"No\",5,5,22,22,5],[268,30,\"Female\",\"2021-10-26T22:30:00\",\"2021-10-26T06:30:00\",8.0,20,60,20,1.0,0.0,3.0,\"No\",6,6,22,22,6],[277,37,\"Female\",\"2021-02-03T22:00:00\",\"2021-02-03T06:00:00\",8.0,18,67,15,0.0,50.0,1.0,\"No\",6,6,22,22,6],[278,48,\"Female\",\"2021-04-17T21:30:00\",\"2021-04-17T05:30:00\",8.0,25,60,15,0.0,25.0,0.0,\"No\",5,5,21,21,5],[280,48,\"Female\",\"2021-02-07T22:00:00\",\"2021-02-07T05:00:00\",7.0,20,27,53,1.0,0.0,2.0,\"No\",5,5,22,22,5],[293,38,\"Female\",\"2021-11-06T22:00:00\",\"2021-11-06T04:00:00\",6.0,20,70,10,0.0,0.0,0.0,\"No\",4,4,22,22,4],[295,38,\"Male\",\"2021-03-12T23:00:00\",\"2021-03-12T06:00:00\",7.0,20,65,15,0.0,75.0,1.0,\"No\",6,6,23,23,6],[301,47,\"Female\",\"2021-10-09T22:30:00\",\"2021-10-09T05:30:00\",7.0,25,55,20,0.0,0.0,3.0,\"No\",5,5,22,22,5],[312,22,\"Female\",\"2021-07-19T22:00:00\",\"2021-07-19T05:00:00\",7.0,25,60,15,1.0,0.0,0.0,\"No\",5,5,22,22,5],[347,51,\"Male\",\"2021-03-01T22:30:00\",\"2021-03-01T05:30:00\",7.0,15,67,18,1.0,0.0,0.0,\"No\",5,5,22,22,5],[357,51,\"Male\",\"2021-07-17T22:30:00\",\"2021-07-17T06:30:00\",8.0,20,62,18,0.0,0.0,0.0,\"No\",6,6,22,22,6],[382,22,\"Male\",\"2021-04-16T23:00:00\",\"2021-04-16T06:00:00\",7.0,25,58,17,1.0,75.0,1.0,\"No\",6,6,23,23,6],[390,36,\"Female\",\"2021-02-06T23:00:00\",\"2021-02-06T07:00:00\",8.0,25,55,20,1.0,50.0,2.0,\"No\",7,7,23,23,7],[393,37,\"Female\",\"2021-08-30T23:00:00\",\"2021-08-30T06:00:00\",7.0,20,35,45,3.0,null,3.0,\"Yes\",6,6,23,23,6],[401,37,\"Female\",\"2021-10-03T21:30:00\",\"2021-10-03T05:30:00\",8.0,20,65,15,1.0,25.0,0.0,\"No\",5,5,21,21,5],[427,26,\"Male\",\"2021-05-12T23:00:00\",\"2021-05-12T06:00:00\",7.0,18,65,17,1.0,75.0,null,\"No\",6,6,23,23,6],[430,52,\"Male\",\"2021-01-05T22:30:00\",\"2021-01-05T06:00:00\",7.5,25,62,13,1.0,0.0,0.0,\"No\",6,6,22,22,6],[435,28,\"Female\",\"2021-08-11T23:00:00\",\"2021-08-11T07:00:00\",8.0,22,63,15,1.6412037037037037,75.0,2.0,\"No\",7,7,23,23,7]],\"hovertemplate\":\"Exercise frequency=%{x}\\u003cbr\\u003eSleep efficiency=%{y}\\u003cbr\\u003eID=%{customdata[0]}\\u003cbr\\u003eAge=%{customdata[1]}\\u003cbr\\u003eGender=%{customdata[2]}\\u003cbr\\u003eBedtime=%{customdata[3]}\\u003cbr\\u003eWakeup time=%{customdata[4]}\\u003cbr\\u003eSleep duration=%{customdata[5]}\\u003cbr\\u003eREM sleep percentage=%{customdata[6]}\\u003cbr\\u003eDeep sleep percentage=%{customdata[7]}\\u003cbr\\u003eLight sleep percentage=%{customdata[8]}\\u003cbr\\u003eAwakenings=%{customdata[9]}\\u003cbr\\u003eCaffeine consumption=%{customdata[10]}\\u003cbr\\u003eAlcohol consumption=%{customdata[11]}\\u003cbr\\u003eSmoking status=%{customdata[12]}\\u003cbr\\u003eWake up hour=%{customdata[13]}\\u003cbr\\u003eWakeup hour=%{customdata[14]}\\u003cbr\\u003eBedtime hour=%{customdata[15]}\\u003cbr\\u003eBedtime_hour=%{customdata[16]}\\u003cbr\\u003eWakeup_hour=%{customdata[17]}\\u003cextra\\u003e\\u003c\\u002fextra\\u003e\",\"legendgroup\":\"4.0\",\"marker\":{\"color\":\"#19d3f3\"},\"name\":\"4.0\",\"offsetgroup\":\"4.0\",\"orientation\":\"v\",\"points\":\"all\",\"scalegroup\":\"True\",\"showlegend\":true,\"x\":[4.0,4.0,4.0,4.0,4.0,4.0,4.0,4.0,4.0,4.0,4.0,4.0,4.0,4.0,4.0,4.0,4.0,4.0,4.0,4.0,4.0,4.0,4.0,4.0,4.0,4.0,4.0,4.0,4.0,4.0,4.0,4.0,4.0,4.0,4.0,4.0,4.0,4.0,4.0,4.0,4.0],\"x0\":\" \",\"xaxis\":\"x\",\"y\":[0.91,0.81,0.91,0.88,0.9,0.92,0.82,0.93,0.89,0.95,0.91,0.9,0.95,0.96,0.96,0.94,0.92,0.8,0.77,0.95,0.95,0.92,0.79,0.76,0.93,0.87,0.93,0.67,0.87,0.89,0.93,0.9,0.84,0.95,0.91,0.91,0.52,0.92,0.88,0.92,0.9],\"y0\":\" \",\"yaxis\":\"y\",\"type\":\"violin\"}],                        {\"template\":{\"data\":{\"histogram2dcontour\":[{\"type\":\"histogram2dcontour\",\"colorbar\":{\"outlinewidth\":0,\"ticks\":\"\"},\"colorscale\":[[0.0,\"#0d0887\"],[0.1111111111111111,\"#46039f\"],[0.2222222222222222,\"#7201a8\"],[0.3333333333333333,\"#9c179e\"],[0.4444444444444444,\"#bd3786\"],[0.5555555555555556,\"#d8576b\"],[0.6666666666666666,\"#ed7953\"],[0.7777777777777778,\"#fb9f3a\"],[0.8888888888888888,\"#fdca26\"],[1.0,\"#f0f921\"]]}],\"choropleth\":[{\"type\":\"choropleth\",\"colorbar\":{\"outlinewidth\":0,\"ticks\":\"\"}}],\"histogram2d\":[{\"type\":\"histogram2d\",\"colorbar\":{\"outlinewidth\":0,\"ticks\":\"\"},\"colorscale\":[[0.0,\"#0d0887\"],[0.1111111111111111,\"#46039f\"],[0.2222222222222222,\"#7201a8\"],[0.3333333333333333,\"#9c179e\"],[0.4444444444444444,\"#bd3786\"],[0.5555555555555556,\"#d8576b\"],[0.6666666666666666,\"#ed7953\"],[0.7777777777777778,\"#fb9f3a\"],[0.8888888888888888,\"#fdca26\"],[1.0,\"#f0f921\"]]}],\"heatmap\":[{\"type\":\"heatmap\",\"colorbar\":{\"outlinewidth\":0,\"ticks\":\"\"},\"colorscale\":[[0.0,\"#0d0887\"],[0.1111111111111111,\"#46039f\"],[0.2222222222222222,\"#7201a8\"],[0.3333333333333333,\"#9c179e\"],[0.4444444444444444,\"#bd3786\"],[0.5555555555555556,\"#d8576b\"],[0.6666666666666666,\"#ed7953\"],[0.7777777777777778,\"#fb9f3a\"],[0.8888888888888888,\"#fdca26\"],[1.0,\"#f0f921\"]]}],\"heatmapgl\":[{\"type\":\"heatmapgl\",\"colorbar\":{\"outlinewidth\":0,\"ticks\":\"\"},\"colorscale\":[[0.0,\"#0d0887\"],[0.1111111111111111,\"#46039f\"],[0.2222222222222222,\"#7201a8\"],[0.3333333333333333,\"#9c179e\"],[0.4444444444444444,\"#bd3786\"],[0.5555555555555556,\"#d8576b\"],[0.6666666666666666,\"#ed7953\"],[0.7777777777777778,\"#fb9f3a\"],[0.8888888888888888,\"#fdca26\"],[1.0,\"#f0f921\"]]}],\"contourcarpet\":[{\"type\":\"contourcarpet\",\"colorbar\":{\"outlinewidth\":0,\"ticks\":\"\"}}],\"contour\":[{\"type\":\"contour\",\"colorbar\":{\"outlinewidth\":0,\"ticks\":\"\"},\"colorscale\":[[0.0,\"#0d0887\"],[0.1111111111111111,\"#46039f\"],[0.2222222222222222,\"#7201a8\"],[0.3333333333333333,\"#9c179e\"],[0.4444444444444444,\"#bd3786\"],[0.5555555555555556,\"#d8576b\"],[0.6666666666666666,\"#ed7953\"],[0.7777777777777778,\"#fb9f3a\"],[0.8888888888888888,\"#fdca26\"],[1.0,\"#f0f921\"]]}],\"surface\":[{\"type\":\"surface\",\"colorbar\":{\"outlinewidth\":0,\"ticks\":\"\"},\"colorscale\":[[0.0,\"#0d0887\"],[0.1111111111111111,\"#46039f\"],[0.2222222222222222,\"#7201a8\"],[0.3333333333333333,\"#9c179e\"],[0.4444444444444444,\"#bd3786\"],[0.5555555555555556,\"#d8576b\"],[0.6666666666666666,\"#ed7953\"],[0.7777777777777778,\"#fb9f3a\"],[0.8888888888888888,\"#fdca26\"],[1.0,\"#f0f921\"]]}],\"mesh3d\":[{\"type\":\"mesh3d\",\"colorbar\":{\"outlinewidth\":0,\"ticks\":\"\"}}],\"scatter\":[{\"fillpattern\":{\"fillmode\":\"overlay\",\"size\":10,\"solidity\":0.2},\"type\":\"scatter\"}],\"parcoords\":[{\"type\":\"parcoords\",\"line\":{\"colorbar\":{\"outlinewidth\":0,\"ticks\":\"\"}}}],\"scatterpolargl\":[{\"type\":\"scatterpolargl\",\"marker\":{\"colorbar\":{\"outlinewidth\":0,\"ticks\":\"\"}}}],\"bar\":[{\"error_x\":{\"color\":\"#2a3f5f\"},\"error_y\":{\"color\":\"#2a3f5f\"},\"marker\":{\"line\":{\"color\":\"#E5ECF6\",\"width\":0.5},\"pattern\":{\"fillmode\":\"overlay\",\"size\":10,\"solidity\":0.2}},\"type\":\"bar\"}],\"scattergeo\":[{\"type\":\"scattergeo\",\"marker\":{\"colorbar\":{\"outlinewidth\":0,\"ticks\":\"\"}}}],\"scatterpolar\":[{\"type\":\"scatterpolar\",\"marker\":{\"colorbar\":{\"outlinewidth\":0,\"ticks\":\"\"}}}],\"histogram\":[{\"marker\":{\"pattern\":{\"fillmode\":\"overlay\",\"size\":10,\"solidity\":0.2}},\"type\":\"histogram\"}],\"scattergl\":[{\"type\":\"scattergl\",\"marker\":{\"colorbar\":{\"outlinewidth\":0,\"ticks\":\"\"}}}],\"scatter3d\":[{\"type\":\"scatter3d\",\"line\":{\"colorbar\":{\"outlinewidth\":0,\"ticks\":\"\"}},\"marker\":{\"colorbar\":{\"outlinewidth\":0,\"ticks\":\"\"}}}],\"scattermapbox\":[{\"type\":\"scattermapbox\",\"marker\":{\"colorbar\":{\"outlinewidth\":0,\"ticks\":\"\"}}}],\"scatterternary\":[{\"type\":\"scatterternary\",\"marker\":{\"colorbar\":{\"outlinewidth\":0,\"ticks\":\"\"}}}],\"scattercarpet\":[{\"type\":\"scattercarpet\",\"marker\":{\"colorbar\":{\"outlinewidth\":0,\"ticks\":\"\"}}}],\"carpet\":[{\"aaxis\":{\"endlinecolor\":\"#2a3f5f\",\"gridcolor\":\"white\",\"linecolor\":\"white\",\"minorgridcolor\":\"white\",\"startlinecolor\":\"#2a3f5f\"},\"baxis\":{\"endlinecolor\":\"#2a3f5f\",\"gridcolor\":\"white\",\"linecolor\":\"white\",\"minorgridcolor\":\"white\",\"startlinecolor\":\"#2a3f5f\"},\"type\":\"carpet\"}],\"table\":[{\"cells\":{\"fill\":{\"color\":\"#EBF0F8\"},\"line\":{\"color\":\"white\"}},\"header\":{\"fill\":{\"color\":\"#C8D4E3\"},\"line\":{\"color\":\"white\"}},\"type\":\"table\"}],\"barpolar\":[{\"marker\":{\"line\":{\"color\":\"#E5ECF6\",\"width\":0.5},\"pattern\":{\"fillmode\":\"overlay\",\"size\":10,\"solidity\":0.2}},\"type\":\"barpolar\"}],\"pie\":[{\"automargin\":true,\"type\":\"pie\"}]},\"layout\":{\"autotypenumbers\":\"strict\",\"colorway\":[\"#636efa\",\"#EF553B\",\"#00cc96\",\"#ab63fa\",\"#FFA15A\",\"#19d3f3\",\"#FF6692\",\"#B6E880\",\"#FF97FF\",\"#FECB52\"],\"font\":{\"color\":\"#2a3f5f\"},\"hovermode\":\"closest\",\"hoverlabel\":{\"align\":\"left\"},\"paper_bgcolor\":\"white\",\"plot_bgcolor\":\"#E5ECF6\",\"polar\":{\"bgcolor\":\"#E5ECF6\",\"angularaxis\":{\"gridcolor\":\"white\",\"linecolor\":\"white\",\"ticks\":\"\"},\"radialaxis\":{\"gridcolor\":\"white\",\"linecolor\":\"white\",\"ticks\":\"\"}},\"ternary\":{\"bgcolor\":\"#E5ECF6\",\"aaxis\":{\"gridcolor\":\"white\",\"linecolor\":\"white\",\"ticks\":\"\"},\"baxis\":{\"gridcolor\":\"white\",\"linecolor\":\"white\",\"ticks\":\"\"},\"caxis\":{\"gridcolor\":\"white\",\"linecolor\":\"white\",\"ticks\":\"\"}},\"coloraxis\":{\"colorbar\":{\"outlinewidth\":0,\"ticks\":\"\"}},\"colorscale\":{\"sequential\":[[0.0,\"#0d0887\"],[0.1111111111111111,\"#46039f\"],[0.2222222222222222,\"#7201a8\"],[0.3333333333333333,\"#9c179e\"],[0.4444444444444444,\"#bd3786\"],[0.5555555555555556,\"#d8576b\"],[0.6666666666666666,\"#ed7953\"],[0.7777777777777778,\"#fb9f3a\"],[0.8888888888888888,\"#fdca26\"],[1.0,\"#f0f921\"]],\"sequentialminus\":[[0.0,\"#0d0887\"],[0.1111111111111111,\"#46039f\"],[0.2222222222222222,\"#7201a8\"],[0.3333333333333333,\"#9c179e\"],[0.4444444444444444,\"#bd3786\"],[0.5555555555555556,\"#d8576b\"],[0.6666666666666666,\"#ed7953\"],[0.7777777777777778,\"#fb9f3a\"],[0.8888888888888888,\"#fdca26\"],[1.0,\"#f0f921\"]],\"diverging\":[[0,\"#8e0152\"],[0.1,\"#c51b7d\"],[0.2,\"#de77ae\"],[0.3,\"#f1b6da\"],[0.4,\"#fde0ef\"],[0.5,\"#f7f7f7\"],[0.6,\"#e6f5d0\"],[0.7,\"#b8e186\"],[0.8,\"#7fbc41\"],[0.9,\"#4d9221\"],[1,\"#276419\"]]},\"xaxis\":{\"gridcolor\":\"white\",\"linecolor\":\"white\",\"ticks\":\"\",\"title\":{\"standoff\":15},\"zerolinecolor\":\"white\",\"automargin\":true,\"zerolinewidth\":2},\"yaxis\":{\"gridcolor\":\"white\",\"linecolor\":\"white\",\"ticks\":\"\",\"title\":{\"standoff\":15},\"zerolinecolor\":\"white\",\"automargin\":true,\"zerolinewidth\":2},\"scene\":{\"xaxis\":{\"backgroundcolor\":\"#E5ECF6\",\"gridcolor\":\"white\",\"linecolor\":\"white\",\"showbackground\":true,\"ticks\":\"\",\"zerolinecolor\":\"white\",\"gridwidth\":2},\"yaxis\":{\"backgroundcolor\":\"#E5ECF6\",\"gridcolor\":\"white\",\"linecolor\":\"white\",\"showbackground\":true,\"ticks\":\"\",\"zerolinecolor\":\"white\",\"gridwidth\":2},\"zaxis\":{\"backgroundcolor\":\"#E5ECF6\",\"gridcolor\":\"white\",\"linecolor\":\"white\",\"showbackground\":true,\"ticks\":\"\",\"zerolinecolor\":\"white\",\"gridwidth\":2}},\"shapedefaults\":{\"line\":{\"color\":\"#2a3f5f\"}},\"annotationdefaults\":{\"arrowcolor\":\"#2a3f5f\",\"arrowhead\":0,\"arrowwidth\":1},\"geo\":{\"bgcolor\":\"white\",\"landcolor\":\"#E5ECF6\",\"subunitcolor\":\"white\",\"showland\":true,\"showlakes\":true,\"lakecolor\":\"white\"},\"title\":{\"x\":0.05},\"mapbox\":{\"style\":\"light\"}}},\"xaxis\":{\"anchor\":\"y\",\"domain\":[0.0,1.0],\"title\":{\"text\":\"Exercise Frequency\"},\"categoryorder\":\"array\",\"categoryarray\":[3.0,1.0,0.0,5.0,2.0,4.0,null]},\"yaxis\":{\"anchor\":\"x\",\"domain\":[0.0,1.0],\"title\":{\"text\":\"Sleep Efficiency\"}},\"legend\":{\"title\":{\"text\":\"Exercise frequency\"},\"tracegroupgap\":0},\"margin\":{\"t\":60},\"violinmode\":\"overlay\",\"font\":{\"color\":\"white\"},\"title\":{\"text\":\"Violin Plot of Sleep Efficiency by Exercise Frequency\"},\"plot_bgcolor\":\"rgba(0, 0, 0, 0)\",\"paper_bgcolor\":\"rgba(0, 0, 0, 0.7)\"},                        {\"responsive\": true}                    ).then(function(){\n",
       "                            \n",
       "var gd = document.getElementById('29f516c1-6a68-41d3-ac6f-7ef24c4ceeeb');\n",
       "var x = new MutationObserver(function (mutations, observer) {{\n",
       "        var display = window.getComputedStyle(gd).display;\n",
       "        if (!display || display === 'none') {{\n",
       "            console.log([gd, 'removed!']);\n",
       "            Plotly.purge(gd);\n",
       "            observer.disconnect();\n",
       "        }}\n",
       "}});\n",
       "\n",
       "// Listen for the removal of the full notebook cells\n",
       "var notebookContainer = gd.closest('#notebook-container');\n",
       "if (notebookContainer) {{\n",
       "    x.observe(notebookContainer, {childList: true});\n",
       "}}\n",
       "\n",
       "// Listen for the clearing of the current output cell\n",
       "var outputEl = gd.closest('.output');\n",
       "if (outputEl) {{\n",
       "    x.observe(outputEl, {childList: true});\n",
       "}}\n",
       "\n",
       "                        })                };                });            </script>        </div>"
      ]
     },
     "metadata": {},
     "output_type": "display_data"
    }
   ],
   "source": [
    "import plotly.express as px\n",
    "\n",
    "# Create the Violin Plot\n",
    "fig = px.violin(df, y=\"Sleep efficiency\", x=\"Exercise frequency\",\n",
    "                box=True, points=\"all\", color=\"Exercise frequency\",\n",
    "                hover_data=df.columns)\n",
    "\n",
    "# Set the layout properties\n",
    "fig.update_layout(\n",
    "    title='Violin Plot of Sleep Efficiency by Exercise Frequency',\n",
    "    xaxis_title='Exercise Frequency',\n",
    "    yaxis_title='Sleep Efficiency',\n",
    "    plot_bgcolor='rgba(0, 0, 0, 0)',\n",
    "    paper_bgcolor='rgba(0, 0, 0, 0.7)',\n",
    "    font=dict(color='white')\n",
    ")\n",
    "\n",
    "# Show the Violin Plot\n",
    "fig.show()\n"
   ]
  },
  {
   "cell_type": "code",
   "execution_count": null,
   "id": "1882a4a5",
   "metadata": {},
   "outputs": [],
   "source": []
  }
 ],
 "metadata": {
  "kernelspec": {
   "display_name": "Python 3 (ipykernel)",
   "language": "python",
   "name": "python3"
  },
  "language_info": {
   "codemirror_mode": {
    "name": "ipython",
    "version": 3
   },
   "file_extension": ".py",
   "mimetype": "text/x-python",
   "name": "python",
   "nbconvert_exporter": "python",
   "pygments_lexer": "ipython3",
   "version": "3.9.16"
  }
 },
 "nbformat": 4,
 "nbformat_minor": 5
}
